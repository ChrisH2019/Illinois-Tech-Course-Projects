{
 "cells": [
  {
   "cell_type": "markdown",
   "metadata": {},
   "source": [
    "## Stack"
   ]
  },
  {
   "cell_type": "code",
   "execution_count": 216,
   "metadata": {},
   "outputs": [],
   "source": [
    "class Stack:\n",
    "    class Node:\n",
    "        def __init__(self, val, next=None):\n",
    "            self.val = val\n",
    "            self.next = next\n",
    "        \n",
    "    \n",
    "    def __init__(self, name=None):\n",
    "        self.top = None\n",
    "        self.name = name\n",
    "        self.size = 0\n",
    "\n",
    "        \n",
    "    def push(self, val):\n",
    "        self.top = Stack.Node(val, self.top)\n",
    "        self.size += 1\n",
    "        \n",
    "              \n",
    "    def pop(self):\n",
    "        assert self.top, 'Stack is empty'\n",
    "        val_to_remove = self.top.val\n",
    "        self.top = self.top.next\n",
    "        self.size -= 1\n",
    "        return val_to_remove\n",
    "        \n",
    "   \n",
    "    def peek(self):\n",
    "        assert self.top, 'Stack is empty'\n",
    "        return self.top.val\n",
    "    \n",
    "    \n",
    "    def empty(self):\n",
    "        return self.size == 0\n",
    "    \n",
    "    \n",
    "    def get_size(self):\n",
    "        return self.size\n",
    "    \n",
    "    \n",
    "    def get_name(self):\n",
    "        return self.name\n",
    "    \n",
    "    \n",
    "    def __bool__(self):\n",
    "        return not self.empty()\n",
    "    \n",
    "    def print_items(self):\n",
    "        ptr = self.top\n",
    "        print_list = []\n",
    "        while(ptr):\n",
    "          print_list.append(ptr.val)\n",
    "          ptr = ptr.next\n",
    "        print_list.reverse()\n",
    "        print(f\"{self.get_name()} Stack: {print_list}\")\n",
    "    \n",
    "    \n",
    "    def __repr__(self):\n",
    "        if not self.top:\n",
    "            return ''\n",
    "        return '-->'.join(str(e) for e in self.__iter__())\n",
    "    \n",
    "    \n",
    "    def __iter__(self):\n",
    "        if not self.top:\n",
    "            raise StopIteration\n",
    "        ptr = self.top\n",
    "        while ptr:\n",
    "            yield ptr.val\n",
    "            ptr = ptr.next"
   ]
  },
  {
   "cell_type": "markdown",
   "metadata": {},
   "source": [
    "## Paired Delimiter Matching"
   ]
  },
  {
   "cell_type": "code",
   "execution_count": 217,
   "metadata": {},
   "outputs": [],
   "source": [
    "delim_openers = '{([<'\n",
    "delim_closers = '})]>'\n",
    "\n",
    "def check_delimiters(expr):\n",
    "    \"\"\"\n",
    "    Returns True if and only if `expr` contains only correctly matched delimiters, \n",
    "    else returns False.\n",
    "    \"\"\"\n",
    "    s = Stack()\n",
    "    for t in expr:\n",
    "        if t in delim_openers:\n",
    "            for i in range(len(delim_openers)):\n",
    "                if delim_openers[i] == t:\n",
    "                    s.push(i)\n",
    "        elif t in delim_closers:\n",
    "            if s.empty():\n",
    "                return False\n",
    "            for i in range(len(delim_closers)):\n",
    "                if delim_closers[i] == t:\n",
    "                    j = s.pop()\n",
    "                    if i != j:\n",
    "                        return False\n",
    "    if not s.empty():\n",
    "        return False\n",
    "    else:\n",
    "        return True"
   ]
  },
  {
   "cell_type": "code",
   "execution_count": 218,
   "metadata": {},
   "outputs": [],
   "source": [
    "from unittest import TestCase\n",
    "tc = TestCase()\n",
    "tc.assertTrue(check_delimiters('()'))\n",
    "tc.assertTrue(check_delimiters('[]'))\n",
    "tc.assertTrue(check_delimiters('{}'))\n",
    "tc.assertTrue(check_delimiters('<>'))"
   ]
  },
  {
   "cell_type": "code",
   "execution_count": 219,
   "metadata": {},
   "outputs": [],
   "source": [
    "from unittest import TestCase\n",
    "tc = TestCase()\n",
    "tc.assertTrue(check_delimiters('([])'))\n",
    "tc.assertTrue(check_delimiters('[{}]'))\n",
    "tc.assertTrue(check_delimiters('{<()>}'))\n",
    "tc.assertTrue(check_delimiters('<({[]})>'))"
   ]
  },
  {
   "cell_type": "code",
   "execution_count": 220,
   "metadata": {},
   "outputs": [],
   "source": [
    "from unittest import TestCase\n",
    "tc = TestCase()\n",
    "tc.assertTrue(check_delimiters('([] () <> [])'))\n",
    "tc.assertTrue(check_delimiters('[{()} [] (<> <>) {}]'))\n",
    "tc.assertTrue(check_delimiters('{} <> () []'))\n",
    "tc.assertTrue(check_delimiters('<> ([] <()>) <[] [] <> <>>'))"
   ]
  },
  {
   "cell_type": "code",
   "execution_count": 221,
   "metadata": {},
   "outputs": [],
   "source": [
    "from unittest import TestCase\n",
    "tc = TestCase()\n",
    "tc.assertFalse(check_delimiters('('))\n",
    "tc.assertFalse(check_delimiters('['))\n",
    "tc.assertFalse(check_delimiters('{'))\n",
    "tc.assertFalse(check_delimiters('<'))\n",
    "tc.assertFalse(check_delimiters(')'))\n",
    "tc.assertFalse(check_delimiters(']'))\n",
    "tc.assertFalse(check_delimiters('}'))\n",
    "tc.assertFalse(check_delimiters('>'))"
   ]
  },
  {
   "cell_type": "code",
   "execution_count": 222,
   "metadata": {},
   "outputs": [],
   "source": [
    "from unittest import TestCase\n",
    "tc = TestCase()\n",
    "tc.assertFalse(check_delimiters('( ]'))\n",
    "tc.assertFalse(check_delimiters('[ )'))\n",
    "tc.assertFalse(check_delimiters('{ >'))\n",
    "tc.assertFalse(check_delimiters('< )'))"
   ]
  },
  {
   "cell_type": "code",
   "execution_count": 223,
   "metadata": {},
   "outputs": [],
   "source": [
    "from unittest import TestCase\n",
    "tc = TestCase()\n",
    "tc.assertFalse(check_delimiters('[ ( ] )'))\n",
    "tc.assertFalse(check_delimiters('((((((( ))))))'))\n",
    "tc.assertFalse(check_delimiters('< < > > >'))\n",
    "tc.assertFalse(check_delimiters('( [] < {} )'))"
   ]
  },
  {
   "cell_type": "markdown",
   "metadata": {},
   "source": [
    "## Infix --> Postfix Conversion"
   ]
  },
  {
   "cell_type": "code",
   "execution_count": 224,
   "metadata": {},
   "outputs": [],
   "source": [
    "# you may find the following precedence dictionary useful\n",
    "prec = {'*': 2, '/': 2,\n",
    "        '+': 1, '-': 1}\n",
    "\n",
    "def infix_to_postfix(expr):\n",
    "    \"\"\"\n",
    "    Returns the postfix form of the infix expression found in `expr`\n",
    "    \"\"\"\n",
    "    ops = Stack()\n",
    "    postfix = []\n",
    "    toks = expr.split() \n",
    "    for t in toks:\n",
    "        if t.isdigit():\n",
    "            postfix.append(t)\n",
    "        elif t in prec:\n",
    "            if ops.empty() or ops.peek() == '(':\n",
    "                ops.push(t)\n",
    "            elif prec[ops.peek()] >= prec[t]:\n",
    "                postfix.append(ops.pop())\n",
    "                ops.push(t)\n",
    "            elif prec[ops.peek()] < prec[t]:\n",
    "                ops.push(t)\n",
    "        else:\n",
    "            if t == '(':\n",
    "                ops.push(t)\n",
    "            elif t == ')':\n",
    "                for op in ops:\n",
    "                    if op != '(':\n",
    "                        postfix.append(ops.pop())\n",
    "                    else:\n",
    "                        ops.pop()\n",
    "                        break\n",
    "    while (not ops.empty()):\n",
    "        postfix.append(ops.pop())\n",
    "    return ' '.join(x for x in postfix)            "
   ]
  },
  {
   "cell_type": "code",
   "execution_count": 225,
   "metadata": {},
   "outputs": [],
   "source": [
    "from unittest import TestCase\n",
    "tc = TestCase()\n",
    "tc.assertEqual(infix_to_postfix('1'), '1')\n",
    "tc.assertEqual(infix_to_postfix('1 + 2'), '1 2 +')\n",
    "tc.assertEqual(infix_to_postfix('( 1 + 2 )'), '1 2 +')\n",
    "tc.assertEqual(infix_to_postfix('1 + 2 - 3'), '1 2 + 3 -')\n",
    "tc.assertEqual(infix_to_postfix('1 + ( 2 - 3 )'), '1 2 3 - +')"
   ]
  },
  {
   "cell_type": "code",
   "execution_count": 226,
   "metadata": {},
   "outputs": [],
   "source": [
    "from unittest import TestCase\n",
    "tc = TestCase()\n",
    "tc.assertEqual(infix_to_postfix('1 + 2 * 3'), '1 2 3 * +')\n",
    "tc.assertEqual(infix_to_postfix('1 / 2 + 3 * 4'), '1 2 / 3 4 * +')\n",
    "tc.assertEqual(infix_to_postfix('1 * 2 * 3 + 4'), '1 2 * 3 * 4 +')\n",
    "tc.assertEqual(infix_to_postfix('1 + 2 * 3 * 4'), '1 2 3 * 4 * +')"
   ]
  },
  {
   "cell_type": "code",
   "execution_count": 227,
   "metadata": {},
   "outputs": [],
   "source": [
    "from unittest import TestCase\n",
    "tc = TestCase()\n",
    "tc.assertEqual(infix_to_postfix('1 * ( 2 + 3 ) * 4'), '1 2 3 + * 4 *')\n",
    "tc.assertEqual(infix_to_postfix('1 * ( 2 + 3 * 4 ) + 5'), '1 2 3 4 * + * 5 +')\n",
    "tc.assertEqual(infix_to_postfix('1 * ( ( 2 + 3 ) * 4 ) * ( 5 - 6 )'), '1 2 3 + 4 * * 5 6 - *')"
   ]
  }
 ],
 "metadata": {
  "kernelspec": {
   "display_name": "Python 3",
   "language": "python",
   "name": "python3"
  },
  "language_info": {
   "codemirror_mode": {
    "name": "ipython",
    "version": 3
   },
   "file_extension": ".py",
   "mimetype": "text/x-python",
   "name": "python",
   "nbconvert_exporter": "python",
   "pygments_lexer": "ipython3",
   "version": "3.7.3"
  }
 },
 "nbformat": 4,
 "nbformat_minor": 2
}
