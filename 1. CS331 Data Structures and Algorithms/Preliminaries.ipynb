{
 "cells": [
  {
   "cell_type": "markdown",
   "metadata": {},
   "source": [
    "# Preliminaries\n",
    "All assignments for this class will be fetched, worked-on, and submitted via a dynamic in-browser Python development and testing environment known as the Jupyter Notebook.\n",
    "This first machine problem is intended to familiarize you with the environment and assignment retrieval/submission system, and to have you write some simple Python functions and test them using unit test cells, which will be found in all subsequent assignments."
   ]
  },
  {
   "cell_type": "markdown",
   "metadata": {},
   "source": [
    "## Fetching assignments\n",
    "If you're reading this, then you're likely already familiar with the procedure for fetching an assignment. To recap:\n",
    "\n",
    "- After logging in using your @hawk.iit.edu account, you'll either click \"Start Server\" or \"My Server\" to go to the Jupyter dashboard\n",
    "- From there, go to the \"Assignments\" tab, where you'll see any newly released assignments in the \"Released assignments\" area. You can fetch the files by clicking the \"Fetch\" button next to each assignment.\n",
    "- After an assignment has been fetched, you'll see it in the \"Downloaded assignments\" area, where you can expand the assignment to click on individual notebooks to open them up. You can also validate and submit your work here. Alternatively, you can also browse into an assignment folder from the \"Files\" tab and click on notebook files to open them up there."
   ]
  },
  {
   "cell_type": "markdown",
   "metadata": {},
   "source": [
    "## Exercise 1: Perfect Numbers\n",
    "All of the lab notebooks you'll be working on for this class will come with a fair bit of skeleton code --- i.e., stubbed out classes and functions that you need to complete or modify to get working correctly.\n",
    "\n",
    "In the cell below, for instance, you'll find a stubbed out function named is_perfect, which should return True if the number passed to it is a \"perfect\" number, and False otherwise.\n",
    "\n",
    "A perfect number is a postive integer whose value is equal to the sum of its proper divisors (i.e., its factors excluding the number itself). 6 is the first perfect number, as its divisors 1, 2, and 3 add up to 6.\n",
    "\n",
    "Complete the function by first deleting the comment \"# YOUR CODE HERE\" and the following raise statement, then filling in your own implementation."
   ]
  },
  {
   "cell_type": "code",
   "execution_count": 12,
   "metadata": {},
   "outputs": [],
   "source": [
    "def is_perfect(n):\n",
    "    if n == 1:\n",
    "        return False\n",
    "    factors = [1]\n",
    "    for fac in range(2, n):\n",
    "        if n % fac == 0:\n",
    "            factors.append(fac)\n",
    "    if sum(factors) == n:\n",
    "        return True\n",
    "    else:\n",
    "        return False         "
   ]
  },
  {
   "cell_type": "markdown",
   "metadata": {},
   "source": [
    "Each exercise will also be accompanied by one or more unit test cells, each of which is meant to test some aspect of your implementation. When you run the unit test cell(s) after evaluating your implementation, you'll either find errors reported, which should help you identify what you need to fix, or they will complete silently, which means you've passed the test(s).\n",
    "\n",
    "It's important that you ensure your implementation and test cell(s) are actually running to completion before moving on --- there's a big difference between a cell not producing an error and not completing! (A \"In [*]\" marker next to the cell means that it's still being evaluated by the interpreter.)\n",
    "\n",
    "You should also note that we will often run hidden tests on our end to ensure that you didn't just hardcode solutions into your implementation. For this exercise, for instance, it's likely we'll be running your code against other values after submission in addition to the values we're testing below!"
   ]
  },
  {
   "cell_type": "code",
   "execution_count": 13,
   "metadata": {},
   "outputs": [],
   "source": [
    "import unittest\n",
    "tc = unittest.TestCase()\n",
    "\n",
    "for n in (6, 28, 496):\n",
    "    tc.assertTrue(is_perfect(n), '{} should be perfect'.format(n))\n",
    "\n",
    "for n in (1, 2, 3, 4, 5, 10, 20):\n",
    "    tc.assertFalse(is_perfect(n), '{} should not be perfect'.format(n))\n",
    "\n",
    "for n in range(30, 450):\n",
    "    tc.assertFalse(is_perfect(n), '{} should not be perfect'.format(n))"
   ]
  },
  {
   "cell_type": "markdown",
   "metadata": {},
   "source": [
    "## Exercise 2: Multiples of 3 and 5\n",
    "If we list all the natural numbers below 10 that are multiples of 3 or 5, we get 3, 5, 6 and 9. The sum of these multiples is 23.\n",
    "\n",
    "Complete the following function, which finds the sum of all the multiples of 3 or 5 below the argument n."
   ]
  },
  {
   "cell_type": "code",
   "execution_count": 27,
   "metadata": {},
   "outputs": [],
   "source": [
    "def multiples_of_3_and_5(n):\n",
    "    multiples = 0\n",
    "    for m in range(1, n):\n",
    "        if m % 3 == 0 or m % 5 == 0:\n",
    "            multiples += m\n",
    "    return multiples"
   ]
  },
  {
   "cell_type": "code",
   "execution_count": 28,
   "metadata": {},
   "outputs": [],
   "source": [
    "import unittest\n",
    "tc = unittest.TestCase()\n",
    "tc.assertEqual(multiples_of_3_and_5(10), 23)\n",
    "tc.assertEqual(multiples_of_3_and_5(500), 57918)\n",
    "tc.assertEqual(multiples_of_3_and_5(1000), 233168)"
   ]
  },
  {
   "cell_type": "markdown",
   "metadata": {},
   "source": [
    "## Exercise 3: Integer Right Triangles\n",
    "Given a perimeter of 60, we can find two right triangles with integral length sides: [(10, 24, 26), (15, 20, 25)]. Complete the following function, which takes an integer p and returns a list of tuples (a, b, c) corresponding to the integral lengths of the sides of comforming right triangles. Each tuple should have  a≤b<ca≤b<c , and the list should contain no duplicate solutions, and be sorted in order of ascending a.\n",
    "\n",
    "Note that your solution should take care to limit the number of triangles it tests --- your function must complete in under 3 seconds for all values of p used in the test cells below to earn credit."
   ]
  },
  {
   "cell_type": "code",
   "execution_count": 34,
   "metadata": {},
   "outputs": [],
   "source": [
    "def integer_right_triangles(p):\n",
    "    result = []\n",
    "    for i in range(1, p):\n",
    "        for j in range(i + 1, p):\n",
    "            for k in range(j + 1, p):\n",
    "                if (i + j + k == p) and (i**2 + j**2 == k**2):\n",
    "                    result.append((i, j, k))\n",
    "    return result"
   ]
  },
  {
   "cell_type": "code",
   "execution_count": 35,
   "metadata": {},
   "outputs": [],
   "source": [
    "import unittest\n",
    "tc = unittest.TestCase()\n",
    "tc.assertEqual(integer_right_triangles(60), [(10, 24, 26), (15, 20, 25)])"
   ]
  },
  {
   "cell_type": "code",
   "execution_count": 36,
   "metadata": {},
   "outputs": [],
   "source": [
    "import unittest\n",
    "tc = unittest.TestCase()\n",
    "tc.assertEqual(integer_right_triangles(100), [])\n",
    "tc.assertEqual(integer_right_triangles(180), [(18, 80, 82), (30, 72, 78), (45, 60, 75)])\n",
    "tc.assertEqual(integer_right_triangles(840), \n",
    "               [(40, 399, 401),\n",
    "                (56, 390, 394),\n",
    "                (105, 360, 375),\n",
    "                (120, 350, 370),\n",
    "                (140, 336, 364),\n",
    "                (168, 315, 357),\n",
    "                (210, 280, 350),\n",
    "                (240, 252, 348)])"
   ]
  },
  {
   "cell_type": "markdown",
   "metadata": {},
   "source": [
    "## Exercise 4: Simple ASCII Art\n",
    "For this next exercise, you'll need to complete the function gen_pattern, which, when called with a string of length  ≥≥  1, will generate an ASCII art pattern of concentric diamonds using those characters. The following are examples of patterns returned by the function:\n",
    "\n",
    "    > print(gen_pattern('X'))\n",
    "\n",
    "    X\n",
    "\n",
    "    > print(gen_pattern('XY'))\n",
    "\n",
    "    ..Y..\n",
    "    Y.X.Y\n",
    "    ..Y..\n",
    "\n",
    "    > print(gen_pattern('WXYZ'))\n",
    "\n",
    "    ......Z......\n",
    "    ....Z.Y.Z....\n",
    "    ..Z.Y.X.Y.Z..\n",
    "    Z.Y.X.W.X.Y.Z\n",
    "    ..Z.Y.X.Y.Z..\n",
    "    ....Z.Y.Z....\n",
    "    ......Z......\n",
    "\n",
    "Note that the function will return the pattern as a string (as opposed to printing it out), and so each line of the pattern should be separated by a newline, written as  '\\n' in Python. The second pattern above, as returned by gen_pattern, would be ''..Y..\\nY.X.Y\\n..Y..'.\n",
    "\n",
    "You ought to find the string join and center methods helpful in your implementation. They are demonstrated here:\n",
    "\n",
    "    > '*'.join(['one', 'two', 'three'])\n",
    "\n",
    "    'one*two*three'\n",
    "\n",
    "    > '*'.join('abcde')\n",
    "\n",
    "    'a*b*c*d*e'\n",
    "\n",
    "    > 'hello'.center(11, '*')\n",
    "\n",
    "    '***hello***'\n",
    "\n",
    "Complete the gen_pattern function, below:"
   ]
  },
  {
   "cell_type": "code",
   "execution_count": 61,
   "metadata": {},
   "outputs": [],
   "source": [
    "def gen_pattern(chars):\n",
    "    lst = []\n",
    "    for i in range(len(chars)-1, -1, -1):\n",
    "        a = chars[i: ]\n",
    "        a = a[len(chars)-1::-1] + a[1:]\n",
    "        lst.append('.'.join(a).center(4*len(chars)-3, '.'))\n",
    "    for i in range(1, len(chars)):\n",
    "        a = chars[i:]\n",
    "        a = a[len(chars)-1::-1] + a[1:]\n",
    "        lst.append('.'.join(a).center(4*len(chars)-3, '.'))   \n",
    "    return '\\n'.join(lst)"
   ]
  },
  {
   "cell_type": "code",
   "execution_count": 62,
   "metadata": {},
   "outputs": [],
   "source": [
    "import unittest\n",
    "tc = unittest.TestCase()\n",
    "tc.assertEqual(gen_pattern('@'), '@')\n",
    "tc.assertEqual(gen_pattern('@%'),\n",
    "'''..%..\n",
    "%.@.%\n",
    "..%..''')"
   ]
  },
  {
   "cell_type": "code",
   "execution_count": 63,
   "metadata": {},
   "outputs": [],
   "source": [
    "import unittest\n",
    "tc = unittest.TestCase()\n",
    "tc.assertEqual(gen_pattern('ABC'),\n",
    "'''....C....\n",
    "..C.B.C..\n",
    "C.B.A.B.C\n",
    "..C.B.C..\n",
    "....C....''')\n",
    "tc.assertEqual(gen_pattern('#####'),\n",
    "'''........#........\n",
    "......#.#.#......\n",
    "....#.#.#.#.#....\n",
    "..#.#.#.#.#.#.#..\n",
    "#.#.#.#.#.#.#.#.#\n",
    "..#.#.#.#.#.#.#..\n",
    "....#.#.#.#.#....\n",
    "......#.#.#......\n",
    "........#........''')"
   ]
  },
  {
   "cell_type": "code",
   "execution_count": 64,
   "metadata": {},
   "outputs": [],
   "source": [
    "import unittest\n",
    "tc = unittest.TestCase()\n",
    "tc.assertEqual(gen_pattern('abcdefghijklmnop'),\n",
    "'''..............................p..............................\n",
    "............................p.o.p............................\n",
    "..........................p.o.n.o.p..........................\n",
    "........................p.o.n.m.n.o.p........................\n",
    "......................p.o.n.m.l.m.n.o.p......................\n",
    "....................p.o.n.m.l.k.l.m.n.o.p....................\n",
    "..................p.o.n.m.l.k.j.k.l.m.n.o.p..................\n",
    "................p.o.n.m.l.k.j.i.j.k.l.m.n.o.p................\n",
    "..............p.o.n.m.l.k.j.i.h.i.j.k.l.m.n.o.p..............\n",
    "............p.o.n.m.l.k.j.i.h.g.h.i.j.k.l.m.n.o.p............\n",
    "..........p.o.n.m.l.k.j.i.h.g.f.g.h.i.j.k.l.m.n.o.p..........\n",
    "........p.o.n.m.l.k.j.i.h.g.f.e.f.g.h.i.j.k.l.m.n.o.p........\n",
    "......p.o.n.m.l.k.j.i.h.g.f.e.d.e.f.g.h.i.j.k.l.m.n.o.p......\n",
    "....p.o.n.m.l.k.j.i.h.g.f.e.d.c.d.e.f.g.h.i.j.k.l.m.n.o.p....\n",
    "..p.o.n.m.l.k.j.i.h.g.f.e.d.c.b.c.d.e.f.g.h.i.j.k.l.m.n.o.p..\n",
    "p.o.n.m.l.k.j.i.h.g.f.e.d.c.b.a.b.c.d.e.f.g.h.i.j.k.l.m.n.o.p\n",
    "..p.o.n.m.l.k.j.i.h.g.f.e.d.c.b.c.d.e.f.g.h.i.j.k.l.m.n.o.p..\n",
    "....p.o.n.m.l.k.j.i.h.g.f.e.d.c.d.e.f.g.h.i.j.k.l.m.n.o.p....\n",
    "......p.o.n.m.l.k.j.i.h.g.f.e.d.e.f.g.h.i.j.k.l.m.n.o.p......\n",
    "........p.o.n.m.l.k.j.i.h.g.f.e.f.g.h.i.j.k.l.m.n.o.p........\n",
    "..........p.o.n.m.l.k.j.i.h.g.f.g.h.i.j.k.l.m.n.o.p..........\n",
    "............p.o.n.m.l.k.j.i.h.g.h.i.j.k.l.m.n.o.p............\n",
    "..............p.o.n.m.l.k.j.i.h.i.j.k.l.m.n.o.p..............\n",
    "................p.o.n.m.l.k.j.i.j.k.l.m.n.o.p................\n",
    "..................p.o.n.m.l.k.j.k.l.m.n.o.p..................\n",
    "....................p.o.n.m.l.k.l.m.n.o.p....................\n",
    "......................p.o.n.m.l.m.n.o.p......................\n",
    "........................p.o.n.m.n.o.p........................\n",
    "..........................p.o.n.o.p..........................\n",
    "............................p.o.p............................\n",
    "..............................p..............................''')"
   ]
  }
 ],
 "metadata": {
  "kernelspec": {
   "display_name": "Python 3",
   "language": "python",
   "name": "python3"
  },
  "language_info": {
   "codemirror_mode": {
    "name": "ipython",
    "version": 3
   },
   "file_extension": ".py",
   "mimetype": "text/x-python",
   "name": "python",
   "nbconvert_exporter": "python",
   "pygments_lexer": "ipython3",
   "version": "3.7.3"
  }
 },
 "nbformat": 4,
 "nbformat_minor": 2
}
