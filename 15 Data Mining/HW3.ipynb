{
 "cells": [
  {
   "cell_type": "markdown",
   "metadata": {},
   "source": [
    "# CS422 Homework 3\n",
    "### Christopher W. Hong"
   ]
  },
  {
   "cell_type": "markdown",
   "metadata": {},
   "source": [
    "## Recitation Exercises"
   ]
  },
  {
   "cell_type": "markdown",
   "metadata": {},
   "source": [
    "### Chapter 5"
   ]
  },
  {
   "cell_type": "markdown",
   "metadata": {},
   "source": [
    "#### Ex.2"
   ]
  },
  {
   "cell_type": "markdown",
   "metadata": {},
   "source": [
    "(a)\n",
    "\n",
    "s(e) = 8/10\n",
    "\n",
    "s(b,d) = 2/10\n",
    "\n",
    "s(b,d,e) = 2/10"
   ]
  },
  {
   "cell_type": "markdown",
   "metadata": {},
   "source": [
    "(b)\n",
    "\n",
    "c({b,d} -> {e}) = $\\frac{\\sigma(\\{b,d\\}\\cup\\{e\\})}{\\sigma(\\{e\\})}$ = 2/2 = 1\n",
    "\n",
    "c({e} -> {b,d}) = $\\frac{\\sigma(\\{e\\}\\cup\\{b,d\\})}{\\sigma(\\{e\\})}$ = 2/8 = 1/4\n",
    "\n",
    "The confidence is not a symmetric measure."
   ]
  },
  {
   "cell_type": "markdown",
   "metadata": {},
   "source": [
    "(c)\n",
    "\n",
    "s(e) = 4/5\n",
    "\n",
    "s(b,d) = 5/5 = 1\n",
    "\n",
    "s(b,d,e) = 4/5"
   ]
  },
  {
   "cell_type": "markdown",
   "metadata": {},
   "source": [
    "(d)\n",
    "\n",
    "c({b,d} -> {e}) = 4/5\n",
    "\n",
    "c({e} -> {b,d}) = 4/4 = 1"
   ]
  },
  {
   "cell_type": "markdown",
   "metadata": {},
   "source": [
    "(e)\n",
    "\n",
    "There are no evidential relationships between $s_{1}$ and $s_{2}$ or $c_{1}$ and $c_{2}$."
   ]
  },
  {
   "cell_type": "markdown",
   "metadata": {},
   "source": [
    "#### Ex.6"
   ]
  },
  {
   "cell_type": "code",
   "execution_count": 8,
   "metadata": {},
   "outputs": [],
   "source": [
    "from scipy.special import comb"
   ]
  },
  {
   "cell_type": "markdown",
   "metadata": {},
   "source": [
    "(a)"
   ]
  },
  {
   "cell_type": "code",
   "execution_count": 1,
   "metadata": {},
   "outputs": [
    {
     "data": {
      "text/plain": [
       "602"
      ]
     },
     "execution_count": 1,
     "metadata": {},
     "output_type": "execute_result"
    }
   ],
   "source": [
    "3**6 - 2**(6+1) + 1"
   ]
  },
  {
   "cell_type": "markdown",
   "metadata": {},
   "source": [
    "(b)"
   ]
  },
  {
   "cell_type": "markdown",
   "metadata": {},
   "source": [
    "4"
   ]
  },
  {
   "cell_type": "markdown",
   "metadata": {},
   "source": [
    "(c)"
   ]
  },
  {
   "cell_type": "code",
   "execution_count": 12,
   "metadata": {},
   "outputs": [
    {
     "data": {
      "text/plain": [
       "20"
      ]
     },
     "execution_count": 12,
     "metadata": {},
     "output_type": "execute_result"
    }
   ],
   "source": [
    "comb(6, 3, exact=True)"
   ]
  },
  {
   "cell_type": "markdown",
   "metadata": {},
   "source": [
    "(d)"
   ]
  },
  {
   "cell_type": "markdown",
   "metadata": {},
   "source": [
    "{Bread, Butter}"
   ]
  },
  {
   "cell_type": "markdown",
   "metadata": {},
   "source": [
    "(e)"
   ]
  },
  {
   "cell_type": "markdown",
   "metadata": {},
   "source": [
    "{Bread, Butter}"
   ]
  },
  {
   "cell_type": "markdown",
   "metadata": {},
   "source": [
    "#### Ex.8"
   ]
  },
  {
   "cell_type": "markdown",
   "metadata": {},
   "source": [
    "(a)\n",
    "\n",
    "{1,2,3,4}, {1,2,3,5}, {1,2,4,5}, {1,3,4,5}, {2,3,4,5}"
   ]
  },
  {
   "cell_type": "markdown",
   "metadata": {},
   "source": [
    "(b)\n",
    "\n",
    "{1,2,3,4}, {1,2,3,5}, {1,2,4,5}, {2,3,4,5}"
   ]
  },
  {
   "cell_type": "markdown",
   "metadata": {},
   "source": [
    "(c)\n",
    "\n",
    "{1,2,3,4}"
   ]
  },
  {
   "cell_type": "markdown",
   "metadata": {},
   "source": [
    "#### Ex.9"
   ]
  },
  {
   "cell_type": "markdown",
   "metadata": {},
   "source": [
    "(a)\n",
    "\n",
    "![](9a.jpg)"
   ]
  },
  {
   "cell_type": "markdown",
   "metadata": {},
   "source": [
    "(b)\n",
    "\n",
    "Percentage of frequent itemsets = 16/32 (including the null set)."
   ]
  },
  {
   "cell_type": "markdown",
   "metadata": {},
   "source": [
    "(c)\n",
    "\n",
    "Pruning ratio of the Apriori algorithm = 11/32."
   ]
  },
  {
   "cell_type": "markdown",
   "metadata": {},
   "source": [
    "(d)\n",
    "\n",
    "The false alarm rate = 5/32."
   ]
  },
  {
   "cell_type": "markdown",
   "metadata": {},
   "source": [
    "#### Ex.12"
   ]
  },
  {
   "cell_type": "markdown",
   "metadata": {},
   "source": [
    "![](12.jpg)"
   ]
  },
  {
   "cell_type": "markdown",
   "metadata": {},
   "source": [
    "#### Ex.13"
   ]
  },
  {
   "cell_type": "markdown",
   "metadata": {},
   "source": [
    "(a)\n",
    "\n",
    "{b} -> {c}\n",
    "\n",
    "|   | c | $\\bar{c}$ |             \n",
    "|---|---|-----------|             \n",
    "| b | 3 | 4 |\n",
    "|$\\bar{b}$| 2 | 1 |\n",
    "\n",
    "{a} -> {d}\n",
    "\n",
    "|   | d | $\\bar{d}$ |             \n",
    "|---|---|-----------|             \n",
    "| a | 4 | 1 |\n",
    "|$\\bar{a}$| 5 | 0 |\n",
    "\n",
    "{b} -> {d}\n",
    "\n",
    "|   | d | $\\bar{d}$ |             \n",
    "|---|---|-----------|             \n",
    "| b | 6 | 1 |\n",
    "|$\\bar{b}$| 3 | 0 |\n",
    "\n",
    "{e} -> {c}\n",
    "\n",
    "|   | c | $\\bar{c}$ |             \n",
    "|---|---|-----------|             \n",
    "| e | 2 | 4 |\n",
    "|$\\bar{e}$| 3 | 1 |\n",
    "\n",
    "{c} -> {a}\n",
    "\n",
    "|   | a | $\\bar{a}$ |             \n",
    "|---|---|-----------|             \n",
    "| c | 2 | 3 |\n",
    "|$\\bar{c}$| 3 | 2 |"
   ]
  },
  {
   "cell_type": "markdown",
   "metadata": {},
   "source": [
    "(b)\n",
    "\n",
    "i. Support\n",
    "\n",
    "| Rules | Support | Rank |\n",
    "|-------|---------|------|\n",
    "| b -> d | 0.6 | 1 |\n",
    "| a -> d | 0.4 | 2 |\n",
    "| b -> c | 0.3 | 3 |\n",
    "| e -> c | 0.2 | 4 |\n",
    "| c -> a | 0.2 | 4 |\n",
    "\n",
    "ii. Confidence\n",
    "\n",
    "| Rules | Confidence | Rank |\n",
    "|-------|------------|------|\n",
    "| b -> d | 6/7 | 1 |\n",
    "| a -> d | 4/5 | 2 |\n",
    "| b -> c | 3/7 | 3 |\n",
    "| c -> a | 2/5 | 4 |\n",
    "| e -> c | 2/6 | 5 |\n",
    "\n",
    "iii. Interest\n",
    "\n",
    "| Rules | Interest | Rank |\n",
    "|-------|----------|------|\n",
    "| b -> d | 0.9523 | 1 |\n",
    "| a -> d | 0.8889 | 2 |\n",
    "| b -> c | 0.8571 | 3 |\n",
    "| c -> a | 0.8 | 4 |\n",
    "| e -> c | 0.6667 | 5 |\n",
    "\n",
    "iv. IS\n",
    "\n",
    "| Rules | IS | Rank |\n",
    "|-------|----------|------|\n",
    "| b -> d | 0.7559 | 1 |\n",
    "| a -> d | 0.5963 | 2 |\n",
    "| b -> c | 0.5071 | 3 |\n",
    "| c -> a | 0.4 | 4 |\n",
    "| e -> c | 0.3651 | 5 |\n",
    "\n",
    "v. Klosgen\n",
    "\n",
    "| Rules | Klosgen | Rank |\n",
    "|-------|----------|------|\n",
    "| b -> d | -0.0258 | 1 |\n",
    "| a -> d | -0.0351 | 2 |\n",
    "| b -> c | -0.0391 | 3 |\n",
    "| c -> a | -0.0447 | 4 |\n",
    "| e -> c | -0.0745 | 5 |\n",
    "\n",
    "vi. Odds ratio\n",
    "\n",
    "| Rules | Odds ratio | Rank |\n",
    "|-------|----------|------|\n",
    "| c -> a | 0.4444 | 1 |\n",
    "| b -> c | 0.3750 | 2 |\n",
    "| e -> c | 0.1667 | 3 |\n",
    "| b -> d | 0 | 4 |\n",
    "| a -> d | 0 | 4 |"
   ]
  },
  {
   "cell_type": "markdown",
   "metadata": {},
   "source": [
    "#### Ex.20"
   ]
  },
  {
   "cell_type": "markdown",
   "metadata": {},
   "source": [
    "(a)\n",
    "\n",
    "s(A) = 0.1\n",
    "\n",
    "s(B) = 0.1\n",
    "\n",
    "s(A,B) = 0.09\n",
    "\n",
    "I(A,B) $\\approx$ 9\n",
    "\n",
    "$\\phi$(A,B) $\\approx$ 0.89\n",
    "\n",
    "c(A -> B) = 0.9\n",
    "\n",
    "c(B -> A) = 0.9"
   ]
  },
  {
   "cell_type": "markdown",
   "metadata": {},
   "source": [
    "(b)\n",
    "\n",
    "s(A) = 0.9\n",
    "\n",
    "s(B) = 0.9\n",
    "\n",
    "s(A,B) = 0.89\n",
    "\n",
    "I(A,B) $\\approx$ 1.1\n",
    "\n",
    "$\\phi$(A,B) $\\approx$ 0.89\n",
    "\n",
    "c(A -> B) $\\approx$ 0.99\n",
    "\n",
    "c(B -> A) $\\approx$ 0.99"
   ]
  },
  {
   "cell_type": "markdown",
   "metadata": {},
   "source": [
    "(c)\n",
    "\n",
    "Support, interest and confidence **do not remain invariant** under the inversion operation. On the other hand, correlation coefficient is **invariant** to the inversin property."
   ]
  },
  {
   "cell_type": "markdown",
   "metadata": {},
   "source": [
    "## Practicum Problems"
   ]
  },
  {
   "cell_type": "markdown",
   "metadata": {},
   "source": [
    "### Problem 1"
   ]
  },
  {
   "cell_type": "code",
   "execution_count": 47,
   "metadata": {},
   "outputs": [],
   "source": [
    "import pandas as pd\n",
    "import numpy as np\n",
    "from mlxtend.preprocessing import TransactionEncoder\n",
    "from mlxtend.frequent_patterns import apriori\n",
    "from mlxtend.frequent_patterns import association_rules"
   ]
  },
  {
   "cell_type": "markdown",
   "metadata": {},
   "source": [
    "#### Load the dataset"
   ]
  },
  {
   "cell_type": "code",
   "execution_count": 48,
   "metadata": {},
   "outputs": [],
   "source": [
    "df_url = 'https://archive.ics.uci.edu/ml/machine-learning-databases/00352/Online%20Retail.xlsx'\n",
    "\n",
    "df = pd.read_excel(df_url)"
   ]
  },
  {
   "cell_type": "code",
   "execution_count": 49,
   "metadata": {
    "scrolled": true
   },
   "outputs": [
    {
     "data": {
      "text/html": [
       "<div>\n",
       "<style scoped>\n",
       "    .dataframe tbody tr th:only-of-type {\n",
       "        vertical-align: middle;\n",
       "    }\n",
       "\n",
       "    .dataframe tbody tr th {\n",
       "        vertical-align: top;\n",
       "    }\n",
       "\n",
       "    .dataframe thead th {\n",
       "        text-align: right;\n",
       "    }\n",
       "</style>\n",
       "<table border=\"1\" class=\"dataframe\">\n",
       "  <thead>\n",
       "    <tr style=\"text-align: right;\">\n",
       "      <th></th>\n",
       "      <th>InvoiceNo</th>\n",
       "      <th>StockCode</th>\n",
       "      <th>Description</th>\n",
       "      <th>Quantity</th>\n",
       "      <th>InvoiceDate</th>\n",
       "      <th>UnitPrice</th>\n",
       "      <th>CustomerID</th>\n",
       "      <th>Country</th>\n",
       "    </tr>\n",
       "  </thead>\n",
       "  <tbody>\n",
       "    <tr>\n",
       "      <th>0</th>\n",
       "      <td>536365</td>\n",
       "      <td>85123A</td>\n",
       "      <td>WHITE HANGING HEART T-LIGHT HOLDER</td>\n",
       "      <td>6</td>\n",
       "      <td>2010-12-01 08:26:00</td>\n",
       "      <td>2.55</td>\n",
       "      <td>17850.0</td>\n",
       "      <td>United Kingdom</td>\n",
       "    </tr>\n",
       "    <tr>\n",
       "      <th>1</th>\n",
       "      <td>536365</td>\n",
       "      <td>71053</td>\n",
       "      <td>WHITE METAL LANTERN</td>\n",
       "      <td>6</td>\n",
       "      <td>2010-12-01 08:26:00</td>\n",
       "      <td>3.39</td>\n",
       "      <td>17850.0</td>\n",
       "      <td>United Kingdom</td>\n",
       "    </tr>\n",
       "    <tr>\n",
       "      <th>2</th>\n",
       "      <td>536365</td>\n",
       "      <td>84406B</td>\n",
       "      <td>CREAM CUPID HEARTS COAT HANGER</td>\n",
       "      <td>8</td>\n",
       "      <td>2010-12-01 08:26:00</td>\n",
       "      <td>2.75</td>\n",
       "      <td>17850.0</td>\n",
       "      <td>United Kingdom</td>\n",
       "    </tr>\n",
       "    <tr>\n",
       "      <th>3</th>\n",
       "      <td>536365</td>\n",
       "      <td>84029G</td>\n",
       "      <td>KNITTED UNION FLAG HOT WATER BOTTLE</td>\n",
       "      <td>6</td>\n",
       "      <td>2010-12-01 08:26:00</td>\n",
       "      <td>3.39</td>\n",
       "      <td>17850.0</td>\n",
       "      <td>United Kingdom</td>\n",
       "    </tr>\n",
       "    <tr>\n",
       "      <th>4</th>\n",
       "      <td>536365</td>\n",
       "      <td>84029E</td>\n",
       "      <td>RED WOOLLY HOTTIE WHITE HEART.</td>\n",
       "      <td>6</td>\n",
       "      <td>2010-12-01 08:26:00</td>\n",
       "      <td>3.39</td>\n",
       "      <td>17850.0</td>\n",
       "      <td>United Kingdom</td>\n",
       "    </tr>\n",
       "  </tbody>\n",
       "</table>\n",
       "</div>"
      ],
      "text/plain": [
       "  InvoiceNo StockCode                          Description  Quantity  \\\n",
       "0    536365    85123A   WHITE HANGING HEART T-LIGHT HOLDER         6   \n",
       "1    536365     71053                  WHITE METAL LANTERN         6   \n",
       "2    536365    84406B       CREAM CUPID HEARTS COAT HANGER         8   \n",
       "3    536365    84029G  KNITTED UNION FLAG HOT WATER BOTTLE         6   \n",
       "4    536365    84029E       RED WOOLLY HOTTIE WHITE HEART.         6   \n",
       "\n",
       "          InvoiceDate  UnitPrice  CustomerID         Country  \n",
       "0 2010-12-01 08:26:00       2.55     17850.0  United Kingdom  \n",
       "1 2010-12-01 08:26:00       3.39     17850.0  United Kingdom  \n",
       "2 2010-12-01 08:26:00       2.75     17850.0  United Kingdom  \n",
       "3 2010-12-01 08:26:00       3.39     17850.0  United Kingdom  \n",
       "4 2010-12-01 08:26:00       3.39     17850.0  United Kingdom  "
      ]
     },
     "execution_count": 49,
     "metadata": {},
     "output_type": "execute_result"
    }
   ],
   "source": [
    "df.head()"
   ]
  },
  {
   "cell_type": "code",
   "execution_count": 50,
   "metadata": {},
   "outputs": [
    {
     "data": {
      "text/plain": [
       "(541909, 8)"
      ]
     },
     "execution_count": 50,
     "metadata": {},
     "output_type": "execute_result"
    }
   ],
   "source": [
    "df.shape"
   ]
  },
  {
   "cell_type": "code",
   "execution_count": 51,
   "metadata": {},
   "outputs": [
    {
     "name": "stdout",
     "output_type": "stream",
     "text": [
      "<class 'pandas.core.frame.DataFrame'>\n",
      "RangeIndex: 541909 entries, 0 to 541908\n",
      "Data columns (total 8 columns):\n",
      " #   Column       Non-Null Count   Dtype         \n",
      "---  ------       --------------   -----         \n",
      " 0   InvoiceNo    541909 non-null  object        \n",
      " 1   StockCode    541909 non-null  object        \n",
      " 2   Description  540455 non-null  object        \n",
      " 3   Quantity     541909 non-null  int64         \n",
      " 4   InvoiceDate  541909 non-null  datetime64[ns]\n",
      " 5   UnitPrice    541909 non-null  float64       \n",
      " 6   CustomerID   406829 non-null  float64       \n",
      " 7   Country      541909 non-null  object        \n",
      "dtypes: datetime64[ns](1), float64(2), int64(1), object(4)\n",
      "memory usage: 33.1+ MB\n"
     ]
    }
   ],
   "source": [
    "df.info()"
   ]
  },
  {
   "cell_type": "markdown",
   "metadata": {},
   "source": [
    "#### Data Clearning"
   ]
  },
  {
   "cell_type": "code",
   "execution_count": 53,
   "metadata": {},
   "outputs": [],
   "source": [
    "# Stripping spaces in the description column\n",
    "df['Description'] = df['Description'].str.strip()\n",
    "\n",
    "# Dropping rows that doesn't contain involice numbers\n",
    "df.dropna(axis = 0, subset=['InvoiceNo'], inplace = True)\n",
    "\n",
    "# Remove credit transactions\n",
    "df['InvoiceNo'] = df['InvoiceNo'].astype('str')\n",
    "df = df[~df['InvoiceNo'].str.contains('C')]"
   ]
  },
  {
   "cell_type": "code",
   "execution_count": 54,
   "metadata": {},
   "outputs": [
    {
     "data": {
      "text/plain": [
       "(532621, 8)"
      ]
     },
     "execution_count": 54,
     "metadata": {},
     "output_type": "execute_result"
    }
   ],
   "source": [
    "df.shape"
   ]
  },
  {
   "cell_type": "markdown",
   "metadata": {},
   "source": [
    "#### Extract all transactions for France"
   ]
  },
  {
   "cell_type": "code",
   "execution_count": 55,
   "metadata": {},
   "outputs": [],
   "source": [
    "france = df[df['Country']=='France']"
   ]
  },
  {
   "cell_type": "code",
   "execution_count": 56,
   "metadata": {},
   "outputs": [
    {
     "data": {
      "text/html": [
       "<div>\n",
       "<style scoped>\n",
       "    .dataframe tbody tr th:only-of-type {\n",
       "        vertical-align: middle;\n",
       "    }\n",
       "\n",
       "    .dataframe tbody tr th {\n",
       "        vertical-align: top;\n",
       "    }\n",
       "\n",
       "    .dataframe thead th {\n",
       "        text-align: right;\n",
       "    }\n",
       "</style>\n",
       "<table border=\"1\" class=\"dataframe\">\n",
       "  <thead>\n",
       "    <tr style=\"text-align: right;\">\n",
       "      <th></th>\n",
       "      <th>InvoiceNo</th>\n",
       "      <th>StockCode</th>\n",
       "      <th>Description</th>\n",
       "      <th>Quantity</th>\n",
       "      <th>InvoiceDate</th>\n",
       "      <th>UnitPrice</th>\n",
       "      <th>CustomerID</th>\n",
       "      <th>Country</th>\n",
       "    </tr>\n",
       "  </thead>\n",
       "  <tbody>\n",
       "    <tr>\n",
       "      <th>26</th>\n",
       "      <td>536370</td>\n",
       "      <td>22728</td>\n",
       "      <td>ALARM CLOCK BAKELIKE PINK</td>\n",
       "      <td>24</td>\n",
       "      <td>2010-12-01 08:45:00</td>\n",
       "      <td>3.75</td>\n",
       "      <td>12583.0</td>\n",
       "      <td>France</td>\n",
       "    </tr>\n",
       "    <tr>\n",
       "      <th>27</th>\n",
       "      <td>536370</td>\n",
       "      <td>22727</td>\n",
       "      <td>ALARM CLOCK BAKELIKE RED</td>\n",
       "      <td>24</td>\n",
       "      <td>2010-12-01 08:45:00</td>\n",
       "      <td>3.75</td>\n",
       "      <td>12583.0</td>\n",
       "      <td>France</td>\n",
       "    </tr>\n",
       "    <tr>\n",
       "      <th>28</th>\n",
       "      <td>536370</td>\n",
       "      <td>22726</td>\n",
       "      <td>ALARM CLOCK BAKELIKE GREEN</td>\n",
       "      <td>12</td>\n",
       "      <td>2010-12-01 08:45:00</td>\n",
       "      <td>3.75</td>\n",
       "      <td>12583.0</td>\n",
       "      <td>France</td>\n",
       "    </tr>\n",
       "    <tr>\n",
       "      <th>29</th>\n",
       "      <td>536370</td>\n",
       "      <td>21724</td>\n",
       "      <td>PANDA AND BUNNIES STICKER SHEET</td>\n",
       "      <td>12</td>\n",
       "      <td>2010-12-01 08:45:00</td>\n",
       "      <td>0.85</td>\n",
       "      <td>12583.0</td>\n",
       "      <td>France</td>\n",
       "    </tr>\n",
       "    <tr>\n",
       "      <th>30</th>\n",
       "      <td>536370</td>\n",
       "      <td>21883</td>\n",
       "      <td>STARS GIFT TAPE</td>\n",
       "      <td>24</td>\n",
       "      <td>2010-12-01 08:45:00</td>\n",
       "      <td>0.65</td>\n",
       "      <td>12583.0</td>\n",
       "      <td>France</td>\n",
       "    </tr>\n",
       "  </tbody>\n",
       "</table>\n",
       "</div>"
      ],
      "text/plain": [
       "   InvoiceNo StockCode                      Description  Quantity  \\\n",
       "26    536370     22728        ALARM CLOCK BAKELIKE PINK        24   \n",
       "27    536370     22727         ALARM CLOCK BAKELIKE RED        24   \n",
       "28    536370     22726       ALARM CLOCK BAKELIKE GREEN        12   \n",
       "29    536370     21724  PANDA AND BUNNIES STICKER SHEET        12   \n",
       "30    536370     21883                  STARS GIFT TAPE        24   \n",
       "\n",
       "           InvoiceDate  UnitPrice  CustomerID Country  \n",
       "26 2010-12-01 08:45:00       3.75     12583.0  France  \n",
       "27 2010-12-01 08:45:00       3.75     12583.0  France  \n",
       "28 2010-12-01 08:45:00       3.75     12583.0  France  \n",
       "29 2010-12-01 08:45:00       0.85     12583.0  France  \n",
       "30 2010-12-01 08:45:00       0.65     12583.0  France  "
      ]
     },
     "execution_count": 56,
     "metadata": {},
     "output_type": "execute_result"
    }
   ],
   "source": [
    "france.head()"
   ]
  },
  {
   "cell_type": "code",
   "execution_count": 57,
   "metadata": {},
   "outputs": [
    {
     "data": {
      "text/plain": [
       "(8408, 8)"
      ]
     },
     "execution_count": 57,
     "metadata": {},
     "output_type": "execute_result"
    }
   ],
   "source": [
    "france.shape"
   ]
  },
  {
   "cell_type": "markdown",
   "metadata": {},
   "source": [
    "#### Preprocess the data"
   ]
  },
  {
   "cell_type": "code",
   "execution_count": 58,
   "metadata": {},
   "outputs": [],
   "source": [
    "items = france[['InvoiceNo', 'Description']]"
   ]
  },
  {
   "cell_type": "code",
   "execution_count": 59,
   "metadata": {},
   "outputs": [
    {
     "data": {
      "text/html": [
       "<div>\n",
       "<style scoped>\n",
       "    .dataframe tbody tr th:only-of-type {\n",
       "        vertical-align: middle;\n",
       "    }\n",
       "\n",
       "    .dataframe tbody tr th {\n",
       "        vertical-align: top;\n",
       "    }\n",
       "\n",
       "    .dataframe thead th {\n",
       "        text-align: right;\n",
       "    }\n",
       "</style>\n",
       "<table border=\"1\" class=\"dataframe\">\n",
       "  <thead>\n",
       "    <tr style=\"text-align: right;\">\n",
       "      <th></th>\n",
       "      <th>InvoiceNo</th>\n",
       "      <th>Description</th>\n",
       "    </tr>\n",
       "  </thead>\n",
       "  <tbody>\n",
       "    <tr>\n",
       "      <th>26</th>\n",
       "      <td>536370</td>\n",
       "      <td>ALARM CLOCK BAKELIKE PINK</td>\n",
       "    </tr>\n",
       "    <tr>\n",
       "      <th>27</th>\n",
       "      <td>536370</td>\n",
       "      <td>ALARM CLOCK BAKELIKE RED</td>\n",
       "    </tr>\n",
       "    <tr>\n",
       "      <th>28</th>\n",
       "      <td>536370</td>\n",
       "      <td>ALARM CLOCK BAKELIKE GREEN</td>\n",
       "    </tr>\n",
       "    <tr>\n",
       "      <th>29</th>\n",
       "      <td>536370</td>\n",
       "      <td>PANDA AND BUNNIES STICKER SHEET</td>\n",
       "    </tr>\n",
       "    <tr>\n",
       "      <th>30</th>\n",
       "      <td>536370</td>\n",
       "      <td>STARS GIFT TAPE</td>\n",
       "    </tr>\n",
       "  </tbody>\n",
       "</table>\n",
       "</div>"
      ],
      "text/plain": [
       "   InvoiceNo                      Description\n",
       "26    536370        ALARM CLOCK BAKELIKE PINK\n",
       "27    536370         ALARM CLOCK BAKELIKE RED\n",
       "28    536370       ALARM CLOCK BAKELIKE GREEN\n",
       "29    536370  PANDA AND BUNNIES STICKER SHEET\n",
       "30    536370                  STARS GIFT TAPE"
      ]
     },
     "execution_count": 59,
     "metadata": {},
     "output_type": "execute_result"
    }
   ],
   "source": [
    "items.head()"
   ]
  },
  {
   "cell_type": "code",
   "execution_count": 61,
   "metadata": {},
   "outputs": [],
   "source": [
    "# Each transaction is defined by InvoiceNo\n",
    "transactions= items.groupby(['InvoiceNo'])['Description'].apply(list).values.tolist()"
   ]
  },
  {
   "cell_type": "code",
   "execution_count": 62,
   "metadata": {},
   "outputs": [
    {
     "data": {
      "text/plain": [
       "[['ALARM CLOCK BAKELIKE PINK',\n",
       "  'ALARM CLOCK BAKELIKE RED',\n",
       "  'ALARM CLOCK BAKELIKE GREEN',\n",
       "  'PANDA AND BUNNIES STICKER SHEET',\n",
       "  'STARS GIFT TAPE',\n",
       "  'INFLATABLE POLITICAL GLOBE',\n",
       "  'VINTAGE HEADS AND TAILS CARD GAME',\n",
       "  'SET/2 RED RETROSPOT TEA TOWELS',\n",
       "  'ROUND SNACK BOXES SET OF4 WOODLAND',\n",
       "  'SPACEBOY LUNCH BOX',\n",
       "  'LUNCH BOX I LOVE LONDON',\n",
       "  'CIRCUS PARADE LUNCH BOX',\n",
       "  'CHARLOTTE BAG DOLLY GIRL DESIGN',\n",
       "  'RED TOADSTOOL LED NIGHT LIGHT',\n",
       "  'SET 2 TEA TOWELS I LOVE LONDON',\n",
       "  'VINTAGE SEASIDE JIGSAW PUZZLES',\n",
       "  'MINI JIGSAW CIRCUS PARADE',\n",
       "  'MINI JIGSAW SPACEBOY',\n",
       "  'MINI PAINT SET VINTAGE',\n",
       "  'POSTAGE'],\n",
       " ['PICTURE DOMINOES',\n",
       "  'MINI JIGSAW SPACEBOY',\n",
       "  'MINI JIGSAW DOLLY GIRL',\n",
       "  'CHARLOTTE BAG DOLLY GIRL DESIGN',\n",
       "  'VINTAGE HEADS AND TAILS CARD GAME',\n",
       "  'POLKADOT RAIN HAT',\n",
       "  'POSTAGE'],\n",
       " ['EDWARDIAN PARASOL BLACK',\n",
       "  'EDWARDIAN PARASOL PINK',\n",
       "  'EDWARDIAN PARASOL RED',\n",
       "  'RED  HARMONICA IN BOX',\n",
       "  'LUNCH BOX I LOVE LONDON',\n",
       "  'LUNCH BOX WITH CUTLERY RETROSPOT',\n",
       "  'SET OF SALT AND PEPPER TOADSTOOLS',\n",
       "  'TEA PARTY BIRTHDAY CARD',\n",
       "  'ASSORTED COLOUR MINI CASES',\n",
       "  'RED RETROSPOT MINI CASES',\n",
       "  'BIG DOUGHNUT FRIDGE MAGNETS',\n",
       "  \"POPPY'S PLAYHOUSE KITCHEN\",\n",
       "  'RIBBON REEL POLKADOTS',\n",
       "  'LUNCH BAG RED RETROSPOT',\n",
       "  'LUNCH BAG WOODLAND',\n",
       "  'POSTAGE']]"
      ]
     },
     "execution_count": 62,
     "metadata": {},
     "output_type": "execute_result"
    }
   ],
   "source": [
    "transactions[:3]"
   ]
  },
  {
   "cell_type": "code",
   "execution_count": 63,
   "metadata": {},
   "outputs": [],
   "source": [
    "# Convert the transaction data into a binary format\n",
    "te = TransactionEncoder()\n",
    "te_ary = te.fit(transactions).transform(transactions)\n",
    "binary_transactions = pd.DataFrame(te_ary, columns=te.columns_)"
   ]
  },
  {
   "cell_type": "code",
   "execution_count": 64,
   "metadata": {},
   "outputs": [
    {
     "data": {
      "text/html": [
       "<div>\n",
       "<style scoped>\n",
       "    .dataframe tbody tr th:only-of-type {\n",
       "        vertical-align: middle;\n",
       "    }\n",
       "\n",
       "    .dataframe tbody tr th {\n",
       "        vertical-align: top;\n",
       "    }\n",
       "\n",
       "    .dataframe thead th {\n",
       "        text-align: right;\n",
       "    }\n",
       "</style>\n",
       "<table border=\"1\" class=\"dataframe\">\n",
       "  <thead>\n",
       "    <tr style=\"text-align: right;\">\n",
       "      <th></th>\n",
       "      <th>10 COLOUR SPACEBOY PEN</th>\n",
       "      <th>12 COLOURED PARTY BALLOONS</th>\n",
       "      <th>12 EGG HOUSE PAINTED WOOD</th>\n",
       "      <th>12 MESSAGE CARDS WITH ENVELOPES</th>\n",
       "      <th>12 PENCIL SMALL TUBE WOODLAND</th>\n",
       "      <th>12 PENCILS SMALL TUBE RED RETROSPOT</th>\n",
       "      <th>12 PENCILS SMALL TUBE SKULL</th>\n",
       "      <th>12 PENCILS TALL TUBE POSY</th>\n",
       "      <th>12 PENCILS TALL TUBE RED RETROSPOT</th>\n",
       "      <th>12 PENCILS TALL TUBE WOODLAND</th>\n",
       "      <th>...</th>\n",
       "      <th>WRAP VINTAGE PETALS  DESIGN</th>\n",
       "      <th>YELLOW COAT RACK PARIS FASHION</th>\n",
       "      <th>YELLOW GIANT GARDEN THERMOMETER</th>\n",
       "      <th>YELLOW SHARK HELICOPTER</th>\n",
       "      <th>ZINC  STAR T-LIGHT HOLDER</th>\n",
       "      <th>ZINC FOLKART SLEIGH BELLS</th>\n",
       "      <th>ZINC HERB GARDEN CONTAINER</th>\n",
       "      <th>ZINC METAL HEART DECORATION</th>\n",
       "      <th>ZINC T-LIGHT HOLDER STAR LARGE</th>\n",
       "      <th>ZINC T-LIGHT HOLDER STARS SMALL</th>\n",
       "    </tr>\n",
       "  </thead>\n",
       "  <tbody>\n",
       "    <tr>\n",
       "      <th>0</th>\n",
       "      <td>False</td>\n",
       "      <td>False</td>\n",
       "      <td>False</td>\n",
       "      <td>False</td>\n",
       "      <td>False</td>\n",
       "      <td>False</td>\n",
       "      <td>False</td>\n",
       "      <td>False</td>\n",
       "      <td>False</td>\n",
       "      <td>False</td>\n",
       "      <td>...</td>\n",
       "      <td>False</td>\n",
       "      <td>False</td>\n",
       "      <td>False</td>\n",
       "      <td>False</td>\n",
       "      <td>False</td>\n",
       "      <td>False</td>\n",
       "      <td>False</td>\n",
       "      <td>False</td>\n",
       "      <td>False</td>\n",
       "      <td>False</td>\n",
       "    </tr>\n",
       "    <tr>\n",
       "      <th>1</th>\n",
       "      <td>False</td>\n",
       "      <td>False</td>\n",
       "      <td>False</td>\n",
       "      <td>False</td>\n",
       "      <td>False</td>\n",
       "      <td>False</td>\n",
       "      <td>False</td>\n",
       "      <td>False</td>\n",
       "      <td>False</td>\n",
       "      <td>False</td>\n",
       "      <td>...</td>\n",
       "      <td>False</td>\n",
       "      <td>False</td>\n",
       "      <td>False</td>\n",
       "      <td>False</td>\n",
       "      <td>False</td>\n",
       "      <td>False</td>\n",
       "      <td>False</td>\n",
       "      <td>False</td>\n",
       "      <td>False</td>\n",
       "      <td>False</td>\n",
       "    </tr>\n",
       "    <tr>\n",
       "      <th>2</th>\n",
       "      <td>False</td>\n",
       "      <td>False</td>\n",
       "      <td>False</td>\n",
       "      <td>False</td>\n",
       "      <td>False</td>\n",
       "      <td>False</td>\n",
       "      <td>False</td>\n",
       "      <td>False</td>\n",
       "      <td>False</td>\n",
       "      <td>False</td>\n",
       "      <td>...</td>\n",
       "      <td>False</td>\n",
       "      <td>False</td>\n",
       "      <td>False</td>\n",
       "      <td>False</td>\n",
       "      <td>False</td>\n",
       "      <td>False</td>\n",
       "      <td>False</td>\n",
       "      <td>False</td>\n",
       "      <td>False</td>\n",
       "      <td>False</td>\n",
       "    </tr>\n",
       "    <tr>\n",
       "      <th>3</th>\n",
       "      <td>False</td>\n",
       "      <td>False</td>\n",
       "      <td>False</td>\n",
       "      <td>False</td>\n",
       "      <td>False</td>\n",
       "      <td>False</td>\n",
       "      <td>False</td>\n",
       "      <td>False</td>\n",
       "      <td>False</td>\n",
       "      <td>False</td>\n",
       "      <td>...</td>\n",
       "      <td>False</td>\n",
       "      <td>False</td>\n",
       "      <td>False</td>\n",
       "      <td>False</td>\n",
       "      <td>False</td>\n",
       "      <td>False</td>\n",
       "      <td>False</td>\n",
       "      <td>False</td>\n",
       "      <td>False</td>\n",
       "      <td>False</td>\n",
       "    </tr>\n",
       "    <tr>\n",
       "      <th>4</th>\n",
       "      <td>False</td>\n",
       "      <td>False</td>\n",
       "      <td>False</td>\n",
       "      <td>False</td>\n",
       "      <td>False</td>\n",
       "      <td>False</td>\n",
       "      <td>False</td>\n",
       "      <td>False</td>\n",
       "      <td>False</td>\n",
       "      <td>False</td>\n",
       "      <td>...</td>\n",
       "      <td>False</td>\n",
       "      <td>False</td>\n",
       "      <td>False</td>\n",
       "      <td>False</td>\n",
       "      <td>False</td>\n",
       "      <td>False</td>\n",
       "      <td>False</td>\n",
       "      <td>False</td>\n",
       "      <td>False</td>\n",
       "      <td>False</td>\n",
       "    </tr>\n",
       "  </tbody>\n",
       "</table>\n",
       "<p>5 rows × 1563 columns</p>\n",
       "</div>"
      ],
      "text/plain": [
       "   10 COLOUR SPACEBOY PEN  12 COLOURED PARTY BALLOONS  \\\n",
       "0                   False                       False   \n",
       "1                   False                       False   \n",
       "2                   False                       False   \n",
       "3                   False                       False   \n",
       "4                   False                       False   \n",
       "\n",
       "   12 EGG HOUSE PAINTED WOOD  12 MESSAGE CARDS WITH ENVELOPES  \\\n",
       "0                      False                            False   \n",
       "1                      False                            False   \n",
       "2                      False                            False   \n",
       "3                      False                            False   \n",
       "4                      False                            False   \n",
       "\n",
       "   12 PENCIL SMALL TUBE WOODLAND  12 PENCILS SMALL TUBE RED RETROSPOT  \\\n",
       "0                          False                                False   \n",
       "1                          False                                False   \n",
       "2                          False                                False   \n",
       "3                          False                                False   \n",
       "4                          False                                False   \n",
       "\n",
       "   12 PENCILS SMALL TUBE SKULL  12 PENCILS TALL TUBE POSY  \\\n",
       "0                        False                      False   \n",
       "1                        False                      False   \n",
       "2                        False                      False   \n",
       "3                        False                      False   \n",
       "4                        False                      False   \n",
       "\n",
       "   12 PENCILS TALL TUBE RED RETROSPOT  12 PENCILS TALL TUBE WOODLAND  ...  \\\n",
       "0                               False                          False  ...   \n",
       "1                               False                          False  ...   \n",
       "2                               False                          False  ...   \n",
       "3                               False                          False  ...   \n",
       "4                               False                          False  ...   \n",
       "\n",
       "   WRAP VINTAGE PETALS  DESIGN  YELLOW COAT RACK PARIS FASHION  \\\n",
       "0                        False                           False   \n",
       "1                        False                           False   \n",
       "2                        False                           False   \n",
       "3                        False                           False   \n",
       "4                        False                           False   \n",
       "\n",
       "   YELLOW GIANT GARDEN THERMOMETER  YELLOW SHARK HELICOPTER  \\\n",
       "0                            False                    False   \n",
       "1                            False                    False   \n",
       "2                            False                    False   \n",
       "3                            False                    False   \n",
       "4                            False                    False   \n",
       "\n",
       "   ZINC  STAR T-LIGHT HOLDER  ZINC FOLKART SLEIGH BELLS  \\\n",
       "0                      False                      False   \n",
       "1                      False                      False   \n",
       "2                      False                      False   \n",
       "3                      False                      False   \n",
       "4                      False                      False   \n",
       "\n",
       "   ZINC HERB GARDEN CONTAINER  ZINC METAL HEART DECORATION  \\\n",
       "0                       False                        False   \n",
       "1                       False                        False   \n",
       "2                       False                        False   \n",
       "3                       False                        False   \n",
       "4                       False                        False   \n",
       "\n",
       "   ZINC T-LIGHT HOLDER STAR LARGE  ZINC T-LIGHT HOLDER STARS SMALL  \n",
       "0                           False                            False  \n",
       "1                           False                            False  \n",
       "2                           False                            False  \n",
       "3                           False                            False  \n",
       "4                           False                            False  \n",
       "\n",
       "[5 rows x 1563 columns]"
      ]
     },
     "execution_count": 64,
     "metadata": {},
     "output_type": "execute_result"
    }
   ],
   "source": [
    "binary_transactions.head()"
   ]
  },
  {
   "cell_type": "code",
   "execution_count": 65,
   "metadata": {},
   "outputs": [
    {
     "name": "stdout",
     "output_type": "stream",
     "text": [
      "Mininum # items per transaction: 1\n",
      "Medium # items per transaction: 4.0\n",
      "Maximum # items per transaction: 21\n"
     ]
    }
   ],
   "source": [
    "# Calculate the frequency table\n",
    "transaction_size = items.groupby(['InvoiceNo']).size()\n",
    "freq_table = pd.Series.sort_index(pd.Series.value_counts(transaction_size))\n",
    "print('Mininum # items per transaction:', np.min(freq_table))\n",
    "print('Medium # items per transaction:', np.median(freq_table))\n",
    "print('Maximum # items per transaction:', np.max(freq_table))"
   ]
  },
  {
   "cell_type": "markdown",
   "metadata": {},
   "source": [
    "#### Generate frequent itemsets"
   ]
  },
  {
   "cell_type": "code",
   "execution_count": 66,
   "metadata": {},
   "outputs": [],
   "source": [
    "frequent_itemsets = apriori(binary_transactions, min_support=0.05, use_colnames=True)"
   ]
  },
  {
   "cell_type": "code",
   "execution_count": 67,
   "metadata": {},
   "outputs": [
    {
     "name": "stdout",
     "output_type": "stream",
     "text": [
      "<class 'pandas.core.frame.DataFrame'>\n",
      "RangeIndex: 195 entries, 0 to 194\n",
      "Data columns (total 2 columns):\n",
      " #   Column    Non-Null Count  Dtype  \n",
      "---  ------    --------------  -----  \n",
      " 0   support   195 non-null    float64\n",
      " 1   itemsets  195 non-null    object \n",
      "dtypes: float64(1), object(1)\n",
      "memory usage: 3.2+ KB\n"
     ]
    }
   ],
   "source": [
    "frequent_itemsets.info()"
   ]
  },
  {
   "cell_type": "code",
   "execution_count": 68,
   "metadata": {
    "scrolled": false
   },
   "outputs": [
    {
     "data": {
      "text/html": [
       "<div>\n",
       "<style scoped>\n",
       "    .dataframe tbody tr th:only-of-type {\n",
       "        vertical-align: middle;\n",
       "    }\n",
       "\n",
       "    .dataframe tbody tr th {\n",
       "        vertical-align: top;\n",
       "    }\n",
       "\n",
       "    .dataframe thead th {\n",
       "        text-align: right;\n",
       "    }\n",
       "</style>\n",
       "<table border=\"1\" class=\"dataframe\">\n",
       "  <thead>\n",
       "    <tr style=\"text-align: right;\">\n",
       "      <th></th>\n",
       "      <th>support</th>\n",
       "      <th>itemsets</th>\n",
       "    </tr>\n",
       "  </thead>\n",
       "  <tbody>\n",
       "    <tr>\n",
       "      <th>46</th>\n",
       "      <td>0.765306</td>\n",
       "      <td>(POSTAGE)</td>\n",
       "    </tr>\n",
       "    <tr>\n",
       "      <th>47</th>\n",
       "      <td>0.188776</td>\n",
       "      <td>(RABBIT NIGHT LIGHT)</td>\n",
       "    </tr>\n",
       "    <tr>\n",
       "      <th>53</th>\n",
       "      <td>0.181122</td>\n",
       "      <td>(RED TOADSTOOL LED NIGHT LIGHT)</td>\n",
       "    </tr>\n",
       "    <tr>\n",
       "      <th>44</th>\n",
       "      <td>0.170918</td>\n",
       "      <td>(PLASTERS IN TIN WOODLAND ANIMALS)</td>\n",
       "    </tr>\n",
       "    <tr>\n",
       "      <th>40</th>\n",
       "      <td>0.168367</td>\n",
       "      <td>(PLASTERS IN TIN CIRCUS PARADE)</td>\n",
       "    </tr>\n",
       "    <tr>\n",
       "      <th>141</th>\n",
       "      <td>0.165816</td>\n",
       "      <td>(POSTAGE, RABBIT NIGHT LIGHT)</td>\n",
       "    </tr>\n",
       "    <tr>\n",
       "      <th>60</th>\n",
       "      <td>0.158163</td>\n",
       "      <td>(ROUND SNACK BOXES SET OF4 WOODLAND)</td>\n",
       "    </tr>\n",
       "    <tr>\n",
       "      <th>146</th>\n",
       "      <td>0.158163</td>\n",
       "      <td>(POSTAGE, RED TOADSTOOL LED NIGHT LIGHT)</td>\n",
       "    </tr>\n",
       "    <tr>\n",
       "      <th>26</th>\n",
       "      <td>0.153061</td>\n",
       "      <td>(LUNCH BAG RED RETROSPOT)</td>\n",
       "    </tr>\n",
       "    <tr>\n",
       "      <th>132</th>\n",
       "      <td>0.147959</td>\n",
       "      <td>(PLASTERS IN TIN CIRCUS PARADE, POSTAGE)</td>\n",
       "    </tr>\n",
       "  </tbody>\n",
       "</table>\n",
       "</div>"
      ],
      "text/plain": [
       "      support                                  itemsets\n",
       "46   0.765306                                 (POSTAGE)\n",
       "47   0.188776                      (RABBIT NIGHT LIGHT)\n",
       "53   0.181122           (RED TOADSTOOL LED NIGHT LIGHT)\n",
       "44   0.170918        (PLASTERS IN TIN WOODLAND ANIMALS)\n",
       "40   0.168367           (PLASTERS IN TIN CIRCUS PARADE)\n",
       "141  0.165816             (POSTAGE, RABBIT NIGHT LIGHT)\n",
       "60   0.158163      (ROUND SNACK BOXES SET OF4 WOODLAND)\n",
       "146  0.158163  (POSTAGE, RED TOADSTOOL LED NIGHT LIGHT)\n",
       "26   0.153061                 (LUNCH BAG RED RETROSPOT)\n",
       "132  0.147959  (PLASTERS IN TIN CIRCUS PARADE, POSTAGE)"
      ]
     },
     "execution_count": 68,
     "metadata": {},
     "output_type": "execute_result"
    }
   ],
   "source": [
    "frequent_itemsets.sort_values(by=['support'], ascending=False).iloc[:10,:]"
   ]
  },
  {
   "cell_type": "markdown",
   "metadata": {},
   "source": [
    "**Postage** has the largest support."
   ]
  },
  {
   "cell_type": "markdown",
   "metadata": {},
   "source": [
    "#### Generate association rules based on confidence"
   ]
  },
  {
   "cell_type": "code",
   "execution_count": 74,
   "metadata": {},
   "outputs": [],
   "source": [
    "asso_rules = association_rules(frequent_itemsets, metric='confidence', min_threshold=0.5)"
   ]
  },
  {
   "cell_type": "code",
   "execution_count": 81,
   "metadata": {},
   "outputs": [
    {
     "data": {
      "text/html": [
       "<div>\n",
       "<style scoped>\n",
       "    .dataframe tbody tr th:only-of-type {\n",
       "        vertical-align: middle;\n",
       "    }\n",
       "\n",
       "    .dataframe tbody tr th {\n",
       "        vertical-align: top;\n",
       "    }\n",
       "\n",
       "    .dataframe thead th {\n",
       "        text-align: right;\n",
       "    }\n",
       "</style>\n",
       "<table border=\"1\" class=\"dataframe\">\n",
       "  <thead>\n",
       "    <tr style=\"text-align: right;\">\n",
       "      <th></th>\n",
       "      <th>antecedents</th>\n",
       "      <th>consequents</th>\n",
       "      <th>antecedent support</th>\n",
       "      <th>consequent support</th>\n",
       "      <th>support</th>\n",
       "      <th>confidence</th>\n",
       "      <th>lift</th>\n",
       "      <th>leverage</th>\n",
       "      <th>conviction</th>\n",
       "    </tr>\n",
       "  </thead>\n",
       "  <tbody>\n",
       "    <tr>\n",
       "      <th>146</th>\n",
       "      <td>(PLASTERS IN TIN CIRCUS PARADE, RED TOADSTOOL ...</td>\n",
       "      <td>(POSTAGE)</td>\n",
       "      <td>0.051020</td>\n",
       "      <td>0.765306</td>\n",
       "      <td>0.051020</td>\n",
       "      <td>1.000</td>\n",
       "      <td>1.306667</td>\n",
       "      <td>0.011974</td>\n",
       "      <td>inf</td>\n",
       "    </tr>\n",
       "    <tr>\n",
       "      <th>29</th>\n",
       "      <td>(JUMBO BAG WOODLAND ANIMALS)</td>\n",
       "      <td>(POSTAGE)</td>\n",
       "      <td>0.076531</td>\n",
       "      <td>0.765306</td>\n",
       "      <td>0.076531</td>\n",
       "      <td>1.000</td>\n",
       "      <td>1.306667</td>\n",
       "      <td>0.017961</td>\n",
       "      <td>inf</td>\n",
       "    </tr>\n",
       "    <tr>\n",
       "      <th>151</th>\n",
       "      <td>(PLASTERS IN TIN WOODLAND ANIMALS, RED TOADSTO...</td>\n",
       "      <td>(POSTAGE)</td>\n",
       "      <td>0.053571</td>\n",
       "      <td>0.765306</td>\n",
       "      <td>0.053571</td>\n",
       "      <td>1.000</td>\n",
       "      <td>1.306667</td>\n",
       "      <td>0.012573</td>\n",
       "      <td>inf</td>\n",
       "    </tr>\n",
       "    <tr>\n",
       "      <th>170</th>\n",
       "      <td>(SET/20 RED RETROSPOT PAPER NAPKINS, SET/6 RED...</td>\n",
       "      <td>(SET/6 RED SPOTTY PAPER PLATES)</td>\n",
       "      <td>0.102041</td>\n",
       "      <td>0.127551</td>\n",
       "      <td>0.099490</td>\n",
       "      <td>0.975</td>\n",
       "      <td>7.644000</td>\n",
       "      <td>0.086474</td>\n",
       "      <td>34.897959</td>\n",
       "    </tr>\n",
       "    <tr>\n",
       "      <th>171</th>\n",
       "      <td>(SET/20 RED RETROSPOT PAPER NAPKINS, SET/6 RED...</td>\n",
       "      <td>(SET/6 RED SPOTTY PAPER CUPS)</td>\n",
       "      <td>0.102041</td>\n",
       "      <td>0.137755</td>\n",
       "      <td>0.099490</td>\n",
       "      <td>0.975</td>\n",
       "      <td>7.077778</td>\n",
       "      <td>0.085433</td>\n",
       "      <td>34.489796</td>\n",
       "    </tr>\n",
       "  </tbody>\n",
       "</table>\n",
       "</div>"
      ],
      "text/plain": [
       "                                           antecedents  \\\n",
       "146  (PLASTERS IN TIN CIRCUS PARADE, RED TOADSTOOL ...   \n",
       "29                        (JUMBO BAG WOODLAND ANIMALS)   \n",
       "151  (PLASTERS IN TIN WOODLAND ANIMALS, RED TOADSTO...   \n",
       "170  (SET/20 RED RETROSPOT PAPER NAPKINS, SET/6 RED...   \n",
       "171  (SET/20 RED RETROSPOT PAPER NAPKINS, SET/6 RED...   \n",
       "\n",
       "                         consequents  antecedent support  consequent support  \\\n",
       "146                        (POSTAGE)            0.051020            0.765306   \n",
       "29                         (POSTAGE)            0.076531            0.765306   \n",
       "151                        (POSTAGE)            0.053571            0.765306   \n",
       "170  (SET/6 RED SPOTTY PAPER PLATES)            0.102041            0.127551   \n",
       "171    (SET/6 RED SPOTTY PAPER CUPS)            0.102041            0.137755   \n",
       "\n",
       "      support  confidence      lift  leverage  conviction  \n",
       "146  0.051020       1.000  1.306667  0.011974         inf  \n",
       "29   0.076531       1.000  1.306667  0.017961         inf  \n",
       "151  0.053571       1.000  1.306667  0.012573         inf  \n",
       "170  0.099490       0.975  7.644000  0.086474   34.897959  \n",
       "171  0.099490       0.975  7.077778  0.085433   34.489796  "
      ]
     },
     "execution_count": 81,
     "metadata": {},
     "output_type": "execute_result"
    }
   ],
   "source": [
    "asso_rules.sort_values('confidence',ascending = False).head()"
   ]
  },
  {
   "cell_type": "code",
   "execution_count": 91,
   "metadata": {},
   "outputs": [
    {
     "name": "stdout",
     "output_type": "stream",
     "text": [
      "frozenset({'PLASTERS IN TIN CIRCUS PARADE', 'RED TOADSTOOL LED NIGHT LIGHT'})\n",
      "frozenset({'JUMBO BAG WOODLAND ANIMALS'})\n",
      "frozenset({'PLASTERS IN TIN WOODLAND ANIMALS', 'RED TOADSTOOL LED NIGHT LIGHT'})\n"
     ]
    }
   ],
   "source": [
    "print(asso_rules.sort_values('confidence',ascending = False).head().iloc[0, 0])\n",
    "print(asso_rules.sort_values('confidence',ascending = False).head().iloc[1, 0])\n",
    "print(asso_rules.sort_values('confidence',ascending = False).head().iloc[2, 0])"
   ]
  },
  {
   "cell_type": "markdown",
   "metadata": {},
   "source": [
    "Association rule with **highest confidence**: \n",
    "\n",
    "{'PLASTERS IN TIN CIRCUS PARADE', 'RED TOADSTOOL LED NIGHT LIGHT'} -> {POSTAGE}\n",
    "\n",
    "{'JUMBO BAG WOODLAND ANIMALS'} -> {POSTAGE}\n",
    "\n",
    "{'PLASTERS IN TIN WOODLAND ANIMALS', 'RED TOADSTOOL LED NIGHT LIGHT'} -> {POSTAGE}\n",
    "\n",
    "These rules have the same confidence (1.0)."
   ]
  },
  {
   "cell_type": "markdown",
   "metadata": {},
   "source": [
    "#### Generate association rules based on lift"
   ]
  },
  {
   "cell_type": "code",
   "execution_count": 92,
   "metadata": {},
   "outputs": [
    {
     "data": {
      "text/html": [
       "<div>\n",
       "<style scoped>\n",
       "    .dataframe tbody tr th:only-of-type {\n",
       "        vertical-align: middle;\n",
       "    }\n",
       "\n",
       "    .dataframe tbody tr th {\n",
       "        vertical-align: top;\n",
       "    }\n",
       "\n",
       "    .dataframe thead th {\n",
       "        text-align: right;\n",
       "    }\n",
       "</style>\n",
       "<table border=\"1\" class=\"dataframe\">\n",
       "  <thead>\n",
       "    <tr style=\"text-align: right;\">\n",
       "      <th></th>\n",
       "      <th>antecedents</th>\n",
       "      <th>consequents</th>\n",
       "      <th>antecedent support</th>\n",
       "      <th>consequent support</th>\n",
       "      <th>support</th>\n",
       "      <th>confidence</th>\n",
       "      <th>lift</th>\n",
       "      <th>leverage</th>\n",
       "      <th>conviction</th>\n",
       "    </tr>\n",
       "  </thead>\n",
       "  <tbody>\n",
       "    <tr>\n",
       "      <th>144</th>\n",
       "      <td>(SET/20 RED RETROSPOT PAPER NAPKINS, SET/6 RED...</td>\n",
       "      <td>(SET/6 RED SPOTTY PAPER PLATES)</td>\n",
       "      <td>0.102041</td>\n",
       "      <td>0.127551</td>\n",
       "      <td>0.099490</td>\n",
       "      <td>0.975000</td>\n",
       "      <td>7.644000</td>\n",
       "      <td>0.086474</td>\n",
       "      <td>34.897959</td>\n",
       "    </tr>\n",
       "    <tr>\n",
       "      <th>145</th>\n",
       "      <td>(SET/20 RED RETROSPOT PAPER NAPKINS, SET/6 RED...</td>\n",
       "      <td>(SET/6 RED SPOTTY PAPER CUPS)</td>\n",
       "      <td>0.102041</td>\n",
       "      <td>0.137755</td>\n",
       "      <td>0.099490</td>\n",
       "      <td>0.975000</td>\n",
       "      <td>7.077778</td>\n",
       "      <td>0.085433</td>\n",
       "      <td>34.489796</td>\n",
       "    </tr>\n",
       "    <tr>\n",
       "      <th>174</th>\n",
       "      <td>(SET/20 RED RETROSPOT PAPER NAPKINS, SET/6 RED...</td>\n",
       "      <td>(SET/6 RED SPOTTY PAPER PLATES)</td>\n",
       "      <td>0.084184</td>\n",
       "      <td>0.127551</td>\n",
       "      <td>0.081633</td>\n",
       "      <td>0.969697</td>\n",
       "      <td>7.602424</td>\n",
       "      <td>0.070895</td>\n",
       "      <td>28.790816</td>\n",
       "    </tr>\n",
       "    <tr>\n",
       "      <th>175</th>\n",
       "      <td>(SET/20 RED RETROSPOT PAPER NAPKINS, SET/6 RED...</td>\n",
       "      <td>(SET/6 RED SPOTTY PAPER CUPS)</td>\n",
       "      <td>0.084184</td>\n",
       "      <td>0.137755</td>\n",
       "      <td>0.081633</td>\n",
       "      <td>0.969697</td>\n",
       "      <td>7.039282</td>\n",
       "      <td>0.070036</td>\n",
       "      <td>28.454082</td>\n",
       "    </tr>\n",
       "    <tr>\n",
       "      <th>61</th>\n",
       "      <td>(SET/6 RED SPOTTY PAPER PLATES)</td>\n",
       "      <td>(SET/6 RED SPOTTY PAPER CUPS)</td>\n",
       "      <td>0.127551</td>\n",
       "      <td>0.137755</td>\n",
       "      <td>0.122449</td>\n",
       "      <td>0.960000</td>\n",
       "      <td>6.968889</td>\n",
       "      <td>0.104878</td>\n",
       "      <td>21.556122</td>\n",
       "    </tr>\n",
       "  </tbody>\n",
       "</table>\n",
       "</div>"
      ],
      "text/plain": [
       "                                           antecedents  \\\n",
       "144  (SET/20 RED RETROSPOT PAPER NAPKINS, SET/6 RED...   \n",
       "145  (SET/20 RED RETROSPOT PAPER NAPKINS, SET/6 RED...   \n",
       "174  (SET/20 RED RETROSPOT PAPER NAPKINS, SET/6 RED...   \n",
       "175  (SET/20 RED RETROSPOT PAPER NAPKINS, SET/6 RED...   \n",
       "61                     (SET/6 RED SPOTTY PAPER PLATES)   \n",
       "\n",
       "                         consequents  antecedent support  consequent support  \\\n",
       "144  (SET/6 RED SPOTTY PAPER PLATES)            0.102041            0.127551   \n",
       "145    (SET/6 RED SPOTTY PAPER CUPS)            0.102041            0.137755   \n",
       "174  (SET/6 RED SPOTTY PAPER PLATES)            0.084184            0.127551   \n",
       "175    (SET/6 RED SPOTTY PAPER CUPS)            0.084184            0.137755   \n",
       "61     (SET/6 RED SPOTTY PAPER CUPS)            0.127551            0.137755   \n",
       "\n",
       "      support  confidence      lift  leverage  conviction  \n",
       "144  0.099490    0.975000  7.644000  0.086474   34.897959  \n",
       "145  0.099490    0.975000  7.077778  0.085433   34.489796  \n",
       "174  0.081633    0.969697  7.602424  0.070895   28.790816  \n",
       "175  0.081633    0.969697  7.039282  0.070036   28.454082  \n",
       "61   0.122449    0.960000  6.968889  0.104878   21.556122  "
      ]
     },
     "execution_count": 92,
     "metadata": {},
     "output_type": "execute_result"
    }
   ],
   "source": [
    "asso_rules = association_rules(frequent_itemsets, metric='lift', min_threshold=2)\n",
    "asso_rules.sort_values('confidence',ascending = False).head()"
   ]
  },
  {
   "cell_type": "code",
   "execution_count": 96,
   "metadata": {},
   "outputs": [
    {
     "name": "stdout",
     "output_type": "stream",
     "text": [
      "frozenset({'SET/20 RED RETROSPOT PAPER NAPKINS', 'SET/6 RED SPOTTY PAPER CUPS'})\n"
     ]
    }
   ],
   "source": [
    "print(asso_rules.sort_values('confidence',ascending = False).head().iloc[0, 0])"
   ]
  },
  {
   "cell_type": "markdown",
   "metadata": {},
   "source": [
    "Association rule with **highest lift**: \n",
    "\n",
    "{'SET/20 RED RETROSPOT PAPER NAPKINS', 'SET/6 RED SPOTTY PAPER CUPS'}  ->  {'SET/6 RED SPOTTY PAPER PLATES'}"
   ]
  },
  {
   "cell_type": "markdown",
   "metadata": {},
   "source": [
    "The rule with highest confidence is **not the same** as the one with the higest lift. \n",
    "\n",
    "Since the confidence measure only considers the deviance of s(A,B) from s(A) and not from s(A) * s(B), it fails to account for the support of the consequent, s(B). This might result in the detection of spurious patterns and the rejection of truly interesting patterns.\n",
    "\n",
    "Lift, as defined by I(A,B) = s(A,B) / (s(A) * s(B)), measures the ratio of s(A,B) against s(A) * s(B), which is not susceptible to the limitations of the confidence measure."
   ]
  },
  {
   "cell_type": "markdown",
   "metadata": {},
   "source": [
    "### Problem 2"
   ]
  },
  {
   "cell_type": "markdown",
   "metadata": {},
   "source": [
    "#### Load the dataset"
   ]
  },
  {
   "cell_type": "code",
   "execution_count": 36,
   "metadata": {},
   "outputs": [],
   "source": [
    "bakery = pd.read_csv('75000-out2-binary.csv')"
   ]
  },
  {
   "cell_type": "code",
   "execution_count": 37,
   "metadata": {},
   "outputs": [
    {
     "data": {
      "text/html": [
       "<div>\n",
       "<style scoped>\n",
       "    .dataframe tbody tr th:only-of-type {\n",
       "        vertical-align: middle;\n",
       "    }\n",
       "\n",
       "    .dataframe tbody tr th {\n",
       "        vertical-align: top;\n",
       "    }\n",
       "\n",
       "    .dataframe thead th {\n",
       "        text-align: right;\n",
       "    }\n",
       "</style>\n",
       "<table border=\"1\" class=\"dataframe\">\n",
       "  <thead>\n",
       "    <tr style=\"text-align: right;\">\n",
       "      <th></th>\n",
       "      <th>Transaction Number</th>\n",
       "      <th>Chocolate Cake</th>\n",
       "      <th>Lemon Cake</th>\n",
       "      <th>Casino Cake</th>\n",
       "      <th>Opera Cake</th>\n",
       "      <th>Strawberry Cake</th>\n",
       "      <th>Truffle Cake</th>\n",
       "      <th>Chocolate Eclair</th>\n",
       "      <th>Coffee Eclair</th>\n",
       "      <th>Vanilla Eclair</th>\n",
       "      <th>...</th>\n",
       "      <th>Lemon Lemonade</th>\n",
       "      <th>Raspberry Lemonade</th>\n",
       "      <th>Orange Juice</th>\n",
       "      <th>Green Tea</th>\n",
       "      <th>Bottled Water</th>\n",
       "      <th>Hot Coffee</th>\n",
       "      <th>Chocolate Coffee</th>\n",
       "      <th>Vanilla Frappuccino</th>\n",
       "      <th>Cherry Soda</th>\n",
       "      <th>Single Espresso</th>\n",
       "    </tr>\n",
       "  </thead>\n",
       "  <tbody>\n",
       "    <tr>\n",
       "      <th>0</th>\n",
       "      <td>1</td>\n",
       "      <td>0</td>\n",
       "      <td>0</td>\n",
       "      <td>0</td>\n",
       "      <td>0</td>\n",
       "      <td>0</td>\n",
       "      <td>0</td>\n",
       "      <td>0</td>\n",
       "      <td>0</td>\n",
       "      <td>0</td>\n",
       "      <td>...</td>\n",
       "      <td>0</td>\n",
       "      <td>0</td>\n",
       "      <td>0</td>\n",
       "      <td>0</td>\n",
       "      <td>0</td>\n",
       "      <td>0</td>\n",
       "      <td>0</td>\n",
       "      <td>0</td>\n",
       "      <td>0</td>\n",
       "      <td>0</td>\n",
       "    </tr>\n",
       "    <tr>\n",
       "      <th>1</th>\n",
       "      <td>2</td>\n",
       "      <td>0</td>\n",
       "      <td>0</td>\n",
       "      <td>0</td>\n",
       "      <td>0</td>\n",
       "      <td>0</td>\n",
       "      <td>0</td>\n",
       "      <td>0</td>\n",
       "      <td>1</td>\n",
       "      <td>0</td>\n",
       "      <td>...</td>\n",
       "      <td>0</td>\n",
       "      <td>0</td>\n",
       "      <td>0</td>\n",
       "      <td>0</td>\n",
       "      <td>0</td>\n",
       "      <td>1</td>\n",
       "      <td>0</td>\n",
       "      <td>0</td>\n",
       "      <td>0</td>\n",
       "      <td>0</td>\n",
       "    </tr>\n",
       "    <tr>\n",
       "      <th>2</th>\n",
       "      <td>3</td>\n",
       "      <td>0</td>\n",
       "      <td>0</td>\n",
       "      <td>0</td>\n",
       "      <td>1</td>\n",
       "      <td>0</td>\n",
       "      <td>0</td>\n",
       "      <td>0</td>\n",
       "      <td>0</td>\n",
       "      <td>0</td>\n",
       "      <td>...</td>\n",
       "      <td>0</td>\n",
       "      <td>0</td>\n",
       "      <td>1</td>\n",
       "      <td>0</td>\n",
       "      <td>0</td>\n",
       "      <td>0</td>\n",
       "      <td>0</td>\n",
       "      <td>0</td>\n",
       "      <td>0</td>\n",
       "      <td>0</td>\n",
       "    </tr>\n",
       "    <tr>\n",
       "      <th>3</th>\n",
       "      <td>4</td>\n",
       "      <td>0</td>\n",
       "      <td>0</td>\n",
       "      <td>0</td>\n",
       "      <td>0</td>\n",
       "      <td>0</td>\n",
       "      <td>1</td>\n",
       "      <td>0</td>\n",
       "      <td>0</td>\n",
       "      <td>0</td>\n",
       "      <td>...</td>\n",
       "      <td>0</td>\n",
       "      <td>0</td>\n",
       "      <td>0</td>\n",
       "      <td>0</td>\n",
       "      <td>0</td>\n",
       "      <td>0</td>\n",
       "      <td>0</td>\n",
       "      <td>1</td>\n",
       "      <td>0</td>\n",
       "      <td>0</td>\n",
       "    </tr>\n",
       "    <tr>\n",
       "      <th>4</th>\n",
       "      <td>5</td>\n",
       "      <td>0</td>\n",
       "      <td>0</td>\n",
       "      <td>0</td>\n",
       "      <td>0</td>\n",
       "      <td>0</td>\n",
       "      <td>0</td>\n",
       "      <td>1</td>\n",
       "      <td>0</td>\n",
       "      <td>0</td>\n",
       "      <td>...</td>\n",
       "      <td>0</td>\n",
       "      <td>0</td>\n",
       "      <td>1</td>\n",
       "      <td>0</td>\n",
       "      <td>0</td>\n",
       "      <td>0</td>\n",
       "      <td>0</td>\n",
       "      <td>0</td>\n",
       "      <td>0</td>\n",
       "      <td>0</td>\n",
       "    </tr>\n",
       "  </tbody>\n",
       "</table>\n",
       "<p>5 rows × 51 columns</p>\n",
       "</div>"
      ],
      "text/plain": [
       "   Transaction Number  Chocolate Cake  Lemon Cake  Casino Cake  Opera Cake  \\\n",
       "0                   1               0           0            0           0   \n",
       "1                   2               0           0            0           0   \n",
       "2                   3               0           0            0           1   \n",
       "3                   4               0           0            0           0   \n",
       "4                   5               0           0            0           0   \n",
       "\n",
       "   Strawberry Cake  Truffle Cake  Chocolate Eclair  Coffee Eclair  \\\n",
       "0                0             0                 0              0   \n",
       "1                0             0                 0              1   \n",
       "2                0             0                 0              0   \n",
       "3                0             1                 0              0   \n",
       "4                0             0                 1              0   \n",
       "\n",
       "   Vanilla Eclair  ...  Lemon Lemonade  Raspberry Lemonade  Orange Juice  \\\n",
       "0               0  ...               0                   0             0   \n",
       "1               0  ...               0                   0             0   \n",
       "2               0  ...               0                   0             1   \n",
       "3               0  ...               0                   0             0   \n",
       "4               0  ...               0                   0             1   \n",
       "\n",
       "   Green Tea  Bottled Water  Hot Coffee  Chocolate Coffee  \\\n",
       "0          0              0           0                 0   \n",
       "1          0              0           1                 0   \n",
       "2          0              0           0                 0   \n",
       "3          0              0           0                 0   \n",
       "4          0              0           0                 0   \n",
       "\n",
       "   Vanilla Frappuccino  Cherry Soda  Single Espresso  \n",
       "0                    0            0                0  \n",
       "1                    0            0                0  \n",
       "2                    0            0                0  \n",
       "3                    1            0                0  \n",
       "4                    0            0                0  \n",
       "\n",
       "[5 rows x 51 columns]"
      ]
     },
     "execution_count": 37,
     "metadata": {},
     "output_type": "execute_result"
    }
   ],
   "source": [
    "bakery.head()"
   ]
  },
  {
   "cell_type": "code",
   "execution_count": 38,
   "metadata": {},
   "outputs": [],
   "source": [
    "# Extract the chocolate coffee and cake columns\n",
    "chocolate_coffee_cake = bakery[['Chocolate Coffee', 'Chocolate Cake']]"
   ]
  },
  {
   "cell_type": "code",
   "execution_count": 39,
   "metadata": {},
   "outputs": [],
   "source": [
    "# Build a 2-way contingency table\n",
    "contingency_table = chocolate_coffee_cake.groupby(['Chocolate Coffee', 'Chocolate Cake']).size()"
   ]
  },
  {
   "cell_type": "code",
   "execution_count": 40,
   "metadata": {},
   "outputs": [
    {
     "data": {
      "text/plain": [
       "Chocolate Coffee  Chocolate Cake\n",
       "0                 0                 65802\n",
       "                  1                  2962\n",
       "1                 0                  2933\n",
       "                  1                  3303\n",
       "dtype: int64"
      ]
     },
     "execution_count": 40,
     "metadata": {},
     "output_type": "execute_result"
    }
   ],
   "source": [
    "contingency_table"
   ]
  },
  {
   "cell_type": "code",
   "execution_count": 41,
   "metadata": {
    "scrolled": true
   },
   "outputs": [
    {
     "name": "stdout",
     "output_type": "stream",
     "text": [
      "65802\n",
      "2962\n",
      "2933\n",
      "3303\n"
     ]
    }
   ],
   "source": [
    "f00 = contingency_table[0][0]\n",
    "f01 = contingency_table[0][1]\n",
    "f10 = contingency_table[1][0]\n",
    "f11 = contingency_table[1][1]\n",
    "\n",
    "print(f00)\n",
    "print(f01)\n",
    "print(f10)\n",
    "print(f11)"
   ]
  },
  {
   "cell_type": "code",
   "execution_count": 42,
   "metadata": {},
   "outputs": [
    {
     "name": "stdout",
     "output_type": "stream",
     "text": [
      "6236\n",
      "6265\n",
      "68764\n",
      "68735\n"
     ]
    }
   ],
   "source": [
    "f1p = f11 + f10\n",
    "fp1 = f11 + f01\n",
    "f0p = f01 + f00\n",
    "fp0 = f10 + f00\n",
    "\n",
    "print(f1p)\n",
    "print(fp1)\n",
    "print(f0p)\n",
    "print(fp0)"
   ]
  },
  {
   "cell_type": "markdown",
   "metadata": {},
   "source": [
    "These two items **are symmetric** binary variables because the presence (1's) and absence (0's) are equally valuable and carry the same weight."
   ]
  },
  {
   "cell_type": "code",
   "execution_count": 43,
   "metadata": {},
   "outputs": [
    {
     "data": {
      "text/plain": [
       "0.48556649252787554"
      ]
     },
     "execution_count": 43,
     "metadata": {},
     "output_type": "execute_result"
    }
   ],
   "source": [
    "chocolate_coffee_cake['Chocolate Coffee'].corr(chocolate_coffee_cake['Chocolate Cake'])"
   ]
  },
  {
   "cell_type": "code",
   "execution_count": 44,
   "metadata": {},
   "outputs": [
    {
     "data": {
      "text/plain": [
       "0.4855664925278755"
      ]
     },
     "execution_count": 44,
     "metadata": {},
     "output_type": "execute_result"
    }
   ],
   "source": [
    "chocolate_coffee_cake['Chocolate Cake'].corr(chocolate_coffee_cake['Chocolate Coffee'])"
   ]
  },
  {
   "cell_type": "markdown",
   "metadata": {},
   "source": [
    "The above correlation measure is **invariant** to inversion."
   ]
  },
  {
   "cell_type": "markdown",
   "metadata": {},
   "source": [
    "{Chocolate Coffee} -> {Chocolate Cake}"
   ]
  },
  {
   "cell_type": "code",
   "execution_count": 45,
   "metadata": {},
   "outputs": [
    {
     "data": {
      "text/plain": [
       "0.4855664925278768"
      ]
     },
     "execution_count": 45,
     "metadata": {},
     "output_type": "execute_result"
    }
   ],
   "source": [
    "(f11 * f00 - f01 * f10) / np.sqrt(f1p * fp1 * f0p * fp0)"
   ]
  },
  {
   "cell_type": "markdown",
   "metadata": {},
   "source": [
    "{Chocolate Cake} -> {Chocolate coffee}"
   ]
  },
  {
   "cell_type": "code",
   "execution_count": 46,
   "metadata": {},
   "outputs": [
    {
     "data": {
      "text/plain": [
       "0.4855664925278768"
      ]
     },
     "execution_count": 46,
     "metadata": {},
     "output_type": "execute_result"
    }
   ],
   "source": [
    "(f11 * f00 - f10 * f01) / np.sqrt(fp1 * f1p * fp0 * f0p)"
   ]
  },
  {
   "cell_type": "markdown",
   "metadata": {},
   "source": [
    "The above association rules have the **same** $\\Phi$."
   ]
  }
 ],
 "metadata": {
  "kernelspec": {
   "display_name": "Python 3",
   "language": "python",
   "name": "python3"
  },
  "language_info": {
   "codemirror_mode": {
    "name": "ipython",
    "version": 3
   },
   "file_extension": ".py",
   "mimetype": "text/x-python",
   "name": "python",
   "nbconvert_exporter": "python",
   "pygments_lexer": "ipython3",
   "version": "3.7.6"
  }
 },
 "nbformat": 4,
 "nbformat_minor": 4
}
