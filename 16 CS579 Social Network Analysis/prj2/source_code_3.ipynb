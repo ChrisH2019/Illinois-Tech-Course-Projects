{
  "nbformat": 4,
  "nbformat_minor": 0,
  "metadata": {
    "colab": {
      "name": "source_code_3.ipynb",
      "provenance": [],
      "collapsed_sections": []
    },
    "kernelspec": {
      "name": "python3",
      "display_name": "Python 3"
    },
    "accelerator": "GPU"
  },
  "cells": [
    {
      "cell_type": "markdown",
      "metadata": {
        "id": "2rerd2GTcy3S"
      },
      "source": [
        "## CS579 Project II LSTM Model Road Map\n",
        "\n",
        "Author: Christopher Hong\n",
        "\n",
        "* Step 1: Setting up working environment\n",
        "* Step 2: Preparing data\n",
        "  * Step 2.1: Loading data\n",
        "  * Step 2.2: Partitioning data\n",
        "  * Step 2.3: Wrangling data\n",
        "  * Step 2.4: Engineering feature\n",
        "* Step 3: Training supervised data\n",
        "  * Step 3.1 Defining model architecture\n",
        "  * Step 3.2 Training model with early stopping\n",
        "  * Step 3.3 Assessing held-out performance\n",
        "* Step 4: Predicting test data"
      ]
    },
    {
      "cell_type": "markdown",
      "metadata": {
        "id": "oE9-tOCwDmCM"
      },
      "source": [
        "<a id='s1'></a>\n",
        "## 1 Setting up working environment\n",
        "\n",
        "**Note**: After importing libraries, please go to `1.2` to setup proper file directories."
      ]
    },
    {
      "cell_type": "markdown",
      "metadata": {
        "id": "ijT_DtYWDwtb"
      },
      "source": [
        "<a id='1.1'></a>\n",
        "### 1.1 Importing libraries"
      ]
    },
    {
      "cell_type": "code",
      "metadata": {
        "colab": {
          "base_uri": "https://localhost:8080/"
        },
        "id": "qxfpWz8GDOJI",
        "outputId": "553cb95f-88cb-440c-d45f-41cd4b3f05e3"
      },
      "source": [
        "# Common library\n",
        "import tensorflow as tf\n",
        "import pandas as pd\n",
        "import numpy as np\n",
        "import os\n",
        "\n",
        "# Text processing packages\n",
        "import nltk\n",
        "nltk.download('punkt')\n",
        "nltk.download('wordnet')\n",
        "nltk.download('stopwords')\n",
        "from nltk.tokenize import word_tokenize\n",
        "from nltk.corpus import stopwords\n",
        "from nltk.stem import WordNetLemmatizer\n",
        "\n",
        "# Machine Learning packages\n",
        "from sklearn.model_selection import StratifiedShuffleSplit\n",
        "from sklearn.metrics import f1_score\n",
        "\n",
        "# Visualization packages\n",
        "%matplotlib inline\n",
        "import matplotlib as mpl\n",
        "import matplotlib.pyplot as plt\n",
        "mpl.rc('axes', labelsize=16)\n",
        "mpl.rc('xtick', labelsize=14)\n",
        "mpl.rc('ytick', labelsize=14)\n",
        "\n",
        "# Aesthetic setting\n",
        "import warnings\n",
        "warnings.filterwarnings('ignore')\n",
        "\n",
        "# Reproducibility setting\n",
        "np.random.seed(2020)\n",
        "tf.random.set_seed(2020)\n",
        "random_state = 2020\n",
        "\n",
        "# Path to local Google Drive\n",
        "from google.colab import drive\n",
        "drive.mount('/content/drive')"
      ],
      "execution_count": null,
      "outputs": [
        {
          "output_type": "stream",
          "text": [
            "[nltk_data] Downloading package punkt to /root/nltk_data...\n",
            "[nltk_data]   Unzipping tokenizers/punkt.zip.\n",
            "[nltk_data] Downloading package wordnet to /root/nltk_data...\n",
            "[nltk_data]   Unzipping corpora/wordnet.zip.\n",
            "[nltk_data] Downloading package stopwords to /root/nltk_data...\n",
            "[nltk_data]   Unzipping corpora/stopwords.zip.\n",
            "Mounted at /content/drive\n"
          ],
          "name": "stdout"
        }
      ]
    },
    {
      "cell_type": "markdown",
      "metadata": {
        "id": "GYQlDeAID9A6"
      },
      "source": [
        "<a id='1.2'></a>\n",
        "### 1.2 Setting file path to Google Drive\n",
        "\n",
        "**Note**: Please setup proper path to Google Drive before testing.\n",
        "Assuming `train, test, sample submission .csv files` are in `/content/drive/MyDrive/CS579_Project_2/option1-data`."
      ]
    },
    {
      "cell_type": "code",
      "metadata": {
        "colab": {
          "base_uri": "https://localhost:8080/"
        },
        "id": "pc3Qh5tlEJDy",
        "outputId": "7522d243-5b8e-41c3-aff8-d9e2dcb58365"
      },
      "source": [
        "# Define the base dir to local Google Drive\n",
        "BASE_PATH = \"/content/drive/MyDrive/CS579_Project_2/\"\n",
        "\n",
        "# Define base dir to local drive\n",
        "DATA_PATH = os.path.join(BASE_PATH, \"option1-data\")\n",
        "\n",
        "# Create base dir if not exists\n",
        "os.makedirs(BASE_PATH, exist_ok=True)\n",
        "os.makedirs(DATA_PATH, exist_ok=True)\n",
        "\n",
        "# Define the path to the train, test and submission data\n",
        "TRAIN_DATA_PATH = os.path.join(DATA_PATH, \"train.csv\")\n",
        "TEST_DATA_PATH = os.path.join(DATA_PATH, \"test.csv\")\n",
        "SUB_DATA_PATH = os.path.join(DATA_PATH, 'sample_submission.csv')\n",
        "print(\"train data path:\", TRAIN_DATA_PATH)\n",
        "print(\"test data path:\", TEST_DATA_PATH)\n",
        "print(\"submission data path:\", SUB_DATA_PATH)"
      ],
      "execution_count": null,
      "outputs": [
        {
          "output_type": "stream",
          "text": [
            "train data path: /content/drive/MyDrive/CS579_Project_2/option1-data/train.csv\n",
            "test data path: /content/drive/MyDrive/CS579_Project_2/option1-data/test.csv\n",
            "submission data path: /content/drive/MyDrive/CS579_Project_2/option1-data/sample_submission.csv\n"
          ],
          "name": "stdout"
        }
      ]
    },
    {
      "cell_type": "markdown",
      "metadata": {
        "id": "48XI5O2DEf4R"
      },
      "source": [
        "<a id='s2'></a>\n",
        "## 2 Preparing data"
      ]
    },
    {
      "cell_type": "markdown",
      "metadata": {
        "id": "vYiJB2ZsE0qy"
      },
      "source": [
        "<a id='2.1'></a>\n",
        "### 2.1 Loading data"
      ]
    },
    {
      "cell_type": "code",
      "metadata": {
        "colab": {
          "base_uri": "https://localhost:8080/"
        },
        "id": "vWwyS13eESqq",
        "outputId": "b2e42db3-2a8e-43fb-d622-906046432363"
      },
      "source": [
        "# Load train data\n",
        "df_train = pd.read_csv(TRAIN_DATA_PATH)\n",
        "\n",
        "# Load test data\n",
        "df_test = pd.read_csv(TEST_DATA_PATH)\n",
        "\n",
        "# Load submission data\n",
        "df_sub = pd.read_csv(SUB_DATA_PATH)\n",
        "\n",
        "# Data quality check\n",
        "df_train.shape, df_test.shape, df_sub.shape"
      ],
      "execution_count": null,
      "outputs": [
        {
          "output_type": "execute_result",
          "data": {
            "text/plain": [
              "((256442, 6), (64110, 5), (64110, 2))"
            ]
          },
          "metadata": {
            "tags": []
          },
          "execution_count": 3
        }
      ]
    },
    {
      "cell_type": "markdown",
      "metadata": {
        "id": "N52uu7mnFEjq"
      },
      "source": [
        "<a id='2.2'></a>\n",
        "### 2.2 Partitioning data"
      ]
    },
    {
      "cell_type": "code",
      "metadata": {
        "id": "GCmmQ86MEzmy"
      },
      "source": [
        "# Split the train data into 75/25 train and validation set\n",
        "test_size= 0.25\n",
        "\n",
        "# Stratified random sampling\n",
        "split = StratifiedShuffleSplit(n_splits=1, test_size=test_size, random_state=random_state)\n",
        "for train_index, val_index in split.split(df_train, df_train['label']):\n",
        "  data_train = df_train.loc[train_index].copy().reset_index(drop=True)\n",
        "  data_val = df_train.loc[val_index].copy().reset_index(drop=True)"
      ],
      "execution_count": null,
      "outputs": []
    },
    {
      "cell_type": "markdown",
      "metadata": {
        "id": "zBcW_GX8FUYJ"
      },
      "source": [
        "<a id='2.3'></a>\n",
        "### 2.3 Wrangling data"
      ]
    },
    {
      "cell_type": "markdown",
      "metadata": {
        "id": "HgrrX7OpFidz"
      },
      "source": [
        "#### Normalizing text feature"
      ]
    },
    {
      "cell_type": "code",
      "metadata": {
        "id": "PhBMge7lFOZ_"
      },
      "source": [
        "def normalize(text):\n",
        "  \"\"\"\n",
        "  Lowercase, tokenize, lemmatize, \n",
        "  remove stop and unwanted tokens. \n",
        "  \"\"\"\n",
        "  # Tokenization \n",
        "  lower_tokens = word_tokenize(text.lower())\n",
        "\n",
        "  # Retain alphabetic words\n",
        "  alpha_tokens = [w for w in lower_tokens if w.isalpha()]\n",
        "\n",
        "  # Create a lemmatizer object\n",
        "  wordnet_lemmatizer = WordNetLemmatizer()\n",
        "\n",
        "  # Lemmatize all tokens\n",
        "  lemmatized = [wordnet_lemmatizer.lemmatize(w) for w in alpha_tokens]\n",
        "\n",
        "  # Create a set of stop words\n",
        "  stop_words = set(stopwords.words('english'))\n",
        "\n",
        "  # Remove stop words and word length less than 3\n",
        "  no_stops = [w for w in lemmatized if len(w) > 2 and w not in stop_words]\n",
        "\n",
        "  return ' '.join(no_stops)\n",
        "\n",
        "def normalize_sequences(data, normalize=normalize):\n",
        "  \"\"\"\n",
        "  Combine the normalize title 1 & 2 into one column.\n",
        "  \"\"\"\n",
        "  # Normalize title 1 & 2 columns\n",
        "  data['title1_en_normalized'] = data['title1_en'].map(normalize)\n",
        "  data['title2_en_normalized'] = data['title2_en'].map(normalize)\n",
        "\n",
        "  # Combine train normalized title 1 & 2 columns into one column\n",
        "  data['title_1_2_normalized'] = \\\n",
        "      data['title1_en_normalized'].str.cat(data['title2_en_normalized'], sep=\" \")\n",
        "\n",
        "  return data.drop(columns=['id', 'tid1', 'tid2'], axis=1)"
      ],
      "execution_count": null,
      "outputs": []
    },
    {
      "cell_type": "code",
      "metadata": {
        "id": "jcz0aVfXFr1g"
      },
      "source": [
        "# Normalize train data\n",
        "data_train = normalize_sequences(data_train)\n",
        "\n",
        "# Normalize validation data\n",
        "data_val = normalize_sequences(data_val)\n",
        "\n",
        "# Normalize test data\n",
        "data_test = normalize_sequences(df_test)"
      ],
      "execution_count": null,
      "outputs": []
    },
    {
      "cell_type": "markdown",
      "metadata": {
        "id": "Q3J8DeyYGjUY"
      },
      "source": [
        "<a id='2.4'></a>\n",
        "### 2.4 Engineering feature"
      ]
    },
    {
      "cell_type": "markdown",
      "metadata": {
        "id": "vXExtUYhGt6X"
      },
      "source": [
        "#### Vectorizing text feature"
      ]
    },
    {
      "cell_type": "code",
      "metadata": {
        "id": "vYKo123UHxLU"
      },
      "source": [
        "def create_tokenizer(data, num_words):\n",
        "  \"\"\"\n",
        "  Create a tokenizer with num_words.\n",
        "  \"\"\"\n",
        "  # Create a tokenizer object\n",
        "  tokenizer = tf.keras.preprocessing.text.Tokenizer(num_words=num_words, lower=False)\n",
        "  # Fit the tokenizer on train text\n",
        "  tokenizer.fit_on_texts(data['title_1_2_normalized'].values)\n",
        "\n",
        "  return tokenizer\n",
        "\n",
        "def vectorize_sequences(data, tokenizer, max_length):\n",
        "  \"\"\"\n",
        "  Vectorize data to sequences and pad with 0 if less than max_length.\n",
        "  \"\"\"\n",
        "  # Transform text to a sequence of integers\n",
        "  sequence = tokenizer.texts_to_sequences(data['title_1_2_normalized'].values)\n",
        "  # Pad the sequence with 0\n",
        "  X = tf.keras.preprocessing.sequence.pad_sequences(sequence, max_length)\n",
        "\n",
        "  return X"
      ],
      "execution_count": null,
      "outputs": []
    },
    {
      "cell_type": "code",
      "metadata": {
        "id": "svE_qdMtIKa8"
      },
      "source": [
        "# Max number of words\n",
        "num_words = 5000\n",
        "\n",
        "# Create a tokenizer\n",
        "tokenizer = create_tokenizer(data_train, num_words)\n",
        "\n",
        "# Sequece length\n",
        "max_length = 256\n",
        "\n",
        "# Vectorize train data\n",
        "X_train = vectorize_sequences(data_train, tokenizer, max_length)\n",
        "\n",
        "# Vectorize validation data\n",
        "X_val = vectorize_sequences(data_val, tokenizer, max_length)\n",
        "\n",
        "# Vectorize test data\n",
        "X_test = vectorize_sequences(data_test, tokenizer, max_length)"
      ],
      "execution_count": null,
      "outputs": []
    },
    {
      "cell_type": "code",
      "metadata": {
        "colab": {
          "base_uri": "https://localhost:8080/",
          "height": 79
        },
        "id": "sgxPd2d3ccEI",
        "outputId": "ec3eafe8-9f37-41ee-b95b-143c67c207e9"
      },
      "source": [
        "# Word to int\n",
        "obs_int = (X_train[0][np.where(X_train[0])]).tolist()[:10]\n",
        "obs_word = np.array([None] * len(obs_int))\n",
        "for idx in range(len(obs_word)):  \n",
        "    obs_word[idx] = tokenizer.index_word[obs_int[idx]]\n",
        "pd.DataFrame([obs_int], columns=obs_word.tolist())"
      ],
      "execution_count": null,
      "outputs": [
        {
          "output_type": "execute_result",
          "data": {
            "text/html": [
              "<div>\n",
              "<style scoped>\n",
              "    .dataframe tbody tr th:only-of-type {\n",
              "        vertical-align: middle;\n",
              "    }\n",
              "\n",
              "    .dataframe tbody tr th {\n",
              "        vertical-align: top;\n",
              "    }\n",
              "\n",
              "    .dataframe thead th {\n",
              "        text-align: right;\n",
              "    }\n",
              "</style>\n",
              "<table border=\"1\" class=\"dataframe\">\n",
              "  <thead>\n",
              "    <tr style=\"text-align: right;\">\n",
              "      <th></th>\n",
              "      <th>characteristic</th>\n",
              "      <th>let</th>\n",
              "      <th>pregnant</th>\n",
              "      <th>mother</th>\n",
              "      <th>know</th>\n",
              "      <th>difference</th>\n",
              "      <th>boy</th>\n",
              "      <th>baby</th>\n",
              "      <th>girl</th>\n",
              "      <th>share</th>\n",
              "    </tr>\n",
              "  </thead>\n",
              "  <tbody>\n",
              "    <tr>\n",
              "      <th>0</th>\n",
              "      <td>1209</td>\n",
              "      <td>104</td>\n",
              "      <td>47</td>\n",
              "      <td>110</td>\n",
              "      <td>30</td>\n",
              "      <td>1283</td>\n",
              "      <td>84</td>\n",
              "      <td>55</td>\n",
              "      <td>68</td>\n",
              "      <td>347</td>\n",
              "    </tr>\n",
              "  </tbody>\n",
              "</table>\n",
              "</div>"
            ],
            "text/plain": [
              "   characteristic  let  pregnant  mother  ...  boy  baby  girl  share\n",
              "0            1209  104        47     110  ...   84    55    68    347\n",
              "\n",
              "[1 rows x 10 columns]"
            ]
          },
          "metadata": {
            "tags": []
          },
          "execution_count": 9
        }
      ]
    },
    {
      "cell_type": "markdown",
      "metadata": {
        "id": "RXUAqu_oJgbi"
      },
      "source": [
        "#### Encoding labels"
      ]
    },
    {
      "cell_type": "code",
      "metadata": {
        "id": "qX22vqMAJRjq"
      },
      "source": [
        "def to_one_hot(data, num_classes, lab_2_int):\n",
        "  \"\"\"\n",
        "  Encode labels to one-hot vectors.\n",
        "  \"\"\"\n",
        "  # Transform text labels to integers\n",
        "  y = data['label'].map(lab_2_int)\n",
        "  # Encode tegeger labels to one-hot vectors\n",
        "  y_one_hot = tf.keras.utils.to_categorical(y, num_classes)\n",
        "\n",
        "  return y, y_one_hot"
      ],
      "execution_count": null,
      "outputs": []
    },
    {
      "cell_type": "code",
      "metadata": {
        "colab": {
          "base_uri": "https://localhost:8080/"
        },
        "id": "lql7TE1SJ50C",
        "outputId": "f5dbe832-e56d-4371-a1d8-d9ec645c132f"
      },
      "source": [
        "# Get target names\n",
        "target_names = data_train.label.unique().tolist()\n",
        "print(target_names)\n",
        "\n",
        "# unrelated -> 0, agreed -> 1, disagreed -> 2\n",
        "lab_2_int = dict(zip(target_names, range(3)))\n",
        "print(lab_2_int)\n",
        "\n",
        "# unrelated <- 0, agreed <- 1, disagreed <- 2\n",
        "int_2_lab = dict(zip(lab_2_int.values(), lab_2_int.keys()))\n",
        "print(int_2_lab)\n",
        "\n",
        "# Encode train label\n",
        "num_classes = len(target_names)\n",
        "y_train, y_train_one_hot = to_one_hot(data_train, num_classes, lab_2_int)\n",
        "\n",
        "# Encode validation label\n",
        "y_val, y_val_one_hot = to_one_hot(data_val, num_classes, lab_2_int)"
      ],
      "execution_count": null,
      "outputs": [
        {
          "output_type": "stream",
          "text": [
            "['unrelated', 'agreed', 'disagreed']\n",
            "{'unrelated': 0, 'agreed': 1, 'disagreed': 2}\n",
            "{0: 'unrelated', 1: 'agreed', 2: 'disagreed'}\n"
          ],
          "name": "stdout"
        }
      ]
    },
    {
      "cell_type": "code",
      "metadata": {
        "colab": {
          "base_uri": "https://localhost:8080/"
        },
        "id": "LT-6uAWefZ3D",
        "outputId": "3d3aac12-8c4e-4820-a545-023bdf170bf3"
      },
      "source": [
        "# label\n",
        "y_train[:5]"
      ],
      "execution_count": null,
      "outputs": [
        {
          "output_type": "execute_result",
          "data": {
            "text/plain": [
              "0    0\n",
              "1    1\n",
              "2    0\n",
              "3    0\n",
              "4    0\n",
              "Name: label, dtype: int64"
            ]
          },
          "metadata": {
            "tags": []
          },
          "execution_count": 12
        }
      ]
    },
    {
      "cell_type": "code",
      "metadata": {
        "colab": {
          "base_uri": "https://localhost:8080/"
        },
        "id": "6iaxvC55gzoS",
        "outputId": "43214c10-d1c6-4868-acdc-b313d4ea19fd"
      },
      "source": [
        " # one-hot label\n",
        " print(y_train_one_hot[:5])"
      ],
      "execution_count": null,
      "outputs": [
        {
          "output_type": "stream",
          "text": [
            "[[1. 0. 0.]\n",
            " [0. 1. 0.]\n",
            " [1. 0. 0.]\n",
            " [1. 0. 0.]\n",
            " [1. 0. 0.]]\n"
          ],
          "name": "stdout"
        }
      ]
    },
    {
      "cell_type": "markdown",
      "metadata": {
        "id": "TU20xo3EK7Ha"
      },
      "source": [
        "<a id='3'></a>\n",
        "## 3 Training supervised data\n",
        "\n"
      ]
    },
    {
      "cell_type": "markdown",
      "metadata": {
        "id": "qfardoC0L_GG"
      },
      "source": [
        "<a id='3.1'></a>\n",
        "### 3.1 Defining model architecture"
      ]
    },
    {
      "cell_type": "code",
      "metadata": {
        "colab": {
          "base_uri": "https://localhost:8080/",
          "height": 612
        },
        "id": "WEULOObPKThH",
        "outputId": "4427db9c-214b-4a92-d719-ecdd3732f151"
      },
      "source": [
        "# Define model params\n",
        "max_features = num_words\n",
        "embedding_size = 256\n",
        "input_length = max_length\n",
        "lstm_units = 128\n",
        "num_output = num_classes\n",
        "\n",
        "# Create a sequential architecture\n",
        "model = tf.keras.Sequential()\n",
        "# Add embedding layer\n",
        "model.add(tf.keras.layers.Embedding(max_features, embedding_size, input_length=input_length))\n",
        "# Add LSTM layer\n",
        "model.add(tf.keras.layers.LSTM(lstm_units))\n",
        "# Add output layer\n",
        "model.add(tf.keras.layers.Dense(num_output, activation='softmax'))\n",
        "\n",
        "# Compile the model\n",
        "model.compile(loss='categorical_crossentropy', optimizer='adam', metrics=['accuracy'])\n",
        "\n",
        "# Print model architecture\n",
        "model.summary()\n",
        "\n",
        "# Print model digram\n",
        "tf.keras.utils.plot_model(model, show_layer_names=False)"
      ],
      "execution_count": null,
      "outputs": [
        {
          "output_type": "stream",
          "text": [
            "Model: \"sequential\"\n",
            "_________________________________________________________________\n",
            "Layer (type)                 Output Shape              Param #   \n",
            "=================================================================\n",
            "embedding (Embedding)        (None, 256, 256)          1280000   \n",
            "_________________________________________________________________\n",
            "lstm (LSTM)                  (None, 128)               197120    \n",
            "_________________________________________________________________\n",
            "dense (Dense)                (None, 3)                 387       \n",
            "=================================================================\n",
            "Total params: 1,477,507\n",
            "Trainable params: 1,477,507\n",
            "Non-trainable params: 0\n",
            "_________________________________________________________________\n"
          ],
          "name": "stdout"
        },
        {
          "output_type": "execute_result",
          "data": {
            "image/png": "[encoded data removed]",
            "text/plain": [
              "<IPython.core.display.Image object>"
            ]
          },
          "metadata": {
            "tags": []
          },
          "execution_count": 14
        }
      ]
    },
    {
      "cell_type": "markdown",
      "metadata": {
        "id": "XxfstAHhOwJ0"
      },
      "source": [
        "<a id='3.2'></a>\n",
        "### 3.2 Training model with early stopping"
      ]
    },
    {
      "cell_type": "code",
      "metadata": {
        "colab": {
          "base_uri": "https://localhost:8080/"
        },
        "id": "7-82LjiwK6rQ",
        "outputId": "56d35c81-4325-4016-ba3c-cc1c53190eb4"
      },
      "source": [
        "# Define stop point iff the validation accuracy stop increasing\n",
        "callback = tf.keras.callbacks.EarlyStopping(monitor='val_accuracy', \n",
        "                                            mode='max', \n",
        "                                            patience=2)\n",
        "# Train the model\n",
        "batch_size = 128\n",
        "epochs = 10\n",
        "verbose = 1\n",
        "history = model.fit(X_train, y_train_one_hot,\n",
        "                    batch_size=batch_size,\n",
        "                    epochs=epochs,\n",
        "                    validation_data=(X_val, y_val_one_hot),\n",
        "                    callbacks=[callback],\n",
        "                    verbose=verbose)"
      ],
      "execution_count": null,
      "outputs": [
        {
          "output_type": "stream",
          "text": [
            "Epoch 1/10\n",
            "1503/1503 [==============================] - 68s 45ms/step - loss: 0.5193 - accuracy: 0.7557 - val_loss: 0.4716 - val_accuracy: 0.7810\n",
            "Epoch 2/10\n",
            "1503/1503 [==============================] - 68s 45ms/step - loss: 0.4306 - accuracy: 0.8025 - val_loss: 0.4389 - val_accuracy: 0.7981\n",
            "Epoch 3/10\n",
            "1503/1503 [==============================] - 68s 45ms/step - loss: 0.3769 - accuracy: 0.8311 - val_loss: 0.4254 - val_accuracy: 0.8079\n",
            "Epoch 4/10\n",
            "1503/1503 [==============================] - 68s 45ms/step - loss: 0.3297 - accuracy: 0.8559 - val_loss: 0.4255 - val_accuracy: 0.8193\n",
            "Epoch 5/10\n",
            "1503/1503 [==============================] - 68s 45ms/step - loss: 0.2856 - accuracy: 0.8783 - val_loss: 0.4264 - val_accuracy: 0.8228\n",
            "Epoch 6/10\n",
            "1503/1503 [==============================] - 68s 45ms/step - loss: 0.2464 - accuracy: 0.8970 - val_loss: 0.4412 - val_accuracy: 0.8240\n",
            "Epoch 7/10\n",
            "1503/1503 [==============================] - 69s 46ms/step - loss: 0.2090 - accuracy: 0.9142 - val_loss: 0.4823 - val_accuracy: 0.8275\n",
            "Epoch 8/10\n",
            "1503/1503 [==============================] - 68s 45ms/step - loss: 0.1745 - accuracy: 0.9287 - val_loss: 0.5418 - val_accuracy: 0.8177\n",
            "Epoch 9/10\n",
            "1503/1503 [==============================] - 69s 46ms/step - loss: 0.1439 - accuracy: 0.9428 - val_loss: 0.5808 - val_accuracy: 0.8232\n"
          ],
          "name": "stdout"
        }
      ]
    },
    {
      "cell_type": "markdown",
      "metadata": {
        "id": "WCOUJfpbRbyv"
      },
      "source": [
        "<a id='3.3'></a>\n",
        "### 3.3 Assessing model performance"
      ]
    },
    {
      "cell_type": "markdown",
      "metadata": {
        "id": "rE2tc5OwVmQK"
      },
      "source": [
        "#### Evaludate held-out performance"
      ]
    },
    {
      "cell_type": "code",
      "metadata": {
        "id": "MS94u0MI8T2h"
      },
      "source": [
        "def plot_performance(hist, metric='loss', figsize=(12,8),):\n",
        "    \"\"\"\n",
        "    Plot the model training and validation performance.\n",
        "    \"\"\"\n",
        "    if metric == 'loss':\n",
        "        ylabel = 'Loss'\n",
        "        title = 'Training and Validation Loss'\n",
        "        train_legend = 'Training Loss'\n",
        "        val_legend = 'Validation Loss'\n",
        "        train_metric = 'loss'\n",
        "        val_metric = 'val_loss'\n",
        "    else:\n",
        "        ylabel = 'Accuracy'\n",
        "        title = 'Training and Validation Accuracy'\n",
        "        train_legend = 'Training Accuracy'\n",
        "        val_legend = 'Validation Accuracy'\n",
        "        train_metric = 'accuracy'\n",
        "        val_metric = 'val_accuracy'\n",
        "    train = hist.history[train_metric]\n",
        "    val = hist.history[val_metric]\n",
        "    epochs = range(1, len(val) + 1)\n",
        "\n",
        "\n",
        "    plt.figure(figsize=figsize)\n",
        "    plt.plot(epochs, train, 'bo', label=train_legend)\n",
        "    plt.plot(epochs, val, 'b', label=val_legend)\n",
        "    plt.title(title, fontsize=24)\n",
        "    plt.xlabel('Epochs')\n",
        "    plt.ylabel(ylabel)\n",
        "    plt.legend()\n",
        "    plt.show()"
      ],
      "execution_count": null,
      "outputs": []
    },
    {
      "cell_type": "code",
      "metadata": {
        "id": "lFyalRCjQlB8"
      },
      "source": [
        "def calculate_f1(model, X, y):\n",
        "  \"\"\"\n",
        "  Calculate the f1 score on categories of label.\n",
        "  \"\"\"\n",
        "  y_pred = model.predict(X)\n",
        "  y_pred = [np.argmax(y_hat) for y_hat in y_pred]\n",
        "  return (f1_score(y, y_pred, average=None)).round(2)"
      ],
      "execution_count": null,
      "outputs": []
    },
    {
      "cell_type": "code",
      "metadata": {
        "id": "zJDMaJinF_yW"
      },
      "source": [
        "def compare_performance(df, title, yticks=False):\n",
        "    \"\"\"\n",
        "    Plot bar chart to compare model f1 score performance.\n",
        "    \"\"\"\n",
        "    ax = df.T.plot(kind='bar', rot=0, figsize=(15,10), ylim=(0,100))\n",
        "    plt.title(title, fontsize=24)\n",
        "    plt.ylabel(\"F1-Score (Percentages)\")\n",
        "    if yticks:\n",
        "      plt.yticks(range(0, 101, 10))\n",
        "    ax.spines['right'].set_visible(False)\n",
        "    ax.spines['top'].set_visible(False)\n",
        "    plt.grid(axis='y')\n",
        "    plt.legend(fontsize=10)\n",
        "    plt.show()"
      ],
      "execution_count": null,
      "outputs": []
    },
    {
      "cell_type": "code",
      "metadata": {
        "colab": {
          "base_uri": "https://localhost:8080/"
        },
        "id": "jAfaSRSFVkkv",
        "outputId": "95c94836-12c5-436c-a8aa-e7c18eec2409"
      },
      "source": [
        "score = calculate_f1(model, X_val, y_val)\n",
        "print((\"Held-out f1 score: \" + \n",
        "  f\"{target_names[0]} = {score[0]} \" +\n",
        "  f\"{target_names[1]} = {score[1]} \" + \n",
        "  f\"{target_names[2]} = {score[2]}\"))"
      ],
      "execution_count": null,
      "outputs": [
        {
          "output_type": "stream",
          "text": [
            "Held-out f1 score: unrelated = 0.87 agreed = 0.73 disagreed = 0.47\n"
          ],
          "name": "stdout"
        }
      ]
    },
    {
      "cell_type": "markdown",
      "metadata": {
        "id": "d94pem8iHpNM"
      },
      "source": [
        "#### Assessing train and validation loss & accuracy"
      ]
    },
    {
      "cell_type": "code",
      "metadata": {
        "colab": {
          "base_uri": "https://localhost:8080/",
          "height": 1000
        },
        "id": "IdZ15jxIa76Z",
        "outputId": "993286bf-f1da-4d22-b700-5ba5fb10f647"
      },
      "source": [
        "# Plot the training and validation loss\n",
        "plot_performance(history)\n",
        "\n",
        "# Plot the training and validation accuracy\n",
        "plot_performance(history, 'accuracy')"
      ],
      "execution_count": null,
      "outputs": [
        {
          "output_type": "display_data",
          "data": {
            "image/png": "[encoded data removed]",
            "text/plain": [
              "<Figure size 864x576 with 1 Axes>"
            ]
          },
          "metadata": {
            "tags": [],
            "needs_background": "light"
          }
        },
        {
          "output_type": "display_data",
          "data": {
            "image/png": "[encoded data removed]",
            "text/plain": [
              "<Figure size 864x576 with 1 Axes>"
            ]
          },
          "metadata": {
            "tags": [],
            "needs_background": "light"
          }
        }
      ]
    },
    {
      "cell_type": "markdown",
      "metadata": {
        "id": "zTIb485BFmkT"
      },
      "source": [
        "#### Compare held-out f1-score with train label distribution"
      ]
    },
    {
      "cell_type": "code",
      "metadata": {
        "colab": {
          "base_uri": "https://localhost:8080/",
          "height": 621
        },
        "id": "rAEmWR2NFIZ6",
        "outputId": "13396562-baf7-4963-bea6-f637f0f2d30d"
      },
      "source": [
        "# Train label distribution\n",
        "train_label_dist = np.array(df_train.label.value_counts() / df_train.shape[0]).round(2)\n",
        "\n",
        "# Create a dataframe to store label distribution and validation f1 score\n",
        "res = pd.DataFrame([train_label_dist * 100, score * 100], \n",
        "                   columns=target_names,\n",
        "                   index=['Human performance',\n",
        "                          'Held-out F1 Score'])\n",
        "res = res.astype(int)\n",
        "compare_performance(res, 'LSTM Model Perofrmance by Label', True)"
      ],
      "execution_count": null,
      "outputs": [
        {
          "output_type": "display_data",
          "data": {
            "image/png": "[encoded data removed]",
            "text/plain": [
              "<Figure size 1080x720 with 1 Axes>"
            ]
          },
          "metadata": {
            "tags": [],
            "needs_background": "light"
          }
        }
      ]
    },
    {
      "cell_type": "markdown",
      "metadata": {
        "id": "G_WzkeR3XB1_"
      },
      "source": [
        "<a id='3.4'></a>\n",
        "### 3.4 Incremetally training the model with validation data"
      ]
    },
    {
      "cell_type": "code",
      "metadata": {
        "colab": {
          "base_uri": "https://localhost:8080/"
        },
        "id": "1uQAv5A3F5x-",
        "outputId": "06fae73c-4337-4456-c809-a5c382f06ff3"
      },
      "source": [
        "# Stack the train and validation set into one train set\n",
        "X_train_full = np.vstack((X_train, X_val))\n",
        "y_train_full = np.vstack((y_train_one_hot, y_val_one_hot))\n",
        "X_train_full.shape, y_train_full.shape"
      ],
      "execution_count": null,
      "outputs": [
        {
          "output_type": "execute_result",
          "data": {
            "text/plain": [
              "((256442, 256), (256442, 3))"
            ]
          },
          "metadata": {
            "tags": []
          },
          "execution_count": 22
        }
      ]
    },
    {
      "cell_type": "code",
      "metadata": {
        "colab": {
          "base_uri": "https://localhost:8080/"
        },
        "id": "ojKSjHTEWKWM",
        "outputId": "85fc2892-9d93-46fd-c922-8ffe967e5e8a"
      },
      "source": [
        "# Train the current model with full train set with additinoal 2 epochs\n",
        "model.fit(X_train_full, y_train_full, epochs=2, batch_size=batch_size, verbose=1)"
      ],
      "execution_count": null,
      "outputs": [
        {
          "output_type": "stream",
          "text": [
            "Epoch 1/2\n",
            "2004/2004 [==============================] - 83s 41ms/step - loss: 0.2245 - accuracy: 0.9184\n",
            "Epoch 2/2\n",
            "2004/2004 [==============================] - 83s 41ms/step - loss: 0.1743 - accuracy: 0.9341\n"
          ],
          "name": "stdout"
        },
        {
          "output_type": "execute_result",
          "data": {
            "text/plain": [
              "<tensorflow.python.keras.callbacks.History at 0x7f180e31ffd0>"
            ]
          },
          "metadata": {
            "tags": []
          },
          "execution_count": 23
        }
      ]
    },
    {
      "cell_type": "code",
      "metadata": {
        "colab": {
          "base_uri": "https://localhost:8080/"
        },
        "id": "RaZRM13bImSg",
        "outputId": "1d01c698-3fd8-4bbf-b099-6d789dd88315"
      },
      "source": [
        "# Final quality check\n",
        "score = calculate_f1(model, X_val, y_val)\n",
        "print((\"Held-out f1 score: \" + \n",
        "  f\"{target_names[0]} = {score[0]} \" +\n",
        "  f\"{target_names[1]} = {score[1]} \" + \n",
        "  f\"{target_names[2]} = {score[2]}\"))\n",
        "res = model.evaluate(X_val, y_val_one_hot)\n",
        "print(\"Held-out loss:\", res[0], \"accuracy:\", res[1])"
      ],
      "execution_count": null,
      "outputs": [
        {
          "output_type": "stream",
          "text": [
            "Held-out f1 score: unrelated = 0.95 agreed = 0.9 disagreed = 0.75\n",
            "2004/2004 [==============================] - 15s 8ms/step - loss: 0.1858 - accuracy: 0.9299\n",
            "Held-out loss: 0.18580582737922668 accuracy: 0.9299496412277222\n"
          ],
          "name": "stdout"
        }
      ]
    },
    {
      "cell_type": "markdown",
      "metadata": {
        "id": "a5baSEgmXkis"
      },
      "source": [
        "<a id='4'></a>\n",
        "## 4 Predicting test data"
      ]
    },
    {
      "cell_type": "code",
      "metadata": {
        "id": "WEPmy47BXrq3"
      },
      "source": [
        "# Predict test data label\n",
        "y_pred_test = model.predict(X_test)\n",
        "y_pred_test = [np.argmax(y_hat) for y_hat in y_pred_test]"
      ],
      "execution_count": null,
      "outputs": []
    },
    {
      "cell_type": "code",
      "metadata": {
        "colab": {
          "base_uri": "https://localhost:8080/",
          "height": 355
        },
        "id": "yMH_0WS-Y2lR",
        "outputId": "3e3becaa-f91d-40c7-9d43-3516a338d31a"
      },
      "source": [
        "# Store test data labels\n",
        "df_sub['label_encoded'] = pd.Series(y_pred_test)\n",
        "df_sub['label'] = df_sub['label_encoded'].map(int_2_lab)\n",
        "df_sub.sample(10)"
      ],
      "execution_count": null,
      "outputs": [
        {
          "output_type": "execute_result",
          "data": {
            "text/html": [
              "<div>\n",
              "<style scoped>\n",
              "    .dataframe tbody tr th:only-of-type {\n",
              "        vertical-align: middle;\n",
              "    }\n",
              "\n",
              "    .dataframe tbody tr th {\n",
              "        vertical-align: top;\n",
              "    }\n",
              "\n",
              "    .dataframe thead th {\n",
              "        text-align: right;\n",
              "    }\n",
              "</style>\n",
              "<table border=\"1\" class=\"dataframe\">\n",
              "  <thead>\n",
              "    <tr style=\"text-align: right;\">\n",
              "      <th></th>\n",
              "      <th>id</th>\n",
              "      <th>label</th>\n",
              "      <th>label_encoded</th>\n",
              "    </tr>\n",
              "  </thead>\n",
              "  <tbody>\n",
              "    <tr>\n",
              "      <th>5458</th>\n",
              "      <td>261900</td>\n",
              "      <td>unrelated</td>\n",
              "      <td>0</td>\n",
              "    </tr>\n",
              "    <tr>\n",
              "      <th>52001</th>\n",
              "      <td>308443</td>\n",
              "      <td>unrelated</td>\n",
              "      <td>0</td>\n",
              "    </tr>\n",
              "    <tr>\n",
              "      <th>16511</th>\n",
              "      <td>272953</td>\n",
              "      <td>agreed</td>\n",
              "      <td>1</td>\n",
              "    </tr>\n",
              "    <tr>\n",
              "      <th>15026</th>\n",
              "      <td>271468</td>\n",
              "      <td>unrelated</td>\n",
              "      <td>0</td>\n",
              "    </tr>\n",
              "    <tr>\n",
              "      <th>26315</th>\n",
              "      <td>282757</td>\n",
              "      <td>unrelated</td>\n",
              "      <td>0</td>\n",
              "    </tr>\n",
              "    <tr>\n",
              "      <th>39924</th>\n",
              "      <td>296366</td>\n",
              "      <td>unrelated</td>\n",
              "      <td>0</td>\n",
              "    </tr>\n",
              "    <tr>\n",
              "      <th>27857</th>\n",
              "      <td>284299</td>\n",
              "      <td>unrelated</td>\n",
              "      <td>0</td>\n",
              "    </tr>\n",
              "    <tr>\n",
              "      <th>20175</th>\n",
              "      <td>276617</td>\n",
              "      <td>unrelated</td>\n",
              "      <td>0</td>\n",
              "    </tr>\n",
              "    <tr>\n",
              "      <th>48264</th>\n",
              "      <td>304706</td>\n",
              "      <td>agreed</td>\n",
              "      <td>1</td>\n",
              "    </tr>\n",
              "    <tr>\n",
              "      <th>37146</th>\n",
              "      <td>293588</td>\n",
              "      <td>unrelated</td>\n",
              "      <td>0</td>\n",
              "    </tr>\n",
              "  </tbody>\n",
              "</table>\n",
              "</div>"
            ],
            "text/plain": [
              "           id      label  label_encoded\n",
              "5458   261900  unrelated              0\n",
              "52001  308443  unrelated              0\n",
              "16511  272953     agreed              1\n",
              "15026  271468  unrelated              0\n",
              "26315  282757  unrelated              0\n",
              "39924  296366  unrelated              0\n",
              "27857  284299  unrelated              0\n",
              "20175  276617  unrelated              0\n",
              "48264  304706     agreed              1\n",
              "37146  293588  unrelated              0"
            ]
          },
          "metadata": {
            "tags": []
          },
          "execution_count": 26
        }
      ]
    },
    {
      "cell_type": "code",
      "metadata": {
        "colab": {
          "base_uri": "https://localhost:8080/"
        },
        "id": "kHCPukghZLFO",
        "outputId": "5db11c0e-275b-49bf-8edc-cc6e14dd02c2"
      },
      "source": [
        "# Final data quality check\n",
        "assert sum(df_sub.isnull().sum()) == 0\n",
        "df_sub['label'].value_counts()"
      ],
      "execution_count": null,
      "outputs": [
        {
          "output_type": "execute_result",
          "data": {
            "text/plain": [
              "unrelated    44685\n",
              "agreed       18213\n",
              "disagreed     1212\n",
              "Name: label, dtype: int64"
            ]
          },
          "metadata": {
            "tags": []
          },
          "execution_count": 27
        }
      ]
    },
    {
      "cell_type": "code",
      "metadata": {
        "colab": {
          "base_uri": "https://localhost:8080/",
          "height": 355
        },
        "id": "NC7CDfWJZ4g9",
        "outputId": "a3a57296-05b9-4ba0-bcd5-ec603797504e"
      },
      "source": [
        "# Save the submission to .csv\n",
        "df_sub = df_sub.drop(columns=['label_encoded'])\n",
        "df_sub.to_csv(os.path.join(DATA_PATH, 'submission.csv'), index=False)\n",
        "df_sub.sample(10)"
      ],
      "execution_count": null,
      "outputs": [
        {
          "output_type": "execute_result",
          "data": {
            "text/html": [
              "<div>\n",
              "<style scoped>\n",
              "    .dataframe tbody tr th:only-of-type {\n",
              "        vertical-align: middle;\n",
              "    }\n",
              "\n",
              "    .dataframe tbody tr th {\n",
              "        vertical-align: top;\n",
              "    }\n",
              "\n",
              "    .dataframe thead th {\n",
              "        text-align: right;\n",
              "    }\n",
              "</style>\n",
              "<table border=\"1\" class=\"dataframe\">\n",
              "  <thead>\n",
              "    <tr style=\"text-align: right;\">\n",
              "      <th></th>\n",
              "      <th>id</th>\n",
              "      <th>label</th>\n",
              "    </tr>\n",
              "  </thead>\n",
              "  <tbody>\n",
              "    <tr>\n",
              "      <th>47335</th>\n",
              "      <td>303777</td>\n",
              "      <td>unrelated</td>\n",
              "    </tr>\n",
              "    <tr>\n",
              "      <th>47043</th>\n",
              "      <td>303485</td>\n",
              "      <td>unrelated</td>\n",
              "    </tr>\n",
              "    <tr>\n",
              "      <th>2475</th>\n",
              "      <td>258917</td>\n",
              "      <td>unrelated</td>\n",
              "    </tr>\n",
              "    <tr>\n",
              "      <th>23972</th>\n",
              "      <td>280414</td>\n",
              "      <td>unrelated</td>\n",
              "    </tr>\n",
              "    <tr>\n",
              "      <th>60230</th>\n",
              "      <td>316672</td>\n",
              "      <td>unrelated</td>\n",
              "    </tr>\n",
              "    <tr>\n",
              "      <th>2137</th>\n",
              "      <td>258579</td>\n",
              "      <td>unrelated</td>\n",
              "    </tr>\n",
              "    <tr>\n",
              "      <th>49011</th>\n",
              "      <td>305453</td>\n",
              "      <td>agreed</td>\n",
              "    </tr>\n",
              "    <tr>\n",
              "      <th>60702</th>\n",
              "      <td>317144</td>\n",
              "      <td>unrelated</td>\n",
              "    </tr>\n",
              "    <tr>\n",
              "      <th>23780</th>\n",
              "      <td>280222</td>\n",
              "      <td>agreed</td>\n",
              "    </tr>\n",
              "    <tr>\n",
              "      <th>6803</th>\n",
              "      <td>263245</td>\n",
              "      <td>agreed</td>\n",
              "    </tr>\n",
              "  </tbody>\n",
              "</table>\n",
              "</div>"
            ],
            "text/plain": [
              "           id      label\n",
              "47335  303777  unrelated\n",
              "47043  303485  unrelated\n",
              "2475   258917  unrelated\n",
              "23972  280414  unrelated\n",
              "60230  316672  unrelated\n",
              "2137   258579  unrelated\n",
              "49011  305453     agreed\n",
              "60702  317144  unrelated\n",
              "23780  280222     agreed\n",
              "6803   263245     agreed"
            ]
          },
          "metadata": {
            "tags": []
          },
          "execution_count": 28
        }
      ]
    },
    {
      "cell_type": "code",
      "metadata": {
        "id": "cxEJ21yRZ7_U"
      },
      "source": [
        "# Save the best model\n",
        "model.save(os.path.join(DATA_PATH, \"final_model.h5\"))"
      ],
      "execution_count": null,
      "outputs": []
    }
  ]
}