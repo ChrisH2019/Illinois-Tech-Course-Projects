{
  "nbformat": 4,
  "nbformat_minor": 0,
  "metadata": {
    "colab": {
      "name": "source_code_2.ipynb",
      "provenance": [],
      "collapsed_sections": [],
      "machine_shape": "hm"
    },
    "kernelspec": {
      "name": "python3",
      "display_name": "Python 3"
    },
    "accelerator": "GPU"
  },
  "cells": [
    {
      "cell_type": "markdown",
      "metadata": {
        "id": "r-XiFhrKZnTF"
      },
      "source": [
        "## CS579 Project II LSTM Tuning Road Map\n",
        "\n",
        "Author: Christopher Hong\n",
        "\n",
        "* Step 1: Preparing data\n",
        "  * Step 1.1: Loading data\n",
        "  * Step 1.2: Partitioning data\n",
        "  * Step 1.3: Wrangling data\n",
        "  * Step 1.4: Engineering feature\n",
        "  * Step 1.5: Encoding label\n",
        "* Step 2: Cross-validating baseline LSTM model\n",
        "* Step 3: Tuning LSTM hyperparameters\n",
        "* Step 4: Assessing final model performance\n",
        "* Step 5: Saving tuning histories"
      ]
    },
    {
      "cell_type": "code",
      "metadata": {
        "colab": {
          "base_uri": "https://localhost:8080/"
        },
        "id": "i23CvEpW7P1x",
        "outputId": "bd7702d1-4ea3-40b3-db30-1f689d4ab9d9"
      },
      "source": [
        "# Common library\n",
        "import tensorflow as tf\n",
        "import pandas as pd\n",
        "import numpy as np\n",
        "import os\n",
        "\n",
        "# Text processing packages\n",
        "import nltk\n",
        "nltk.download('punkt')\n",
        "nltk.download('wordnet')\n",
        "nltk.download('stopwords')\n",
        "from nltk.tokenize import word_tokenize\n",
        "from nltk.corpus import stopwords\n",
        "from nltk.stem import WordNetLemmatizer\n",
        "\n",
        "# Visualization packages\n",
        "%matplotlib inline\n",
        "import matplotlib as mpl\n",
        "import matplotlib.pyplot as plt\n",
        "mpl.rc('axes', labelsize=16)\n",
        "mpl.rc('xtick', labelsize=14)\n",
        "mpl.rc('ytick', labelsize=14)\n",
        "\n",
        "# Machine Learning packages\n",
        "from sklearn.model_selection import StratifiedKFold\n",
        "from sklearn.model_selection import StratifiedShuffleSplit\n",
        "from sklearn.metrics import f1_score\n",
        "import pickle\n",
        "\n",
        "# Aesthetic setting\n",
        "pd.set_option(\"display.max_columns\", None)\n",
        "import warnings\n",
        "warnings.filterwarnings('ignore')\n",
        "\n",
        "# Reproducibility setting\n",
        "np.random.seed(2020)\n",
        "tf.random.set_seed(2020)\n",
        "random_state = 2020\n",
        "\n",
        "# Set up path to local Google Drive\n",
        "from google.colab import drive\n",
        "drive.mount('/content/drive')"
      ],
      "execution_count": 1,
      "outputs": [
        {
          "output_type": "stream",
          "text": [
            "[nltk_data] Downloading package punkt to /root/nltk_data...\n",
            "[nltk_data]   Unzipping tokenizers/punkt.zip.\n",
            "[nltk_data] Downloading package wordnet to /root/nltk_data...\n",
            "[nltk_data]   Unzipping corpora/wordnet.zip.\n",
            "[nltk_data] Downloading package stopwords to /root/nltk_data...\n",
            "[nltk_data]   Unzipping corpora/stopwords.zip.\n",
            "Mounted at /content/drive\n"
          ],
          "name": "stdout"
        }
      ]
    },
    {
      "cell_type": "markdown",
      "metadata": {
        "id": "zAKUUzLzn1pV"
      },
      "source": [
        "<a id='1'></a>\n",
        "## 1 Preparing the data"
      ]
    },
    {
      "cell_type": "markdown",
      "metadata": {
        "id": "cyVb5xgQoEgx"
      },
      "source": [
        "<a id='1.1'></a>\n",
        "### 1.1 Loading the data\n",
        "\n",
        "**Note**: Assume `/content/drive/MyDrive/CS579_Projct_2/option1-data/train.csv` exists."
      ]
    },
    {
      "cell_type": "code",
      "metadata": {
        "colab": {
          "base_uri": "https://localhost:8080/"
        },
        "id": "-PWdCqkq7YXR",
        "outputId": "f4129174-c102-4436-86cc-7e5a3719bea4"
      },
      "source": [
        "# Define the base dir to local Google Drive\n",
        "BASE_PATH = \"/content/drive/MyDrive/CS579_Project_2/\"\n",
        "\n",
        "# Define base dir to local drive\n",
        "DATA_PATH = os.path.join(BASE_PATH, \"option1-data\")\n",
        "\n",
        "# Define dir to model dir to store training history\n",
        "MODEL_PATH = os.path.join(BASE_PATH, \"models\")\n",
        "\n",
        "# Create file paths if not extists\n",
        "os.makedirs(BASE_PATH, exist_ok=True)\n",
        "os.makedirs(DATA_PATH, exist_ok=True)\n",
        "os.makedirs(MODEL_PATH, exist_ok=True)\n",
        "\n",
        "# Define dir to train data\n",
        "TRAIN_DATA_PATH = os.path.join(DATA_PATH, \"train.csv\")\n",
        "\n",
        "print(\"train data path:\", TRAIN_DATA_PATH)"
      ],
      "execution_count": 2,
      "outputs": [
        {
          "output_type": "stream",
          "text": [
            "train data path: /content/drive/MyDrive/CS579_Project_2/option1-data/train.csv\n"
          ],
          "name": "stdout"
        }
      ]
    },
    {
      "cell_type": "code",
      "metadata": {
        "id": "mCvSAyIF7s0Y",
        "colab": {
          "base_uri": "https://localhost:8080/"
        },
        "outputId": "fcc543c2-b146-4553-fd4a-feb3ed43c9ea"
      },
      "source": [
        "# Load train data\n",
        "df_train = pd.read_csv(TRAIN_DATA_PATH)\n",
        "\n",
        "# Data quality check\n",
        "df_train.shape"
      ],
      "execution_count": 3,
      "outputs": [
        {
          "output_type": "execute_result",
          "data": {
            "text/plain": [
              "(256442, 6)"
            ]
          },
          "metadata": {
            "tags": []
          },
          "execution_count": 3
        }
      ]
    },
    {
      "cell_type": "markdown",
      "metadata": {
        "id": "CAJT-mZcoJhw"
      },
      "source": [
        "<a id='1.2'></a>\n",
        "### 1.2 Partitioning the data"
      ]
    },
    {
      "cell_type": "code",
      "metadata": {
        "id": "aYrynjH37vBe"
      },
      "source": [
        "# Split the train data into 75/25 train and validation set\n",
        "test_size= 0.25\n",
        "\n",
        "# Stratified random sampling\n",
        "split = StratifiedShuffleSplit(n_splits=1, test_size=test_size, random_state=random_state)\n",
        "for train_index, val_index in split.split(df_train, df_train['label']):\n",
        "    data_train = df_train.loc[train_index].copy().reset_index(drop=True)\n",
        "    data_val = df_train.loc[val_index].copy().reset_index(drop=True)"
      ],
      "execution_count": 4,
      "outputs": []
    },
    {
      "cell_type": "markdown",
      "metadata": {
        "id": "gvh0eu7Eochc"
      },
      "source": [
        "<a id='1.3'></a>\n",
        "### 1.3 Normalizing the text feature"
      ]
    },
    {
      "cell_type": "code",
      "metadata": {
        "id": "xktpjBmf72Nf"
      },
      "source": [
        "def normalize(text):\n",
        "    \"\"\"\n",
        "    Lowercase, tokenize, lemmatize, \n",
        "    remove stop and unwanted tokens. \n",
        "    \"\"\"\n",
        "    # Tokenization \n",
        "    lower_tokens = word_tokenize(text.lower())\n",
        "    \n",
        "    # Retain alphabetic words\n",
        "    alpha_tokens = [w for w in lower_tokens if w.isalpha()]\n",
        "    \n",
        "    # Create a lemmatizer object\n",
        "    wordnet_lemmatizer = WordNetLemmatizer()\n",
        "    \n",
        "    # Lemmatize all tokens\n",
        "    lemmatized = [wordnet_lemmatizer.lemmatize(w) for w in alpha_tokens]\n",
        "    \n",
        "    # Create a set of stop words\n",
        "    stop_words = set(stopwords.words('english'))\n",
        "    \n",
        "    # Remove stop words and word length less than 3\n",
        "    no_stops = [w for w in lemmatized if len(w) > 2 and w not in stop_words]\n",
        "    \n",
        "    return ' '.join(no_stops)"
      ],
      "execution_count": 5,
      "outputs": []
    },
    {
      "cell_type": "code",
      "metadata": {
        "id": "qCVX31jRkGJg"
      },
      "source": [
        "def normalize_sequences(data, normalize=normalize):\n",
        "    \"\"\"\n",
        "    Combine the normalize title 1 & 2 into one column.\n",
        "    \"\"\"\n",
        "    # Normalize title 1 & 2 columns\n",
        "    data['title1_en_normalized'] = data['title1_en'].map(normalize)\n",
        "    data['title2_en_normalized'] = data['title2_en'].map(normalize)\n",
        "\n",
        "    # Combine train normalized title 1 & 2 columns into one column\n",
        "    data['title_1_2_normalized'] = \\\n",
        "        data['title1_en_normalized'].str.cat(data['title2_en_normalized'], sep=\" \")\n",
        "\n",
        "    return data.drop(columns=['id', 'tid1', 'tid2'], axis=1)"
      ],
      "execution_count": 6,
      "outputs": []
    },
    {
      "cell_type": "code",
      "metadata": {
        "id": "j0FDxK7Z76at"
      },
      "source": [
        "# Normalize train data\n",
        "data_train = normalize_sequences(data_train)\n",
        "\n",
        "# Normalize validation data\n",
        "data_val = normalize_sequences(data_val)"
      ],
      "execution_count": 7,
      "outputs": []
    },
    {
      "cell_type": "markdown",
      "metadata": {
        "id": "iB3cqGQZpyeB"
      },
      "source": [
        "<a id='1.4'></a>\n",
        "### 1.4 Vectorizing the text feature"
      ]
    },
    {
      "cell_type": "code",
      "metadata": {
        "id": "bbm5L2860T9O"
      },
      "source": [
        "def create_tokenizer(data, num_words):\n",
        "    \"\"\"\n",
        "    Create a vectorizer with vocabulary size of num_words.\n",
        "    \"\"\"\n",
        "    # Create a tokenizer object\n",
        "    tokenizer = tf.keras.preprocessing.text.Tokenizer(num_words=num_words, lower=False)\n",
        "    # Fit the tokenizer on train text\n",
        "    tokenizer.fit_on_texts(data['title_1_2_normalized'].values)\n",
        "\n",
        "    return tokenizer"
      ],
      "execution_count": 8,
      "outputs": []
    },
    {
      "cell_type": "code",
      "metadata": {
        "id": "8aBSzESPFAJJ"
      },
      "source": [
        "def vectorize_sequences(data, tokenizer, max_length):\n",
        "    \"\"\"\n",
        "    Vectorize data.\n",
        "    \"\"\"\n",
        "    # Transform text to a sequence of integers\n",
        "    sequence = tokenizer.texts_to_sequences(data['title_1_2_normalized'].values)\n",
        "    # Pad the sequence with 0\n",
        "    X = tf.keras.preprocessing.sequence.pad_sequences(sequence, max_length)\n",
        "\n",
        "    return X"
      ],
      "execution_count": 9,
      "outputs": []
    },
    {
      "cell_type": "code",
      "metadata": {
        "id": "MnLC2r4Q8Rwu",
        "colab": {
          "base_uri": "https://localhost:8080/"
        },
        "outputId": "bf18b01b-8d08-4e88-96f7-967d14bfbd76"
      },
      "source": [
        "# Max number of words\n",
        "num_words = 2000\n",
        "\n",
        "# Create a tokenizer\n",
        "tokenizer = create_tokenizer(data_train, num_words)\n",
        "\n",
        "# Sequece length\n",
        "max_length = 2**7\n",
        "\n",
        "# Vectorize train data\n",
        "X_train = vectorize_sequences(data_train, tokenizer, max_length)\n",
        "\n",
        "# Vectorize validation data\n",
        "X_val = vectorize_sequences(data_val, tokenizer, max_length)\n",
        "\n",
        "# Data quality check\n",
        "X_train.shape == (data_train.shape[0], max_length)\n",
        "X_val.shape == (data_val.shape[0], max_length)"
      ],
      "execution_count": 10,
      "outputs": [
        {
          "output_type": "execute_result",
          "data": {
            "text/plain": [
              "True"
            ]
          },
          "metadata": {
            "tags": []
          },
          "execution_count": 10
        }
      ]
    },
    {
      "cell_type": "markdown",
      "metadata": {
        "id": "1Yr7ppKHwa9H"
      },
      "source": [
        "<a id='1.5'></a>\n",
        "### 1.5 Encoding the categorical `label`\n",
        "\n"
      ]
    },
    {
      "cell_type": "code",
      "metadata": {
        "id": "UZorxq6-qFZT"
      },
      "source": [
        "def to_one_hot(data, num_classes, lab_2_int):\n",
        "    \"\"\"\n",
        "    One-hot encode labels.\n",
        "    \"\"\"\n",
        "    y = data['label'].map(lab_2_int)\n",
        "    y_one_hot = tf.keras.utils.to_categorical(y, num_classes)\n",
        "\n",
        "    return y, y_one_hot"
      ],
      "execution_count": 11,
      "outputs": []
    },
    {
      "cell_type": "code",
      "metadata": {
        "id": "T9Ofybuz8ELl",
        "colab": {
          "base_uri": "https://localhost:8080/"
        },
        "outputId": "3f985c61-8440-4e94-99d8-5ad2ee90bc73"
      },
      "source": [
        "# Get target names\n",
        "target_names = data_train.label.unique().tolist()\n",
        "print(target_names)\n",
        "\n",
        "# unrelated -> 0, agreed -> 1, disagreed -> 2\n",
        "lab_2_int = dict(zip(target_names, range(3)))\n",
        "print(lab_2_int)\n",
        "\n",
        "# unrelated <- 0, agreed <- 1, disagreed <- 2\n",
        "int_2_lab = dict(zip(lab_2_int.values(), lab_2_int.keys()))\n",
        "print(int_2_lab)\n",
        "\n",
        "# Encode train label\n",
        "num_classes = len(target_names)\n",
        "y_train, y_train_one_hot = to_one_hot(data_train, num_classes, lab_2_int)\n",
        "\n",
        "# Encode validation label\n",
        "y_val, y_val_one_hot = to_one_hot(data_val, num_classes, lab_2_int)\n",
        "\n",
        "# Data quality check\n",
        "y_train_one_hot.shape == (y_train.shape[0], num_classes)\n",
        "y_val_one_hot.shape == (y_val.shape[0], num_classes)"
      ],
      "execution_count": 12,
      "outputs": [
        {
          "output_type": "stream",
          "text": [
            "['unrelated', 'agreed', 'disagreed']\n",
            "{'unrelated': 0, 'agreed': 1, 'disagreed': 2}\n",
            "{0: 'unrelated', 1: 'agreed', 2: 'disagreed'}\n"
          ],
          "name": "stdout"
        },
        {
          "output_type": "execute_result",
          "data": {
            "text/plain": [
              "True"
            ]
          },
          "metadata": {
            "tags": []
          },
          "execution_count": 12
        }
      ]
    },
    {
      "cell_type": "markdown",
      "metadata": {
        "id": "b3_OMP4ZzEAz"
      },
      "source": [
        "<a id='2'></a>\n",
        "## 2 Modeling the data"
      ]
    },
    {
      "cell_type": "code",
      "metadata": {
        "id": "vWiIB_yK9f6E"
      },
      "source": [
        "def kfold_cross_validation(X, y_one_hot, y,\n",
        "                           num_words,\n",
        "                           embedding_size,\n",
        "                           lstm_units,\n",
        "                           num_output=3,\n",
        "                           n_splits=3,\n",
        "                           target_names=['unrelated', 'agreed', 'disagreed']):\n",
        "    \"\"\"\n",
        "    Calculate f1-score using K-fold cross-validation.\n",
        "    \"\"\"\n",
        "    # Create stratified K-fold cross-validator\n",
        "    skf = StratifiedKFold(n_splits=n_splits, random_state=None)\n",
        "    # Store K-fold f1-score\n",
        "    k_f1 = np.array([0.0] * len(target_names))\n",
        "    # Counter for K\n",
        "    K = 0\n",
        "    for train_index, test_index in skf.split(X, y):\n",
        "        # Extract train and test data\n",
        "        X_train = X[train_index]\n",
        "        y_train = y[train_index]\n",
        "        X_test = X[test_index]\n",
        "        y_test = y[test_index]\n",
        "        # Define a sequential model architecture\n",
        "        model = tf.keras.Sequential()\n",
        "        model.add(tf.keras.layers.Embedding(num_words, embedding_size, input_length=max_length))\n",
        "        model.add(tf.keras.layers.LSTM(lstm_units))\n",
        "        model.add(tf.keras.layers.Dense(num_output, activation='softmax'))\n",
        "        model.compile(loss='categorical_crossentropy', optimizer='adam', metrics=['accuracy'])\n",
        "        # Fit the model\n",
        "        model.fit(X, y_one_hot,\n",
        "                  batch_size=128,\n",
        "                  epochs=6,\n",
        "                  verbose=0)\n",
        "        # Predict label\n",
        "        y_pred = model.predict(X_test)\n",
        "        y_pred = [np.argmax(y_hat) for y_hat in y_pred]\n",
        "        # Calculate f1-score\n",
        "        f1 = f1_score(y_test, y_pred, average=None)\n",
        "        f1 = f1.round(2)\n",
        "        k_f1 += f1\n",
        "        K += 1\n",
        "        # Print report\n",
        "        print(\"Fold {} f1-score {}:{} {}:{} {}:{}\".format(K,\n",
        "            target_names[0], f1[0],\n",
        "            target_names[1], f1[1],\n",
        "            target_names[2], f1[2]))\n",
        "    k_f1 = (k_f1 / n_splits).round(2)\n",
        "    print(\"Avg. f1-score {}:{} {}:{} {}:{}\".format(\n",
        "        target_names[0], k_f1[0],\n",
        "        target_names[1], k_f1[1],\n",
        "        target_names[2], k_f1[2]))\n",
        "    return k_f1"
      ],
      "execution_count": 13,
      "outputs": []
    },
    {
      "cell_type": "code",
      "metadata": {
        "id": "JPrM1irqqthd"
      },
      "source": [
        "def train_lstm(X_train, y_train_one_hot,\n",
        "               X_val, y_val_one_hot,\n",
        "               max_features, \n",
        "               embedding_size,\n",
        "               max_length, \n",
        "               lstm_units,\n",
        "               model_name,\n",
        "               bidirection=False,\n",
        "               add_layer=False,\n",
        "               num_output=3, \n",
        "               epochs=15,\n",
        "               verbose=1,\n",
        "               batch_size=128,\n",
        "               model_path=MODEL_PATH):\n",
        "    \"\"\"\n",
        "    Define model architecture.\n",
        "    Complile the defined model.\n",
        "    Train the model with early stopping.\n",
        "    \"\"\"\n",
        "    # Define a sequential model architecture\n",
        "    model = tf.keras.Sequential()\n",
        "    model.add(tf.keras.layers.Embedding(max_features, embedding_size, input_length=max_length))\n",
        "    if bidirection:\n",
        "        model.add(tf.keras.layers.Bidirectional(tf.keras.layers.LSTM(lstm_units)))\n",
        "    elif add_layer:\n",
        "        model.add(tf.keras.layers.LSTM(lstm_units, return_sequences=True))\n",
        "        model.add(tf.keras.layers.LSTM(lstm_units))\n",
        "    else:\n",
        "        model.add(tf.keras.layers.LSTM(lstm_units))\n",
        "    model.add(tf.keras.layers.Dense(num_output, activation='softmax'))\n",
        "\n",
        "    # Compile the model\n",
        "    model.compile(loss='categorical_crossentropy', optimizer='adam', metrics=['accuracy'])\n",
        "    model.summary()\n",
        "\n",
        "    # Train the model with early stopping\n",
        "    model_name = os.path.join(model_path, model_name)\n",
        "    checkpoint = tf.keras.callbacks.ModelCheckpoint(model_name, \n",
        "                                                    monitor='val_accuracy',\n",
        "                                                    mode='max',\n",
        "                                                    save_best_only=True)\n",
        "    callback = tf.keras.callbacks.EarlyStopping(monitor='val_accuracy', \n",
        "                                                mode='max', \n",
        "                                                patience=2, \n",
        "                                                restore_best_weights=True)\n",
        "    history = model.fit(X_train, y_train_one_hot,\n",
        "                        batch_size=batch_size,\n",
        "                        epochs=epochs,\n",
        "                        validation_data=(X_val, y_val_one_hot),\n",
        "                        callbacks=[callback, checkpoint],\n",
        "                        verbose=verbose)\n",
        "    return history, model"
      ],
      "execution_count": 14,
      "outputs": []
    },
    {
      "cell_type": "code",
      "metadata": {
        "id": "iBLXuyBAlsgn"
      },
      "source": [
        "def predict_lstm(model, X, y):\n",
        "    \"\"\"\n",
        "    Calculate the f1 score on categories of label.\n",
        "    \"\"\"\n",
        "    y_pred = model.predict(X)\n",
        "    y_pred = [np.argmax(y_hat) for y_hat in y_pred]\n",
        "    return (f1_score(y, y_pred, average=None)).round(2).tolist()"
      ],
      "execution_count": 15,
      "outputs": []
    },
    {
      "cell_type": "code",
      "metadata": {
        "id": "V6sWkxEY3zNG"
      },
      "source": [
        "def store_score(df, score):\n",
        "    \"\"\"\n",
        "    Store model params and f1 scores into a dataframe.\n",
        "    \"\"\"\n",
        "    to_append = pd.Series(score, index=df.columns)\n",
        "    return df.append(to_append, ignore_index=True)"
      ],
      "execution_count": 16,
      "outputs": []
    },
    {
      "cell_type": "code",
      "metadata": {
        "id": "3zSdEg1-m9wJ"
      },
      "source": [
        "def tune_hyperparams(X_train, \n",
        "                     y_train_one_hot,\n",
        "                     X_val, \n",
        "                     y_val_one_hot, \n",
        "                     y_val,\n",
        "                     num_words, \n",
        "                     embedding_size,\n",
        "                     max_length, \n",
        "                     lstm_units,\n",
        "                     model_name, \n",
        "                     layer_name, \n",
        "                     num_layers, \n",
        "                     bidirection=False, \n",
        "                     add_layer=False,\n",
        "                     model_path=MODEL_PATH,\n",
        "                     train_lstm=train_lstm,\n",
        "                     predict_lstm=predict_lstm):\n",
        "    \"\"\"\n",
        "    Tune the hyperparamers of a model.\n",
        "    \"\"\"\n",
        "    # Train the model\n",
        "    model_name = os.path.join(model_path, model_name + '.h5')\n",
        "    hist, model = train_lstm(X_train, y_train_one_hot, \n",
        "                              X_val, y_val_one_hot,\n",
        "                              num_words,\n",
        "                              embedding_size,\n",
        "                              max_length,\n",
        "                              lstm_units,\n",
        "                              model_name,\n",
        "                              bidirection,\n",
        "                              add_layer)\n",
        "\n",
        "    # Calculate f1 score on validation set\n",
        "    res = predict_lstm(model, X_val, y_val)\n",
        "\n",
        "    # Store params and f1 score into a dataframe\n",
        "    if bidirection:\n",
        "      lstm_units *= 2\n",
        "      layer_name = \"Bi-LSTM\"\n",
        "    if add_layer:\n",
        "      num_layers *= 2\n",
        "    # Create hyperparameter values entry\n",
        "    res = [num_words, max_length, embedding_size, lstm_units, layer_name, num_layers] + res\n",
        "\n",
        "    return [hist, model, res]"
      ],
      "execution_count": 17,
      "outputs": []
    },
    {
      "cell_type": "code",
      "metadata": {
        "id": "JKBZCseQ99uu"
      },
      "source": [
        "# Set up model params\n",
        "embedding_size = 2**6\n",
        "lstm_units = 2**5"
      ],
      "execution_count": 18,
      "outputs": []
    },
    {
      "cell_type": "code",
      "metadata": {
        "id": "DxuTMt95QWMT",
        "colab": {
          "base_uri": "https://localhost:8080/"
        },
        "outputId": "55663f2d-b5be-4686-8721-b3b2a541c0b9"
      },
      "source": [
        "# Cross validate the model on train data\n",
        "res = kfold_cross_validation(X_train, y_train_one_hot, y_train, \n",
        "                             num_words, embedding_size, lstm_units)\n",
        "res"
      ],
      "execution_count": 19,
      "outputs": [
        {
          "output_type": "stream",
          "text": [
            "Fold 1 f1-score unrelated:0.89 agreed:0.75 disagreed:0.45\n",
            "Fold 2 f1-score unrelated:0.89 agreed:0.74 disagreed:0.48\n",
            "Fold 3 f1-score unrelated:0.89 agreed:0.76 disagreed:0.48\n",
            "Avg. f1-score unrelated:0.89 agreed:0.75 disagreed:0.47\n"
          ],
          "name": "stdout"
        },
        {
          "output_type": "execute_result",
          "data": {
            "text/plain": [
              "array([0.89, 0.75, 0.47])"
            ]
          },
          "metadata": {
            "tags": []
          },
          "execution_count": 19
        }
      ]
    },
    {
      "cell_type": "markdown",
      "metadata": {
        "id": "CHNt0_Vz_2JP"
      },
      "source": [
        "<a id='3'></a>\n",
        "## 3 Fine-tuning model hyperparameters\n"
      ]
    },
    {
      "cell_type": "markdown",
      "metadata": {
        "id": "zSXNzka7prkZ"
      },
      "source": [
        "<a id='3.1'></a>\n",
        "### 3.1 Starting with baseline LSTM model"
      ]
    },
    {
      "cell_type": "code",
      "metadata": {
        "id": "HEuh2JdGuNTk"
      },
      "source": [
        "# A dict to store the train hist, model and score\n",
        "hist_dict = {}\n",
        "\n",
        "# A dataframe to score f1 score \n",
        "scores = pd.DataFrame(\n",
        "    columns=[\n",
        "             'vocabulary', 'sequence', 'embedding', \n",
        "             'units', 'layer', 'n_lyaer', 'unrelated', \n",
        "             'agreed', 'disagreed'])"
      ],
      "execution_count": 20,
      "outputs": []
    },
    {
      "cell_type": "code",
      "metadata": {
        "id": "dmW1CJkLpvIi",
        "colab": {
          "base_uri": "https://localhost:8080/",
          "height": 842
        },
        "outputId": "bcaf776d-d986-47ba-ab25-36236f11b4e5"
      },
      "source": [
        "# Pamas to tune the model\n",
        "model_name = \"mod_2_7_6_5\"\n",
        "layer_name = \"LSTM\"\n",
        "num_layers = 1\n",
        "\n",
        "# Tune the model\n",
        "hist_dict[model_name] = tune_hyperparams(X_train, y_train_one_hot,\n",
        "                                         X_val, y_val_one_hot, y_val,\n",
        "                                         num_words, embedding_size, max_length, \n",
        "                                         lstm_units, model_name, layer_name, num_layers)\n",
        "\n",
        "# Show f1 score by labels\n",
        "scores = store_score(scores, hist_dict[model_name][2])\n",
        "scores"
      ],
      "execution_count": 21,
      "outputs": [
        {
          "output_type": "stream",
          "text": [
            "Model: \"sequential_3\"\n",
            "_________________________________________________________________\n",
            "Layer (type)                 Output Shape              Param #   \n",
            "=================================================================\n",
            "embedding_3 (Embedding)      (None, 128, 64)           128000    \n",
            "_________________________________________________________________\n",
            "lstm_3 (LSTM)                (None, 32)                12416     \n",
            "_________________________________________________________________\n",
            "dense_3 (Dense)              (None, 3)                 99        \n",
            "=================================================================\n",
            "Total params: 140,515\n",
            "Trainable params: 140,515\n",
            "Non-trainable params: 0\n",
            "_________________________________________________________________\n",
            "Epoch 1/15\n",
            "1503/1503 [==============================] - 18s 12ms/step - loss: 0.5630 - accuracy: 0.7345 - val_loss: 0.5172 - val_accuracy: 0.7558\n",
            "Epoch 2/15\n",
            "1503/1503 [==============================] - 16s 11ms/step - loss: 0.4942 - accuracy: 0.7655 - val_loss: 0.4891 - val_accuracy: 0.7695\n",
            "Epoch 3/15\n",
            "1503/1503 [==============================] - 16s 11ms/step - loss: 0.4631 - accuracy: 0.7844 - val_loss: 0.4763 - val_accuracy: 0.7789\n",
            "Epoch 4/15\n",
            "1503/1503 [==============================] - 16s 11ms/step - loss: 0.4363 - accuracy: 0.7994 - val_loss: 0.4646 - val_accuracy: 0.7875\n",
            "Epoch 5/15\n",
            "1503/1503 [==============================] - 16s 11ms/step - loss: 0.4124 - accuracy: 0.8131 - val_loss: 0.4535 - val_accuracy: 0.7953\n",
            "Epoch 6/15\n",
            "1503/1503 [==============================] - 16s 11ms/step - loss: 0.3911 - accuracy: 0.8252 - val_loss: 0.4471 - val_accuracy: 0.7996\n",
            "Epoch 7/15\n",
            "1503/1503 [==============================] - 16s 11ms/step - loss: 0.3721 - accuracy: 0.8355 - val_loss: 0.4474 - val_accuracy: 0.8028\n",
            "Epoch 8/15\n",
            "1503/1503 [==============================] - 16s 10ms/step - loss: 0.3545 - accuracy: 0.8448 - val_loss: 0.4493 - val_accuracy: 0.8010\n",
            "Epoch 9/15\n",
            "1503/1503 [==============================] - 16s 11ms/step - loss: 0.3378 - accuracy: 0.8538 - val_loss: 0.4484 - val_accuracy: 0.8065\n",
            "Epoch 10/15\n",
            "1503/1503 [==============================] - 16s 10ms/step - loss: 0.3212 - accuracy: 0.8621 - val_loss: 0.4675 - val_accuracy: 0.8058\n",
            "Epoch 11/15\n",
            "1503/1503 [==============================] - 16s 11ms/step - loss: 0.3067 - accuracy: 0.8695 - val_loss: 0.4605 - val_accuracy: 0.8080\n",
            "Epoch 12/15\n",
            "1503/1503 [==============================] - 16s 10ms/step - loss: 0.2917 - accuracy: 0.8764 - val_loss: 0.4707 - val_accuracy: 0.8072\n",
            "Epoch 13/15\n",
            "1503/1503 [==============================] - 16s 11ms/step - loss: 0.2781 - accuracy: 0.8835 - val_loss: 0.4812 - val_accuracy: 0.8090\n",
            "Epoch 14/15\n",
            "1503/1503 [==============================] - 16s 10ms/step - loss: 0.2641 - accuracy: 0.8903 - val_loss: 0.4875 - val_accuracy: 0.8077\n",
            "Epoch 15/15\n",
            "1503/1503 [==============================] - 16s 10ms/step - loss: 0.2514 - accuracy: 0.8959 - val_loss: 0.5093 - val_accuracy: 0.8054\n"
          ],
          "name": "stdout"
        },
        {
          "output_type": "execute_result",
          "data": {
            "text/html": [
              "<div>\n",
              "<style scoped>\n",
              "    .dataframe tbody tr th:only-of-type {\n",
              "        vertical-align: middle;\n",
              "    }\n",
              "\n",
              "    .dataframe tbody tr th {\n",
              "        vertical-align: top;\n",
              "    }\n",
              "\n",
              "    .dataframe thead th {\n",
              "        text-align: right;\n",
              "    }\n",
              "</style>\n",
              "<table border=\"1\" class=\"dataframe\">\n",
              "  <thead>\n",
              "    <tr style=\"text-align: right;\">\n",
              "      <th></th>\n",
              "      <th>vocabulary</th>\n",
              "      <th>sequence</th>\n",
              "      <th>embedding</th>\n",
              "      <th>units</th>\n",
              "      <th>layer</th>\n",
              "      <th>n_lyaer</th>\n",
              "      <th>unrelated</th>\n",
              "      <th>agreed</th>\n",
              "      <th>disagreed</th>\n",
              "    </tr>\n",
              "  </thead>\n",
              "  <tbody>\n",
              "    <tr>\n",
              "      <th>0</th>\n",
              "      <td>2000</td>\n",
              "      <td>128</td>\n",
              "      <td>64</td>\n",
              "      <td>32</td>\n",
              "      <td>LSTM</td>\n",
              "      <td>1</td>\n",
              "      <td>0.87</td>\n",
              "      <td>0.69</td>\n",
              "      <td>0.43</td>\n",
              "    </tr>\n",
              "  </tbody>\n",
              "</table>\n",
              "</div>"
            ],
            "text/plain": [
              "  vocabulary sequence embedding units layer n_lyaer  unrelated  agreed  \\\n",
              "0       2000      128        64    32  LSTM       1       0.87    0.69   \n",
              "\n",
              "   disagreed  \n",
              "0       0.43  "
            ]
          },
          "metadata": {
            "tags": []
          },
          "execution_count": 21
        }
      ]
    },
    {
      "cell_type": "markdown",
      "metadata": {
        "id": "YM5oYHnYlbE4"
      },
      "source": [
        "#### Increasing embedding size"
      ]
    },
    {
      "cell_type": "code",
      "metadata": {
        "id": "cMOE0-VWlJI6",
        "colab": {
          "base_uri": "https://localhost:8080/",
          "height": 769
        },
        "outputId": "39f945ba-0ba3-432d-bab8-ee74cedb7abf"
      },
      "source": [
        "# Pamas to tune the model\n",
        "model_name = \"mod_2_7_7_5\"\n",
        "embedding_size *= 2\n",
        "\n",
        "# Tune the model\n",
        "hist_dict[model_name] = tune_hyperparams(X_train, y_train_one_hot,\n",
        "                                         X_val, y_val_one_hot, y_val,\n",
        "                                         num_words, embedding_size, max_length, \n",
        "                                         lstm_units, model_name, layer_name, num_layers)\n",
        "\n",
        "# Show f1 score by labels\n",
        "scores = store_score(scores, hist_dict[model_name][2])\n",
        "scores"
      ],
      "execution_count": 22,
      "outputs": [
        {
          "output_type": "stream",
          "text": [
            "Model: \"sequential_4\"\n",
            "_________________________________________________________________\n",
            "Layer (type)                 Output Shape              Param #   \n",
            "=================================================================\n",
            "embedding_4 (Embedding)      (None, 128, 128)          256000    \n",
            "_________________________________________________________________\n",
            "lstm_4 (LSTM)                (None, 32)                20608     \n",
            "_________________________________________________________________\n",
            "dense_4 (Dense)              (None, 3)                 99        \n",
            "=================================================================\n",
            "Total params: 276,707\n",
            "Trainable params: 276,707\n",
            "Non-trainable params: 0\n",
            "_________________________________________________________________\n",
            "Epoch 1/15\n",
            "1503/1503 [==============================] - 21s 14ms/step - loss: 0.5533 - accuracy: 0.7369 - val_loss: 0.5095 - val_accuracy: 0.7584\n",
            "Epoch 2/15\n",
            "1503/1503 [==============================] - 19s 13ms/step - loss: 0.4800 - accuracy: 0.7750 - val_loss: 0.4742 - val_accuracy: 0.7778\n",
            "Epoch 3/15\n",
            "1503/1503 [==============================] - 20s 13ms/step - loss: 0.4380 - accuracy: 0.7996 - val_loss: 0.4565 - val_accuracy: 0.7906\n",
            "Epoch 4/15\n",
            "1503/1503 [==============================] - 20s 13ms/step - loss: 0.4053 - accuracy: 0.8181 - val_loss: 0.4551 - val_accuracy: 0.7962\n",
            "Epoch 5/15\n",
            "1503/1503 [==============================] - 20s 13ms/step - loss: 0.3788 - accuracy: 0.8332 - val_loss: 0.4477 - val_accuracy: 0.8032\n",
            "Epoch 6/15\n",
            "1503/1503 [==============================] - 20s 13ms/step - loss: 0.3542 - accuracy: 0.8467 - val_loss: 0.4417 - val_accuracy: 0.8062\n",
            "Epoch 7/15\n",
            "1503/1503 [==============================] - 20s 13ms/step - loss: 0.3322 - accuracy: 0.8574 - val_loss: 0.4474 - val_accuracy: 0.8074\n",
            "Epoch 8/15\n",
            "1503/1503 [==============================] - 20s 13ms/step - loss: 0.3125 - accuracy: 0.8669 - val_loss: 0.4515 - val_accuracy: 0.8076\n",
            "Epoch 9/15\n",
            "1503/1503 [==============================] - 20s 13ms/step - loss: 0.2938 - accuracy: 0.8764 - val_loss: 0.4615 - val_accuracy: 0.8118\n",
            "Epoch 10/15\n",
            "1503/1503 [==============================] - 20s 13ms/step - loss: 0.2762 - accuracy: 0.8851 - val_loss: 0.4739 - val_accuracy: 0.8138\n",
            "Epoch 11/15\n",
            "1503/1503 [==============================] - 19s 13ms/step - loss: 0.2597 - accuracy: 0.8924 - val_loss: 0.4871 - val_accuracy: 0.8125\n",
            "Epoch 12/15\n",
            "1503/1503 [==============================] - 19s 13ms/step - loss: 0.2431 - accuracy: 0.8999 - val_loss: 0.5006 - val_accuracy: 0.8134\n"
          ],
          "name": "stdout"
        },
        {
          "output_type": "execute_result",
          "data": {
            "text/html": [
              "<div>\n",
              "<style scoped>\n",
              "    .dataframe tbody tr th:only-of-type {\n",
              "        vertical-align: middle;\n",
              "    }\n",
              "\n",
              "    .dataframe tbody tr th {\n",
              "        vertical-align: top;\n",
              "    }\n",
              "\n",
              "    .dataframe thead th {\n",
              "        text-align: right;\n",
              "    }\n",
              "</style>\n",
              "<table border=\"1\" class=\"dataframe\">\n",
              "  <thead>\n",
              "    <tr style=\"text-align: right;\">\n",
              "      <th></th>\n",
              "      <th>vocabulary</th>\n",
              "      <th>sequence</th>\n",
              "      <th>embedding</th>\n",
              "      <th>units</th>\n",
              "      <th>layer</th>\n",
              "      <th>n_lyaer</th>\n",
              "      <th>unrelated</th>\n",
              "      <th>agreed</th>\n",
              "      <th>disagreed</th>\n",
              "    </tr>\n",
              "  </thead>\n",
              "  <tbody>\n",
              "    <tr>\n",
              "      <th>0</th>\n",
              "      <td>2000</td>\n",
              "      <td>128</td>\n",
              "      <td>64</td>\n",
              "      <td>32</td>\n",
              "      <td>LSTM</td>\n",
              "      <td>1</td>\n",
              "      <td>0.87</td>\n",
              "      <td>0.69</td>\n",
              "      <td>0.43</td>\n",
              "    </tr>\n",
              "    <tr>\n",
              "      <th>1</th>\n",
              "      <td>2000</td>\n",
              "      <td>128</td>\n",
              "      <td>128</td>\n",
              "      <td>32</td>\n",
              "      <td>LSTM</td>\n",
              "      <td>1</td>\n",
              "      <td>0.87</td>\n",
              "      <td>0.71</td>\n",
              "      <td>0.42</td>\n",
              "    </tr>\n",
              "  </tbody>\n",
              "</table>\n",
              "</div>"
            ],
            "text/plain": [
              "  vocabulary sequence embedding units layer n_lyaer  unrelated  agreed  \\\n",
              "0       2000      128        64    32  LSTM       1       0.87    0.69   \n",
              "1       2000      128       128    32  LSTM       1       0.87    0.71   \n",
              "\n",
              "   disagreed  \n",
              "0       0.43  \n",
              "1       0.42  "
            ]
          },
          "metadata": {
            "tags": []
          },
          "execution_count": 22
        }
      ]
    },
    {
      "cell_type": "markdown",
      "metadata": {
        "id": "zO6xHotFxm2T"
      },
      "source": [
        "#### Increasing LSTM units"
      ]
    },
    {
      "cell_type": "code",
      "metadata": {
        "id": "BaDbgHgYxmg6",
        "colab": {
          "base_uri": "https://localhost:8080/",
          "height": 799
        },
        "outputId": "e5baa70a-944d-4c61-fc04-fa43d5301a85"
      },
      "source": [
        "# Pamas to tune the model\n",
        "model_name = \"mod_2_7_7_6\"\n",
        "lstm_units *= 2\n",
        "\n",
        "# Tune the model\n",
        "hist_dict[model_name] = tune_hyperparams(X_train, y_train_one_hot,\n",
        "                                         X_val, y_val_one_hot, y_val,\n",
        "                                         num_words, embedding_size, max_length, \n",
        "                                         lstm_units, model_name, layer_name, num_layers)\n",
        "\n",
        "# Show f1 score by labels\n",
        "scores = store_score(scores, hist_dict[model_name][2])\n",
        "scores"
      ],
      "execution_count": 23,
      "outputs": [
        {
          "output_type": "stream",
          "text": [
            "Model: \"sequential_5\"\n",
            "_________________________________________________________________\n",
            "Layer (type)                 Output Shape              Param #   \n",
            "=================================================================\n",
            "embedding_5 (Embedding)      (None, 128, 128)          256000    \n",
            "_________________________________________________________________\n",
            "lstm_5 (LSTM)                (None, 64)                49408     \n",
            "_________________________________________________________________\n",
            "dense_5 (Dense)              (None, 3)                 195       \n",
            "=================================================================\n",
            "Total params: 305,603\n",
            "Trainable params: 305,603\n",
            "Non-trainable params: 0\n",
            "_________________________________________________________________\n",
            "Epoch 1/15\n",
            "1503/1503 [==============================] - 22s 14ms/step - loss: 0.5530 - accuracy: 0.7348 - val_loss: 0.5110 - val_accuracy: 0.7551\n",
            "Epoch 2/15\n",
            "1503/1503 [==============================] - 21s 14ms/step - loss: 0.4835 - accuracy: 0.7708 - val_loss: 0.4807 - val_accuracy: 0.7722\n",
            "Epoch 3/15\n",
            "1503/1503 [==============================] - 21s 14ms/step - loss: 0.4434 - accuracy: 0.7955 - val_loss: 0.4580 - val_accuracy: 0.7881\n",
            "Epoch 4/15\n",
            "1503/1503 [==============================] - 21s 14ms/step - loss: 0.4105 - accuracy: 0.8148 - val_loss: 0.4545 - val_accuracy: 0.7955\n",
            "Epoch 5/15\n",
            "1503/1503 [==============================] - 21s 14ms/step - loss: 0.3817 - accuracy: 0.8317 - val_loss: 0.4422 - val_accuracy: 0.8058\n",
            "Epoch 6/15\n",
            "1503/1503 [==============================] - 21s 14ms/step - loss: 0.3552 - accuracy: 0.8454 - val_loss: 0.4338 - val_accuracy: 0.8081\n",
            "Epoch 7/15\n",
            "1503/1503 [==============================] - 21s 14ms/step - loss: 0.3304 - accuracy: 0.8579 - val_loss: 0.4403 - val_accuracy: 0.8109\n",
            "Epoch 8/15\n",
            "1503/1503 [==============================] - 21s 14ms/step - loss: 0.3067 - accuracy: 0.8701 - val_loss: 0.4460 - val_accuracy: 0.8120\n",
            "Epoch 9/15\n",
            "1503/1503 [==============================] - 21s 14ms/step - loss: 0.2838 - accuracy: 0.8811 - val_loss: 0.4497 - val_accuracy: 0.8131\n",
            "Epoch 10/15\n",
            "1503/1503 [==============================] - 21s 14ms/step - loss: 0.2620 - accuracy: 0.8902 - val_loss: 0.4703 - val_accuracy: 0.8167\n",
            "Epoch 11/15\n",
            "1503/1503 [==============================] - 21s 14ms/step - loss: 0.2414 - accuracy: 0.9009 - val_loss: 0.4950 - val_accuracy: 0.8160\n",
            "Epoch 12/15\n",
            "1503/1503 [==============================] - 21s 14ms/step - loss: 0.2201 - accuracy: 0.9103 - val_loss: 0.5210 - val_accuracy: 0.8156\n"
          ],
          "name": "stdout"
        },
        {
          "output_type": "execute_result",
          "data": {
            "text/html": [
              "<div>\n",
              "<style scoped>\n",
              "    .dataframe tbody tr th:only-of-type {\n",
              "        vertical-align: middle;\n",
              "    }\n",
              "\n",
              "    .dataframe tbody tr th {\n",
              "        vertical-align: top;\n",
              "    }\n",
              "\n",
              "    .dataframe thead th {\n",
              "        text-align: right;\n",
              "    }\n",
              "</style>\n",
              "<table border=\"1\" class=\"dataframe\">\n",
              "  <thead>\n",
              "    <tr style=\"text-align: right;\">\n",
              "      <th></th>\n",
              "      <th>vocabulary</th>\n",
              "      <th>sequence</th>\n",
              "      <th>embedding</th>\n",
              "      <th>units</th>\n",
              "      <th>layer</th>\n",
              "      <th>n_lyaer</th>\n",
              "      <th>unrelated</th>\n",
              "      <th>agreed</th>\n",
              "      <th>disagreed</th>\n",
              "    </tr>\n",
              "  </thead>\n",
              "  <tbody>\n",
              "    <tr>\n",
              "      <th>0</th>\n",
              "      <td>2000</td>\n",
              "      <td>128</td>\n",
              "      <td>64</td>\n",
              "      <td>32</td>\n",
              "      <td>LSTM</td>\n",
              "      <td>1</td>\n",
              "      <td>0.87</td>\n",
              "      <td>0.69</td>\n",
              "      <td>0.43</td>\n",
              "    </tr>\n",
              "    <tr>\n",
              "      <th>1</th>\n",
              "      <td>2000</td>\n",
              "      <td>128</td>\n",
              "      <td>128</td>\n",
              "      <td>32</td>\n",
              "      <td>LSTM</td>\n",
              "      <td>1</td>\n",
              "      <td>0.87</td>\n",
              "      <td>0.71</td>\n",
              "      <td>0.42</td>\n",
              "    </tr>\n",
              "    <tr>\n",
              "      <th>2</th>\n",
              "      <td>2000</td>\n",
              "      <td>128</td>\n",
              "      <td>128</td>\n",
              "      <td>64</td>\n",
              "      <td>LSTM</td>\n",
              "      <td>1</td>\n",
              "      <td>0.87</td>\n",
              "      <td>0.70</td>\n",
              "      <td>0.44</td>\n",
              "    </tr>\n",
              "  </tbody>\n",
              "</table>\n",
              "</div>"
            ],
            "text/plain": [
              "  vocabulary sequence embedding units layer n_lyaer  unrelated  agreed  \\\n",
              "0       2000      128        64    32  LSTM       1       0.87    0.69   \n",
              "1       2000      128       128    32  LSTM       1       0.87    0.71   \n",
              "2       2000      128       128    64  LSTM       1       0.87    0.70   \n",
              "\n",
              "   disagreed  \n",
              "0       0.43  \n",
              "1       0.42  \n",
              "2       0.44  "
            ]
          },
          "metadata": {
            "tags": []
          },
          "execution_count": 23
        }
      ]
    },
    {
      "cell_type": "markdown",
      "metadata": {
        "id": "q5C09d_a0JAM"
      },
      "source": [
        "#### Using bi-directional LSTM"
      ]
    },
    {
      "cell_type": "code",
      "metadata": {
        "id": "ObRbYWNP0Mdw",
        "colab": {
          "base_uri": "https://localhost:8080/",
          "height": 865
        },
        "outputId": "87e33baf-1d76-4f22-86da-0c6b84532b31"
      },
      "source": [
        "# Pamas to tune the model\n",
        "model_name = \"mod_2_7_7_6_bi\"\n",
        "bidirection = True\n",
        "\n",
        "# Tune the model\n",
        "hist_dict[model_name] = tune_hyperparams(X_train, y_train_one_hot,\n",
        "                                         X_val, y_val_one_hot, y_val,\n",
        "                                         num_words, embedding_size, max_length, \n",
        "                                         lstm_units, model_name, layer_name, \n",
        "                                         num_layers, bidirection)\n",
        "\n",
        "# Show f1 score by labels\n",
        "scores = store_score(scores, hist_dict[model_name][2])\n",
        "scores"
      ],
      "execution_count": 24,
      "outputs": [
        {
          "output_type": "stream",
          "text": [
            "Model: \"sequential_6\"\n",
            "_________________________________________________________________\n",
            "Layer (type)                 Output Shape              Param #   \n",
            "=================================================================\n",
            "embedding_6 (Embedding)      (None, 128, 128)          256000    \n",
            "_________________________________________________________________\n",
            "bidirectional (Bidirectional (None, 128)               98816     \n",
            "_________________________________________________________________\n",
            "dense_6 (Dense)              (None, 3)                 387       \n",
            "=================================================================\n",
            "Total params: 355,203\n",
            "Trainable params: 355,203\n",
            "Non-trainable params: 0\n",
            "_________________________________________________________________\n",
            "Epoch 1/15\n",
            "1503/1503 [==============================] - 33s 22ms/step - loss: 0.5485 - accuracy: 0.7356 - val_loss: 0.5080 - val_accuracy: 0.7565\n",
            "Epoch 2/15\n",
            "1503/1503 [==============================] - 32s 21ms/step - loss: 0.4811 - accuracy: 0.7735 - val_loss: 0.4806 - val_accuracy: 0.7724\n",
            "Epoch 3/15\n",
            "1503/1503 [==============================] - 32s 21ms/step - loss: 0.4420 - accuracy: 0.7973 - val_loss: 0.4571 - val_accuracy: 0.7896\n",
            "Epoch 4/15\n",
            "1503/1503 [==============================] - 33s 22ms/step - loss: 0.4090 - accuracy: 0.8156 - val_loss: 0.4525 - val_accuracy: 0.7981\n",
            "Epoch 5/15\n",
            "1503/1503 [==============================] - 33s 22ms/step - loss: 0.3790 - accuracy: 0.8327 - val_loss: 0.4460 - val_accuracy: 0.8038\n",
            "Epoch 6/15\n",
            "1503/1503 [==============================] - 32s 22ms/step - loss: 0.3516 - accuracy: 0.8467 - val_loss: 0.4402 - val_accuracy: 0.8081\n",
            "Epoch 7/15\n",
            "1503/1503 [==============================] - 33s 22ms/step - loss: 0.3266 - accuracy: 0.8598 - val_loss: 0.4442 - val_accuracy: 0.8099\n",
            "Epoch 8/15\n",
            "1503/1503 [==============================] - 32s 21ms/step - loss: 0.3027 - accuracy: 0.8716 - val_loss: 0.4543 - val_accuracy: 0.8097\n",
            "Epoch 9/15\n",
            "1503/1503 [==============================] - 32s 22ms/step - loss: 0.2795 - accuracy: 0.8830 - val_loss: 0.4571 - val_accuracy: 0.8129\n",
            "Epoch 10/15\n",
            "1503/1503 [==============================] - 32s 22ms/step - loss: 0.2570 - accuracy: 0.8938 - val_loss: 0.4845 - val_accuracy: 0.8143\n",
            "Epoch 11/15\n",
            "1503/1503 [==============================] - 32s 21ms/step - loss: 0.2363 - accuracy: 0.9028 - val_loss: 0.4993 - val_accuracy: 0.8146\n",
            "Epoch 12/15\n",
            "1503/1503 [==============================] - 32s 21ms/step - loss: 0.2153 - accuracy: 0.9123 - val_loss: 0.5320 - val_accuracy: 0.8144\n",
            "Epoch 13/15\n",
            "1503/1503 [==============================] - 32s 21ms/step - loss: 0.1967 - accuracy: 0.9213 - val_loss: 0.5547 - val_accuracy: 0.8117\n"
          ],
          "name": "stdout"
        },
        {
          "output_type": "execute_result",
          "data": {
            "text/html": [
              "<div>\n",
              "<style scoped>\n",
              "    .dataframe tbody tr th:only-of-type {\n",
              "        vertical-align: middle;\n",
              "    }\n",
              "\n",
              "    .dataframe tbody tr th {\n",
              "        vertical-align: top;\n",
              "    }\n",
              "\n",
              "    .dataframe thead th {\n",
              "        text-align: right;\n",
              "    }\n",
              "</style>\n",
              "<table border=\"1\" class=\"dataframe\">\n",
              "  <thead>\n",
              "    <tr style=\"text-align: right;\">\n",
              "      <th></th>\n",
              "      <th>vocabulary</th>\n",
              "      <th>sequence</th>\n",
              "      <th>embedding</th>\n",
              "      <th>units</th>\n",
              "      <th>layer</th>\n",
              "      <th>n_lyaer</th>\n",
              "      <th>unrelated</th>\n",
              "      <th>agreed</th>\n",
              "      <th>disagreed</th>\n",
              "    </tr>\n",
              "  </thead>\n",
              "  <tbody>\n",
              "    <tr>\n",
              "      <th>0</th>\n",
              "      <td>2000</td>\n",
              "      <td>128</td>\n",
              "      <td>64</td>\n",
              "      <td>32</td>\n",
              "      <td>LSTM</td>\n",
              "      <td>1</td>\n",
              "      <td>0.87</td>\n",
              "      <td>0.69</td>\n",
              "      <td>0.43</td>\n",
              "    </tr>\n",
              "    <tr>\n",
              "      <th>1</th>\n",
              "      <td>2000</td>\n",
              "      <td>128</td>\n",
              "      <td>128</td>\n",
              "      <td>32</td>\n",
              "      <td>LSTM</td>\n",
              "      <td>1</td>\n",
              "      <td>0.87</td>\n",
              "      <td>0.71</td>\n",
              "      <td>0.42</td>\n",
              "    </tr>\n",
              "    <tr>\n",
              "      <th>2</th>\n",
              "      <td>2000</td>\n",
              "      <td>128</td>\n",
              "      <td>128</td>\n",
              "      <td>64</td>\n",
              "      <td>LSTM</td>\n",
              "      <td>1</td>\n",
              "      <td>0.87</td>\n",
              "      <td>0.70</td>\n",
              "      <td>0.44</td>\n",
              "    </tr>\n",
              "    <tr>\n",
              "      <th>3</th>\n",
              "      <td>2000</td>\n",
              "      <td>128</td>\n",
              "      <td>128</td>\n",
              "      <td>128</td>\n",
              "      <td>Bi-LSTM</td>\n",
              "      <td>1</td>\n",
              "      <td>0.87</td>\n",
              "      <td>0.71</td>\n",
              "      <td>0.42</td>\n",
              "    </tr>\n",
              "  </tbody>\n",
              "</table>\n",
              "</div>"
            ],
            "text/plain": [
              "  vocabulary sequence embedding units    layer n_lyaer  unrelated  agreed  \\\n",
              "0       2000      128        64    32     LSTM       1       0.87    0.69   \n",
              "1       2000      128       128    32     LSTM       1       0.87    0.71   \n",
              "2       2000      128       128    64     LSTM       1       0.87    0.70   \n",
              "3       2000      128       128   128  Bi-LSTM       1       0.87    0.71   \n",
              "\n",
              "   disagreed  \n",
              "0       0.43  \n",
              "1       0.42  \n",
              "2       0.44  \n",
              "3       0.42  "
            ]
          },
          "metadata": {
            "tags": []
          },
          "execution_count": 24
        }
      ]
    },
    {
      "cell_type": "markdown",
      "metadata": {
        "id": "-F8qjDz0KkOJ"
      },
      "source": [
        "<a id='3.2'></a>\n",
        "### 3.2 Increasing vocabulary size and sequence length"
      ]
    },
    {
      "cell_type": "code",
      "metadata": {
        "id": "1ZbEI5JlKVYL"
      },
      "source": [
        "# Max number of words\n",
        "num_words = 5000\n",
        "\n",
        "# Create a tokenizer\n",
        "tokenizer = create_tokenizer(data_train, num_words)\n",
        "\n",
        "# Sequece length\n",
        "max_length = 256\n",
        "\n",
        "# Vectorize train data\n",
        "X_train = vectorize_sequences(data_train, tokenizer, max_length)\n",
        "\n",
        "# Vectorize validation data\n",
        "X_val = vectorize_sequences(data_val, tokenizer, max_length)"
      ],
      "execution_count": 25,
      "outputs": []
    },
    {
      "cell_type": "code",
      "metadata": {
        "id": "vCVD4of5_PqP",
        "colab": {
          "base_uri": "https://localhost:8080/",
          "height": 757
        },
        "outputId": "85c906b4-1cd8-4406-a1a3-6daa66b3de36"
      },
      "source": [
        "# Pamas to tune the model\n",
        "model_name = \"mod_5_8_8_7\"\n",
        "embedding_size = 256\n",
        "lstm_units = 128\n",
        "\n",
        "# Tune the model\n",
        "hist_dict[model_name] = tune_hyperparams(X_train, y_train_one_hot,\n",
        "                                         X_val, y_val_one_hot, y_val,\n",
        "                                         num_words, embedding_size, max_length, \n",
        "                                         lstm_units, model_name, layer_name, num_layers)\n",
        "\n",
        "# Show f1 score by labels\n",
        "scores = store_score(scores, hist_dict[model_name][2])\n",
        "scores"
      ],
      "execution_count": 26,
      "outputs": [
        {
          "output_type": "stream",
          "text": [
            "Model: \"sequential_7\"\n",
            "_________________________________________________________________\n",
            "Layer (type)                 Output Shape              Param #   \n",
            "=================================================================\n",
            "embedding_7 (Embedding)      (None, 256, 256)          1280000   \n",
            "_________________________________________________________________\n",
            "lstm_7 (LSTM)                (None, 128)               197120    \n",
            "_________________________________________________________________\n",
            "dense_7 (Dense)              (None, 3)                 387       \n",
            "=================================================================\n",
            "Total params: 1,477,507\n",
            "Trainable params: 1,477,507\n",
            "Non-trainable params: 0\n",
            "_________________________________________________________________\n",
            "Epoch 1/15\n",
            "1503/1503 [==============================] - 67s 44ms/step - loss: 0.5199 - accuracy: 0.7553 - val_loss: 0.4715 - val_accuracy: 0.7793\n",
            "Epoch 2/15\n",
            "1503/1503 [==============================] - 66s 44ms/step - loss: 0.4304 - accuracy: 0.8031 - val_loss: 0.4367 - val_accuracy: 0.8008\n",
            "Epoch 3/15\n",
            "1503/1503 [==============================] - 66s 44ms/step - loss: 0.3756 - accuracy: 0.8320 - val_loss: 0.4222 - val_accuracy: 0.8118\n",
            "Epoch 4/15\n",
            "1503/1503 [==============================] - 66s 44ms/step - loss: 0.3291 - accuracy: 0.8558 - val_loss: 0.4196 - val_accuracy: 0.8196\n",
            "Epoch 5/15\n",
            "1503/1503 [==============================] - 66s 44ms/step - loss: 0.2857 - accuracy: 0.8773 - val_loss: 0.4295 - val_accuracy: 0.8246\n",
            "Epoch 6/15\n",
            "1503/1503 [==============================] - 65s 44ms/step - loss: 0.2456 - accuracy: 0.8966 - val_loss: 0.4396 - val_accuracy: 0.8230\n",
            "Epoch 7/15\n",
            "1503/1503 [==============================] - 66s 44ms/step - loss: 0.2086 - accuracy: 0.9136 - val_loss: 0.4866 - val_accuracy: 0.8256\n",
            "Epoch 8/15\n",
            "1503/1503 [==============================] - 65s 43ms/step - loss: 0.1733 - accuracy: 0.9296 - val_loss: 0.5261 - val_accuracy: 0.8196\n",
            "Epoch 9/15\n",
            "1503/1503 [==============================] - 65s 43ms/step - loss: 0.1433 - accuracy: 0.9429 - val_loss: 0.5795 - val_accuracy: 0.8227\n"
          ],
          "name": "stdout"
        },
        {
          "output_type": "execute_result",
          "data": {
            "text/html": [
              "<div>\n",
              "<style scoped>\n",
              "    .dataframe tbody tr th:only-of-type {\n",
              "        vertical-align: middle;\n",
              "    }\n",
              "\n",
              "    .dataframe tbody tr th {\n",
              "        vertical-align: top;\n",
              "    }\n",
              "\n",
              "    .dataframe thead th {\n",
              "        text-align: right;\n",
              "    }\n",
              "</style>\n",
              "<table border=\"1\" class=\"dataframe\">\n",
              "  <thead>\n",
              "    <tr style=\"text-align: right;\">\n",
              "      <th></th>\n",
              "      <th>vocabulary</th>\n",
              "      <th>sequence</th>\n",
              "      <th>embedding</th>\n",
              "      <th>units</th>\n",
              "      <th>layer</th>\n",
              "      <th>n_lyaer</th>\n",
              "      <th>unrelated</th>\n",
              "      <th>agreed</th>\n",
              "      <th>disagreed</th>\n",
              "    </tr>\n",
              "  </thead>\n",
              "  <tbody>\n",
              "    <tr>\n",
              "      <th>0</th>\n",
              "      <td>2000</td>\n",
              "      <td>128</td>\n",
              "      <td>64</td>\n",
              "      <td>32</td>\n",
              "      <td>LSTM</td>\n",
              "      <td>1</td>\n",
              "      <td>0.87</td>\n",
              "      <td>0.69</td>\n",
              "      <td>0.43</td>\n",
              "    </tr>\n",
              "    <tr>\n",
              "      <th>1</th>\n",
              "      <td>2000</td>\n",
              "      <td>128</td>\n",
              "      <td>128</td>\n",
              "      <td>32</td>\n",
              "      <td>LSTM</td>\n",
              "      <td>1</td>\n",
              "      <td>0.87</td>\n",
              "      <td>0.71</td>\n",
              "      <td>0.42</td>\n",
              "    </tr>\n",
              "    <tr>\n",
              "      <th>2</th>\n",
              "      <td>2000</td>\n",
              "      <td>128</td>\n",
              "      <td>128</td>\n",
              "      <td>64</td>\n",
              "      <td>LSTM</td>\n",
              "      <td>1</td>\n",
              "      <td>0.87</td>\n",
              "      <td>0.70</td>\n",
              "      <td>0.44</td>\n",
              "    </tr>\n",
              "    <tr>\n",
              "      <th>3</th>\n",
              "      <td>2000</td>\n",
              "      <td>128</td>\n",
              "      <td>128</td>\n",
              "      <td>128</td>\n",
              "      <td>Bi-LSTM</td>\n",
              "      <td>1</td>\n",
              "      <td>0.87</td>\n",
              "      <td>0.71</td>\n",
              "      <td>0.42</td>\n",
              "    </tr>\n",
              "    <tr>\n",
              "      <th>4</th>\n",
              "      <td>5000</td>\n",
              "      <td>256</td>\n",
              "      <td>256</td>\n",
              "      <td>128</td>\n",
              "      <td>LSTM</td>\n",
              "      <td>1</td>\n",
              "      <td>0.88</td>\n",
              "      <td>0.73</td>\n",
              "      <td>0.49</td>\n",
              "    </tr>\n",
              "  </tbody>\n",
              "</table>\n",
              "</div>"
            ],
            "text/plain": [
              "  vocabulary sequence embedding units    layer n_lyaer  unrelated  agreed  \\\n",
              "0       2000      128        64    32     LSTM       1       0.87    0.69   \n",
              "1       2000      128       128    32     LSTM       1       0.87    0.71   \n",
              "2       2000      128       128    64     LSTM       1       0.87    0.70   \n",
              "3       2000      128       128   128  Bi-LSTM       1       0.87    0.71   \n",
              "4       5000      256       256   128     LSTM       1       0.88    0.73   \n",
              "\n",
              "   disagreed  \n",
              "0       0.43  \n",
              "1       0.42  \n",
              "2       0.44  \n",
              "3       0.42  \n",
              "4       0.49  "
            ]
          },
          "metadata": {
            "tags": []
          },
          "execution_count": 26
        }
      ]
    },
    {
      "cell_type": "markdown",
      "metadata": {
        "id": "EN6tqRBk4Fik"
      },
      "source": [
        "#### Using bi-directional LSTM"
      ]
    },
    {
      "cell_type": "code",
      "metadata": {
        "id": "TMUEsP2x4c4O",
        "colab": {
          "base_uri": "https://localhost:8080/",
          "height": 787
        },
        "outputId": "51b06e5b-3870-47bd-9021-b87dce6dd4a6"
      },
      "source": [
        "# Pamas to tune the model\n",
        "model_name = \"mod_5_8_8_7_bi\"\n",
        "bidirection = True\n",
        "\n",
        "# Tune the model\n",
        "hist_dict[model_name] = tune_hyperparams(X_train, y_train_one_hot,\n",
        "                                         X_val, y_val_one_hot, y_val,\n",
        "                                         num_words, embedding_size, max_length, \n",
        "                                         lstm_units, model_name, layer_name, \n",
        "                                         num_layers, bidirection)\n",
        "\n",
        "# Show f1 score by labels\n",
        "scores = store_score(scores, hist_dict[model_name][2])\n",
        "scores"
      ],
      "execution_count": 27,
      "outputs": [
        {
          "output_type": "stream",
          "text": [
            "Model: \"sequential_8\"\n",
            "_________________________________________________________________\n",
            "Layer (type)                 Output Shape              Param #   \n",
            "=================================================================\n",
            "embedding_8 (Embedding)      (None, 256, 256)          1280000   \n",
            "_________________________________________________________________\n",
            "bidirectional_1 (Bidirection (None, 256)               394240    \n",
            "_________________________________________________________________\n",
            "dense_8 (Dense)              (None, 3)                 771       \n",
            "=================================================================\n",
            "Total params: 1,675,011\n",
            "Trainable params: 1,675,011\n",
            "Non-trainable params: 0\n",
            "_________________________________________________________________\n",
            "Epoch 1/15\n",
            "1503/1503 [==============================] - 108s 72ms/step - loss: 0.5140 - accuracy: 0.7568 - val_loss: 0.4666 - val_accuracy: 0.7826\n",
            "Epoch 2/15\n",
            "1503/1503 [==============================] - 106s 71ms/step - loss: 0.4230 - accuracy: 0.8072 - val_loss: 0.4335 - val_accuracy: 0.8033\n",
            "Epoch 3/15\n",
            "1503/1503 [==============================] - 106s 71ms/step - loss: 0.3678 - accuracy: 0.8369 - val_loss: 0.4179 - val_accuracy: 0.8157\n",
            "Epoch 4/15\n",
            "1503/1503 [==============================] - 107s 71ms/step - loss: 0.3186 - accuracy: 0.8621 - val_loss: 0.4178 - val_accuracy: 0.8233\n",
            "Epoch 5/15\n",
            "1503/1503 [==============================] - 107s 71ms/step - loss: 0.2738 - accuracy: 0.8826 - val_loss: 0.4285 - val_accuracy: 0.8248\n",
            "Epoch 6/15\n",
            "1503/1503 [==============================] - 107s 71ms/step - loss: 0.2336 - accuracy: 0.9017 - val_loss: 0.4559 - val_accuracy: 0.8251\n",
            "Epoch 7/15\n",
            "1503/1503 [==============================] - 107s 71ms/step - loss: 0.1962 - accuracy: 0.9187 - val_loss: 0.4918 - val_accuracy: 0.8272\n",
            "Epoch 8/15\n",
            "1503/1503 [==============================] - 106s 71ms/step - loss: 0.1624 - accuracy: 0.9340 - val_loss: 0.5549 - val_accuracy: 0.8199\n",
            "Epoch 9/15\n",
            "1503/1503 [==============================] - 106s 71ms/step - loss: 0.1342 - accuracy: 0.9465 - val_loss: 0.5910 - val_accuracy: 0.8236\n"
          ],
          "name": "stdout"
        },
        {
          "output_type": "execute_result",
          "data": {
            "text/html": [
              "<div>\n",
              "<style scoped>\n",
              "    .dataframe tbody tr th:only-of-type {\n",
              "        vertical-align: middle;\n",
              "    }\n",
              "\n",
              "    .dataframe tbody tr th {\n",
              "        vertical-align: top;\n",
              "    }\n",
              "\n",
              "    .dataframe thead th {\n",
              "        text-align: right;\n",
              "    }\n",
              "</style>\n",
              "<table border=\"1\" class=\"dataframe\">\n",
              "  <thead>\n",
              "    <tr style=\"text-align: right;\">\n",
              "      <th></th>\n",
              "      <th>vocabulary</th>\n",
              "      <th>sequence</th>\n",
              "      <th>embedding</th>\n",
              "      <th>units</th>\n",
              "      <th>layer</th>\n",
              "      <th>n_lyaer</th>\n",
              "      <th>unrelated</th>\n",
              "      <th>agreed</th>\n",
              "      <th>disagreed</th>\n",
              "    </tr>\n",
              "  </thead>\n",
              "  <tbody>\n",
              "    <tr>\n",
              "      <th>0</th>\n",
              "      <td>2000</td>\n",
              "      <td>128</td>\n",
              "      <td>64</td>\n",
              "      <td>32</td>\n",
              "      <td>LSTM</td>\n",
              "      <td>1</td>\n",
              "      <td>0.87</td>\n",
              "      <td>0.69</td>\n",
              "      <td>0.43</td>\n",
              "    </tr>\n",
              "    <tr>\n",
              "      <th>1</th>\n",
              "      <td>2000</td>\n",
              "      <td>128</td>\n",
              "      <td>128</td>\n",
              "      <td>32</td>\n",
              "      <td>LSTM</td>\n",
              "      <td>1</td>\n",
              "      <td>0.87</td>\n",
              "      <td>0.71</td>\n",
              "      <td>0.42</td>\n",
              "    </tr>\n",
              "    <tr>\n",
              "      <th>2</th>\n",
              "      <td>2000</td>\n",
              "      <td>128</td>\n",
              "      <td>128</td>\n",
              "      <td>64</td>\n",
              "      <td>LSTM</td>\n",
              "      <td>1</td>\n",
              "      <td>0.87</td>\n",
              "      <td>0.70</td>\n",
              "      <td>0.44</td>\n",
              "    </tr>\n",
              "    <tr>\n",
              "      <th>3</th>\n",
              "      <td>2000</td>\n",
              "      <td>128</td>\n",
              "      <td>128</td>\n",
              "      <td>128</td>\n",
              "      <td>Bi-LSTM</td>\n",
              "      <td>1</td>\n",
              "      <td>0.87</td>\n",
              "      <td>0.71</td>\n",
              "      <td>0.42</td>\n",
              "    </tr>\n",
              "    <tr>\n",
              "      <th>4</th>\n",
              "      <td>5000</td>\n",
              "      <td>256</td>\n",
              "      <td>256</td>\n",
              "      <td>128</td>\n",
              "      <td>LSTM</td>\n",
              "      <td>1</td>\n",
              "      <td>0.88</td>\n",
              "      <td>0.73</td>\n",
              "      <td>0.49</td>\n",
              "    </tr>\n",
              "    <tr>\n",
              "      <th>5</th>\n",
              "      <td>5000</td>\n",
              "      <td>256</td>\n",
              "      <td>256</td>\n",
              "      <td>256</td>\n",
              "      <td>Bi-LSTM</td>\n",
              "      <td>1</td>\n",
              "      <td>0.88</td>\n",
              "      <td>0.73</td>\n",
              "      <td>0.50</td>\n",
              "    </tr>\n",
              "  </tbody>\n",
              "</table>\n",
              "</div>"
            ],
            "text/plain": [
              "  vocabulary sequence embedding units    layer n_lyaer  unrelated  agreed  \\\n",
              "0       2000      128        64    32     LSTM       1       0.87    0.69   \n",
              "1       2000      128       128    32     LSTM       1       0.87    0.71   \n",
              "2       2000      128       128    64     LSTM       1       0.87    0.70   \n",
              "3       2000      128       128   128  Bi-LSTM       1       0.87    0.71   \n",
              "4       5000      256       256   128     LSTM       1       0.88    0.73   \n",
              "5       5000      256       256   256  Bi-LSTM       1       0.88    0.73   \n",
              "\n",
              "   disagreed  \n",
              "0       0.43  \n",
              "1       0.42  \n",
              "2       0.44  \n",
              "3       0.42  \n",
              "4       0.49  \n",
              "5       0.50  "
            ]
          },
          "metadata": {
            "tags": []
          },
          "execution_count": 27
        }
      ]
    },
    {
      "cell_type": "markdown",
      "metadata": {
        "id": "I0NX_JTP4Lgj"
      },
      "source": [
        "#### Adding additional LSTM layer"
      ]
    },
    {
      "cell_type": "code",
      "metadata": {
        "id": "msi5lTEgzt3o",
        "colab": {
          "base_uri": "https://localhost:8080/",
          "height": 853
        },
        "outputId": "81e6b79e-3400-4b4c-d709-695ab8288c66"
      },
      "source": [
        "# Pamas to tune the model\n",
        "model_name = \"mod_5_8_8_7_2\"\n",
        "bidirection = False\n",
        "add_layer = True\n",
        "\n",
        "# Tune the model\n",
        "hist_dict[model_name] = tune_hyperparams(X_train, y_train_one_hot,\n",
        "                                         X_val, y_val_one_hot, y_val,\n",
        "                                         num_words, embedding_size, max_length, \n",
        "                                         lstm_units, model_name, layer_name, \n",
        "                                         num_layers, bidirection, add_layer)\n",
        "\n",
        "# Show f1 score by labels\n",
        "scores = store_score(scores, hist_dict[model_name][2])\n",
        "scores"
      ],
      "execution_count": 28,
      "outputs": [
        {
          "output_type": "stream",
          "text": [
            "Model: \"sequential_9\"\n",
            "_________________________________________________________________\n",
            "Layer (type)                 Output Shape              Param #   \n",
            "=================================================================\n",
            "embedding_9 (Embedding)      (None, 256, 256)          1280000   \n",
            "_________________________________________________________________\n",
            "lstm_9 (LSTM)                (None, 256, 128)          197120    \n",
            "_________________________________________________________________\n",
            "lstm_10 (LSTM)               (None, 128)               131584    \n",
            "_________________________________________________________________\n",
            "dense_9 (Dense)              (None, 3)                 387       \n",
            "=================================================================\n",
            "Total params: 1,609,091\n",
            "Trainable params: 1,609,091\n",
            "Non-trainable params: 0\n",
            "_________________________________________________________________\n",
            "Epoch 1/15\n",
            "1503/1503 [==============================] - 101s 67ms/step - loss: 0.5179 - accuracy: 0.7558 - val_loss: 0.4689 - val_accuracy: 0.7830\n",
            "Epoch 2/15\n",
            "1503/1503 [==============================] - 100s 67ms/step - loss: 0.4257 - accuracy: 0.8070 - val_loss: 0.4345 - val_accuracy: 0.8036\n",
            "Epoch 3/15\n",
            "1503/1503 [==============================] - 100s 66ms/step - loss: 0.3701 - accuracy: 0.8375 - val_loss: 0.4136 - val_accuracy: 0.8163\n",
            "Epoch 4/15\n",
            "1503/1503 [==============================] - 100s 67ms/step - loss: 0.3215 - accuracy: 0.8628 - val_loss: 0.4106 - val_accuracy: 0.8240\n",
            "Epoch 5/15\n",
            "1503/1503 [==============================] - 100s 66ms/step - loss: 0.2774 - accuracy: 0.8834 - val_loss: 0.4258 - val_accuracy: 0.8269\n",
            "Epoch 6/15\n",
            "1503/1503 [==============================] - 101s 67ms/step - loss: 0.2362 - accuracy: 0.9020 - val_loss: 0.4380 - val_accuracy: 0.8277\n",
            "Epoch 7/15\n",
            "1503/1503 [==============================] - 100s 67ms/step - loss: 0.1995 - accuracy: 0.9181 - val_loss: 0.4738 - val_accuracy: 0.8279\n",
            "Epoch 8/15\n",
            "1503/1503 [==============================] - 100s 66ms/step - loss: 0.1654 - accuracy: 0.9333 - val_loss: 0.5284 - val_accuracy: 0.8224\n",
            "Epoch 9/15\n",
            "1503/1503 [==============================] - 100s 66ms/step - loss: 0.1346 - accuracy: 0.9467 - val_loss: 0.5791 - val_accuracy: 0.8261\n"
          ],
          "name": "stdout"
        },
        {
          "output_type": "execute_result",
          "data": {
            "text/html": [
              "<div>\n",
              "<style scoped>\n",
              "    .dataframe tbody tr th:only-of-type {\n",
              "        vertical-align: middle;\n",
              "    }\n",
              "\n",
              "    .dataframe tbody tr th {\n",
              "        vertical-align: top;\n",
              "    }\n",
              "\n",
              "    .dataframe thead th {\n",
              "        text-align: right;\n",
              "    }\n",
              "</style>\n",
              "<table border=\"1\" class=\"dataframe\">\n",
              "  <thead>\n",
              "    <tr style=\"text-align: right;\">\n",
              "      <th></th>\n",
              "      <th>vocabulary</th>\n",
              "      <th>sequence</th>\n",
              "      <th>embedding</th>\n",
              "      <th>units</th>\n",
              "      <th>layer</th>\n",
              "      <th>n_lyaer</th>\n",
              "      <th>unrelated</th>\n",
              "      <th>agreed</th>\n",
              "      <th>disagreed</th>\n",
              "    </tr>\n",
              "  </thead>\n",
              "  <tbody>\n",
              "    <tr>\n",
              "      <th>0</th>\n",
              "      <td>2000</td>\n",
              "      <td>128</td>\n",
              "      <td>64</td>\n",
              "      <td>32</td>\n",
              "      <td>LSTM</td>\n",
              "      <td>1</td>\n",
              "      <td>0.87</td>\n",
              "      <td>0.69</td>\n",
              "      <td>0.43</td>\n",
              "    </tr>\n",
              "    <tr>\n",
              "      <th>1</th>\n",
              "      <td>2000</td>\n",
              "      <td>128</td>\n",
              "      <td>128</td>\n",
              "      <td>32</td>\n",
              "      <td>LSTM</td>\n",
              "      <td>1</td>\n",
              "      <td>0.87</td>\n",
              "      <td>0.71</td>\n",
              "      <td>0.42</td>\n",
              "    </tr>\n",
              "    <tr>\n",
              "      <th>2</th>\n",
              "      <td>2000</td>\n",
              "      <td>128</td>\n",
              "      <td>128</td>\n",
              "      <td>64</td>\n",
              "      <td>LSTM</td>\n",
              "      <td>1</td>\n",
              "      <td>0.87</td>\n",
              "      <td>0.70</td>\n",
              "      <td>0.44</td>\n",
              "    </tr>\n",
              "    <tr>\n",
              "      <th>3</th>\n",
              "      <td>2000</td>\n",
              "      <td>128</td>\n",
              "      <td>128</td>\n",
              "      <td>128</td>\n",
              "      <td>Bi-LSTM</td>\n",
              "      <td>1</td>\n",
              "      <td>0.87</td>\n",
              "      <td>0.71</td>\n",
              "      <td>0.42</td>\n",
              "    </tr>\n",
              "    <tr>\n",
              "      <th>4</th>\n",
              "      <td>5000</td>\n",
              "      <td>256</td>\n",
              "      <td>256</td>\n",
              "      <td>128</td>\n",
              "      <td>LSTM</td>\n",
              "      <td>1</td>\n",
              "      <td>0.88</td>\n",
              "      <td>0.73</td>\n",
              "      <td>0.49</td>\n",
              "    </tr>\n",
              "    <tr>\n",
              "      <th>5</th>\n",
              "      <td>5000</td>\n",
              "      <td>256</td>\n",
              "      <td>256</td>\n",
              "      <td>256</td>\n",
              "      <td>Bi-LSTM</td>\n",
              "      <td>1</td>\n",
              "      <td>0.88</td>\n",
              "      <td>0.73</td>\n",
              "      <td>0.50</td>\n",
              "    </tr>\n",
              "    <tr>\n",
              "      <th>6</th>\n",
              "      <td>5000</td>\n",
              "      <td>256</td>\n",
              "      <td>256</td>\n",
              "      <td>128</td>\n",
              "      <td>LSTM</td>\n",
              "      <td>2</td>\n",
              "      <td>0.88</td>\n",
              "      <td>0.73</td>\n",
              "      <td>0.47</td>\n",
              "    </tr>\n",
              "  </tbody>\n",
              "</table>\n",
              "</div>"
            ],
            "text/plain": [
              "  vocabulary sequence embedding units    layer n_lyaer  unrelated  agreed  \\\n",
              "0       2000      128        64    32     LSTM       1       0.87    0.69   \n",
              "1       2000      128       128    32     LSTM       1       0.87    0.71   \n",
              "2       2000      128       128    64     LSTM       1       0.87    0.70   \n",
              "3       2000      128       128   128  Bi-LSTM       1       0.87    0.71   \n",
              "4       5000      256       256   128     LSTM       1       0.88    0.73   \n",
              "5       5000      256       256   256  Bi-LSTM       1       0.88    0.73   \n",
              "6       5000      256       256   128     LSTM       2       0.88    0.73   \n",
              "\n",
              "   disagreed  \n",
              "0       0.43  \n",
              "1       0.42  \n",
              "2       0.44  \n",
              "3       0.42  \n",
              "4       0.49  \n",
              "5       0.50  \n",
              "6       0.47  "
            ]
          },
          "metadata": {
            "tags": []
          },
          "execution_count": 28
        }
      ]
    },
    {
      "cell_type": "markdown",
      "metadata": {
        "id": "iRwVRBdQlXdb"
      },
      "source": [
        "#### Increasing LSTM units"
      ]
    },
    {
      "cell_type": "code",
      "metadata": {
        "colab": {
          "base_uri": "https://localhost:8080/",
          "height": 814
        },
        "id": "w7lR6fHZlfdm",
        "outputId": "890f3398-e448-4862-dea8-4fec87da0cd8"
      },
      "source": [
        "# Pamas to tune the model\n",
        "model_name = \"mod_5_8_8_8\"\n",
        "embedding_size = 256\n",
        "lstm_units = 256\n",
        "\n",
        "# Tune the model\n",
        "hist_dict[model_name] = tune_hyperparams(X_train, y_train_one_hot,\n",
        "                                         X_val, y_val_one_hot, y_val,\n",
        "                                         num_words, embedding_size, max_length, \n",
        "                                         lstm_units, model_name, layer_name, num_layers)\n",
        "\n",
        "# Show f1 score by labels\n",
        "scores = store_score(scores, hist_dict[model_name][2])\n",
        "scores"
      ],
      "execution_count": 29,
      "outputs": [
        {
          "output_type": "stream",
          "text": [
            "Model: \"sequential_10\"\n",
            "_________________________________________________________________\n",
            "Layer (type)                 Output Shape              Param #   \n",
            "=================================================================\n",
            "embedding_10 (Embedding)     (None, 256, 256)          1280000   \n",
            "_________________________________________________________________\n",
            "lstm_11 (LSTM)               (None, 256)               525312    \n",
            "_________________________________________________________________\n",
            "dense_10 (Dense)             (None, 3)                 771       \n",
            "=================================================================\n",
            "Total params: 1,806,083\n",
            "Trainable params: 1,806,083\n",
            "Non-trainable params: 0\n",
            "_________________________________________________________________\n",
            "Epoch 1/15\n",
            "1503/1503 [==============================] - 90s 60ms/step - loss: 0.5274 - accuracy: 0.7498 - val_loss: 0.4778 - val_accuracy: 0.7762\n",
            "Epoch 2/15\n",
            "1503/1503 [==============================] - 89s 59ms/step - loss: 0.4403 - accuracy: 0.7980 - val_loss: 0.4424 - val_accuracy: 0.7950\n",
            "Epoch 3/15\n",
            "1503/1503 [==============================] - 89s 59ms/step - loss: 0.3855 - accuracy: 0.8255 - val_loss: 0.4253 - val_accuracy: 0.8088\n",
            "Epoch 4/15\n",
            "1503/1503 [==============================] - 89s 59ms/step - loss: 0.3378 - accuracy: 0.8513 - val_loss: 0.4245 - val_accuracy: 0.8177\n",
            "Epoch 5/15\n",
            "1503/1503 [==============================] - 89s 59ms/step - loss: 0.2944 - accuracy: 0.8734 - val_loss: 0.4248 - val_accuracy: 0.8237\n",
            "Epoch 6/15\n",
            "1503/1503 [==============================] - 89s 59ms/step - loss: 0.2543 - accuracy: 0.8927 - val_loss: 0.4327 - val_accuracy: 0.8252\n",
            "Epoch 7/15\n",
            "1503/1503 [==============================] - 88s 59ms/step - loss: 0.2158 - accuracy: 0.9098 - val_loss: 0.4666 - val_accuracy: 0.8243\n",
            "Epoch 8/15\n",
            "1503/1503 [==============================] - 88s 59ms/step - loss: 0.1794 - accuracy: 0.9258 - val_loss: 0.5222 - val_accuracy: 0.8222\n"
          ],
          "name": "stdout"
        },
        {
          "output_type": "execute_result",
          "data": {
            "text/html": [
              "<div>\n",
              "<style scoped>\n",
              "    .dataframe tbody tr th:only-of-type {\n",
              "        vertical-align: middle;\n",
              "    }\n",
              "\n",
              "    .dataframe tbody tr th {\n",
              "        vertical-align: top;\n",
              "    }\n",
              "\n",
              "    .dataframe thead th {\n",
              "        text-align: right;\n",
              "    }\n",
              "</style>\n",
              "<table border=\"1\" class=\"dataframe\">\n",
              "  <thead>\n",
              "    <tr style=\"text-align: right;\">\n",
              "      <th></th>\n",
              "      <th>vocabulary</th>\n",
              "      <th>sequence</th>\n",
              "      <th>embedding</th>\n",
              "      <th>units</th>\n",
              "      <th>layer</th>\n",
              "      <th>n_lyaer</th>\n",
              "      <th>unrelated</th>\n",
              "      <th>agreed</th>\n",
              "      <th>disagreed</th>\n",
              "    </tr>\n",
              "  </thead>\n",
              "  <tbody>\n",
              "    <tr>\n",
              "      <th>0</th>\n",
              "      <td>2000</td>\n",
              "      <td>128</td>\n",
              "      <td>64</td>\n",
              "      <td>32</td>\n",
              "      <td>LSTM</td>\n",
              "      <td>1</td>\n",
              "      <td>0.87</td>\n",
              "      <td>0.69</td>\n",
              "      <td>0.43</td>\n",
              "    </tr>\n",
              "    <tr>\n",
              "      <th>1</th>\n",
              "      <td>2000</td>\n",
              "      <td>128</td>\n",
              "      <td>128</td>\n",
              "      <td>32</td>\n",
              "      <td>LSTM</td>\n",
              "      <td>1</td>\n",
              "      <td>0.87</td>\n",
              "      <td>0.71</td>\n",
              "      <td>0.42</td>\n",
              "    </tr>\n",
              "    <tr>\n",
              "      <th>2</th>\n",
              "      <td>2000</td>\n",
              "      <td>128</td>\n",
              "      <td>128</td>\n",
              "      <td>64</td>\n",
              "      <td>LSTM</td>\n",
              "      <td>1</td>\n",
              "      <td>0.87</td>\n",
              "      <td>0.70</td>\n",
              "      <td>0.44</td>\n",
              "    </tr>\n",
              "    <tr>\n",
              "      <th>3</th>\n",
              "      <td>2000</td>\n",
              "      <td>128</td>\n",
              "      <td>128</td>\n",
              "      <td>128</td>\n",
              "      <td>Bi-LSTM</td>\n",
              "      <td>1</td>\n",
              "      <td>0.87</td>\n",
              "      <td>0.71</td>\n",
              "      <td>0.42</td>\n",
              "    </tr>\n",
              "    <tr>\n",
              "      <th>4</th>\n",
              "      <td>5000</td>\n",
              "      <td>256</td>\n",
              "      <td>256</td>\n",
              "      <td>128</td>\n",
              "      <td>LSTM</td>\n",
              "      <td>1</td>\n",
              "      <td>0.88</td>\n",
              "      <td>0.73</td>\n",
              "      <td>0.49</td>\n",
              "    </tr>\n",
              "    <tr>\n",
              "      <th>5</th>\n",
              "      <td>5000</td>\n",
              "      <td>256</td>\n",
              "      <td>256</td>\n",
              "      <td>256</td>\n",
              "      <td>Bi-LSTM</td>\n",
              "      <td>1</td>\n",
              "      <td>0.88</td>\n",
              "      <td>0.73</td>\n",
              "      <td>0.50</td>\n",
              "    </tr>\n",
              "    <tr>\n",
              "      <th>6</th>\n",
              "      <td>5000</td>\n",
              "      <td>256</td>\n",
              "      <td>256</td>\n",
              "      <td>128</td>\n",
              "      <td>LSTM</td>\n",
              "      <td>2</td>\n",
              "      <td>0.88</td>\n",
              "      <td>0.73</td>\n",
              "      <td>0.47</td>\n",
              "    </tr>\n",
              "    <tr>\n",
              "      <th>7</th>\n",
              "      <td>5000</td>\n",
              "      <td>256</td>\n",
              "      <td>256</td>\n",
              "      <td>256</td>\n",
              "      <td>LSTM</td>\n",
              "      <td>1</td>\n",
              "      <td>0.88</td>\n",
              "      <td>0.72</td>\n",
              "      <td>0.49</td>\n",
              "    </tr>\n",
              "  </tbody>\n",
              "</table>\n",
              "</div>"
            ],
            "text/plain": [
              "  vocabulary sequence embedding units    layer n_lyaer  unrelated  agreed  \\\n",
              "0       2000      128        64    32     LSTM       1       0.87    0.69   \n",
              "1       2000      128       128    32     LSTM       1       0.87    0.71   \n",
              "2       2000      128       128    64     LSTM       1       0.87    0.70   \n",
              "3       2000      128       128   128  Bi-LSTM       1       0.87    0.71   \n",
              "4       5000      256       256   128     LSTM       1       0.88    0.73   \n",
              "5       5000      256       256   256  Bi-LSTM       1       0.88    0.73   \n",
              "6       5000      256       256   128     LSTM       2       0.88    0.73   \n",
              "7       5000      256       256   256     LSTM       1       0.88    0.72   \n",
              "\n",
              "   disagreed  \n",
              "0       0.43  \n",
              "1       0.42  \n",
              "2       0.44  \n",
              "3       0.42  \n",
              "4       0.49  \n",
              "5       0.50  \n",
              "6       0.47  \n",
              "7       0.49  "
            ]
          },
          "metadata": {
            "tags": []
          },
          "execution_count": 29
        }
      ]
    },
    {
      "cell_type": "markdown",
      "metadata": {
        "id": "raZ1KlIY79bG"
      },
      "source": [
        "#### Increasing the vocabulary and embedding size"
      ]
    },
    {
      "cell_type": "code",
      "metadata": {
        "id": "QLXDiVCb4Sze"
      },
      "source": [
        "# Max number of words\n",
        "num_words = 8000\n",
        "\n",
        "# Create a tokenizer\n",
        "tokenizer = create_tokenizer(data_train, num_words)\n",
        "\n",
        "# Sequece length\n",
        "max_length = 256\n",
        "\n",
        "# Vectorize train data\n",
        "X_train = vectorize_sequences(data_train, tokenizer, max_length)\n",
        "\n",
        "# Vectorize validation data\n",
        "X_val = vectorize_sequences(data_val, tokenizer, max_length)"
      ],
      "execution_count": 30,
      "outputs": []
    },
    {
      "cell_type": "code",
      "metadata": {
        "id": "1jhg9lRM8FcB",
        "colab": {
          "base_uri": "https://localhost:8080/",
          "height": 845
        },
        "outputId": "b2d30835-4089-4c6e-b49c-052005393411"
      },
      "source": [
        "# Pamas to tune the model\n",
        "model_name = \"mod_10_8_8_8\"\n",
        "embedding_size = 512\n",
        "lstm_units = 256\n",
        "\n",
        "# Tune the model\n",
        "hist_dict[model_name] = tune_hyperparams(X_train, y_train_one_hot,\n",
        "                                         X_val, y_val_one_hot, y_val,\n",
        "                                         num_words, embedding_size, max_length, \n",
        "                                         lstm_units, model_name, layer_name, num_layers)\n",
        "\n",
        "# Show f1 score by labels\n",
        "scores = store_score(scores, hist_dict[model_name][2])\n",
        "scores"
      ],
      "execution_count": 31,
      "outputs": [
        {
          "output_type": "stream",
          "text": [
            "Model: \"sequential_11\"\n",
            "_________________________________________________________________\n",
            "Layer (type)                 Output Shape              Param #   \n",
            "=================================================================\n",
            "embedding_11 (Embedding)     (None, 256, 512)          4096000   \n",
            "_________________________________________________________________\n",
            "lstm_12 (LSTM)               (None, 256)               787456    \n",
            "_________________________________________________________________\n",
            "dense_11 (Dense)             (None, 3)                 771       \n",
            "=================================================================\n",
            "Total params: 4,884,227\n",
            "Trainable params: 4,884,227\n",
            "Non-trainable params: 0\n",
            "_________________________________________________________________\n",
            "Epoch 1/15\n",
            "1503/1503 [==============================] - 137s 91ms/step - loss: 0.5079 - accuracy: 0.7621 - val_loss: 0.4582 - val_accuracy: 0.7895\n",
            "Epoch 2/15\n",
            "1503/1503 [==============================] - 135s 90ms/step - loss: 0.4025 - accuracy: 0.8191 - val_loss: 0.4220 - val_accuracy: 0.8123\n",
            "Epoch 3/15\n",
            "1503/1503 [==============================] - 136s 91ms/step - loss: 0.3366 - accuracy: 0.8529 - val_loss: 0.4127 - val_accuracy: 0.8184\n",
            "Epoch 4/15\n",
            "1503/1503 [==============================] - 135s 90ms/step - loss: 0.2801 - accuracy: 0.8793 - val_loss: 0.4252 - val_accuracy: 0.8271\n",
            "Epoch 5/15\n",
            "1503/1503 [==============================] - 137s 91ms/step - loss: 0.2288 - accuracy: 0.9034 - val_loss: 0.4564 - val_accuracy: 0.8295\n",
            "Epoch 6/15\n",
            "1503/1503 [==============================] - 135s 90ms/step - loss: 0.1831 - accuracy: 0.9242 - val_loss: 0.4965 - val_accuracy: 0.8297\n",
            "Epoch 7/15\n",
            "1503/1503 [==============================] - 136s 90ms/step - loss: 0.1433 - accuracy: 0.9416 - val_loss: 0.5634 - val_accuracy: 0.8283\n",
            "Epoch 8/15\n",
            "1503/1503 [==============================] - 135s 90ms/step - loss: 0.1086 - accuracy: 0.9570 - val_loss: 0.6333 - val_accuracy: 0.8238\n"
          ],
          "name": "stdout"
        },
        {
          "output_type": "execute_result",
          "data": {
            "text/html": [
              "<div>\n",
              "<style scoped>\n",
              "    .dataframe tbody tr th:only-of-type {\n",
              "        vertical-align: middle;\n",
              "    }\n",
              "\n",
              "    .dataframe tbody tr th {\n",
              "        vertical-align: top;\n",
              "    }\n",
              "\n",
              "    .dataframe thead th {\n",
              "        text-align: right;\n",
              "    }\n",
              "</style>\n",
              "<table border=\"1\" class=\"dataframe\">\n",
              "  <thead>\n",
              "    <tr style=\"text-align: right;\">\n",
              "      <th></th>\n",
              "      <th>vocabulary</th>\n",
              "      <th>sequence</th>\n",
              "      <th>embedding</th>\n",
              "      <th>units</th>\n",
              "      <th>layer</th>\n",
              "      <th>n_lyaer</th>\n",
              "      <th>unrelated</th>\n",
              "      <th>agreed</th>\n",
              "      <th>disagreed</th>\n",
              "    </tr>\n",
              "  </thead>\n",
              "  <tbody>\n",
              "    <tr>\n",
              "      <th>0</th>\n",
              "      <td>2000</td>\n",
              "      <td>128</td>\n",
              "      <td>64</td>\n",
              "      <td>32</td>\n",
              "      <td>LSTM</td>\n",
              "      <td>1</td>\n",
              "      <td>0.87</td>\n",
              "      <td>0.69</td>\n",
              "      <td>0.43</td>\n",
              "    </tr>\n",
              "    <tr>\n",
              "      <th>1</th>\n",
              "      <td>2000</td>\n",
              "      <td>128</td>\n",
              "      <td>128</td>\n",
              "      <td>32</td>\n",
              "      <td>LSTM</td>\n",
              "      <td>1</td>\n",
              "      <td>0.87</td>\n",
              "      <td>0.71</td>\n",
              "      <td>0.42</td>\n",
              "    </tr>\n",
              "    <tr>\n",
              "      <th>2</th>\n",
              "      <td>2000</td>\n",
              "      <td>128</td>\n",
              "      <td>128</td>\n",
              "      <td>64</td>\n",
              "      <td>LSTM</td>\n",
              "      <td>1</td>\n",
              "      <td>0.87</td>\n",
              "      <td>0.70</td>\n",
              "      <td>0.44</td>\n",
              "    </tr>\n",
              "    <tr>\n",
              "      <th>3</th>\n",
              "      <td>2000</td>\n",
              "      <td>128</td>\n",
              "      <td>128</td>\n",
              "      <td>128</td>\n",
              "      <td>Bi-LSTM</td>\n",
              "      <td>1</td>\n",
              "      <td>0.87</td>\n",
              "      <td>0.71</td>\n",
              "      <td>0.42</td>\n",
              "    </tr>\n",
              "    <tr>\n",
              "      <th>4</th>\n",
              "      <td>5000</td>\n",
              "      <td>256</td>\n",
              "      <td>256</td>\n",
              "      <td>128</td>\n",
              "      <td>LSTM</td>\n",
              "      <td>1</td>\n",
              "      <td>0.88</td>\n",
              "      <td>0.73</td>\n",
              "      <td>0.49</td>\n",
              "    </tr>\n",
              "    <tr>\n",
              "      <th>5</th>\n",
              "      <td>5000</td>\n",
              "      <td>256</td>\n",
              "      <td>256</td>\n",
              "      <td>256</td>\n",
              "      <td>Bi-LSTM</td>\n",
              "      <td>1</td>\n",
              "      <td>0.88</td>\n",
              "      <td>0.73</td>\n",
              "      <td>0.50</td>\n",
              "    </tr>\n",
              "    <tr>\n",
              "      <th>6</th>\n",
              "      <td>5000</td>\n",
              "      <td>256</td>\n",
              "      <td>256</td>\n",
              "      <td>128</td>\n",
              "      <td>LSTM</td>\n",
              "      <td>2</td>\n",
              "      <td>0.88</td>\n",
              "      <td>0.73</td>\n",
              "      <td>0.47</td>\n",
              "    </tr>\n",
              "    <tr>\n",
              "      <th>7</th>\n",
              "      <td>5000</td>\n",
              "      <td>256</td>\n",
              "      <td>256</td>\n",
              "      <td>256</td>\n",
              "      <td>LSTM</td>\n",
              "      <td>1</td>\n",
              "      <td>0.88</td>\n",
              "      <td>0.72</td>\n",
              "      <td>0.49</td>\n",
              "    </tr>\n",
              "    <tr>\n",
              "      <th>8</th>\n",
              "      <td>8000</td>\n",
              "      <td>256</td>\n",
              "      <td>512</td>\n",
              "      <td>256</td>\n",
              "      <td>LSTM</td>\n",
              "      <td>1</td>\n",
              "      <td>0.88</td>\n",
              "      <td>0.74</td>\n",
              "      <td>0.52</td>\n",
              "    </tr>\n",
              "  </tbody>\n",
              "</table>\n",
              "</div>"
            ],
            "text/plain": [
              "  vocabulary sequence embedding units    layer n_lyaer  unrelated  agreed  \\\n",
              "0       2000      128        64    32     LSTM       1       0.87    0.69   \n",
              "1       2000      128       128    32     LSTM       1       0.87    0.71   \n",
              "2       2000      128       128    64     LSTM       1       0.87    0.70   \n",
              "3       2000      128       128   128  Bi-LSTM       1       0.87    0.71   \n",
              "4       5000      256       256   128     LSTM       1       0.88    0.73   \n",
              "5       5000      256       256   256  Bi-LSTM       1       0.88    0.73   \n",
              "6       5000      256       256   128     LSTM       2       0.88    0.73   \n",
              "7       5000      256       256   256     LSTM       1       0.88    0.72   \n",
              "8       8000      256       512   256     LSTM       1       0.88    0.74   \n",
              "\n",
              "   disagreed  \n",
              "0       0.43  \n",
              "1       0.42  \n",
              "2       0.44  \n",
              "3       0.42  \n",
              "4       0.49  \n",
              "5       0.50  \n",
              "6       0.47  \n",
              "7       0.49  \n",
              "8       0.52  "
            ]
          },
          "metadata": {
            "tags": []
          },
          "execution_count": 31
        }
      ]
    },
    {
      "cell_type": "markdown",
      "metadata": {
        "id": "vzPXsA21wYhr"
      },
      "source": [
        "<a id='4'></a>\n",
        "## 4 Assessing final model performance\n",
        "\n"
      ]
    },
    {
      "cell_type": "code",
      "metadata": {
        "id": "7AnFIbXewq0j"
      },
      "source": [
        "def plot_performance(hist, metric='loss', figsize=(12,8),):\n",
        "    \"\"\"\n",
        "    Plot the model training and validation performance.\n",
        "    \"\"\"\n",
        "    if metric == 'loss':\n",
        "        ylabel = 'Loss'\n",
        "        title = 'Training and Validation Loss'\n",
        "        train_legend = 'Training Loss'\n",
        "        val_legend = 'Validation Loss'\n",
        "        train_metric = 'loss'\n",
        "        val_metric = 'val_loss'\n",
        "    else:\n",
        "        ylabel = 'Accuracy'\n",
        "        title = 'Training and Validation Accuracy'\n",
        "        train_legend = 'Training Accuracy'\n",
        "        val_legend = 'Validation Accuracy'\n",
        "        train_metric = 'accuracy'\n",
        "        val_metric = 'val_accuracy'\n",
        "    train = hist.history[train_metric]\n",
        "    val = hist.history[val_metric]\n",
        "    epochs = range(1, len(val) + 1)\n",
        "\n",
        "\n",
        "    plt.figure(figsize=figsize)\n",
        "    plt.plot(epochs, train, 'bo', label=train_legend)\n",
        "    plt.plot(epochs, val, 'b', label=val_legend)\n",
        "    plt.title(title, fontsize=24)\n",
        "    plt.xlabel('Epochs')\n",
        "    plt.ylabel(ylabel)\n",
        "    plt.legend()\n",
        "    plt.show()"
      ],
      "execution_count": 32,
      "outputs": []
    },
    {
      "cell_type": "code",
      "metadata": {
        "colab": {
          "base_uri": "https://localhost:8080/",
          "height": 1000
        },
        "id": "y5a9lavDvc_9",
        "outputId": "32a1b421-3b74-4b96-82b7-38190151ff0e"
      },
      "source": [
        "# Extract the best model training history\n",
        "hist = hist_dict['mod_5_8_8_7'][0]\n",
        "\n",
        "# Plot the training and validation loss\n",
        "plot_performance(hist)\n",
        "\n",
        "# Plot the training and validation accuracy\n",
        "plot_performance(hist, 'accuracy')"
      ],
      "execution_count": 33,
      "outputs": [
        {
          "output_type": "display_data",
          "data": {
            "image/png": "[encoded data removed]",
            "text/plain": [
              "<Figure size 864x576 with 1 Axes>"
            ]
          },
          "metadata": {
            "tags": [],
            "needs_background": "light"
          }
        },
        {
          "output_type": "display_data",
          "data": {
            "image/png": "[encoded data removed]",
            "text/plain": [
              "<Figure size 864x576 with 1 Axes>"
            ]
          },
          "metadata": {
            "tags": [],
            "needs_background": "light"
          }
        }
      ]
    },
    {
      "cell_type": "markdown",
      "metadata": {
        "id": "HiVFRDCI7W8F"
      },
      "source": [
        "<a id='5'></a>\n",
        "## 5 Saving training history"
      ]
    },
    {
      "cell_type": "code",
      "metadata": {
        "id": "Iee7ugC01qFS"
      },
      "source": [
        "def to_pickle(data, filename, base_path=MODEL_PATH):\n",
        "    \"\"\"\n",
        "    Save data as .pkl file.\n",
        "    \"\"\"\n",
        "    filename = os.path.join(base_path, filename)\n",
        "    outfile = open(filename,'wb')\n",
        "    pickle.dump(data, outfile)\n",
        "    outfile.close()\n",
        "\n",
        "def load_pickle(filename, base_path=MODEL_PATH):\n",
        "    \"\"\"\n",
        "    Load .pkl file.\n",
        "    \"\"\"\n",
        "    filename = os.path.join(base_path, filename)\n",
        "    infile = open(filename,'rb')\n",
        "    data = pickle.load(infile)\n",
        "    infile.close()\n",
        "    return data"
      ],
      "execution_count": 34,
      "outputs": []
    },
    {
      "cell_type": "code",
      "metadata": {
        "id": "mmRaLH_z4V2q"
      },
      "source": [
        "# Save model training history as .pkl files\n",
        "hist_to_pickle = {}\n",
        "for k, v in hist_dict.items():\n",
        "  hist_to_pickle[k] = v[0].history\n",
        "to_pickle(hist_to_pickle, 'training_history.pkl')"
      ],
      "execution_count": 35,
      "outputs": []
    },
    {
      "cell_type": "code",
      "metadata": {
        "id": "8Ua66rol8VRg"
      },
      "source": [
        "# Save hyperparameters tuning results\n",
        "scores.to_csv(os.path.join(DATA_PATH, 'tuning_results.csv'), index=False)"
      ],
      "execution_count": 36,
      "outputs": []
    }
  ]
}