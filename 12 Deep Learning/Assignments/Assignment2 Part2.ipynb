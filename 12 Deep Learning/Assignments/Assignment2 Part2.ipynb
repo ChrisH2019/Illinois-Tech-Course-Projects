{
 "cells": [
  {
   "cell_type": "markdown",
   "metadata": {},
   "source": [
    "# Neural Network Implementation\n",
    "### Christopher W. Hong"
   ]
  },
  {
   "cell_type": "markdown",
   "metadata": {},
   "source": [
    "## Neural Network Class"
   ]
  },
  {
   "cell_type": "code",
   "execution_count": 198,
   "metadata": {},
   "outputs": [],
   "source": [
    "import numpy as np\n",
    "import matplotlib.pyplot as plt\n",
    "\n",
    "class NeuralNetwork():\n",
    "    \"\"\"Multi-layer neural network classifier.\"\"\"\n",
    "    \n",
    "    def __init__(self, n_input_nodes, n_output_nodes, n_hidden_nodes=16, eta = 1e-2, n_layers=3, seed=0):\n",
    "        \"\"\"Define the model structure and initialize weights.\"\"\"\n",
    "        # Set the layer sizes\n",
    "        self.random = np.random.RandomState(seed)\n",
    "        self.n_input_nodes = n_input_nodes\n",
    "        self.n_hidden_nodes = n_hidden_nodes\n",
    "        self.n_output_nodes = n_output_nodes\n",
    "        self.n_layers = n_layers\n",
    "        self.eta = eta\n",
    "        \n",
    "        # Initialize parameters\n",
    "        self.parameters = {}\n",
    "        self.parameters['W1'] = np.random.randn(self.n_input_nodes, self.n_hidden_nodes) * 0.01\n",
    "        self.parameters['b1'] = np.zeros((1, self.n_hidden_nodes))\n",
    "        self.parameters['W2'] = np.random.randn(self.n_hidden_nodes, self.n_hidden_nodes) * 0.01\n",
    "        self.parameters['b2'] = np.zeros((1, self.n_hidden_nodes))\n",
    "        self.parameters['W3'] = np.random.randn(self.n_hidden_nodes, self.n_output_nodes) * 0.01\n",
    "        self.parameters['b3'] = np.zeros((1, self.n_output_nodes))\n",
    "        \n",
    "    def _sigmoid(self, z):\n",
    "        \"\"\"Implement the sigmoid function.\"\"\"\n",
    "        return 1. / (1. + np.exp(-z))\n",
    "    \n",
    "    def _grad_sigmoid(self, z):\n",
    "        \"\"\"Compute the gradients of sigmoid.\"\"\"\n",
    "        return self._sigmoid(z) * (1 - self._sigmoid(z))\n",
    "    \n",
    "    def _softmax(self, z):\n",
    "        \"\"\"Implement the softmax function.\"\"\"\n",
    "        exps = np.exp(z - np.max(z, axis=1, keepdims=True))\n",
    "        \n",
    "        return exps / np.sum(exps, axis=1, keepdims=True) # Normalize the probabilities\n",
    "    \n",
    "    def forward_propagation(self, X):\n",
    "        \"\"\"Implement forward pass.\"\"\"\n",
    "        caches = {}\n",
    "        \n",
    "        # Input to the first hidden layers\n",
    "        z_h_1 = X @ self.parameters['W1'] + self.parameters['b1']\n",
    "        # Output of the first hidden layers\n",
    "        a_h_1 = self._sigmoid(z_h_1)\n",
    "        # Store the intermediate results\n",
    "        caches['Z1'] = z_h_1\n",
    "        caches['A1'] = a_h_1\n",
    "\n",
    "        # Input to the second hidden layers\n",
    "        z_h_2 = a_h_1 @ self.parameters['W2'] + self.parameters['b2']\n",
    "        # Output of the second hidden layers\n",
    "        a_h_2 = self._sigmoid(z_h_2)\n",
    "        # Store the intermediate results\n",
    "        caches['Z2'] = z_h_2\n",
    "        caches['A2'] = a_h_2\n",
    "            \n",
    "        # Input to the output layers\n",
    "        z_h_o = a_h_2 @ self.parameters['W3'] + self.parameters['b3']\n",
    "        # Output of the final layers\n",
    "        y_hat = self._softmax(z_h_o)\n",
    "        # Store the final results\n",
    "        caches['Z3'] = z_h_o\n",
    "        caches['y_hat'] = y_hat\n",
    "        \n",
    "        return y_hat, caches\n",
    "    \n",
    "    def backward_propagation(self, X, y, y_hat, caches):\n",
    "        \"\"\"Implement backward pass.\"\"\"\n",
    "        grads = {}\n",
    "        \n",
    "        # Calculate the loss\n",
    "        grad_y_hat = y_hat - y\n",
    "        \n",
    "        # Calculate the gradients of the output parameters\n",
    "        grads['dW3'] = caches['A2'].T @ grad_y_hat\n",
    "        grads['db3'] = np.sum(grad_y_hat, axis=0, keepdims=True)\n",
    "        \n",
    "        # Backward propagate the gradient to the second layer\n",
    "        grad_2 = grad_y_hat @ self.parameters['W3'].T * self._grad_sigmoid(caches['Z2'])\n",
    "        \n",
    "        # Calculate the gradients of the parameters of the second layer\n",
    "        grads['dW2'] = caches['A1'].T @ grad_2\n",
    "        grads['db2'] = np.sum(grad_2, axis=0, keepdims=True)\n",
    "        \n",
    "        # Backward propagate the gradient to the first layer\n",
    "        grad_1 = grad_2 @ self.parameters['W2'].T * self._grad_sigmoid(caches['Z1'])\n",
    "        \n",
    "        # Calculate the gradients of the parameters of the first layer\n",
    "        grads['dW1'] = X.T @ grad_1\n",
    "        grads['db1'] = np.sum(grad_1, axis=0, keepdims=True)\n",
    "              \n",
    "        return grads\n",
    "    \n",
    "    def update_parameters(self, grads):\n",
    "        \"\"\"Update parameters using gradient descent.\"\"\"\n",
    "        for layer in range(1, self.n_layers+1):\n",
    "            self.parameters['W'+str(layer)] -= self.eta * grads['dW'+str(layer)]\n",
    "            self.parameters['b'+str(layer)] -= self.eta * grads['db'+str(layer)]\n",
    "            \n",
    "    def _sgd(self, X, y):\n",
    "        \"\"\"Implement the SGD.\"\"\"\n",
    "        # Yield examples one by one\n",
    "        for i in range(0, X.shape[0]):\n",
    "            yield X[i].reshape(1,-1), y[i].reshape(1,-1)\n",
    "            \n",
    "    def fit(self, X, y, epochs=2000, print_loss=True):\n",
    "        \"\"\"Train the network from training data.\"\"\"\n",
    "        history = {}\n",
    "        history['loss'] = []\n",
    "        history['acc'] = []\n",
    "        \n",
    "        for i in range(epochs):\n",
    "            losses = np.zeros(X.shape[0])\n",
    "            accs = np.zeros(X.shape[0])\n",
    "            ind = 0\n",
    "            for X_sgd, y_sgd in self._sgd(X, y):\n",
    "                y_hat, caches = self.forward_propagation(X_sgd)\n",
    "                losses[ind] = self.compute_loss(y_sgd, y_hat)\n",
    "                grads = self.backward_propagation(X_sgd, y_sgd, y_hat, caches)\n",
    "                self.update_parameters(grads)\n",
    "                accs[ind] = self.evaluate(X_sgd, y_sgd)\n",
    "                ind += 1\n",
    "            history['loss'].append(np.sum(losses))\n",
    "            history['acc'].append(np.mean(accs))\n",
    "            if print_loss and i % 100 == 0:\n",
    "                print('epochs: {}\\tloss: {:.2f}\\tacc: {:.2f}%'.format(\\\n",
    "                    i, np.average(history['loss']), np.mean(history['acc'])))\n",
    "        \n",
    "        return history\n",
    "            \n",
    "    def predict(self, X):\n",
    "        \"\"\"Using the learned parameters to predict the label of each sample.\"\"\"\n",
    "        y_hat, caches = self.forward_propagation(X)\n",
    "        \n",
    "        return np.argmax(y_hat, axis=1)\n",
    "    \n",
    "    def evaluate(self, X, y):\n",
    "        \"\"\"Evaluate the accuracy rate of the network.\"\"\"\n",
    "        y_hat = self.predict(X)\n",
    "        y = y.argmax(axis=1)\n",
    "        acc = (y_hat==y).mean() * 100\n",
    "        \n",
    "        return acc    \n",
    "        \n",
    "    def compute_loss(self, y, y_hat):\n",
    "        \"\"\"Implement the categorical crossentropy loss function.\"\"\"\n",
    "        # Calcuate the loss\n",
    "        y = y.argmax(axis=1) # y is one-hot encoding vectors\n",
    "        log_probs = -np.log(y_hat[range(y.shape[0]),y] + 1e-6)\n",
    "        loss= np.sum(log_probs)\n",
    "        \n",
    "        return loss\n",
    "    \n",
    "    def plot_performance(self, history):\n",
    "        \"\"\"Plot the training loss and accuracy.\"\"\"\n",
    "        loss = history['loss']\n",
    "        epochs = range(1, len(loss)+1)\n",
    "\n",
    "        plt.plot(epochs, loss, 'b', label='Training loss')\n",
    "        plt.title('Training loss')\n",
    "        plt.xlabel('Epochs')\n",
    "        plt.ylabel('Loss')\n",
    "        plt.legend()\n",
    "\n",
    "        plt.show();\n",
    "\n",
    "        plt.clf()\n",
    "\n",
    "        acc = history['acc']\n",
    "\n",
    "        plt.plot(epochs, acc, 'b', label='Training acc')\n",
    "        plt.title('Training accuracy')\n",
    "        plt.xlabel('Epochs')\n",
    "        plt.ylabel('Acc')\n",
    "        plt.legend()\n",
    "\n",
    "        plt.show();"
   ]
  },
  {
   "cell_type": "code",
   "execution_count": 199,
   "metadata": {},
   "outputs": [],
   "source": [
    "def plot_model_performance(history):\n",
    "    loss = history.history['loss']\n",
    "    epochs = range(1, len(loss)+1)\n",
    "    plt.plot(epochs, loss, 'b', label='Training loss')\n",
    "    plt.title('Training loss')\n",
    "    plt.xlabel('Epochs')\n",
    "    plt.ylabel('Loss')\n",
    "    plt.legend()\n",
    "\n",
    "    plt.show();\n",
    "    \n",
    "    plt.clf()\n",
    "    acc = history.history['accuracy']\n",
    "    plt.plot(epochs, acc, 'b', label='Training acc')\n",
    "    plt.title('Training accuracy')\n",
    "    plt.xlabel('Epochs')\n",
    "    plt.ylabel('Acc')\n",
    "    plt.legend()\n",
    "\n",
    "    plt.show();"
   ]
  },
  {
   "cell_type": "code",
   "execution_count": 168,
   "metadata": {},
   "outputs": [],
   "source": [
    "from sklearn import datasets\n",
    "from sklearn.model_selection import train_test_split\n",
    "from sklearn.preprocessing import StandardScaler"
   ]
  },
  {
   "cell_type": "markdown",
   "metadata": {},
   "source": [
    "## Iris dataset"
   ]
  },
  {
   "cell_type": "code",
   "execution_count": 201,
   "metadata": {},
   "outputs": [],
   "source": [
    "iris = datasets.load_iris()\n",
    "X = iris.data\n",
    "y = iris.target"
   ]
  },
  {
   "cell_type": "code",
   "execution_count": 202,
   "metadata": {},
   "outputs": [],
   "source": [
    "scaler = StandardScaler()\n",
    "X = scaler.fit_transform(X)\n",
    "X_train, X_test, y_train ,y_test = train_test_split(X, y, test_size=0.3, stratify=y, random_state=0)"
   ]
  },
  {
   "cell_type": "code",
   "execution_count": 203,
   "metadata": {},
   "outputs": [],
   "source": [
    "y_train = np.asarray(to_categorical(y_train)).astype('float32')\n",
    "y_test = np.asarray(to_categorical(y_test)).astype('float32')"
   ]
  },
  {
   "cell_type": "code",
   "execution_count": 204,
   "metadata": {},
   "outputs": [
    {
     "name": "stdout",
     "output_type": "stream",
     "text": [
      "epochs: 0\tloss: 117.72\tacc: 49.52%\n",
      "epochs: 100\tloss: 117.50\tacc: 46.90%\n",
      "epochs: 200\tloss: 117.25\tacc: 46.73%\n",
      "epochs: 300\tloss: 110.61\tacc: 51.96%\n",
      "epochs: 400\tloss: 91.31\tacc: 62.42%\n",
      "epochs: 500\tloss: 76.81\tacc: 69.05%\n",
      "epochs: 600\tloss: 66.08\tacc: 73.53%\n",
      "epochs: 700\tloss: 58.05\tacc: 76.69%\n",
      "epochs: 800\tloss: 51.89\tacc: 79.23%\n",
      "epochs: 900\tloss: 47.02\tacc: 81.22%\n",
      "epochs: 1000\tloss: 43.08\tacc: 82.88%\n",
      "epochs: 1100\tloss: 39.84\tacc: 84.27%\n",
      "epochs: 1200\tloss: 37.11\tacc: 85.42%\n",
      "epochs: 1300\tloss: 34.80\tacc: 86.39%\n",
      "epochs: 1400\tloss: 32.80\tacc: 87.23%\n",
      "epochs: 1500\tloss: 31.07\tacc: 87.95%\n",
      "epochs: 1600\tloss: 29.54\tacc: 88.58%\n",
      "epochs: 1700\tloss: 28.20\tacc: 89.14%\n",
      "epochs: 1800\tloss: 26.99\tacc: 89.64%\n",
      "epochs: 1900\tloss: 25.92\tacc: 90.09%\n",
      "epochs: 2000\tloss: 24.95\tacc: 90.49%\n",
      "epochs: 2100\tloss: 24.06\tacc: 90.85%\n",
      "epochs: 2200\tloss: 23.26\tacc: 91.18%\n",
      "epochs: 2300\tloss: 22.53\tacc: 91.48%\n",
      "epochs: 2400\tloss: 21.86\tacc: 91.75%\n",
      "epochs: 2500\tloss: 21.24\tacc: 92.01%\n",
      "epochs: 2600\tloss: 20.66\tacc: 92.24%\n",
      "epochs: 2700\tloss: 20.13\tacc: 92.46%\n",
      "epochs: 2800\tloss: 19.64\tacc: 92.66%\n",
      "epochs: 2900\tloss: 19.18\tacc: 92.85%\n",
      "epochs: 3000\tloss: 18.75\tacc: 93.02%\n",
      "epochs: 3100\tloss: 18.34\tacc: 93.18%\n",
      "epochs: 3200\tloss: 17.97\tacc: 93.34%\n",
      "epochs: 3300\tloss: 17.61\tacc: 93.48%\n",
      "epochs: 3400\tloss: 17.28\tacc: 93.62%\n",
      "epochs: 3500\tloss: 16.96\tacc: 93.75%\n",
      "epochs: 3600\tloss: 16.66\tacc: 93.87%\n",
      "epochs: 3700\tloss: 16.38\tacc: 93.98%\n",
      "epochs: 3800\tloss: 16.11\tacc: 94.09%\n",
      "epochs: 3900\tloss: 15.86\tacc: 94.19%\n",
      "epochs: 4000\tloss: 15.62\tacc: 94.29%\n",
      "epochs: 4100\tloss: 15.39\tacc: 94.38%\n",
      "epochs: 4200\tloss: 15.17\tacc: 94.47%\n",
      "epochs: 4300\tloss: 14.96\tacc: 94.55%\n",
      "epochs: 4400\tloss: 14.76\tacc: 94.64%\n",
      "epochs: 4500\tloss: 14.57\tacc: 94.71%\n",
      "epochs: 4600\tloss: 14.39\tacc: 94.79%\n",
      "epochs: 4700\tloss: 14.21\tacc: 94.86%\n",
      "epochs: 4800\tloss: 14.04\tacc: 94.92%\n",
      "epochs: 4900\tloss: 13.88\tacc: 94.99%\n",
      "epochs: 5000\tloss: 13.73\tacc: 95.05%\n"
     ]
    }
   ],
   "source": [
    "nn = NeuralNetwork(X_train.shape[1], 3, 32)\n",
    "history = nn.fit(X_train, y_train, 5001)"
   ]
  },
  {
   "cell_type": "code",
   "execution_count": 205,
   "metadata": {},
   "outputs": [
    {
     "data": {
      "image/png": "[encoded data removed]",
      "text/plain": [
       "<Figure size 432x288 with 1 Axes>"
      ]
     },
     "metadata": {
      "needs_background": "light"
     },
     "output_type": "display_data"
    },
    {
     "data": {
      "image/png": "[encoded data removed]",
      "text/plain": [
       "<Figure size 432x288 with 1 Axes>"
      ]
     },
     "metadata": {
      "needs_background": "light"
     },
     "output_type": "display_data"
    }
   ],
   "source": [
    "nn.plot_performance(history)"
   ]
  },
  {
   "cell_type": "code",
   "execution_count": 207,
   "metadata": {
    "scrolled": false
   },
   "outputs": [
    {
     "name": "stdout",
     "output_type": "stream",
     "text": [
      "Test acc: 100.0\n"
     ]
    }
   ],
   "source": [
    "print('Test acc:', nn.evaluate(X_test, y_test))"
   ]
  },
  {
   "cell_type": "markdown",
   "metadata": {},
   "source": [
    "### Keras model"
   ]
  },
  {
   "cell_type": "code",
   "execution_count": 208,
   "metadata": {},
   "outputs": [],
   "source": [
    "import keras\n",
    "import pandas as pd\n",
    "import matplotlib.pyplot as plt\n",
    "from keras.utils.np_utils import to_categorical"
   ]
  },
  {
   "cell_type": "code",
   "execution_count": 214,
   "metadata": {},
   "outputs": [],
   "source": [
    "model = keras.models.Sequential()\n",
    "model.add(keras.layers.Dense(32, activation='sigmoid', input_shape=(4,)))\n",
    "model.add(keras.layers.Dense(32))\n",
    "model.add(keras.layers.Dense(3, activation='softmax'))"
   ]
  },
  {
   "cell_type": "code",
   "execution_count": 215,
   "metadata": {},
   "outputs": [],
   "source": [
    "opt = keras.optimizers.SGD(learning_rate=1e-2)\n",
    "model.compile(optimizer=opt, loss='categorical_crossentropy', metrics=['accuracy'])"
   ]
  },
  {
   "cell_type": "code",
   "execution_count": 216,
   "metadata": {},
   "outputs": [],
   "source": [
    "history = model.fit(X_train, y_train, epochs=100, batch_size=1, verbose=0)"
   ]
  },
  {
   "cell_type": "code",
   "execution_count": 217,
   "metadata": {},
   "outputs": [
    {
     "data": {
      "image/png": "[encoded data removed]",
      "text/plain": [
       "<Figure size 432x288 with 1 Axes>"
      ]
     },
     "metadata": {
      "needs_background": "light"
     },
     "output_type": "display_data"
    },
    {
     "data": {
      "image/png": "[encoded data removed]",
      "text/plain": [
       "<Figure size 432x288 with 1 Axes>"
      ]
     },
     "metadata": {
      "needs_background": "light"
     },
     "output_type": "display_data"
    }
   ],
   "source": [
    "plot_model_performance(history)"
   ]
  },
  {
   "cell_type": "code",
   "execution_count": 218,
   "metadata": {},
   "outputs": [
    {
     "name": "stdout",
     "output_type": "stream",
     "text": [
      "45/45 [==============================] - 0s 2ms/step\n"
     ]
    },
    {
     "data": {
      "text/plain": [
       "[0.03910314137529996, 0.9777777791023254]"
      ]
     },
     "execution_count": 218,
     "metadata": {},
     "output_type": "execute_result"
    }
   ],
   "source": [
    "model.evaluate(X_test, y_test)"
   ]
  },
  {
   "cell_type": "markdown",
   "metadata": {},
   "source": [
    "## Wine dataset"
   ]
  },
  {
   "cell_type": "code",
   "execution_count": 219,
   "metadata": {},
   "outputs": [],
   "source": [
    "wine = datasets.load_wine()"
   ]
  },
  {
   "cell_type": "code",
   "execution_count": 220,
   "metadata": {},
   "outputs": [],
   "source": [
    "X = wine.data\n",
    "y = wine.target"
   ]
  },
  {
   "cell_type": "code",
   "execution_count": 221,
   "metadata": {},
   "outputs": [],
   "source": [
    "scaler = StandardScaler()\n",
    "X = scaler.fit_transform(X)\n",
    "X_train, X_test, y_train ,y_test = train_test_split(X, y, test_size=0.3, stratify=y, random_state=0)\n",
    "y_train = np.asarray(to_categorical(y_train)).astype('float32')\n",
    "y_test = np.asarray(to_categorical(y_test)).astype('float32')"
   ]
  },
  {
   "cell_type": "code",
   "execution_count": 222,
   "metadata": {
    "scrolled": true
   },
   "outputs": [
    {
     "name": "stdout",
     "output_type": "stream",
     "text": [
      "epochs: 0\tloss: 140.05\tacc: 52.42%\n",
      "epochs: 100\tloss: 138.21\tacc: 47.64%\n",
      "epochs: 200\tloss: 106.67\tacc: 62.58%\n",
      "epochs: 300\tloss: 77.92\tacc: 73.92%\n",
      "epochs: 400\tloss: 59.66\tacc: 80.37%\n",
      "epochs: 500\tloss: 48.12\tacc: 84.28%\n",
      "epochs: 600\tloss: 40.27\tacc: 86.90%\n",
      "epochs: 700\tloss: 34.61\tacc: 88.77%\n",
      "epochs: 800\tloss: 30.34\tacc: 90.17%\n",
      "epochs: 900\tloss: 27.01\tacc: 91.26%\n",
      "epochs: 1000\tloss: 24.33\tacc: 92.13%\n",
      "epochs: 1100\tloss: 22.14\tacc: 92.85%\n",
      "epochs: 1200\tloss: 20.31\tacc: 93.44%\n",
      "epochs: 1300\tloss: 18.76\tacc: 93.95%\n",
      "epochs: 1400\tloss: 17.43\tacc: 94.38%\n",
      "epochs: 1500\tloss: 16.28\tacc: 94.75%\n",
      "epochs: 1600\tloss: 15.27\tacc: 95.08%\n",
      "epochs: 1700\tloss: 14.38\tacc: 95.37%\n",
      "epochs: 1800\tloss: 13.58\tacc: 95.63%\n",
      "epochs: 1900\tloss: 12.87\tacc: 95.86%\n",
      "epochs: 2000\tloss: 12.23\tacc: 96.07%\n",
      "epochs: 2100\tloss: 11.65\tacc: 96.25%\n",
      "epochs: 2200\tloss: 11.13\tacc: 96.42%\n",
      "epochs: 2300\tloss: 10.65\tacc: 96.58%\n",
      "epochs: 2400\tloss: 10.20\tacc: 96.72%\n",
      "epochs: 2500\tloss: 9.80\tacc: 96.85%\n",
      "epochs: 2600\tloss: 9.42\tacc: 96.97%\n",
      "epochs: 2700\tloss: 9.08\tacc: 97.09%\n",
      "epochs: 2800\tloss: 8.75\tacc: 97.19%\n",
      "epochs: 2900\tloss: 8.45\tacc: 97.29%\n",
      "epochs: 3000\tloss: 8.17\tacc: 97.38%\n"
     ]
    }
   ],
   "source": [
    "nn = NeuralNetwork(X_train.shape[1], 3, 64)\n",
    "history = nn.fit(X_train, y_train, 3001)"
   ]
  },
  {
   "cell_type": "code",
   "execution_count": 223,
   "metadata": {},
   "outputs": [
    {
     "data": {
      "image/png": "[encoded data removed]",
      "text/plain": [
       "<Figure size 432x288 with 1 Axes>"
      ]
     },
     "metadata": {
      "needs_background": "light"
     },
     "output_type": "display_data"
    },
    {
     "data": {
      "image/png": "[encoded data removed]",
      "text/plain": [
       "<Figure size 432x288 with 1 Axes>"
      ]
     },
     "metadata": {
      "needs_background": "light"
     },
     "output_type": "display_data"
    }
   ],
   "source": [
    "nn.plot_performance(history)"
   ]
  },
  {
   "cell_type": "code",
   "execution_count": 224,
   "metadata": {},
   "outputs": [
    {
     "name": "stdout",
     "output_type": "stream",
     "text": [
      "Test acc: 100.0\n"
     ]
    }
   ],
   "source": [
    "print('Test acc:', nn.evaluate(X_test, y_test))"
   ]
  },
  {
   "cell_type": "markdown",
   "metadata": {},
   "source": [
    "### Keras model"
   ]
  },
  {
   "cell_type": "code",
   "execution_count": 225,
   "metadata": {},
   "outputs": [],
   "source": [
    "model = keras.models.Sequential()\n",
    "model.add(keras.layers.Dense(64, activation='sigmoid', input_shape=(X_train.shape[1],)))\n",
    "model.add(keras.layers.Dense(64))\n",
    "model.add(keras.layers.Dense(3, activation='softmax'))\n",
    "opt = keras.optimizers.SGD(learning_rate=1e-2)\n",
    "model.compile(optimizer=opt, loss='categorical_crossentropy', metrics=['accuracy'])\n",
    "history = model.fit(X_train, y_train, epochs=10, batch_size=1, verbose=0)"
   ]
  },
  {
   "cell_type": "code",
   "execution_count": 226,
   "metadata": {},
   "outputs": [
    {
     "data": {
      "image/png": "[encoded data removed]",
      "text/plain": [
       "<Figure size 432x288 with 1 Axes>"
      ]
     },
     "metadata": {
      "needs_background": "light"
     },
     "output_type": "display_data"
    },
    {
     "data": {
      "image/png": "[encoded data removed]",
      "text/plain": [
       "<Figure size 432x288 with 1 Axes>"
      ]
     },
     "metadata": {
      "needs_background": "light"
     },
     "output_type": "display_data"
    }
   ],
   "source": [
    "plot_model_performance(history)"
   ]
  },
  {
   "cell_type": "code",
   "execution_count": 227,
   "metadata": {},
   "outputs": [
    {
     "name": "stdout",
     "output_type": "stream",
     "text": [
      "54/54 [==============================] - 0s 2ms/step\n"
     ]
    },
    {
     "data": {
      "text/plain": [
       "[0.07097388638390435, 1.0]"
      ]
     },
     "execution_count": 227,
     "metadata": {},
     "output_type": "execute_result"
    }
   ],
   "source": [
    "model.evaluate(X_test, y_test)"
   ]
  }
 ],
 "metadata": {
  "kernelspec": {
   "display_name": "Python 3",
   "language": "python",
   "name": "python3"
  },
  "language_info": {
   "codemirror_mode": {
    "name": "ipython",
    "version": 3
   },
   "file_extension": ".py",
   "mimetype": "text/x-python",
   "name": "python",
   "nbconvert_exporter": "python",
   "pygments_lexer": "ipython3",
   "version": "3.7.6"
  }
 },
 "nbformat": 4,
 "nbformat_minor": 4
}
