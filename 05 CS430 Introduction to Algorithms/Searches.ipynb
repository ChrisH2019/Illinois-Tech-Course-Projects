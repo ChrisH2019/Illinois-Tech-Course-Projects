{
 "cells": [
  {
   "cell_type": "markdown",
   "metadata": {},
   "source": [
    "# Searches"
   ]
  },
  {
   "cell_type": "markdown",
   "metadata": {},
   "source": [
    "## Linear Search"
   ]
  },
  {
   "cell_type": "code",
   "execution_count": 33,
   "metadata": {},
   "outputs": [],
   "source": [
    "def linear_search(search_list, target_value):\n",
    "  for i in range(len(search_list)):\n",
    "    if search_list[i] == target_value:\n",
    "      return i\n",
    "  return None     "
   ]
  },
  {
   "cell_type": "code",
   "execution_count": 34,
   "metadata": {},
   "outputs": [],
   "source": [
    "from unittest import TestCase\n",
    "import random\n",
    "\n",
    "tc = TestCase()\n",
    "data1 = [8, 1, 0, 4, 3, 6, 5, 7, 9, 2]\n",
    "data2 = []\n",
    "\n",
    "tc.assertEqual(5, linear_search(data1, 6))\n",
    "tc.assertEqual(None, linear_search(data1, -1))\n",
    "tc.assertEqual(1, linear_search(data1, 1))\n",
    "tc.assertEqual(None, linear_search(data2, 0))"
   ]
  },
  {
   "cell_type": "markdown",
   "metadata": {},
   "source": [
    "## Linear Search Duplicates"
   ]
  },
  {
   "cell_type": "code",
   "execution_count": 35,
   "metadata": {},
   "outputs": [],
   "source": [
    "def linear_search_duplicates(search_list, target_value):\n",
    "    matches = []\n",
    "    for i in range(len(search_list)):\n",
    "        if search_list[i] == target_value:\n",
    "            matches.append(i)\n",
    "    if matches:\n",
    "        return matches\n",
    "    return None"
   ]
  },
  {
   "cell_type": "code",
   "execution_count": 36,
   "metadata": {},
   "outputs": [],
   "source": [
    "from unittest import TestCase\n",
    "import random\n",
    "\n",
    "tc = TestCase()\n",
    "data1 = [8, 1, 0, 4, 3, 6, 5, 7, 9, 2, 1, 1]\n",
    "data2 = []\n",
    "\n",
    "tc.assertEqual([1, 10, 11], linear_search_duplicates(data1, 1))\n",
    "tc.assertEqual(None, linear_search_duplicates(data2, 1))"
   ]
  },
  {
   "cell_type": "markdown",
   "metadata": {},
   "source": [
    "## Linear Search Min"
   ]
  },
  {
   "cell_type": "code",
   "execution_count": 37,
   "metadata": {},
   "outputs": [],
   "source": [
    "def linear_search_min(search_list):\n",
    "    if not len(search_list):\n",
    "        return None\n",
    "    elif len(search_list) == 1:\n",
    "        return search_list[0]\n",
    "    else:\n",
    "        mininum = search_list[0]\n",
    "        for i in range(1, len(search_list)):\n",
    "            if search_list[i] < mininum:\n",
    "                mininum = search_list[i]\n",
    "                \n",
    "    return mininum"
   ]
  },
  {
   "cell_type": "code",
   "execution_count": 38,
   "metadata": {},
   "outputs": [],
   "source": [
    "from unittest import TestCase\n",
    "import random\n",
    "\n",
    "tc = TestCase()\n",
    "data1 = [random.randrange(-100, 100) for _ in range(10)]\n",
    "data2 = [1]\n",
    "data3 = []\n",
    "\n",
    "tc.assertEqual(min(data1), linear_search_min(data1))\n",
    "tc.assertEqual(1, linear_search_min(data2))\n",
    "tc.assertEqual(None, linear_search_min(data3))"
   ]
  },
  {
   "cell_type": "code",
   "execution_count": 39,
   "metadata": {},
   "outputs": [],
   "source": [
    "def linear_search__2nd_min(search_list):\n",
    "    if not len(search_list) or len(search_list) == 1:\n",
    "        return None\n",
    "    else:\n",
    "        min1 = search_list[0]\n",
    "        min2 = search_list[1]\n",
    "        if min2 < min1:\n",
    "            min1, min2 = min2, min1\n",
    "        for i in range(2, len(search_list)):\n",
    "            if search_list[i] < min1:\n",
    "                min1, min2 = search_list[i], min1\n",
    "                \n",
    "    return min2"
   ]
  },
  {
   "cell_type": "code",
   "execution_count": 40,
   "metadata": {},
   "outputs": [],
   "source": [
    "from unittest import TestCase\n",
    "\n",
    "tc = TestCase()\n",
    "data1 = [i for i in range(10, -1, -1)]\n",
    "data2 = [1, 2]\n",
    "data3 = [1]\n",
    "data4 = []\n",
    "\n",
    "tc.assertEqual(1, linear_search__2nd_min(data1))\n",
    "tc.assertEqual(2, linear_search__2nd_min(data2))\n",
    "tc.assertEqual(None, linear_search__2nd_min(data3))\n",
    "tc.assertEqual(None, linear_search__2nd_min(data4))"
   ]
  },
  {
   "cell_type": "markdown",
   "metadata": {},
   "source": [
    "## Binary Search"
   ]
  },
  {
   "cell_type": "code",
   "execution_count": 44,
   "metadata": {},
   "outputs": [],
   "source": [
    "def binary_search(sorted_list, target):  \n",
    "    if not sorted_list:\n",
    "        return None\n",
    "    \n",
    "    left = 0\n",
    "    right = len(sorted_list) - 1\n",
    "    \n",
    "    while left <= right:\n",
    "        mid = (left + right) // 2\n",
    "        if sorted_list[mid] == target:\n",
    "            return mid\n",
    "        elif sorted_list[mid] >target:\n",
    "            right = mid - 1\n",
    "        else:\n",
    "            left = mid + 1\n",
    "    \n",
    "    return None"
   ]
  },
  {
   "cell_type": "code",
   "execution_count": 45,
   "metadata": {
    "scrolled": true
   },
   "outputs": [],
   "source": [
    "from unittest import TestCase\n",
    "\n",
    "tc = TestCase()\n",
    "data1 = [i for i in range(10)]\n",
    "data2 = [1, 2]\n",
    "data3 = [1]\n",
    "data4 = []\n",
    "\n",
    "tc.assertEqual(6, binary_search(data1, 6))\n",
    "tc.assertEqual(None, binary_search(data1, -1))\n",
    "tc.assertEqual(0, binary_search(data2, 1))\n",
    "tc.assertEqual(None, binary_search(data2, 3))\n",
    "tc.assertEqual(0, binary_search(data3, 1))\n",
    "tc.assertEqual(None, binary_search(data3, 8))\n",
    "tc.assertEqual(None, binary_search(data4, 1))"
   ]
  },
  {
   "cell_type": "code",
   "execution_count": 52,
   "metadata": {},
   "outputs": [],
   "source": [
    "def binary_search(sorted_list, left, right, target):\n",
    "    if left >= right:\n",
    "        return None\n",
    "    mid = (left + right) // 2\n",
    "    if sorted_list[mid] == target:\n",
    "        return mid\n",
    "    if sorted_list[mid] > target:\n",
    "        return binary_search(sorted_list, left, mid, target)\n",
    "    if sorted_list[mid] < target:\n",
    "        return binary_search(sorted_list, mid + 1, right, target)"
   ]
  },
  {
   "cell_type": "code",
   "execution_count": 58,
   "metadata": {},
   "outputs": [],
   "source": [
    "from unittest import TestCase\n",
    "\n",
    "tc = TestCase()\n",
    "data1 = [i for i in range(10)]\n",
    "data2 = [1, 2]\n",
    "data3 = [1]\n",
    "data4 = []\n",
    "\n",
    "tc.assertEqual(6, binary_search(data1, 0, len(data1), 6))\n",
    "tc.assertEqual(None, binary_search(data1, 0, len(data1), -1))\n",
    "tc.assertEqual(0, binary_search(data2, 0, len(data2), 1))\n",
    "tc.assertEqual(None, binary_search(data2, 0, len(data2), 3))\n",
    "tc.assertEqual(0, binary_search(data3, 0, len(data3), 1))\n",
    "tc.assertEqual(None, binary_search(data3, 0, len(data3), 8))\n",
    "tc.assertEqual(None, binary_search(data4, 0, len(data4), 1))"
   ]
  },
  {
   "cell_type": "markdown",
   "metadata": {},
   "source": [
    "## Sparce Search"
   ]
  },
  {
   "cell_type": "code",
   "execution_count": 63,
   "metadata": {},
   "outputs": [],
   "source": [
    "def sparse_search(data, search_val):\n",
    "  first = 0\n",
    "  last = len(data) - 1\n",
    "  while first <= last:\n",
    "    mid = (first + last) // 2\n",
    "    if not data[mid]:\n",
    "      left = mid - 1\n",
    "      right = mid + 1\n",
    "      while True:\n",
    "        # check if we have iterated through the entire dataset and have not found a non-empty value.\n",
    "        if left < first and right > last:\n",
    "          return\n",
    "        elif right <= last and data[right]:\n",
    "          mid = right\n",
    "          break\n",
    "        elif left >= first and data[left]:\n",
    "          mid = left\n",
    "          break\n",
    "        left -= 1\n",
    "        right += 1\n",
    "    if data[mid] == search_val:\n",
    "      return mid\n",
    "    elif search_val < data[mid]:\n",
    "      last = mid - 1\n",
    "    elif search_val > data[mid]:\n",
    "      first = mid + 1\n",
    "  return None"
   ]
  },
  {
   "cell_type": "code",
   "execution_count": 67,
   "metadata": {},
   "outputs": [],
   "source": [
    "from unittest import TestCase\n",
    "\n",
    "tc = TestCase()\n",
    "data1 = [\"A\", \"\", \"\", \"\", \"B\", \"\", \"\", \"\", \"C\"]\n",
    "data2 = [\"A\", \"\", \"\", \"\", \"B\", \"\", \"\", \"\", \"C\", \"\", \"\", \"D\"]\n",
    "data3 = [\"Apple\", \"\", \"Banana\", \"\", \"\", \"\", \"\", \"Cow\"]\n",
    "data4 = []\n",
    "\n",
    "tc.assertEqual(4, sparse_search(data1, 'B'))\n",
    "tc.assertEqual(8, sparse_search(data2, 'C'))\n",
    "tc.assertEqual(2, sparse_search(data3, 'Banana'))\n",
    "tc.assertEqual(None, sparse_search(data4, 'Banana'))"
   ]
  },
  {
   "cell_type": "markdown",
   "metadata": {},
   "source": [
    "## Peak Search"
   ]
  },
  {
   "cell_type": "code",
   "execution_count": 68,
   "metadata": {},
   "outputs": [],
   "source": [
    "def find_peak_1d(L):\n",
    "    \"\"\"\n",
    "    Assume L is a 1-D  arry with elements a, b, c, d, e. \n",
    "    If b >= a && b >= c, then b is a peak. \n",
    "    if e >= d, e ia a peak.\n",
    "    \"\"\"\n",
    "    if len(L)== 0:\n",
    "        return None\n",
    "    elif len(L) == 2:\n",
    "        if L[0] < L[1]:\n",
    "            return L[1]\n",
    "        return None\n",
    "    else:\n",
    "        mid = len(L) // 2\n",
    "        if L[mid] < L[mid-1]:\n",
    "            return find_peak_1d(L[:mid])\n",
    "        elif L[mid] < L[mid+1]:\n",
    "            return find_peak_1d(L[mid:])\n",
    "        else:\n",
    "            return L[mid]"
   ]
  },
  {
   "cell_type": "code",
   "execution_count": 69,
   "metadata": {},
   "outputs": [],
   "source": [
    "from unittest import TestCase\n",
    "\n",
    "tc = TestCase()\n",
    "data1 = [i for i in range(1, 10)]\n",
    "data2 = [i for i in range(9, 0, -1)]\n",
    "data3 = [1, 2]\n",
    "data4 = [2, 1]\n",
    "data5 = []\n",
    "\n",
    "tc.assertEqual(9, find_peak_1d(data1))\n",
    "tc.assertEqual(None, find_peak_1d(data2))\n",
    "tc.assertEqual(2, find_peak_1d(data3))\n",
    "tc.assertEqual(None, find_peak_1d(data4))\n",
    "tc.assertEqual(None, find_peak_1d(data5))"
   ]
  },
  {
   "cell_type": "code",
   "execution_count": 70,
   "metadata": {},
   "outputs": [],
   "source": [
    "def find_max(column):\n",
    "    \"\"\"\n",
    "    Find the max column index.\n",
    "    \"\"\"\n",
    "    max_val = column[0]\n",
    "    max_ind = 0\n",
    "    for i in range(1, len(column)):\n",
    "        if column[i] >= max_val:\n",
    "            max_val = column[i]\n",
    "            max_ind = i\n",
    "    return max_ind\n",
    "\n",
    "\n",
    "def find_peak_2d(matrix):\n",
    "    \"\"\"\n",
    "    Assume L is a 2-D array.\n",
    "           a\n",
    "         b x c\n",
    "           d\n",
    "    If x >= a and x >= b and x >= c and x >= d, then x is a peak.\n",
    "    \"\"\"         \n",
    "    if len(matrix) == 0:\n",
    "        return None\n",
    "    if len(matrix) == 1:\n",
    "        m = find_max(matrix[0])\n",
    "        return matrix[0][m]\n",
    "    else:\n",
    "        m = len(matrix[0]) // 2 # find the middle column index\n",
    "        column = [matrix[i][m] for i in range(len(matrix))] # generate all elements in the middle column index\n",
    "        n = find_max(column) # find the row index of the maximum elements in the column\n",
    "\n",
    "        if matrix[n][m-1] <= matrix[n][m] and m == len(matrix[0]) -1: # \n",
    "            return matrix[n][m]\n",
    "        if matrix[n][m-1] <= matrix[n][m] and matrix[n][m] >= matrix[n][m+1]:\n",
    "            return matrix[n][m]\n",
    "        elif matrix[n][m-1] > matrix[n][m]:\n",
    "            return find_peak_2d([matrix[n][:m] for n in range(len(matrix))])\n",
    "        elif matrix[n][m+1] > matrix[n][m]:\n",
    "            return find_peak_2d([matrix[n][m:] for n in range(len(matrix))])   "
   ]
  },
  {
   "cell_type": "code",
   "execution_count": 71,
   "metadata": {},
   "outputs": [],
   "source": [
    "from unittest import TestCase\n",
    "\n",
    "tc = TestCase()\n",
    "data1 = [[1, 2, 3], [4, 10, 5], [6, 7, 8]]\n",
    "data2 = [[1, 2, 3] for _ in range(3)]\n",
    "data3 = [[1, 2, 3], [4, 5, 6]]\n",
    "data4 = [[1, 2, 3]]\n",
    "data5 = []\n",
    "\n",
    "tc.assertEqual(10, find_peak_2d(data1))\n",
    "tc.assertEqual(3, find_peak_2d(data2))\n",
    "tc.assertEqual(6, find_peak_2d(data3))\n",
    "tc.assertEqual(3, find_peak_2d(data4))\n",
    "tc.assertEqual(None, find_peak_2d(data5))"
   ]
  }
 ],
 "metadata": {
  "kernelspec": {
   "display_name": "Python 3",
   "language": "python",
   "name": "python3"
  },
  "language_info": {
   "codemirror_mode": {
    "name": "ipython",
    "version": 3
   },
   "file_extension": ".py",
   "mimetype": "text/x-python",
   "name": "python",
   "nbconvert_exporter": "python",
   "pygments_lexer": "ipython3",
   "version": "3.7.3"
  }
 },
 "nbformat": 4,
 "nbformat_minor": 2
}
