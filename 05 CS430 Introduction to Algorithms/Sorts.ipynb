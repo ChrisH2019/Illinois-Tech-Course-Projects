{
 "cells": [
  {
   "cell_type": "markdown",
   "metadata": {},
   "source": [
    "# Sorts"
   ]
  },
  {
   "cell_type": "markdown",
   "metadata": {},
   "source": [
    "## Insertion Sort"
   ]
  },
  {
   "cell_type": "code",
   "execution_count": 1,
   "metadata": {},
   "outputs": [],
   "source": [
    "def insertion_sort(arr):\n",
    "    if len(arr) <= 1:\n",
    "        return arr\n",
    "    for j in range(1, len(arr)):\n",
    "        key = arr[j]\n",
    "        i = j - 1\n",
    "        while i >= 0 and arr[i] > key:\n",
    "            arr[i + 1] = arr[i]\n",
    "            i -= 1\n",
    "        arr[i + 1] = key\n",
    "    return arr"
   ]
  },
  {
   "cell_type": "code",
   "execution_count": 2,
   "metadata": {},
   "outputs": [],
   "source": [
    "from unittest import TestCase\n",
    "import random\n",
    "\n",
    "tc = TestCase()\n",
    "data1 = [random.randrange(-100, 100) for i in range(10)]\n",
    "data2 = [1, -1]\n",
    "data3 = [1]\n",
    "data4 = []\n",
    "\n",
    "tc.assertEqual(sorted(data1), insertion_sort(data1))\n",
    "tc.assertEqual([-1, 1], insertion_sort(data2))\n",
    "tc.assertEqual([1], insertion_sort(data3))\n",
    "tc.assertEqual([], insertion_sort(data4))"
   ]
  },
  {
   "cell_type": "code",
   "execution_count": 5,
   "metadata": {},
   "outputs": [],
   "source": [
    "def insertion_sort_recursive(arr):\n",
    "    n = len(arr)\n",
    "    if n <= 1:\n",
    "        return arr\n",
    "    \n",
    "    def insertion_sort_recursive_helper(arr, n):\n",
    "        # Base case\n",
    "        if n <= 1:\n",
    "            return\n",
    "        # Recursive case\n",
    "        insertion_sort_recursive_helper(arr, n - 1)\n",
    "        key = arr[n - 1]\n",
    "        i = n - 2\n",
    "        while i >= 0 and arr[i] > key:\n",
    "            arr[i + 1] = arr[i]\n",
    "            i -= 1\n",
    "        arr[i + 1] = key\n",
    "        return arr\n",
    "\n",
    "    return insertion_sort_recursive_helper(arr, n)"
   ]
  },
  {
   "cell_type": "code",
   "execution_count": 6,
   "metadata": {},
   "outputs": [],
   "source": [
    "from unittest import TestCase\n",
    "import random\n",
    "\n",
    "tc = TestCase()\n",
    "data1 = [random.randrange(-100, 100) for i in range(10)]\n",
    "data2 = [1, -1]\n",
    "data3 = [1]\n",
    "data4 = []\n",
    "\n",
    "tc.assertEqual(sorted(data1), insertion_sort_recursive(data1))\n",
    "tc.assertEqual([-1, 1], insertion_sort_recursive(data2))\n",
    "tc.assertEqual([1], insertion_sort_recursive(data3))\n",
    "tc.assertEqual([], insertion_sort_recursive(data4))"
   ]
  },
  {
   "cell_type": "markdown",
   "metadata": {},
   "source": [
    "## Bubble Sort"
   ]
  },
  {
   "cell_type": "code",
   "execution_count": 21,
   "metadata": {},
   "outputs": [],
   "source": [
    "def bubble_sort(arr):\n",
    "    if len(arr) <= 1:\n",
    "        return arr\n",
    "    for i in range(len(arr)):\n",
    "        for j in range(0, len(arr) - i - 1):\n",
    "            if arr[j] > arr[j + 1]:\n",
    "                arr[j], arr[j + 1] = arr[j + 1], arr[j]\n",
    "\n",
    "    return arr"
   ]
  },
  {
   "cell_type": "code",
   "execution_count": 22,
   "metadata": {},
   "outputs": [],
   "source": [
    "from unittest import TestCase\n",
    "import random\n",
    "\n",
    "tc = TestCase()\n",
    "data1 = [random.randrange(-100, 100) for i in range(10)]\n",
    "data2 = [1, -1]\n",
    "data3 = [1]\n",
    "data4 = []\n",
    "\n",
    "tc.assertEqual(sorted(data1), bubble_sort(data1))\n",
    "tc.assertEqual([-1, 1], bubble_sort(data2))\n",
    "tc.assertEqual([1], bubble_sort(data3))\n",
    "tc.assertEqual([], bubble_sort(data4))"
   ]
  },
  {
   "cell_type": "code",
   "execution_count": 25,
   "metadata": {},
   "outputs": [],
   "source": [
    "def bubble_sort_recursive(arr):\n",
    "    n = len(arr)\n",
    "    if n <= 1:\n",
    "        return arr\n",
    "    \n",
    "    def bubble_sort_recursive_helper(arr, n):\n",
    "        # Base case\n",
    "        if n == 1:\n",
    "            return\n",
    "        for i in range(n - 1):\n",
    "            if arr[i] > arr[i + 1]:\n",
    "                arr[i], arr[i + 1] = arr[i + 1], arr[i]\n",
    "        # Recursive case\n",
    "        bubble_sort_recursive_helper(arr, n - 1)\n",
    "        return arr\n",
    "    \n",
    "    return bubble_sort_recursive_helper(arr, n)"
   ]
  },
  {
   "cell_type": "code",
   "execution_count": 26,
   "metadata": {},
   "outputs": [],
   "source": [
    "from unittest import TestCase\n",
    "import random\n",
    "\n",
    "tc = TestCase()\n",
    "data1 = [random.randrange(-100, 100) for i in range(10)]\n",
    "data2 = [1, -1]\n",
    "data3 = [1]\n",
    "data4 = []\n",
    "\n",
    "tc.assertEqual(sorted(data1), bubble_sort_recursive(data1))\n",
    "tc.assertEqual([-1, 1], bubble_sort_recursive(data2))\n",
    "tc.assertEqual([1], bubble_sort_recursive(data3))\n",
    "tc.assertEqual([], bubble_sort_recursive(data4))"
   ]
  },
  {
   "cell_type": "markdown",
   "metadata": {},
   "source": [
    "## Selection Sort"
   ]
  },
  {
   "cell_type": "code",
   "execution_count": 29,
   "metadata": {},
   "outputs": [],
   "source": [
    "def selection_sort(arr):\n",
    "    if len(arr) <= 1:\n",
    "        return arr\n",
    "    for i in range(len(arr) - 1):\n",
    "        min = i\n",
    "        for j in range(i + 1, len(arr)):\n",
    "            if arr[j] < arr[min]:\n",
    "                min = j\n",
    "        arr[min], arr[i] = arr[i], arr[min]\n",
    "\n",
    "    return arr"
   ]
  },
  {
   "cell_type": "code",
   "execution_count": 30,
   "metadata": {},
   "outputs": [],
   "source": [
    "from unittest import TestCase\n",
    "import random\n",
    "\n",
    "tc = TestCase()\n",
    "data1 = [random.randrange(-100, 100) for i in range(10)]\n",
    "data2 = [1, -1]\n",
    "data3 = [1]\n",
    "data4 = []\n",
    "\n",
    "tc.assertEqual(sorted(data1), selection_sort(data1))\n",
    "tc.assertEqual([-1, 1], selection_sort(data2))\n",
    "tc.assertEqual([1], selection_sort(data3))\n",
    "tc.assertEqual([], selection_sort(data4))"
   ]
  },
  {
   "cell_type": "code",
   "execution_count": 31,
   "metadata": {},
   "outputs": [],
   "source": [
    "def selection_sor_recursive(arr):\n",
    "    n = len(arr)\n",
    "    if len(arr) <= 1:\n",
    "        return arr\n",
    "\n",
    "    def selection_sor_recursive_helper(arr, i, n):\n",
    "        # Base case\n",
    "        if i == n - 1:\n",
    "            return\n",
    "        for i in range(n - 1):\n",
    "            min = i\n",
    "            for j in range(i + 1, n):\n",
    "                if arr[j] < arr[min]:\n",
    "                    min = j\n",
    "            arr[min], arr[i] = arr[i], arr[min]\n",
    "\n",
    "        #Recursive case\n",
    "        selection_sor_recursive_helper(arr, i + 1, n)\n",
    "\n",
    "        return arr\n",
    "\n",
    "    return selection_sor_recursive_helper(arr, 0, n)"
   ]
  },
  {
   "cell_type": "code",
   "execution_count": 32,
   "metadata": {},
   "outputs": [],
   "source": [
    "from unittest import TestCase\n",
    "import random\n",
    "\n",
    "tc = TestCase()\n",
    "data1 = [random.randrange(-100, 100) for i in range(10)]\n",
    "data2 = [1, -1]\n",
    "data3 = [1]\n",
    "data4 = []\n",
    "\n",
    "tc.assertEqual(sorted(data1), selection_sor_recursive(data1))\n",
    "tc.assertEqual([-1, 1], selection_sor_recursive(data2))\n",
    "tc.assertEqual([1], selection_sor_recursive(data3))\n",
    "tc.assertEqual([], selection_sor_recursive(data4))"
   ]
  },
  {
   "cell_type": "markdown",
   "metadata": {},
   "source": [
    "## Merge Sort"
   ]
  },
  {
   "cell_type": "code",
   "execution_count": 33,
   "metadata": {},
   "outputs": [],
   "source": [
    "def merge_sort(arr):\n",
    "    def merge(left, right):\n",
    "        result = []    \n",
    "        while left and right:\n",
    "            if left[0] < right[0]:\n",
    "                result.append(left[0])\n",
    "                left.pop(0)\n",
    "            else:\n",
    "                result.append(right[0])\n",
    "                right.pop(0)\n",
    "                \n",
    "        if left:\n",
    "            result.extend(left)\n",
    "        else:\n",
    "            result.extend(right)  \n",
    "            \n",
    "        return result\n",
    "\n",
    "    if len(arr) <= 1:\n",
    "        return arr\n",
    "    \n",
    "    mid_idx = len(arr) // 2\n",
    "    left_sorted = merge_sort(arr[:mid_idx])\n",
    "    right_sorted = merge_sort(arr[mid_idx:])\n",
    "        \n",
    "    return merge(left_sorted, right_sorted)  "
   ]
  },
  {
   "cell_type": "code",
   "execution_count": 34,
   "metadata": {},
   "outputs": [],
   "source": [
    "from unittest import TestCase\n",
    "import random\n",
    "\n",
    "tc = TestCase()\n",
    "data1 = [random.randrange(-100, 100) for i in range(10)]\n",
    "data2 = [1, -1]\n",
    "data3 = [1]\n",
    "data4 = []\n",
    "\n",
    "tc.assertEqual(sorted(data1), merge_sort(data1))\n",
    "tc.assertEqual([-1, 1], merge_sort(data2))\n",
    "tc.assertEqual([1], merge_sort(data3))"
   ]
  },
  {
   "cell_type": "markdown",
   "metadata": {},
   "source": [
    "## Quick Sort"
   ]
  },
  {
   "cell_type": "code",
   "execution_count": 55,
   "metadata": {},
   "outputs": [],
   "source": [
    "from random import randrange\n",
    "\n",
    "def quick_sort(arr, start, end):\n",
    "    # Base case\n",
    "    if start >= end:\n",
    "        return arr\n",
    "\n",
    "    # Randomly selet the pivot element\n",
    "    pivot_idx = randrange(start, end + 1)\n",
    "    pivot_element = arr[pivot_idx]\n",
    "\n",
    "    # Swap random element with last element\n",
    "    arr[pivot_idx], arr[end] = arr[end], arr[pivot_idx]\n",
    "\n",
    "    # Index of an elementthat is less than the pivot element\n",
    "    less_than_ptr = start\n",
    "\n",
    "    for i in range(start, end):\n",
    "        if arr[i] < pivot_element:\n",
    "            # Swap the element to the postion that is less than the pivot element\n",
    "            arr[less_than_ptr], arr[i] = arr[i], arr[less_than_ptr]\n",
    "            less_than_ptr += 1\n",
    "    # Swap the pivot element to the less than position\n",
    "    arr[less_than_ptr], arr[end] = arr[end], arr[less_than_ptr]\n",
    "\n",
    "    # Recursively sort the less than and the greater than sub group\n",
    "    quick_sort(arr, start, less_than_ptr - 1)\n",
    "    quick_sort(arr, less_than_ptr + 1, end)\n",
    "\n",
    "    return arr"
   ]
  },
  {
   "cell_type": "code",
   "execution_count": 56,
   "metadata": {},
   "outputs": [],
   "source": [
    "from unittest import TestCase\n",
    "import random\n",
    "\n",
    "tc = TestCase()\n",
    "data1 = [random.randrange(-100, 100) for i in range(10)]\n",
    "data2 = [1, -1]\n",
    "data3 = [1]\n",
    "data4 = []\n",
    "\n",
    "tc.assertEqual(sorted(data1), quick_sort(data1, 0, len(data1)-1))\n",
    "tc.assertEqual([-1, 1], quick_sort(data2, 0, len(data2)-1))\n",
    "tc.assertEqual([1], quick_sort(data3, 0, len(data3)-1))\n",
    "tc.assertEqual([], quick_sort(data4, 0, len(data4)-1))"
   ]
  },
  {
   "cell_type": "markdown",
   "metadata": {},
   "source": [
    "## Counting Sort"
   ]
  },
  {
   "cell_type": "code",
   "execution_count": 57,
   "metadata": {},
   "outputs": [],
   "source": [
    "def counting_sort(arr):\n",
    "    if len(arr) <= 1:\n",
    "        return L\n",
    "    \n",
    "    if min(arr) < 0:\n",
    "        raise ValueError('Elements must be equal or greater than 0!')\n",
    "        \n",
    "    # Create a list of size max(arr) and initialize its elements to 0\n",
    "    # Count the number of occurence of every element in L\n",
    "    counts = [0 for i in range(max(L)+1)]\n",
    "    \n",
    "    for i in arr:\n",
    "        if not isinstance(i, int):\n",
    "            raise TypeError('Elements must be intergers!')\n",
    "        counts[i] += 1\n",
    "     \n",
    "    # Counts the number of elements less than L[i]\n",
    "    for i in range(1, len(counts)):\n",
    "        counts[i] = counts[i-1] + counts[i]\n",
    "    \n",
    "    # Places each element L[i] in the correct sorted position in the output list sorted_l\n",
    "    sorted_arr = [None for i in range(len(L))]\n",
    "    \n",
    "    for i in L:\n",
    "        sorted_arr[counts[i]-1] = i\n",
    "        counts[i] -= 1\n",
    "        \n",
    "    return sorted_arr  "
   ]
  },
  {
   "cell_type": "code",
   "execution_count": 58,
   "metadata": {},
   "outputs": [],
   "source": [
    "from unittest import TestCase\n",
    "import random\n",
    "\n",
    "tc = TestCase()\n",
    "data1 = [random.randrange(0, 100) for i in range(10)]\n",
    "data2 = [0, 0, 6, 6, 5, 5, 8, 7, 8, 7]\n",
    "data3 = [1, 0]\n",
    "data4 = [1]\n",
    "data5 = []\n",
    "\n",
    "tc.assertEqual(sorted(data1), randomized_quick_sort(data1))\n",
    "tc.assertEqual(sorted(data2), randomized_quick_sort(data2))\n",
    "tc.assertEqual([0, 1], randomized_quick_sort(data3))\n",
    "tc.assertEqual([1], randomized_quick_sort(data4))\n",
    "tc.assertEqual([], randomized_quick_sort(data5))"
   ]
  },
  {
   "cell_type": "markdown",
   "metadata": {},
   "source": [
    "## Radix Sort"
   ]
  },
  {
   "cell_type": "code",
   "execution_count": 10,
   "metadata": {},
   "outputs": [],
   "source": [
    "def radix_sort(arr):\n",
    "    if not len(arr):\n",
    "        return arr\n",
    "    \n",
    "    max_val = max(arr)\n",
    "    max_exp = len(str(max_val))\n",
    "    new_arr = arr[:]\n",
    "\n",
    "    for exp in range(max_exp):\n",
    "        pos = exp + 1\n",
    "        idx = -pos\n",
    "\n",
    "        buckets = [[] for i in range(10)]\n",
    "\n",
    "        for number in new_arr:\n",
    "          num_str = str(number)\n",
    "          # Some numbers might have less digits\n",
    "          try:\n",
    "            digit = num_str[idx]\n",
    "          except IndexError:\n",
    "            digit = 0\n",
    "          digit = int(digit)\n",
    "\n",
    "          buckets[digit].append(number)\n",
    "\n",
    "        new_arr = []\n",
    "        for numeral in buckets:\n",
    "          new_arr.extend(numeral)\n",
    "\n",
    "    return new_arr"
   ]
  },
  {
   "cell_type": "code",
   "execution_count": 11,
   "metadata": {},
   "outputs": [],
   "source": [
    "from unittest import TestCase\n",
    "import random\n",
    "\n",
    "tc = TestCase()\n",
    "data1 = [111111, 11111, 1111, 111, 11, 1]\n",
    "data2 = [0, 0, 6, 6, 5, 5, 8, 7, 8, 7]\n",
    "data3 = [1, 10]\n",
    "data4 = [1]\n",
    "data5 = []\n",
    "\n",
    "tc.assertEqual(sorted(data1), radix_sort(data1))\n",
    "tc.assertEqual(sorted(data2), radix_sort(data2))\n",
    "tc.assertEqual([1, 10], radix_sort(data3))\n",
    "tc.assertEqual([1], radix_sort(data4))\n",
    "tc.assertEqual([], radix_sort(data5))"
   ]
  }
 ],
 "metadata": {
  "kernelspec": {
   "display_name": "Python 3",
   "language": "python",
   "name": "python3"
  },
  "language_info": {
   "codemirror_mode": {
    "name": "ipython",
    "version": 3
   },
   "file_extension": ".py",
   "mimetype": "text/x-python",
   "name": "python",
   "nbconvert_exporter": "python",
   "pygments_lexer": "ipython3",
   "version": "3.7.3"
  }
 },
 "nbformat": 4,
 "nbformat_minor": 2
}
