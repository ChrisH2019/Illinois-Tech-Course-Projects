{
 "cells": [
  {
   "cell_type": "markdown",
   "metadata": {},
   "source": [
    "# Graph Search"
   ]
  },
  {
   "cell_type": "markdown",
   "metadata": {},
   "source": [
    "## These algorithms are implemented under the instructions of codeCademy.com"
   ]
  },
  {
   "cell_type": "markdown",
   "metadata": {},
   "source": [
    "## DFS"
   ]
  },
  {
   "cell_type": "code",
   "execution_count": 5,
   "metadata": {},
   "outputs": [],
   "source": [
    "def dfs(graph, current_vertex, target_value, visited=None):\n",
    "    if visited is None:\n",
    "        visited = []\n",
    "    visited.append(current_vertex)\n",
    "    if current_vertex is target_value:\n",
    "        return visited\n",
    "\n",
    "    for neighbor in graph[current_vertex]:\n",
    "        if neighbor not in visited:\n",
    "            path = dfs(graph, neighbor, target_value, visited)\n",
    "            if path:\n",
    "                return path"
   ]
  },
  {
   "cell_type": "code",
   "execution_count": 6,
   "metadata": {},
   "outputs": [
    {
     "name": "stdout",
     "output_type": "stream",
     "text": [
      "['lava', 'piranhas', 'crocodiles', 'lasers']\n"
     ]
    }
   ],
   "source": [
    "some_important_graph = {\n",
    "    'lava': set(['sharks', 'piranhas']),\n",
    "    'sharks': set(['lava', 'bees', 'lasers']),\n",
    "    'piranhas': set(['lava', 'crocodiles']),\n",
    "    'bees': set(['sharks']),\n",
    "    'lasers': set(['sharks', 'crocodiles']),\n",
    "    'crocodiles': set(['piranhas', 'lasers'])\n",
    "}\n",
    "\n",
    "print(dfs(some_important_graph, 'lava', 'lasers'))"
   ]
  },
  {
   "cell_type": "markdown",
   "metadata": {},
   "source": [
    "## BFS"
   ]
  },
  {
   "cell_type": "code",
   "execution_count": 7,
   "metadata": {},
   "outputs": [],
   "source": [
    "def bfs(graph, start_vertex, target_value):\n",
    "    path = [start_vertex]\n",
    "    vertex_and_path = [start_vertex, path]\n",
    "    bfs_queue = [vertex_and_path]\n",
    "    visited = set()\n",
    "    while bfs_queue:\n",
    "        current_vertex, path = bfs_queue.pop(0)\n",
    "        visited.add(current_vertex)\n",
    "        for neighbor in graph[current_vertex]:\n",
    "            if neighbor not in visited:\n",
    "                if neighbor is target_value:\n",
    "                    return path + [neighbor]\n",
    "                else:\n",
    "                    bfs_queue.append([neighbor, path + [neighbor]])"
   ]
  },
  {
   "cell_type": "code",
   "execution_count": 8,
   "metadata": {},
   "outputs": [
    {
     "name": "stdout",
     "output_type": "stream",
     "text": [
      "['lava', 'sharks', 'lasers']\n"
     ]
    }
   ],
   "source": [
    "print(bfs(some_important_graph, 'lava', 'lasers'))"
   ]
  },
  {
   "cell_type": "markdown",
   "metadata": {},
   "source": [
    "## Dijkstra's Algorithm"
   ]
  },
  {
   "cell_type": "code",
   "execution_count": 9,
   "metadata": {},
   "outputs": [
    {
     "name": "stdout",
     "output_type": "stream",
     "text": [
      "\n",
      "\n",
      "Shortest Distances: {'A': 0, 'C': 3, 'D': 5, 'E': 15, 'B': 10}\n"
     ]
    }
   ],
   "source": [
    "from heapq import heappop, heappush\n",
    "from math import inf\n",
    "\n",
    "graph = {\n",
    "    'A': [('B', 10), ('C', 3)],\n",
    "    'C': [('D', 2)],\n",
    "    'D': [('E', 10)],\n",
    "    'E': [],\n",
    "    'B': [('C', 3), ('D', 2)]\n",
    "}\n",
    "\n",
    "\n",
    "def dijkstras(graph, start):\n",
    "    distances = {}\n",
    "    for vertex in graph:\n",
    "        distances[vertex] = inf\n",
    "    distances[start] = 0\n",
    "    vertices_to_explore = [(0, start)]\n",
    "    while vertices_to_explore:\n",
    "        current_distance, current_vertex = heappop(vertices_to_explore)\n",
    "        for neighbor, edge_weight in graph[current_vertex]:\n",
    "            new_distance = current_distance + edge_weight\n",
    "            if new_distance < distances[neighbor]:\n",
    "                distances[neighbor] = new_distance\n",
    "            heappush(vertices_to_explore, (new_distance, neighbor))\n",
    "    return distances\n",
    "\n",
    "\n",
    "distances_from_a = dijkstras(graph, 'A')\n",
    "print(\"\\n\\nShortest Distances: {0}\".format(distances_from_a))"
   ]
  },
  {
   "cell_type": "code",
   "execution_count": 12,
   "metadata": {},
   "outputs": [],
   "source": [
    "def modified_dijkstras(graph, start, target):\n",
    "  print(\"Starting Dijkstra's algorithm!\")\n",
    "  count = 0\n",
    "  paths_and_distances = {}\n",
    "  for vertex in graph:\n",
    "    paths_and_distances[vertex] = [inf, [start]]\n",
    "  \n",
    "  paths_and_distances[start][0] = 0\n",
    "  vertices_to_explore = [(0, start)]\n",
    "\n",
    "  while vertices_to_explore:\n",
    "    current_distance, current_vertex = heappop(vertices_to_explore)\n",
    "    for neighbor, edge_weight in graph[current_vertex]:\n",
    "      new_distance = current_distance + edge_weight\n",
    "      new_path = paths_and_distances[current_vertex][1] + [neighbor]\n",
    "      if new_distance < paths_and_distances[neighbor][0]:\n",
    "        paths_and_distances[neighbor][0] = new_distance\n",
    "        paths_and_distances[neighbor][1] = new_path\n",
    "        heappush(vertices_to_explore, (new_distance, neighbor))\n",
    "        count += 1\n",
    "        print(\"\\nAt \" + vertices_to_explore[0][1])\n",
    "  print(\"Found a path in {0} steps: \".format(count), paths_and_distances[target][1])\n",
    "  return paths_and_distances[target][1]"
   ]
  },
  {
   "cell_type": "code",
   "execution_count": 13,
   "metadata": {},
   "outputs": [
    {
     "name": "stdout",
     "output_type": "stream",
     "text": [
      "Starting Dijkstra's algorithm!\n",
      "\n",
      "At B\n",
      "\n",
      "At C\n",
      "\n",
      "At D\n",
      "\n",
      "At B\n",
      "Found a path in 4 steps:  ['A', 'C', 'D', 'E']\n"
     ]
    },
    {
     "data": {
      "text/plain": [
       "['A', 'C', 'D', 'E']"
      ]
     },
     "execution_count": 13,
     "metadata": {},
     "output_type": "execute_result"
    }
   ],
   "source": [
    "modified_dijkstras(graph, 'A', 'E')"
   ]
  },
  {
   "cell_type": "markdown",
   "metadata": {},
   "source": [
    "# A* Algorithm"
   ]
  },
  {
   "cell_type": "code",
   "execution_count": 16,
   "metadata": {},
   "outputs": [],
   "source": [
    "from math import inf, sqrt\n",
    "from heapq import heappop, heappush\n",
    "\n",
    "\n",
    "def heuristic(start, target):\n",
    "  x_distance = abs(start.position[0] - target.position[0])\n",
    "  y_distance = abs(start.position[1] - target.position[1])\n",
    "  return sqrt(x_distance * x_distance + y_distance * y_distance)\n",
    "\n",
    "def a_star(graph, start, target):\n",
    "  print(\"Starting A* algorithm!\")\n",
    "  count = 0\n",
    "  paths_and_distances = {}\n",
    "  for vertex in graph:\n",
    "    paths_and_distances[vertex] = [inf, [start.name]]\n",
    "  \n",
    "  paths_and_distances[start][0] = 0\n",
    "  vertices_to_explore = [(0, start)]\n",
    "  while vertices_to_explore and paths_and_distances[target][0] == inf:\n",
    "    current_distance, current_vertex = heappop(vertices_to_explore)\n",
    "    for neighbor, edge_weight in graph[current_vertex]:\n",
    "      new_distance = current_distance + edge_weight + heuristic(neighbor, target)\n",
    "      new_path = paths_and_distances[current_vertex][1] + [neighbor.name]\n",
    "      \n",
    "      if new_distance < paths_and_distances[neighbor][0]:\n",
    "        paths_and_distances[neighbor][0] = new_distance\n",
    "        paths_and_distances[neighbor][1] = new_path\n",
    "        heappush(vertices_to_explore, (new_distance, neighbor))\n",
    "        count += 1\n",
    "        print(\"\\nAt \" + vertices_to_explore[0][1].name)\n",
    "        \n",
    "  print(\"Found a path from {0} to {1} in {2} steps: \".\\\n",
    "        format(start.name, target.name, count), paths_and_distances[target][1])\n",
    "  \n",
    "  return paths_and_distances[target][1]"
   ]
  },
  {
   "cell_type": "code",
   "execution_count": 17,
   "metadata": {},
   "outputs": [
    {
     "name": "stdout",
     "output_type": "stream",
     "text": [
      "Starting A* algorithm!\n",
      "\n",
      "At Mumbai\n",
      "\n",
      "At Mumbai\n",
      "\n",
      "At New Delhi\n",
      "\n",
      "At New Delhi\n",
      "\n",
      "At New Delhi\n",
      "\n",
      "At New Delhi\n",
      "Found a path from Jaipur to Bengaluru in 6 steps:  ['Jaipur', 'Mumbai', 'Bengaluru']\n"
     ]
    },
    {
     "data": {
      "text/plain": [
       "['Jaipur', 'Mumbai', 'Bengaluru']"
      ]
     },
     "execution_count": 17,
     "metadata": {},
     "output_type": "execute_result"
    }
   ],
   "source": [
    "class graph_vertex:\n",
    "  def __init__(self, name, x, y):\n",
    "    self.name = name\n",
    "    self.position = (x, y)\n",
    "\n",
    "delhi = graph_vertex(\"New Delhi\", 28.6448, 77.216721)\n",
    "jaipur = graph_vertex(\"Jaipur\", 26.92207, 75.778885)\n",
    "varanasi = graph_vertex(\"Varanasi\", 25.321684, 82.987289)\n",
    "mumbai = graph_vertex(\"Mumbai\", 19.07283, 72.88261)\n",
    "chennai = graph_vertex(\"Chennai\", 13.067439, 80.237617)\n",
    "hyderabad = graph_vertex(\"Hyderabad\", 17.387140, 78.491684)\n",
    "kolkata = graph_vertex(\"Kolkata\", 22.572645, 88.363892)\n",
    "bengaluru = graph_vertex(\"Bengaluru\", 12.972442, 77.580643)\n",
    "\n",
    "euclidean_graph = {\n",
    "  delhi: set([(jaipur, 2.243918), (varanasi, 6.65902), (mumbai, 10.507479), (chennai, 15.867576),\\\n",
    "              (hyderabad, 11.329626), (kolkata, 12.693718), (bengaluru, 15.676582)]),\n",
    "  jaipur: set([(mumbai, 8.366539), (delhi, 2.243918)]),\n",
    "  varanasi: set([(delhi, 6.65902), (mumbai, 11.88077)]),\n",
    "  mumbai: set([(delhi, 10.507479), (jaipur, 8.366539), (varanasi, 11.88077), (hyderabad, 5.856898),\\\n",
    "               (kolkata, 15.87195), (bengaluru, 7.699756)]),\n",
    "  chennai: set([(delhi, 15.867576), (kolkata, 12.50541), (hyderabad, 4.659195), (bengaluru, 2.658671)]),\n",
    "  hyderabad: set([(delhi, 11.329626), (mumbai, 5.856898), (chennai, 4.659195), (bengaluru, 4.507721),\\\n",
    "                  (kolkata, 11.151231)]),\n",
    "  kolkata: set([(delhi, 12.693718), (mumbai, 15.87195), (chennai, 12.50541), (hyderabad, 11.151231), \\\n",
    "                (bengaluru, 14.437532)]),\n",
    "  bengaluru: set([(delhi, 15.676582), (mumbai, 7.699756), (chennai, 2.658671), (hyderabad, 4.507721),\\\n",
    "                  (kolkata, 14.437532)])\n",
    "}\n",
    "\n",
    "\n",
    "a_star(euclidean_graph, jaipur, bengaluru)"
   ]
  }
 ],
 "metadata": {
  "kernelspec": {
   "display_name": "Python 3",
   "language": "python",
   "name": "python3"
  },
  "language_info": {
   "codemirror_mode": {
    "name": "ipython",
    "version": 3
   },
   "file_extension": ".py",
   "mimetype": "text/x-python",
   "name": "python",
   "nbconvert_exporter": "python",
   "pygments_lexer": "ipython3",
   "version": "3.7.3"
  }
 },
 "nbformat": 4,
 "nbformat_minor": 2
}
