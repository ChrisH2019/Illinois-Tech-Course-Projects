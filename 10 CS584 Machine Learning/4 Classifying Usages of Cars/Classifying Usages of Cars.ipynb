{
 "cells": [
  {
   "cell_type": "markdown",
   "metadata": {},
   "source": [
    "# Classifying Usages of Cars"
   ]
  },
  {
   "cell_type": "markdown",
   "metadata": {},
   "source": [
    "In this project, I implemented the DecisionTreeClassifier from scatch to predict usages of cars (commercial or private) based on categorical predictors only. The rationale behind this implementation is that encoding categorical features into dummy variables would lead to a poorer result, but it is the best practice so far."
   ]
  },
  {
   "cell_type": "code",
   "execution_count": 44,
   "metadata": {},
   "outputs": [],
   "source": [
    "import pandas as pd\n",
    "import numpy as np\n",
    "from itertools import combinations\n",
    "from sklearn.model_selection import train_test_split\n",
    "import matplotlib.pyplot as plt"
   ]
  },
  {
   "cell_type": "code",
   "execution_count": 22,
   "metadata": {},
   "outputs": [
    {
     "data": {
      "text/plain": [
       "Index(['ID', 'KIDSDRIV', 'BIRTH', 'AGE', 'HOMEKIDS', 'YOJ', 'INCOME',\n",
       "       'PARENT1', 'HOME_VAL', 'MSTATUS', 'GENDER', 'EDUCATION', 'OCCUPATION',\n",
       "       'TRAVTIME', 'CAR_USE', 'BLUEBOOK', 'TIF', 'CAR_TYPE', 'RED_CAR',\n",
       "       'REVOKED', 'MVR_PTS', 'CLM_AMT', 'CAR_AGE', 'URBANICITY', 'CLM_COUNT',\n",
       "       'EXPOSURE'],\n",
       "      dtype='object')"
      ]
     },
     "execution_count": 22,
     "metadata": {},
     "output_type": "execute_result"
    }
   ],
   "source": [
    "# Load data set\n",
    "cars = pd.read_csv('claim_history.csv')\n",
    "cars.columns"
   ]
  },
  {
   "cell_type": "code",
   "execution_count": 23,
   "metadata": {},
   "outputs": [
    {
     "name": "stdout",
     "output_type": "stream",
     "text": [
      "<class 'pandas.core.frame.DataFrame'>\n",
      "RangeIndex: 10302 entries, 0 to 10301\n",
      "Data columns (total 4 columns):\n",
      "CAR_USE       10302 non-null object\n",
      "CAR_TYPE      10302 non-null object\n",
      "OCCUPATION    10302 non-null object\n",
      "EDUCATION     10302 non-null object\n",
      "dtypes: object(4)\n",
      "memory usage: 322.1+ KB\n"
     ]
    }
   ],
   "source": [
    "# Extract predictive features, CAR_USE is the target variable\n",
    "cars = cars[['CAR_USE', 'CAR_TYPE', 'OCCUPATION', 'EDUCATION']]\n",
    "cars.info()"
   ]
  },
  {
   "cell_type": "code",
   "execution_count": 24,
   "metadata": {},
   "outputs": [],
   "source": [
    "# Split the data into train/test set\n",
    "X_train, X_test = train_test_split(cars, test_size=0.3, random_state=1, stratify=cars['CAR_USE'])"
   ]
  },
  {
   "cell_type": "code",
   "execution_count": 25,
   "metadata": {
    "scrolled": true
   },
   "outputs": [
    {
     "data": {
      "text/html": [
       "<div>\n",
       "<style scoped>\n",
       "    .dataframe tbody tr th:only-of-type {\n",
       "        vertical-align: middle;\n",
       "    }\n",
       "\n",
       "    .dataframe tbody tr th {\n",
       "        vertical-align: top;\n",
       "    }\n",
       "\n",
       "    .dataframe thead th {\n",
       "        text-align: right;\n",
       "    }\n",
       "</style>\n",
       "<table border=\"1\" class=\"dataframe\">\n",
       "  <thead>\n",
       "    <tr style=\"text-align: right;\">\n",
       "      <th></th>\n",
       "      <th>CAR_USE</th>\n",
       "      <th>CAR_TYPE</th>\n",
       "      <th>OCCUPATION</th>\n",
       "      <th>EDUCATION</th>\n",
       "    </tr>\n",
       "  </thead>\n",
       "  <tbody>\n",
       "    <tr>\n",
       "      <th>1153</th>\n",
       "      <td>Private</td>\n",
       "      <td>Sports Car</td>\n",
       "      <td>Lawyer</td>\n",
       "      <td>Masters</td>\n",
       "    </tr>\n",
       "    <tr>\n",
       "      <th>5256</th>\n",
       "      <td>Private</td>\n",
       "      <td>SUV</td>\n",
       "      <td>Blue Collar</td>\n",
       "      <td>High School</td>\n",
       "    </tr>\n",
       "    <tr>\n",
       "      <th>3354</th>\n",
       "      <td>Commercial</td>\n",
       "      <td>Panel Truck</td>\n",
       "      <td>Unknown</td>\n",
       "      <td>Masters</td>\n",
       "    </tr>\n",
       "    <tr>\n",
       "      <th>2561</th>\n",
       "      <td>Private</td>\n",
       "      <td>Sports Car</td>\n",
       "      <td>Home Maker</td>\n",
       "      <td>Bachelors</td>\n",
       "    </tr>\n",
       "    <tr>\n",
       "      <th>400</th>\n",
       "      <td>Private</td>\n",
       "      <td>SUV</td>\n",
       "      <td>Professional</td>\n",
       "      <td>Bachelors</td>\n",
       "    </tr>\n",
       "  </tbody>\n",
       "</table>\n",
       "</div>"
      ],
      "text/plain": [
       "         CAR_USE     CAR_TYPE    OCCUPATION    EDUCATION\n",
       "1153     Private   Sports Car        Lawyer      Masters\n",
       "5256     Private          SUV   Blue Collar  High School\n",
       "3354  Commercial  Panel Truck       Unknown      Masters\n",
       "2561     Private   Sports Car    Home Maker    Bachelors\n",
       "400      Private          SUV  Professional    Bachelors"
      ]
     },
     "execution_count": 25,
     "metadata": {},
     "output_type": "execute_result"
    }
   ],
   "source": [
    "X_train.head()"
   ]
  },
  {
   "cell_type": "code",
   "execution_count": 26,
   "metadata": {},
   "outputs": [],
   "source": [
    "# A function that calculates the entropy of a split in a variable\n",
    "def entropy_split(df, predictor):\n",
    "    categories = df[predictor].unique().tolist()\n",
    "    cross_table = pd.crosstab(df[predictor], df['CAR_USE'], margins=True)\n",
    "    print(cross_table)\n",
    "    print()\n",
    "    root_entropy = -(cross_table.loc['All', 'Commercial'] / cross_table.loc['All', 'All'] *\\\n",
    "                     np.log2(cross_table.loc['All', 'Commercial'] / cross_table.loc['All', 'All']) +\\\n",
    "                     cross_table.loc['All', 'Private'] / cross_table.loc['All', 'All'] *\\\n",
    "                     np.log2(cross_table.loc['All', 'Private'] / cross_table.loc['All', 'All']))\n",
    "    \n",
    "    entropies = []\n",
    "    for j in range(1, len(categories)-1):\n",
    "        coms = list(combinations(categories, j)) # Iterate all possible number of subsets\n",
    "        for category in coms:\n",
    "            ent1 = 0\n",
    "            prob = 0\n",
    "            category_all = 0\n",
    "            category_commercial = 0\n",
    "            category_private = 0\n",
    "            tot_entropy = 0\n",
    "            all_all = cross_table.loc['All', 'All']\n",
    "            for i in range(len(category)):\n",
    "                category_all += cross_table.loc[category[i], 'All']\n",
    "                category_commercial += cross_table.loc[category[i], 'Commercial']\n",
    "                category_private += cross_table.loc[category[i], 'Private']\n",
    "            prob = category_commercial / category_all\n",
    "            if prob > 0:\n",
    "                ent1 -= prob * np.log2(prob)\n",
    "            prob = category_private / category_all # Weighted probability of the subset\n",
    "            if prob > 0:\n",
    "                ent1 -= prob * np.log2(prob)\n",
    "            weight_1 = category_all / all_all\n",
    "            #ent1 = prob * ent1\n",
    "            \n",
    "            ent2 = 0\n",
    "            prob = 0\n",
    "            prob = (cross_table.loc['All', 'Commercial'] - category_commercial) / (all_all - category_all)\n",
    "            if prob > 0:\n",
    "                ent2 -= prob * np.log2(prob)\n",
    "            prob = (cross_table.loc['All', 'Private'] - category_private) / (all_all - category_all)\n",
    "            if prob > 0:\n",
    "                ent2 -= prob * np.log2(prob)\n",
    "            weight_2 = (all_all - category_all) / all_all # Weighted probability of the subset\n",
    "            #ent2 = prob * ent2\n",
    "            \n",
    "            tot_entropy = weight_1 * ent1 + weight_2 * ent2\n",
    "            category_2 = []\n",
    "            for cat in categories:\n",
    "                if cat not in category:\n",
    "                    category_2.append(cat)\n",
    "            category_2 = tuple(category_2)\n",
    "            entry = [(category, ent1), (category_2, ent2), ('Split entropy =', tot_entropy)]\n",
    "            entropies.append(entry)\n",
    "    \n",
    "    return root_entropy, entropies\n",
    "\n",
    "# A function display the entropy information of a split in a variable\n",
    "def predictor_split(df, node):\n",
    "    print('\\nFind the best predictor to split on ' + node + ':\\n')\n",
    "    entropies = {}\n",
    "    best_set = []\n",
    "    largest = 0\n",
    "    for predictor in df.columns[1:]: # 'CAR_TYPE', 'OCCUPATION', 'EDUCATION'\n",
    "        root_entropy, entropies[predictor] = entropy_split(df, predictor)\n",
    "        entropies[predictor].sort(key=lambda x: float(x[2][1])) # Sort by the lowest entropy\n",
    "        print('Entropy of the root node =', root_entropy)\n",
    "        print('The split criterion on predictor: ' + predictor)\n",
    "        best_subset_1 = entropies[predictor][0][0][0]\n",
    "        best_subset_2 = entropies[predictor][0][1][0]\n",
    "        print(best_subset_1, 'entropy =', entropies[predictor][0][0][1])\n",
    "        print(best_subset_2, 'entropy =', entropies[predictor][0][1][1])\n",
    "        print('Split entropy =', entropies[predictor][0][2][1])\n",
    "        split_entropy = entropies[predictor][0][2][1]\n",
    "        largest_reduction = root_entropy - split_entropy\n",
    "        print('Reduction =', root_entropy, '-', split_entropy, '=', largest_reduction)  \n",
    "        print('\\n')\n",
    "        \n",
    "        if largest_reduction > largest:\n",
    "            largest = largest_reduction\n",
    "            best_set = [best_subset_1, best_subset_2]\n",
    "        \n",
    "    print(\"Since the split \" + str(best_set) + \" gives the largest reduction in entropy \" + str(largest) +\\\n",
    "          \", the child nodes of \" + node + \" are \" + str(best_set) + \"\\n\\n\")"
   ]
  },
  {
   "cell_type": "code",
   "execution_count": 31,
   "metadata": {},
   "outputs": [
    {
     "name": "stdout",
     "output_type": "stream",
     "text": [
      "\n",
      "Find the best predictor to split on root:\n",
      "\n",
      "CAR_USE      Commercial  Private   All\n",
      "CAR_TYPE                              \n",
      "Minivan             393     1498  1891\n",
      "Panel Truck         597        0   597\n",
      "Pickup              751      507  1258\n",
      "SUV                 403     1618  2021\n",
      "Sports Car          133      684   817\n",
      "Van                 375      252   627\n",
      "All                2652     4559  7211\n",
      "\n",
      "Entropy of the root node = 0.9489455789827704\n",
      "The split criterion on predictor: CAR_TYPE\n",
      "('Sports Car', 'SUV', 'Minivan') entropy = 0.7147658445633102\n",
      "('Panel Truck', 'Pickup', 'Van') entropy = 0.8882677391690654\n",
      "Split entropy = 0.774484566295592\n",
      "Reduction = 0.9489455789827704 - 0.774484566295592 = 0.1744610126871784\n",
      "\n",
      "\n",
      "CAR_USE       Commercial  Private   All\n",
      "OCCUPATION                             \n",
      "Blue Collar         1226      383  1609\n",
      "Clerical             190      936  1126\n",
      "Doctor                 0      230   230\n",
      "Home Maker            33      539   572\n",
      "Lawyer                 0      723   723\n",
      "Manager              220      666   886\n",
      "Professional         257      724   981\n",
      "Student              323      312   635\n",
      "Unknown              403       46   449\n",
      "All                 2652     4559  7211\n",
      "\n",
      "Entropy of the root node = 0.9489455789827704\n",
      "The split criterion on predictor: OCCUPATION\n",
      "('Blue Collar', 'Unknown', 'Student') entropy = 0.8487688024476885\n",
      "('Lawyer', 'Home Maker', 'Professional', 'Doctor', 'Clerical', 'Manager') entropy = 0.6220555683654474\n",
      "Split entropy = 0.7067232620810868\n",
      "Reduction = 0.9489455789827704 - 0.7067232620810868 = 0.2422223169016836\n",
      "\n",
      "\n",
      "CAR_USE            Commercial  Private   All\n",
      "EDUCATION                                   \n",
      "Bachelors                 850     1144  1994\n",
      "Below High School         209      838  1047\n",
      "Doctors                   210      437   647\n",
      "High School              1016     1072  2088\n",
      "Masters                   367     1068  1435\n",
      "All                      2652     4559  7211\n",
      "\n",
      "Entropy of the root node = 0.9489455789827704\n",
      "The split criterion on predictor: EDUCATION\n",
      "('High School', 'Bachelors') entropy = 0.9946903241188575\n",
      "('Masters', 'Doctors', 'Below High School') entropy = 0.813172128146134\n",
      "Split entropy = 0.9159258760258535\n",
      "Reduction = 0.9489455789827704 - 0.9159258760258535 = 0.03301970295691692\n",
      "\n",
      "\n",
      "Since the split [('Blue Collar', 'Unknown', 'Student'), ('Lawyer', 'Home Maker', 'Professional', 'Doctor', 'Clerical', 'Manager')] gives the largest reduction in entropy 0.2422223169016836, the child nodes of root are [('Blue Collar', 'Unknown', 'Student'), ('Lawyer', 'Home Maker', 'Professional', 'Doctor', 'Clerical', 'Manager')]\n",
      "\n",
      "\n"
     ]
    }
   ],
   "source": [
    "# Find the best feature to split in the root node and its best cutpoint\n",
    "predictor_split(X_train, 'root')"
   ]
  },
  {
   "cell_type": "code",
   "execution_count": 32,
   "metadata": {},
   "outputs": [],
   "source": [
    "# Split the root node into two child nodes based on the above criterion\n",
    "cars_train_left = cars[cars['OCCUPATION'].isin(['Blue Collar', 'Unknown', 'Student'])]\n",
    "cars_train_right = cars[cars['OCCUPATION'].isin\\\n",
    "                        (['Professional', 'Manager', 'Clerical', 'Doctor', 'Lawyer', 'Home Maker'])]"
   ]
  },
  {
   "cell_type": "code",
   "execution_count": 28,
   "metadata": {},
   "outputs": [],
   "source": [
    "# entropy calculation\n",
    "def entropy(df, predictor):\n",
    "    cross_table = pd.crosstab(df[predictor], df['CAR_USE'], margins=True)\n",
    "    print()\n",
    "    print(cross_table)\n",
    "    node_entropy = -(cross_table.loc['All', 'Commercial'] / cross_table.loc['All', 'All'] *\\\n",
    "                     np.log2(cross_table.loc['All', 'Commercial'] / cross_table.loc['All', 'All']) +\\\n",
    "                     cross_table.loc['All', 'Private'] / cross_table.loc['All', 'All'] *\\\n",
    "                     np.log2(cross_table.loc['All', 'Private'] / cross_table.loc['All', 'All']))\n",
    "    return node_entropy\n",
    "\n",
    "# A fucntion that displays the class of CAR_USE based on the predicted probability\n",
    "def predict_class(n_private, n_commercial):\n",
    "    if n_private > n_commercial:\n",
    "        print('Predicted class = ' + 'Private')\n",
    "    else:\n",
    "        print('Predicted class = ' + 'Commercial')\n",
    "\n",
    "# A function that displays the information of a terminal node\n",
    "def describe_leaf(leaf_name, df):\n",
    "    leaf_entropy = entropy(df, 'CAR_TYPE')\n",
    "    print()\n",
    "    print(leaf_name)\n",
    "    print('Entropy =', leaf_entropy)\n",
    "    print('samples =', df.shape[0])\n",
    "    size = df.groupby('CAR_USE').size()\n",
    "    n_commercial = size[0]\n",
    "    n_private = size[1]\n",
    "    print('values = [' + str(n_private) + ', ' + str(n_commercial) + ']')\n",
    "    print('Probability of Commercial:', n_commercial/(n_private + n_commercial))\n",
    "    predict_class(n_private, n_commercial)"
   ]
  },
  {
   "cell_type": "code",
   "execution_count": 33,
   "metadata": {},
   "outputs": [
    {
     "name": "stdout",
     "output_type": "stream",
     "text": [
      "\n",
      "CAR_USE      Commercial  Private  All\n",
      "CAR_TYPE                             \n",
      "Minivan              23      168  191\n",
      "Panel Truck          36        0   36\n",
      "Pickup              100       95  195\n",
      "SUV                  15      230  245\n",
      "Sports Car            5       90   95\n",
      "Van                  37       24   61\n",
      "All                 216      607  823\n",
      "\n",
      "Leaf node ({'Blue Collar', 'Unknown', 'Student'} & {'Below High School'}):\n",
      "Entropy = 0.8304276080710689\n",
      "samples = 823\n",
      "values = [607, 216]\n",
      "Probability of Commercial: 0.2624544349939247\n",
      "Predicted class = Private\n",
      "\n",
      "CAR_USE      Commercial  Private   All\n",
      "CAR_TYPE                              \n",
      "Minivan             520      161   681\n",
      "Panel Truck         437        0   437\n",
      "Pickup              569       60   629\n",
      "SUV                 527      164   691\n",
      "Sports Car          188       71   259\n",
      "Van                 318       14   332\n",
      "All                2559      470  3029\n",
      "\n",
      "Leaf node ({'Blue Collar', 'Unknown', 'Student'} & {'High School', 'Bachelors', 'Doctors', 'Masters'}):\n",
      "Entropy = 0.6226204001098349\n",
      "samples = 3029\n",
      "values = [470, 2559]\n",
      "Probability of Commercial: 0.8448332783096731\n",
      "Predicted class = Commercial\n",
      "\n",
      "CAR_USE     Commercial  Private   All\n",
      "CAR_TYPE                             \n",
      "Minivan             10     1812  1822\n",
      "SUV                 13     1934  1947\n",
      "Sports Car           7      818   825\n",
      "All                 30     4564  4594\n",
      "\n",
      "Leaf node ({'Manager', 'Doctor', 'Clerical', 'Professional', 'Lawyer', 'Home Maker'} & {'Minivan', 'SUV', 'Sports Car'}):\n",
      "Entropy = 0.056791153992247115\n",
      "samples = 4594\n",
      "values = [4564, 30]\n",
      "Probability of Commercial: 0.006530256856769699\n",
      "Predicted class = Private\n",
      "\n",
      "CAR_USE      Commercial  Private   All\n",
      "CAR_TYPE                              \n",
      "Panel Truck         380        0   380\n",
      "Pickup              399      549   948\n",
      "Van                 205      323   528\n",
      "All                 984      872  1856\n",
      "\n",
      "Leaf node ({'Manager', 'Doctor', 'Clerical', 'Professional', 'Lawyer', 'Home Maker'} & {'Van', 'Pickup', 'Panel Truck'})\n",
      "Entropy = 0.9973716177249364\n",
      "samples = 1856\n",
      "values = [872, 984]\n",
      "Probability of Commercial: 0.5301724137931034\n",
      "Predicted class = Commercial\n"
     ]
    }
   ],
   "source": [
    "# Split the left node into two leaves\n",
    "cars_leaf_below_high_school = cars_train_left[cars_train_left['EDUCATION'].isin(['Below High School'])]\n",
    "cars_leaf_name = \"Leaf node ({'Blue Collar', 'Unknown', 'Student'} & {'Below High School'}):\"\n",
    "describe_leaf(cars_leaf_name, cars_leaf_below_high_school)  \n",
    "\n",
    "cars_leaf_high_school_and_above = cars_train_left[cars_train_left['EDUCATION'].isin(['High School', 'Bachelors', 'Masters', 'Doctors'])]\n",
    "cars_leaf_name = \"Leaf node ({'Blue Collar', 'Unknown', 'Student'} & {'High School', 'Bachelors', 'Doctors', 'Masters'}):\"\n",
    "describe_leaf(cars_leaf_name, cars_leaf_high_school_and_above)  \n",
    "\n",
    "# Split the right node into two leaves\n",
    "cars_leaf_minivan_suv_sports_car = cars_train_right[cars_train_right['CAR_TYPE'].isin(['Minivan', 'SUV', 'Sports Car'])]\n",
    "cars_leaf_name = \"Leaf node ({'Manager', 'Doctor', 'Clerical', 'Professional', 'Lawyer', 'Home Maker'} & {'Minivan', 'SUV', 'Sports Car'}):\"\n",
    "describe_leaf(cars_leaf_name, cars_leaf_minivan_suv_sports_car)  \n",
    "\n",
    "cars_leaf_van_pickup_panel_truck = cars_train_right[cars_train_right['CAR_TYPE'].isin(['Van', 'Pickup', 'Panel Truck'])]\n",
    "cars_leaf_name = \"Leaf node ({'Manager', 'Doctor', 'Clerical', 'Professional', 'Lawyer', 'Home Maker'} & {'Van', 'Pickup', 'Panel Truck'})\"\n",
    "describe_leaf(cars_leaf_name, cars_leaf_van_pickup_panel_truck)  "
   ]
  },
  {
   "cell_type": "code",
   "execution_count": 38,
   "metadata": {},
   "outputs": [
    {
     "name": "stdout",
     "output_type": "stream",
     "text": [
      "a) Misclassification Rate = 0.153099431424213\n",
      "\n",
      "c) Area Under the Curve = 0.9223458099388708\n"
     ]
    }
   ],
   "source": [
    "# Calculate the metrics on the model on the train data set\n",
    "pred_probability = np.ndarray(shape=(len(X_train), ), dtype=float)\n",
    "X_train = X_train.reset_index(drop=True)\n",
    "for i in range(len(X_train)):\n",
    "    if X_train.loc[i, 'OCCUPATION'] in ['Blue Collar', 'Unknown', 'Student']: # First split based on occupation\n",
    "        if X_train.loc[i, 'EDUCATION'] in ['Below High School']: # left node split based on education\n",
    "            pred_probability[i] = 0.2625\n",
    "        elif X_train.loc[i, 'EDUCATION'] in ['High School', 'Bachelors', 'Masters', 'Doctors']:\n",
    "            pred_probability[i] = 0.8448\n",
    "    elif X_train.loc[i, 'OCCUPATION'] in ['Professional', 'Manager', 'Clerical', 'Doctor', 'Lawyer', 'Home Maker']:\n",
    "        if X_train.loc[i, 'CAR_TYPE'] in ['Minivan', 'SUV', 'Sports Car']: # right node split based on car type\n",
    "            pred_probability[i] = 0.0065\n",
    "        elif X_train.loc[i, 'CAR_TYPE'] in ['Van', 'Pickup', 'Panel Truck']:\n",
    "            pred_probability[i] = 0.5302\n",
    "\n",
    "prob_dist_train = X_train.groupby('CAR_USE').size() / X_train.shape[0]\n",
    "threshold = prob_dist_train[0]\n",
    "\n",
    "y_test = X_train['CAR_USE']\n",
    "y_pred = np.empty_like(y_test)\n",
    "count = 0\n",
    "for i in range(len(y_test)):\n",
    "    if pred_probability[i] >= threshold:\n",
    "        y_pred[i] = 'Commercial'\n",
    "    elif pred_probability[i] < threshold:\n",
    "        y_pred[i] = 'Private'\n",
    "    if y_pred[i] != y_test[i]: # predicted event not qeual to observed target value\n",
    "        count += 1\n",
    "missclassification_rate = count / len(y_test)\n",
    "print(\"Misclassification Rate =\", missclassification_rate)\n",
    "print()\n",
    "\n",
    "from sklearn.metrics import confusion_matrix, mean_squared_error, roc_auc_score,  roc_curve, accuracy_score\n",
    "           \n",
    "y_true = np.array(y_test.apply(lambda x: 1 if x == 'Commercial' else 0))\n",
    "y_prob = np.array(pred_probability)\n",
    "MSE = mean_squared_error(y_true, y_prob)\n",
    "RMSE = np.sqrt(MSE)   \n",
    "\n",
    "AUC = roc_auc_score(y_true, y_prob)\n",
    "print('Area Under the Curve =', AUC)       "
   ]
  },
  {
   "cell_type": "code",
   "execution_count": 40,
   "metadata": {},
   "outputs": [
    {
     "name": "stdout",
     "output_type": "stream",
     "text": [
      "a) Misclassification Rate = 0.15658362989323843\n"
     ]
    }
   ],
   "source": [
    "# Predict the probability of CAR_TYPE = Commercial\n",
    "pred_probability = np.ndarray(shape=(len(X_test), ), dtype=float)\n",
    "X_test = X_test.reset_index(drop=True)\n",
    "for i in range(len(X_test)):\n",
    "    if X_test.loc[i, 'OCCUPATION'] in ['Blue Collar', 'Unknown', 'Student']: # First split based on occupation\n",
    "        if X_test.loc[i, 'EDUCATION'] in ['Below High School']: # left node split based on education\n",
    "            pred_probability[i] = 0.2625\n",
    "        elif X_test.loc[i, 'EDUCATION'] in ['High School', 'Bachelors', 'Masters', 'Doctors']:\n",
    "            pred_probability[i] = 0.8448\n",
    "    elif X_test.loc[i, 'OCCUPATION'] in ['Professional', 'Manager', 'Clerical', 'Doctor', 'Lawyer', 'Home Maker']:\n",
    "        if X_test.loc[i, 'CAR_TYPE'] in ['Minivan', 'SUV', 'Sports Car']: # right node split based on car type\n",
    "            pred_probability[i] = 0.0065\n",
    "        elif X_test.loc[i, 'CAR_TYPE'] in ['Van', 'Pickup', 'Panel Truck']:\n",
    "            pred_probability[i] = 0.5302\n",
    "\n",
    "# Calculate the missclasification rate with threshold 0.3677714602690334 for Commerical event in the Test partition\n",
    "y_test = X_test['CAR_USE']\n",
    "y_pred = np.empty_like(y_test)\n",
    "count = 0\n",
    "for i in range(len(y_test)):\n",
    "    if pred_probability[i] >= threshold:\n",
    "        y_pred[i] = 'Commercial'\n",
    "    elif pred_probability[i] < threshold:\n",
    "        y_pred[i] = 'Private'\n",
    "    if y_pred[i] != y_test[i]: # predicted event not qeual to observed target value\n",
    "        count += 1\n",
    "missclassification_rate = count / len(y_test)\n",
    "print(\"Misclassification Rate =\", missclassification_rate)"
   ]
  },
  {
   "cell_type": "code",
   "execution_count": 42,
   "metadata": {},
   "outputs": [
    {
     "name": "stdout",
     "output_type": "stream",
     "text": [
      "Root Average Squared Error = 0.32473375823381073\n",
      "\n",
      "Area Under the Curve = 0.9144352652790793\n"
     ]
    }
   ],
   "source": [
    "# Calculate the RASE in the Test partition\n",
    "ASE = 0\n",
    "for i in range(len(y_test)):\n",
    "    if y_test.values[i] == 'Commercial':\n",
    "        ASE += (1 - pred_probability[i]) ** 2\n",
    "    else:\n",
    "        ASE += (0 - pred_probability[i]) ** 2\n",
    "RASE = np.sqrt(ASE/len(y_test))\n",
    "print('Root Average Squared Error =', RASE)\n",
    "print()\n",
    "\n",
    "# Calculate the Root Mean Squared Error in the Test partition\n",
    "y_true = np.array(y_test.apply(lambda x: 1 if x == 'Commercial' else 0))\n",
    "y_prob = np.array(pred_probability)\n",
    "MSE = mean_squared_error(y_true, y_prob)\n",
    "RMSE = np.sqrt(MSE)\n",
    "\n",
    "\n",
    "# Calculate the Area Under Curve in the Test partition\n",
    "AUC = roc_auc_score(y_true, y_prob)\n",
    "print('Area Under the Curve =', AUC)"
   ]
  },
  {
   "cell_type": "code",
   "execution_count": 46,
   "metadata": {},
   "outputs": [
    {
     "name": "stdout",
     "output_type": "stream",
     "text": [
      "Receiver Operating Characteristic curve:\n"
     ]
    },
    {
     "data": {
      "image/png": "[encoded data removed]",
      "text/plain": [
       "<Figure size 432x432 with 1 Axes>"
      ]
     },
     "metadata": {
      "needs_background": "light"
     },
     "output_type": "display_data"
    }
   ],
   "source": [
    "# Generate the coordinates for the ROC curve\n",
    "OneMinusSpecificity, Sensitivity, thresholds = roc_curve(y_true, y_prob, pos_label = 1)\n",
    "\n",
    "# Add two dummy coordinates\n",
    "OneMinusSpecificity = np.append([0], OneMinusSpecificity)\n",
    "Sensitivity = np.append([0], Sensitivity)\n",
    "\n",
    "OneMinusSpecificity = np.append(OneMinusSpecificity, [1])\n",
    "Sensitivity = np.append(Sensitivity, [1])\n",
    "\n",
    "# Draw the ROC curve\n",
    "print('Receiver Operating Characteristic curve:')\n",
    "plt.figure(figsize=(6,6))\n",
    "plt.plot(OneMinusSpecificity, Sensitivity, marker = 'o',\n",
    "         color = 'blue', linestyle = 'solid', linewidth = 2, markersize = 6)\n",
    "plt.plot([0, 1], [0, 1], color = 'red', linestyle = ':')\n",
    "plt.grid(True)\n",
    "plt.xlabel(\"1 - Specificity (False Positive Rate)\")\n",
    "plt.ylabel(\"Sensitivity (True Positive Rate)\")\n",
    "ax = plt.gca()\n",
    "ax.set_aspect('equal')\n",
    "plt.show()"
   ]
  }
 ],
 "metadata": {
  "kernelspec": {
   "display_name": "Python 3",
   "language": "python",
   "name": "python3"
  },
  "language_info": {
   "codemirror_mode": {
    "name": "ipython",
    "version": 3
   },
   "file_extension": ".py",
   "mimetype": "text/x-python",
   "name": "python",
   "nbconvert_exporter": "python",
   "pygments_lexer": "ipython3",
   "version": "3.7.5"
  }
 },
 "nbformat": 4,
 "nbformat_minor": 2
}
