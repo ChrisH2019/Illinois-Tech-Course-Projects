{
 "cells": [
  {
   "cell_type": "markdown",
   "metadata": {},
   "source": [
    "# Whole Milk Promotion"
   ]
  },
  {
   "cell_type": "code",
   "execution_count": 1,
   "metadata": {},
   "outputs": [],
   "source": [
    "import pandas as pd\n",
    "import numpy as np\n",
    "import matplotlib.pyplot as plt\n",
    "from mlxtend.preprocessing import TransactionEncoder\n",
    "from mlxtend.frequent_patterns import apriori\n",
    "from mlxtend.frequent_patterns import association_rules"
   ]
  },
  {
   "cell_type": "markdown",
   "metadata": {},
   "source": [
    "## 1. EDA"
   ]
  },
  {
   "cell_type": "code",
   "execution_count": 2,
   "metadata": {},
   "outputs": [],
   "source": [
    "# Load the grocery data\n",
    "groceries = pd.read_csv('Groceries.csv')"
   ]
  },
  {
   "cell_type": "code",
   "execution_count": 3,
   "metadata": {},
   "outputs": [
    {
     "data": {
      "text/html": [
       "<div>\n",
       "<style scoped>\n",
       "    .dataframe tbody tr th:only-of-type {\n",
       "        vertical-align: middle;\n",
       "    }\n",
       "\n",
       "    .dataframe tbody tr th {\n",
       "        vertical-align: top;\n",
       "    }\n",
       "\n",
       "    .dataframe thead th {\n",
       "        text-align: right;\n",
       "    }\n",
       "</style>\n",
       "<table border=\"1\" class=\"dataframe\">\n",
       "  <thead>\n",
       "    <tr style=\"text-align: right;\">\n",
       "      <th></th>\n",
       "      <th>Customer</th>\n",
       "      <th>Item</th>\n",
       "    </tr>\n",
       "  </thead>\n",
       "  <tbody>\n",
       "    <tr>\n",
       "      <th>0</th>\n",
       "      <td>1</td>\n",
       "      <td>citrus fruit</td>\n",
       "    </tr>\n",
       "    <tr>\n",
       "      <th>1</th>\n",
       "      <td>1</td>\n",
       "      <td>margarine</td>\n",
       "    </tr>\n",
       "    <tr>\n",
       "      <th>2</th>\n",
       "      <td>1</td>\n",
       "      <td>ready soups</td>\n",
       "    </tr>\n",
       "    <tr>\n",
       "      <th>3</th>\n",
       "      <td>1</td>\n",
       "      <td>semi-finished bread</td>\n",
       "    </tr>\n",
       "    <tr>\n",
       "      <th>4</th>\n",
       "      <td>2</td>\n",
       "      <td>coffee</td>\n",
       "    </tr>\n",
       "  </tbody>\n",
       "</table>\n",
       "</div>"
      ],
      "text/plain": [
       "   Customer                 Item\n",
       "0         1         citrus fruit\n",
       "1         1            margarine\n",
       "2         1          ready soups\n",
       "3         1  semi-finished bread\n",
       "4         2               coffee"
      ]
     },
     "execution_count": 3,
     "metadata": {},
     "output_type": "execute_result"
    }
   ],
   "source": [
    "# Inspect the data\n",
    "groceries.head()"
   ]
  },
  {
   "cell_type": "code",
   "execution_count": 4,
   "metadata": {},
   "outputs": [
    {
     "name": "stdout",
     "output_type": "stream",
     "text": [
      "<class 'pandas.core.frame.DataFrame'>\n",
      "RangeIndex: 43367 entries, 0 to 43366\n",
      "Data columns (total 2 columns):\n",
      "Customer    43367 non-null int64\n",
      "Item        43367 non-null object\n",
      "dtypes: int64(1), object(1)\n",
      "memory usage: 677.7+ KB\n"
     ]
    }
   ],
   "source": [
    "groceries.info()"
   ]
  },
  {
   "cell_type": "markdown",
   "metadata": {},
   "source": [
    "### Visualize the distribution of the number of distinct items in each customer’s market basket"
   ]
  },
  {
   "cell_type": "code",
   "execution_count": 6,
   "metadata": {},
   "outputs": [
    {
     "data": {
      "text/plain": [
       "(array([2.159e+03, 1.643e+03, 1.299e+03, 1.005e+03, 8.550e+02, 6.450e+02,\n",
       "        5.450e+02, 4.380e+02, 3.500e+02, 2.460e+02, 1.820e+02, 1.170e+02,\n",
       "        7.800e+01, 7.700e+01, 5.500e+01, 4.600e+01, 2.900e+01, 1.400e+01,\n",
       "        1.400e+01, 9.000e+00, 1.100e+01, 4.000e+00, 6.000e+00, 1.000e+00,\n",
       "        0.000e+00, 1.000e+00, 1.000e+00, 1.000e+00, 3.000e+00, 0.000e+00,\n",
       "        0.000e+00, 1.000e+00]),\n",
       " array([ 0.     ,  1.03125,  2.0625 ,  3.09375,  4.125  ,  5.15625,\n",
       "         6.1875 ,  7.21875,  8.25   ,  9.28125, 10.3125 , 11.34375,\n",
       "        12.375  , 13.40625, 14.4375 , 15.46875, 16.5    , 17.53125,\n",
       "        18.5625 , 19.59375, 20.625  , 21.65625, 22.6875 , 23.71875,\n",
       "        24.75   , 25.78125, 26.8125 , 27.84375, 28.875  , 29.90625,\n",
       "        30.9375 , 31.96875, 33.     ]),\n",
       " <a list of 32 Patch objects>)"
      ]
     },
     "execution_count": 6,
     "metadata": {},
     "output_type": "execute_result"
    },
    {
     "data": {
      "image/png": "[encoded data removed]",
      "text/plain": [
       "<Figure size 432x288 with 1 Axes>"
      ]
     },
     "metadata": {
      "needs_background": "light"
     },
     "output_type": "display_data"
    }
   ],
   "source": [
    "# Create a dataset which contains the number of distinct items in eachcustomer’s market basket.\n",
    "n_items = groceries.groupby('Customer').size()\n",
    "\n",
    "# Plot the histogram\n",
    "plt.hist(n_items, range=(0, 33), bins=32, edgecolor='black')"
   ]
  },
  {
   "cell_type": "code",
   "execution_count": 7,
   "metadata": {},
   "outputs": [
    {
     "name": "stdout",
     "output_type": "stream",
     "text": [
      "Statistics of number of items purchased by all customers:\n",
      "count    9835.000000\n",
      "mean        4.409456\n",
      "std         3.589385\n",
      "min         1.000000\n",
      "25%         2.000000\n",
      "50%         3.000000\n",
      "75%         6.000000\n",
      "max        32.000000\n",
      "dtype: float64\n"
     ]
    }
   ],
   "source": [
    "# Five summary statistics\n",
    "print(\"Statistics of number of items purchased by all customers:\")\n",
    "print(n_items.describe())"
   ]
  },
  {
   "cell_type": "markdown",
   "metadata": {},
   "source": [
    "## 2. Use apriori algorithm to find k-itemsets which can be found in the market baskets of at least seventy five (75) customers."
   ]
  },
  {
   "cell_type": "code",
   "execution_count": 9,
   "metadata": {},
   "outputs": [
    {
     "name": "stdout",
     "output_type": "stream",
     "text": [
      "Frequency of Number of Items Purchase\n",
      "1     2159\n",
      "2     1643\n",
      "3     1299\n",
      "4     1005\n",
      "5      855\n",
      "6      645\n",
      "7      545\n",
      "8      438\n",
      "9      350\n",
      "10     246\n",
      "11     182\n",
      "12     117\n",
      "13      78\n",
      "14      77\n",
      "15      55\n",
      "16      46\n",
      "17      29\n",
      "18      14\n",
      "19      14\n",
      "20       9\n",
      "21      11\n",
      "22       4\n",
      "23       6\n",
      "24       1\n",
      "26       1\n",
      "27       1\n",
      "28       1\n",
      "29       3\n",
      "32       1\n",
      "dtype: int64\n",
      "Number of itemsets that has at least 75 customers: 524\n",
      "The largest k value among the itemsets: 4\n"
     ]
    }
   ],
   "source": [
    "# Calculate the frequency table\n",
    "freq_table = pd.Series.sort_index(pd.Series.value_counts(n_items))\n",
    "print('Frequency of Number of Items Purchase')\n",
    "print(freq_table)\n",
    "\n",
    "# Convert the Sale Receipt data to the Item List format\n",
    "item_list = groceries.groupby(['Customer'])['Item'].apply(list).values.tolist()\n",
    "\n",
    "# Convert the Item List format to the Item Indicator format\n",
    "te = TransactionEncoder()\n",
    "te_ary = te.fit(item_list).transform(item_list)\n",
    "item_indicator = pd.DataFrame(te_ary, columns=te.columns_)\n",
    "\n",
    "# Find the frequent itemsets\n",
    "frequent_itemsets = apriori(item_indicator, min_support=75/len(item_list), max_len=32, \\\n",
    "                            use_colnames=True)\n",
    "print(\"Number of itemsets that has at least 75 customers:\", len(frequent_itemsets))\n",
    "print(\"The largest k value among the itemsets:\", len(np.max(frequent_itemsets['itemsets'])))"
   ]
  },
  {
   "cell_type": "markdown",
   "metadata": {},
   "source": [
    "## 3. Discover the association rules"
   ]
  },
  {
   "cell_type": "code",
   "execution_count": 10,
   "metadata": {},
   "outputs": [
    {
     "name": "stdout",
     "output_type": "stream",
     "text": [
      "the lift statistics of the association rules with 1% confidence:\n",
      "count    1228.000000\n",
      "mean        1.832335\n",
      "std         0.582243\n",
      "min         0.445664\n",
      "25%         1.418258\n",
      "50%         1.744861\n",
      "75%         2.189610\n",
      "max         4.152546\n",
      "Name: lift, dtype: float64\n",
      "Number of empty anteceents: 0\n",
      "Number of empty consequents: 0\n"
     ]
    }
   ],
   "source": [
    "# Discover the association rules\n",
    "assoc_rules = association_rules(frequent_itemsets, metric=\"confidence\", min_threshold=0.01)\n",
    "print(\"the lift statistics of the association rules with 1% confidence:\")\n",
    "print(assoc_rules['lift'].describe())\n",
    "print(\"Number of empty anteceents:\", sum(assoc_rules['antecedents'].isnull()))\n",
    "print(\"Number of empty consequents:\", sum(assoc_rules['consequents'].isnull()))"
   ]
  },
  {
   "cell_type": "markdown",
   "metadata": {},
   "source": [
    "### Plot Support metrics on the vertical axis against the Confidence metrics"
   ]
  },
  {
   "cell_type": "code",
   "execution_count": 11,
   "metadata": {},
   "outputs": [
    {
     "data": {
      "image/png": "[encoded data removed]",
      "text/plain": [
       "<Figure size 432x288 with 1 Axes>"
      ]
     },
     "metadata": {
      "needs_background": "light"
     },
     "output_type": "display_data"
    }
   ],
   "source": [
    "plt.figure(figsize=(6,4))\n",
    "plt.scatter(assoc_rules['confidence'], assoc_rules['support'], s=assoc_rules['lift'])\n",
    "plt.grid(True)\n",
    "plt.xlabel(\"Confidence\")\n",
    "plt.ylabel(\"Support\")\n",
    "plt.show()"
   ]
  },
  {
   "cell_type": "markdown",
   "metadata": {},
   "source": [
    "### List the rules whose Confidence metrics are at least 60%"
   ]
  },
  {
   "cell_type": "code",
   "execution_count": 12,
   "metadata": {},
   "outputs": [
    {
     "name": "stdout",
     "output_type": "stream",
     "text": [
      "the lift statistics of the association rules with 60% confidence:\n"
     ]
    },
    {
     "data": {
      "image/png": "[encoded data removed]",
      "text/plain": [
       "<Figure size 432x288 with 1 Axes>"
      ]
     },
     "metadata": {
      "needs_background": "light"
     },
     "output_type": "display_data"
    }
   ],
   "source": [
    "# Find the frequent itemsets\n",
    "frequent_itemsets = apriori(item_indicator, min_support=75/len(item_list), max_len=32, use_colnames=True)\n",
    "\n",
    "# Discover the association rules\n",
    "assoc_rules = association_rules(frequent_itemsets, metric=\"confidence\", min_threshold=0.6)\n",
    "print(\"the lift statistics of the association rules with 60% confidence:\")\n",
    "assoc_rules['lift'].describe()\n",
    "\n",
    "plt.figure(figsize=(6,4))\n",
    "plt.scatter(assoc_rules['confidence'], assoc_rules['support'], s=assoc_rules['lift'])\n",
    "plt.grid(True)\n",
    "plt.xlabel(\"Confidence\")\n",
    "plt.ylabel(\"Support\")\n",
    "plt.show()\n"
   ]
  },
  {
   "cell_type": "markdown",
   "metadata": {},
   "source": [
    "## Association rules that lead to the purchase of whole milk"
   ]
  },
  {
   "cell_type": "code",
   "execution_count": 13,
   "metadata": {},
   "outputs": [
    {
     "name": "stdout",
     "output_type": "stream",
     "text": [
      "                                   antecedents   consequents  \\\n",
      "0                    (butter, root vegetables)  (whole milk)   \n",
      "1                             (butter, yogurt)  (whole milk)   \n",
      "2  (other vegetables, yogurt, root vegetables)  (whole milk)   \n",
      "3   (other vegetables, tropical fruit, yogurt)  (whole milk)   \n",
      "\n",
      "   antecedent support  consequent support   support  confidence      lift  \\\n",
      "0            0.012913            0.255516  0.008236    0.637795  2.496107   \n",
      "1            0.014642            0.255516  0.009354    0.638889  2.500387   \n",
      "2            0.012913            0.255516  0.007829    0.606299  2.372842   \n",
      "3            0.012303            0.255516  0.007626    0.619835  2.425816   \n",
      "\n",
      "   leverage  conviction  \n",
      "0  0.004936    2.055423  \n",
      "1  0.005613    2.061648  \n",
      "2  0.004530    1.890989  \n",
      "3  0.004482    1.958317  \n"
     ]
    }
   ],
   "source": [
    "print(assoc_rules)"
   ]
  }
 ],
 "metadata": {
  "kernelspec": {
   "display_name": "Python 3",
   "language": "python",
   "name": "python3"
  },
  "language_info": {
   "codemirror_mode": {
    "name": "ipython",
    "version": 3
   },
   "file_extension": ".py",
   "mimetype": "text/x-python",
   "name": "python",
   "nbconvert_exporter": "python",
   "pygments_lexer": "ipython3",
   "version": "3.7.3"
  }
 },
 "nbformat": 4,
 "nbformat_minor": 2
}
