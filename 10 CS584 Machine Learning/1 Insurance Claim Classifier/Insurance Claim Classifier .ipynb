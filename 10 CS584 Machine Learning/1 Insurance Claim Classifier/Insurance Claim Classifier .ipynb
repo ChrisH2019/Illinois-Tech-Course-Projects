{
 "cells": [
  {
   "cell_type": "markdown",
   "metadata": {},
   "source": [
    "# Insurance Claim Classifier "
   ]
  },
  {
   "cell_type": "markdown",
   "metadata": {},
   "source": [
    "In this project, data is orthonormalized. KNearestNeighbors and NearestNeighbors algorithms are used to predict the likelihood of fraud of an insurance claim."
   ]
  },
  {
   "cell_type": "code",
   "execution_count": 96,
   "metadata": {},
   "outputs": [],
   "source": [
    "import numpy as np\n",
    "import pandas as pd\n",
    "import matplotlib.pyplot as plt\n",
    "from sklearn.neighbors import KNeighborsClassifier as KNC\n",
    "from sklearn.neighbors import NearestNeighbors as NN\n",
    "from sklearn.model_selection import train_test_split\n",
    "from sklearn.metrics import accuracy_score\n",
    "from sklearn.preprocessing import StandardScaler"
   ]
  },
  {
   "cell_type": "markdown",
   "metadata": {},
   "source": [
    "## 1. EDA"
   ]
  },
  {
   "cell_type": "code",
   "execution_count": 37,
   "metadata": {},
   "outputs": [],
   "source": [
    "# Load the data\n",
    "frauds = pd.read_csv('Fraud.csv')"
   ]
  },
  {
   "cell_type": "code",
   "execution_count": 38,
   "metadata": {
    "scrolled": true
   },
   "outputs": [
    {
     "name": "stdout",
     "output_type": "stream",
     "text": [
      "<class 'pandas.core.frame.DataFrame'>\n",
      "RangeIndex: 5960 entries, 0 to 5959\n",
      "Data columns (total 8 columns):\n",
      "CASE_ID            5960 non-null int64\n",
      "FRAUD              5960 non-null int64\n",
      "TOTAL_SPEND        5960 non-null int64\n",
      "DOCTOR_VISITS      5960 non-null int64\n",
      "NUM_CLAIMS         5960 non-null int64\n",
      "MEMBER_DURATION    5960 non-null int64\n",
      "OPTOM_PRESC        5960 non-null int64\n",
      "NUM_MEMBERS        5960 non-null int64\n",
      "dtypes: int64(8)\n",
      "memory usage: 372.6 KB\n"
     ]
    }
   ],
   "source": [
    "# Inspect the data\n",
    "frauds.info()"
   ]
  },
  {
   "cell_type": "code",
   "execution_count": 39,
   "metadata": {
    "scrolled": true
   },
   "outputs": [
    {
     "data": {
      "text/html": [
       "<div>\n",
       "<style scoped>\n",
       "    .dataframe tbody tr th:only-of-type {\n",
       "        vertical-align: middle;\n",
       "    }\n",
       "\n",
       "    .dataframe tbody tr th {\n",
       "        vertical-align: top;\n",
       "    }\n",
       "\n",
       "    .dataframe thead th {\n",
       "        text-align: right;\n",
       "    }\n",
       "</style>\n",
       "<table border=\"1\" class=\"dataframe\">\n",
       "  <thead>\n",
       "    <tr style=\"text-align: right;\">\n",
       "      <th></th>\n",
       "      <th>CASE_ID</th>\n",
       "      <th>FRAUD</th>\n",
       "      <th>TOTAL_SPEND</th>\n",
       "      <th>DOCTOR_VISITS</th>\n",
       "      <th>NUM_CLAIMS</th>\n",
       "      <th>MEMBER_DURATION</th>\n",
       "      <th>OPTOM_PRESC</th>\n",
       "      <th>NUM_MEMBERS</th>\n",
       "    </tr>\n",
       "  </thead>\n",
       "  <tbody>\n",
       "    <tr>\n",
       "      <td>0</td>\n",
       "      <td>1</td>\n",
       "      <td>1</td>\n",
       "      <td>1100</td>\n",
       "      <td>11</td>\n",
       "      <td>0</td>\n",
       "      <td>94</td>\n",
       "      <td>1</td>\n",
       "      <td>2</td>\n",
       "    </tr>\n",
       "    <tr>\n",
       "      <td>1</td>\n",
       "      <td>2</td>\n",
       "      <td>1</td>\n",
       "      <td>1300</td>\n",
       "      <td>7</td>\n",
       "      <td>2</td>\n",
       "      <td>122</td>\n",
       "      <td>0</td>\n",
       "      <td>1</td>\n",
       "    </tr>\n",
       "    <tr>\n",
       "      <td>2</td>\n",
       "      <td>3</td>\n",
       "      <td>1</td>\n",
       "      <td>1500</td>\n",
       "      <td>4</td>\n",
       "      <td>0</td>\n",
       "      <td>149</td>\n",
       "      <td>1</td>\n",
       "      <td>3</td>\n",
       "    </tr>\n",
       "    <tr>\n",
       "      <td>3</td>\n",
       "      <td>4</td>\n",
       "      <td>1</td>\n",
       "      <td>1500</td>\n",
       "      <td>9</td>\n",
       "      <td>0</td>\n",
       "      <td>180</td>\n",
       "      <td>1</td>\n",
       "      <td>1</td>\n",
       "    </tr>\n",
       "    <tr>\n",
       "      <td>4</td>\n",
       "      <td>5</td>\n",
       "      <td>0</td>\n",
       "      <td>1700</td>\n",
       "      <td>3</td>\n",
       "      <td>0</td>\n",
       "      <td>93</td>\n",
       "      <td>0</td>\n",
       "      <td>1</td>\n",
       "    </tr>\n",
       "  </tbody>\n",
       "</table>\n",
       "</div>"
      ],
      "text/plain": [
       "   CASE_ID  FRAUD  TOTAL_SPEND  DOCTOR_VISITS  NUM_CLAIMS  MEMBER_DURATION  \\\n",
       "0        1      1         1100             11           0               94   \n",
       "1        2      1         1300              7           2              122   \n",
       "2        3      1         1500              4           0              149   \n",
       "3        4      1         1500              9           0              180   \n",
       "4        5      0         1700              3           0               93   \n",
       "\n",
       "   OPTOM_PRESC  NUM_MEMBERS  \n",
       "0            1            2  \n",
       "1            0            1  \n",
       "2            1            3  \n",
       "3            1            1  \n",
       "4            0            1  "
      ]
     },
     "execution_count": 39,
     "metadata": {},
     "output_type": "execute_result"
    }
   ],
   "source": [
    "frauds.head()"
   ]
  },
  {
   "cell_type": "code",
   "execution_count": 41,
   "metadata": {},
   "outputs": [
    {
     "data": {
      "text/html": [
       "<div>\n",
       "<style scoped>\n",
       "    .dataframe tbody tr th:only-of-type {\n",
       "        vertical-align: middle;\n",
       "    }\n",
       "\n",
       "    .dataframe tbody tr th {\n",
       "        vertical-align: top;\n",
       "    }\n",
       "\n",
       "    .dataframe thead th {\n",
       "        text-align: right;\n",
       "    }\n",
       "</style>\n",
       "<table border=\"1\" class=\"dataframe\">\n",
       "  <thead>\n",
       "    <tr style=\"text-align: right;\">\n",
       "      <th></th>\n",
       "      <th>FRAUD</th>\n",
       "      <th>TOTAL_SPEND</th>\n",
       "      <th>DOCTOR_VISITS</th>\n",
       "      <th>NUM_CLAIMS</th>\n",
       "      <th>MEMBER_DURATION</th>\n",
       "      <th>OPTOM_PRESC</th>\n",
       "      <th>NUM_MEMBERS</th>\n",
       "    </tr>\n",
       "  </thead>\n",
       "  <tbody>\n",
       "    <tr>\n",
       "      <td>count</td>\n",
       "      <td>5960.000000</td>\n",
       "      <td>5960.000000</td>\n",
       "      <td>5960.000000</td>\n",
       "      <td>5960.000000</td>\n",
       "      <td>5960.000000</td>\n",
       "      <td>5960.000000</td>\n",
       "      <td>5960.000000</td>\n",
       "    </tr>\n",
       "    <tr>\n",
       "      <td>mean</td>\n",
       "      <td>0.199497</td>\n",
       "      <td>18607.969799</td>\n",
       "      <td>8.941107</td>\n",
       "      <td>0.405705</td>\n",
       "      <td>179.615268</td>\n",
       "      <td>1.170134</td>\n",
       "      <td>1.985738</td>\n",
       "    </tr>\n",
       "    <tr>\n",
       "      <td>std</td>\n",
       "      <td>0.399656</td>\n",
       "      <td>11207.480417</td>\n",
       "      <td>7.232345</td>\n",
       "      <td>1.079256</td>\n",
       "      <td>82.076572</td>\n",
       "      <td>1.653866</td>\n",
       "      <td>0.996873</td>\n",
       "    </tr>\n",
       "    <tr>\n",
       "      <td>min</td>\n",
       "      <td>0.000000</td>\n",
       "      <td>1100.000000</td>\n",
       "      <td>0.000000</td>\n",
       "      <td>0.000000</td>\n",
       "      <td>0.000000</td>\n",
       "      <td>0.000000</td>\n",
       "      <td>1.000000</td>\n",
       "    </tr>\n",
       "    <tr>\n",
       "      <td>25%</td>\n",
       "      <td>0.000000</td>\n",
       "      <td>11100.000000</td>\n",
       "      <td>3.000000</td>\n",
       "      <td>0.000000</td>\n",
       "      <td>117.000000</td>\n",
       "      <td>0.000000</td>\n",
       "      <td>1.000000</td>\n",
       "    </tr>\n",
       "    <tr>\n",
       "      <td>50%</td>\n",
       "      <td>0.000000</td>\n",
       "      <td>16300.000000</td>\n",
       "      <td>8.000000</td>\n",
       "      <td>0.000000</td>\n",
       "      <td>178.000000</td>\n",
       "      <td>1.000000</td>\n",
       "      <td>2.000000</td>\n",
       "    </tr>\n",
       "    <tr>\n",
       "      <td>75%</td>\n",
       "      <td>0.000000</td>\n",
       "      <td>23300.000000</td>\n",
       "      <td>12.000000</td>\n",
       "      <td>0.000000</td>\n",
       "      <td>227.000000</td>\n",
       "      <td>2.000000</td>\n",
       "      <td>3.000000</td>\n",
       "    </tr>\n",
       "    <tr>\n",
       "      <td>max</td>\n",
       "      <td>1.000000</td>\n",
       "      <td>89900.000000</td>\n",
       "      <td>41.000000</td>\n",
       "      <td>15.000000</td>\n",
       "      <td>660.000000</td>\n",
       "      <td>17.000000</td>\n",
       "      <td>8.000000</td>\n",
       "    </tr>\n",
       "  </tbody>\n",
       "</table>\n",
       "</div>"
      ],
      "text/plain": [
       "             FRAUD   TOTAL_SPEND  DOCTOR_VISITS   NUM_CLAIMS  MEMBER_DURATION  \\\n",
       "count  5960.000000   5960.000000    5960.000000  5960.000000      5960.000000   \n",
       "mean      0.199497  18607.969799       8.941107     0.405705       179.615268   \n",
       "std       0.399656  11207.480417       7.232345     1.079256        82.076572   \n",
       "min       0.000000   1100.000000       0.000000     0.000000         0.000000   \n",
       "25%       0.000000  11100.000000       3.000000     0.000000       117.000000   \n",
       "50%       0.000000  16300.000000       8.000000     0.000000       178.000000   \n",
       "75%       0.000000  23300.000000      12.000000     0.000000       227.000000   \n",
       "max       1.000000  89900.000000      41.000000    15.000000       660.000000   \n",
       "\n",
       "       OPTOM_PRESC  NUM_MEMBERS  \n",
       "count  5960.000000  5960.000000  \n",
       "mean      1.170134     1.985738  \n",
       "std       1.653866     0.996873  \n",
       "min       0.000000     1.000000  \n",
       "25%       0.000000     1.000000  \n",
       "50%       1.000000     2.000000  \n",
       "75%       2.000000     3.000000  \n",
       "max      17.000000     8.000000  "
      ]
     },
     "execution_count": 41,
     "metadata": {},
     "output_type": "execute_result"
    }
   ],
   "source": [
    "# Trim-off the CASE_ID\n",
    "frauds = frauds.drop(['CASE_ID'], axis = 1)\n",
    "\n",
    "frauds.describe()"
   ]
  },
  {
   "cell_type": "markdown",
   "metadata": {},
   "source": [
    "### Percent of investigations are found to be fraudulent"
   ]
  },
  {
   "cell_type": "code",
   "execution_count": 60,
   "metadata": {
    "scrolled": true
   },
   "outputs": [
    {
     "name": "stdout",
     "output_type": "stream",
     "text": [
      "Total number of entries: 5960\n",
      "Total number of FRAUD entries: 1189\n",
      "Percent of investigations are found to be fraudulent: 0.199496644295302\n"
     ]
    }
   ],
   "source": [
    "print(\"Total number of entries:\", frauds.shape[0])\n",
    "print(\"Total number of FRAUD entries:\", np.sum(fraud_data['FRAUD']))\n",
    "print(\"Percent of investigations are found to be fraudulent:\",frauds.groupby('FRAUD').size()[1]/frauds.shape[0])"
   ]
  },
  {
   "cell_type": "markdown",
   "metadata": {},
   "source": [
    "### Visualize the distribution of the features"
   ]
  },
  {
   "cell_type": "code",
   "execution_count": 15,
   "metadata": {},
   "outputs": [
    {
     "data": {
      "image/png": "[encoded data removed]",
      "text/plain": [
       "<Figure size 432x288 with 1 Axes>"
      ]
     },
     "metadata": {
      "needs_background": "light"
     },
     "output_type": "display_data"
    },
    {
     "data": {
      "image/png": "[encoded data removed]",
      "text/plain": [
       "<Figure size 432x288 with 1 Axes>"
      ]
     },
     "metadata": {
      "needs_background": "light"
     },
     "output_type": "display_data"
    },
    {
     "data": {
      "image/png": "[encoded data removed]",
      "text/plain": [
       "<Figure size 432x288 with 1 Axes>"
      ]
     },
     "metadata": {
      "needs_background": "light"
     },
     "output_type": "display_data"
    },
    {
     "data": {
      "image/png": "[encoded data removed]",
      "text/plain": [
       "<Figure size 432x288 with 1 Axes>"
      ]
     },
     "metadata": {
      "needs_background": "light"
     },
     "output_type": "display_data"
    },
    {
     "data": {
      "image/png": "[encoded data removed]",
      "text/plain": [
       "<Figure size 432x288 with 1 Axes>"
      ]
     },
     "metadata": {
      "needs_background": "light"
     },
     "output_type": "display_data"
    },
    {
     "data": {
      "image/png": "[encoded data removed]",
      "text/plain": [
       "<Figure size 432x288 with 1 Axes>"
      ]
     },
     "metadata": {
      "needs_background": "light"
     },
     "output_type": "display_data"
    }
   ],
   "source": [
    "fraudulent_obs = fraud_data[fraud_data['FRAUD']==1]\n",
    "fraudulent_obs = fraudulent_obs[['TOTAL_SPEND', 'DOCTOR_VISITS', 'NUM_CLAIMS',\\\n",
    "                                 'MEMBER_DURATION', 'OPTOM_PRESC', 'NUM_MEMBERS']]\n",
    "\n",
    "non_fraudulent_obs = fraud_data[fraud_data['FRAUD']==0]\n",
    "non_fraudulent_obs = non_fraudulent_obs[['TOTAL_SPEND', 'DOCTOR_VISITS', 'NUM_CLAIMS',\\\n",
    "                                 'MEMBER_DURATION', 'OPTOM_PRESC', 'NUM_MEMBERS']]\n",
    "# Total spend\n",
    "plt.figure()\n",
    "plt.boxplot([fraudulent_obs['TOTAL_SPEND'], non_fraudulent_obs['TOTAL_SPEND']],\\\n",
    "            labels=['Fraudulent Total Spend', 'Non-Fraudulent Total Spend'], vert=False)\n",
    "plt.show()\n",
    "\n",
    "# Doctor visits\n",
    "plt.figure()\n",
    "plt.boxplot([fraudulent_obs['DOCTOR_VISITS'], non_fraudulent_obs['DOCTOR_VISITS']],\\\n",
    "            labels=['Fraudulent Doctor Visits', 'Non-Fraudulent Doctor Visits'], vert=False)\n",
    "plt.show()\n",
    "\n",
    "# Num claims\n",
    "plt.figure()\n",
    "plt.boxplot([fraudulent_obs['NUM_CLAIMS'], non_fraudulent_obs['NUM_CLAIMS']],\\\n",
    "            labels=['Fraudulent Num Claims', 'Non-Fraudulent Num Claims'], vert=False)\n",
    "plt.show()\n",
    "\n",
    "# Member duration\n",
    "plt.figure()\n",
    "plt.boxplot([fraudulent_obs['MEMBER_DURATION'], non_fraudulent_obs['MEMBER_DURATION']],\\\n",
    "            labels=['Fraudulent Member Duration', 'Non-Fraudulent Member Duration'], vert=False)\n",
    "plt.show()\n",
    "\n",
    "# Optom presc\n",
    "plt.figure()\n",
    "plt.boxplot([fraudulent_obs['OPTOM_PRESC'], non_fraudulent_obs['OPTOM_PRESC']],\\\n",
    "            labels=['Fraudulent Optom Presc', 'Non-Fraudulent Optom Presc'], vert=False)\n",
    "plt.show()\n",
    "\n",
    "# Num Members\n",
    "plt.figure()\n",
    "plt.boxplot([fraudulent_obs['NUM_MEMBERS'], non_fraudulent_obs['NUM_MEMBERS']],\\\n",
    "            labels=['Fraudulent Num Members', 'Non-Fraudulent Num Members'], vert=False)\n",
    "plt.show()"
   ]
  },
  {
   "cell_type": "markdown",
   "metadata": {},
   "source": [
    "### Normalize the feature values"
   ]
  },
  {
   "cell_type": "code",
   "execution_count": 93,
   "metadata": {},
   "outputs": [],
   "source": [
    "# Orthonormalized the fraud data\n",
    "X = frauds.loc[:, frauds.columns != 'FRAUD']\n",
    "X = np.matrix(X.values)\n",
    "XTX = X.transpose() * X\n",
    "\n",
    "# Eigenvalue decompostion\n",
    "evals, evecs = np.linalg.eigh(XTX)\n",
    "\n",
    "# Create transformation matrix\n",
    "transf = evecs * np.linalg.inv(np.sqrt(np.diagflat(evals)));\n",
    "\n",
    "# Transform x\n",
    "X = X * transf\n",
    "\n",
    "# Split the orthonormalized data into train and test\n",
    "y = frauds['FRAUD']\n",
    "X_train, X_test, y_train, y_test = train_test_split(X, y, train_size = 0.8, stratify = y)\n",
    "\n",
    "# Split the standardized data into train and test\n",
    "scaler = StandardScaler()\n",
    "X_scaled = scaler.fit_transform(frauds.loc[:, frauds.columns != 'FRAUD'])\n",
    "X_scaled = pd.DataFrame(X_scaled, columns=frauds.columns[1:])\n",
    "y_scaled = y\n",
    "X_scaled_train, X_scaled_test, y_scaled_train, y_scaled_test =\\\n",
    "                                            train_test_split(X_scaled, y_scaled, train_size = 0.8, stratify = y)"
   ]
  },
  {
   "cell_type": "markdown",
   "metadata": {},
   "source": [
    "## 2. Build NearestNeightbors Model"
   ]
  },
  {
   "cell_type": "markdown",
   "metadata": {},
   "source": [
    "### Build KNearestNeighborsClassifier"
   ]
  },
  {
   "cell_type": "code",
   "execution_count": 94,
   "metadata": {
    "scrolled": true
   },
   "outputs": [
    {
     "name": "stdout",
     "output_type": "stream",
     "text": [
      "K = 1 Test accuracy: 0.8104026845637584\n",
      "K = 2 Test accuracy: 0.8296979865771812\n",
      "K = 3 Test accuracy: 0.8288590604026845\n",
      "K = 4 Test accuracy: 0.8364093959731543\n",
      "K = 5 Test accuracy: 0.822986577181208\n",
      "K = 6 Test accuracy: 0.8380872483221476\n",
      "K = 7 Test accuracy: 0.8338926174496645\n",
      "K = 8 Test accuracy: 0.8330536912751678\n",
      "K = 9 Test accuracy: 0.8338926174496645\n",
      "K = 10 Test accuracy: 0.8305369127516778\n"
     ]
    }
   ],
   "source": [
    "# Find the best K in the stadardized data\n",
    "for i in range(1, 11):\n",
    "    classifier = KNC(n_neighbors=i, algorithm='brute', metric='euclidean').fit(X_scaled_train, y_scaled_train)\n",
    "    print(\"K =\", i, \"Test accuracy:\", accuracy_score(y_scaled_test, classifier.predict(X_scaled_test)))"
   ]
  },
  {
   "cell_type": "markdown",
   "metadata": {},
   "source": [
    "The best K = 6 for the standardized data."
   ]
  },
  {
   "cell_type": "code",
   "execution_count": 78,
   "metadata": {
    "scrolled": true
   },
   "outputs": [
    {
     "name": "stdout",
     "output_type": "stream",
     "text": [
      "K = 1 Test accuracy: 0.8062080536912751\n",
      "K = 2 Test accuracy: 0.8364093959731543\n",
      "K = 3 Test accuracy: 0.822986577181208\n",
      "K = 4 Test accuracy: 0.8271812080536913\n",
      "K = 5 Test accuracy: 0.8263422818791947\n",
      "K = 6 Test accuracy: 0.8330536912751678\n",
      "K = 7 Test accuracy: 0.8338926174496645\n",
      "K = 8 Test accuracy: 0.8364093959731543\n",
      "K = 9 Test accuracy: 0.8322147651006712\n",
      "K = 10 Test accuracy: 0.834731543624161\n"
     ]
    }
   ],
   "source": [
    "# Find the best K in the orthonormalized data\n",
    "for i in range(1, 11):\n",
    "    classifier = KNC(n_neighbors=i, algorithm='brute', metric='euclidean').fit(X_train, y_train)\n",
    "    print(\"K =\", i, \"Test accuracy:\", accuracy_score(y_test, classifier.predict(X_test)))"
   ]
  },
  {
   "cell_type": "markdown",
   "metadata": {},
   "source": [
    "The best K = 2 for the orthonormalized data. Comparing to the standardized classifier, the orthonormalized one has computer advantages."
   ]
  },
  {
   "cell_type": "code",
   "execution_count": 95,
   "metadata": {},
   "outputs": [
    {
     "data": {
      "text/plain": [
       "0.837248322147651"
      ]
     },
     "execution_count": 95,
     "metadata": {},
     "output_type": "execute_result"
    }
   ],
   "source": [
    "# The optimal K = 2\n",
    "classifier = KNC(n_neighbors=2, algorithm='brute', metric='euclidean').fit(X_train, y_train)\n",
    "classifier.score(X_test, y_test)"
   ]
  },
  {
   "cell_type": "markdown",
   "metadata": {},
   "source": [
    "### Build NearestNeighbors"
   ]
  },
  {
   "cell_type": "code",
   "execution_count": 98,
   "metadata": {},
   "outputs": [
    {
     "name": "stdout",
     "output_type": "stream",
     "text": [
      "[[   0   25  149  322  582]\n",
      " [   1  773 1161  184   66]\n",
      " [   2  171   70  380  437]\n",
      " [   3   51   63  159  186]\n",
      " [   4   26  117  153   62]\n",
      " [   5   85  673 1172 1621]\n",
      " [   6  327  100 1075 1176]\n",
      " [   7   83  277  363  386]\n",
      " [   8  739 1714 1176 2992]\n",
      " [   9  995  635  589  835]]\n"
     ]
    }
   ],
   "source": [
    "# Specify the NN with 5 neighbors\n",
    "neigh = NN(n_neighbors=5, algorithm='brute', metric='euclidean')\n",
    "\n",
    "# Build nearest neighbors\n",
    "neigh = neigh.fit(X)\n",
    "indices = neigh.kneighbors(X, return_distance=False)\n",
    "print(indices[:10])"
   ]
  },
  {
   "cell_type": "markdown",
   "metadata": {},
   "source": [
    "## 3. Predict the class of the focal data"
   ]
  },
  {
   "cell_type": "code",
   "execution_count": 101,
   "metadata": {
    "scrolled": true
   },
   "outputs": [
    {
     "name": "stdout",
     "output_type": "stream",
     "text": [
      "Transformed input variable values: [[-0.02886529  0.00853837 -0.01333491  0.0176811   0.00793805  0.0044727 ]]\n",
      "My Neighbors = \n",
      " [[ 588 2897 1199 1246  886]]\n"
     ]
    }
   ],
   "source": [
    "# Find the nearest neighbors of this focal observation\n",
    "focal = [[7500, 15, 3, 127, 2, 2]]\n",
    "# Tansform the focal\n",
    "focal = focal * transf\n",
    "print(\"Transformed input variable values:\", focal)\n",
    "\n",
    "pred_nbrs_idx = neigh.kneighbors(focal, return_distance=False)\n",
    "print(\"My Neighbors = \\n\", pred_nbrs_idx)\n"
   ]
  },
  {
   "cell_type": "code",
   "execution_count": 104,
   "metadata": {},
   "outputs": [
    {
     "name": "stdout",
     "output_type": "stream",
     "text": [
      "CASE_ID             589\n",
      "FRAUD                 1\n",
      "TOTAL_SPEND        7500\n",
      "DOCTOR_VISITS        15\n",
      "NUM_CLAIMS            3\n",
      "MEMBER_DURATION     127\n",
      "OPTOM_PRESC           2\n",
      "NUM_MEMBERS           2\n",
      "Name: 588, dtype: int64\n",
      "CASE_ID             2898\n",
      "FRAUD                  1\n",
      "TOTAL_SPEND        16000\n",
      "DOCTOR_VISITS         18\n",
      "NUM_CLAIMS             3\n",
      "MEMBER_DURATION      146\n",
      "OPTOM_PRESC            3\n",
      "NUM_MEMBERS            2\n",
      "Name: 2897, dtype: int64\n",
      "CASE_ID             1200\n",
      "FRAUD                  1\n",
      "TOTAL_SPEND        10000\n",
      "DOCTOR_VISITS         16\n",
      "NUM_CLAIMS             3\n",
      "MEMBER_DURATION      124\n",
      "OPTOM_PRESC            2\n",
      "NUM_MEMBERS            1\n",
      "Name: 1199, dtype: int64\n",
      "CASE_ID             1247\n",
      "FRAUD                  1\n",
      "TOTAL_SPEND        10200\n",
      "DOCTOR_VISITS         13\n",
      "NUM_CLAIMS             3\n",
      "MEMBER_DURATION      119\n",
      "OPTOM_PRESC            2\n",
      "NUM_MEMBERS            3\n",
      "Name: 1246, dtype: int64\n",
      "CASE_ID             887\n",
      "FRAUD                 1\n",
      "TOTAL_SPEND        8900\n",
      "DOCTOR_VISITS        22\n",
      "NUM_CLAIMS            3\n",
      "MEMBER_DURATION     166\n",
      "OPTOM_PRESC           1\n",
      "NUM_MEMBERS           2\n",
      "Name: 886, dtype: int64\n"
     ]
    }
   ],
   "source": [
    "print(fraud_data.iloc[588, :])\n",
    "print(fraud_data.iloc[2897, :])\n",
    "print(fraud_data.iloc[1199, :])\n",
    "print(fraud_data.iloc[1246, :])\n",
    "print(fraud_data.iloc[886, :])"
   ]
  },
  {
   "cell_type": "code",
   "execution_count": 111,
   "metadata": {},
   "outputs": [
    {
     "name": "stdout",
     "output_type": "stream",
     "text": [
      "[1]\n"
     ]
    }
   ],
   "source": [
    "# Predict the outcome of the focol\n",
    "pred = classifier.predict(focal)\n",
    "print(pred)"
   ]
  },
  {
   "cell_type": "markdown",
   "metadata": {},
   "source": [
    "The predicted probability of fraudulent is 1 because 5 out of the 5 nearest neighbors are fraudulent. Therefore, the observation is fraudulent. The predicted value of this observation is 1 which matches the predicted probability of fraudulent, so the observation is not misclassified"
   ]
  }
 ],
 "metadata": {
  "kernelspec": {
   "display_name": "Python 3",
   "language": "python",
   "name": "python3"
  },
  "language_info": {
   "codemirror_mode": {
    "name": "ipython",
    "version": 3
   },
   "file_extension": ".py",
   "mimetype": "text/x-python",
   "name": "python",
   "nbconvert_exporter": "python",
   "pygments_lexer": "ipython3",
   "version": "3.7.4"
  }
 },
 "nbformat": 4,
 "nbformat_minor": 2
}
