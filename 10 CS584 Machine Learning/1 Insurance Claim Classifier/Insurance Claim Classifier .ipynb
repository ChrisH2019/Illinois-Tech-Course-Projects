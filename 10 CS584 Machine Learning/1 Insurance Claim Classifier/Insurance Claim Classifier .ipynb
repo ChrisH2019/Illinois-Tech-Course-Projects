{
 "cells": [
  {
   "cell_type": "markdown",
   "metadata": {},
   "source": [
    "# Insurance Claim Classifier "
   ]
  },
  {
   "cell_type": "markdown",
   "metadata": {},
   "source": [
    "The data, FRAUD.csv, contains results of fraud investigations of 5,960 cases. The binary variable FRAUD indicates the result of a fraud investigation: 1 = Fraudulent, 0 = Otherwise. The other interval variables contain information about the cases.\n",
    "1. TOTAL_SPEND: Total amount of claims in dollars\n",
    "2. DOCTOR_VISITS: Number of visits to a doctor\n",
    "3. NUM_CLAIMS: Number of claims made recently\n",
    "4. MEMBER_DURATION: Membership duration in number of months\n",
    "5. OPTOM_PRESC: Number of optical examinations\n",
    "6. NUM_MEMBERS: Number of members covered"
   ]
  },
  {
   "cell_type": "code",
   "execution_count": 1,
   "metadata": {},
   "outputs": [],
   "source": [
    "import numpy as np\n",
    "import pandas as pd\n",
    "import matplotlib.pyplot as plt\n",
    "from sklearn.neighbors import KNeighborsClassifier as KNC\n",
    "from sklearn.neighbors import NearestNeighbors as KNN"
   ]
  },
  {
   "cell_type": "markdown",
   "metadata": {},
   "source": [
    "## 1. EDA"
   ]
  },
  {
   "cell_type": "code",
   "execution_count": 2,
   "metadata": {},
   "outputs": [],
   "source": [
    "# Load the data\n",
    "fraud_data = pd.read_csv('Fraud.csv')"
   ]
  },
  {
   "cell_type": "code",
   "execution_count": 4,
   "metadata": {},
   "outputs": [
    {
     "data": {
      "text/html": [
       "<div>\n",
       "<style scoped>\n",
       "    .dataframe tbody tr th:only-of-type {\n",
       "        vertical-align: middle;\n",
       "    }\n",
       "\n",
       "    .dataframe tbody tr th {\n",
       "        vertical-align: top;\n",
       "    }\n",
       "\n",
       "    .dataframe thead th {\n",
       "        text-align: right;\n",
       "    }\n",
       "</style>\n",
       "<table border=\"1\" class=\"dataframe\">\n",
       "  <thead>\n",
       "    <tr style=\"text-align: right;\">\n",
       "      <th></th>\n",
       "      <th>CASE_ID</th>\n",
       "      <th>FRAUD</th>\n",
       "      <th>TOTAL_SPEND</th>\n",
       "      <th>DOCTOR_VISITS</th>\n",
       "      <th>NUM_CLAIMS</th>\n",
       "      <th>MEMBER_DURATION</th>\n",
       "      <th>OPTOM_PRESC</th>\n",
       "      <th>NUM_MEMBERS</th>\n",
       "    </tr>\n",
       "  </thead>\n",
       "  <tbody>\n",
       "    <tr>\n",
       "      <th>0</th>\n",
       "      <td>1</td>\n",
       "      <td>1</td>\n",
       "      <td>1100</td>\n",
       "      <td>11</td>\n",
       "      <td>0</td>\n",
       "      <td>94</td>\n",
       "      <td>1</td>\n",
       "      <td>2</td>\n",
       "    </tr>\n",
       "    <tr>\n",
       "      <th>1</th>\n",
       "      <td>2</td>\n",
       "      <td>1</td>\n",
       "      <td>1300</td>\n",
       "      <td>7</td>\n",
       "      <td>2</td>\n",
       "      <td>122</td>\n",
       "      <td>0</td>\n",
       "      <td>1</td>\n",
       "    </tr>\n",
       "    <tr>\n",
       "      <th>2</th>\n",
       "      <td>3</td>\n",
       "      <td>1</td>\n",
       "      <td>1500</td>\n",
       "      <td>4</td>\n",
       "      <td>0</td>\n",
       "      <td>149</td>\n",
       "      <td>1</td>\n",
       "      <td>3</td>\n",
       "    </tr>\n",
       "    <tr>\n",
       "      <th>3</th>\n",
       "      <td>4</td>\n",
       "      <td>1</td>\n",
       "      <td>1500</td>\n",
       "      <td>9</td>\n",
       "      <td>0</td>\n",
       "      <td>180</td>\n",
       "      <td>1</td>\n",
       "      <td>1</td>\n",
       "    </tr>\n",
       "    <tr>\n",
       "      <th>4</th>\n",
       "      <td>5</td>\n",
       "      <td>0</td>\n",
       "      <td>1700</td>\n",
       "      <td>3</td>\n",
       "      <td>0</td>\n",
       "      <td>93</td>\n",
       "      <td>0</td>\n",
       "      <td>1</td>\n",
       "    </tr>\n",
       "  </tbody>\n",
       "</table>\n",
       "</div>"
      ],
      "text/plain": [
       "   CASE_ID  FRAUD  TOTAL_SPEND  DOCTOR_VISITS  NUM_CLAIMS  MEMBER_DURATION  \\\n",
       "0        1      1         1100             11           0               94   \n",
       "1        2      1         1300              7           2              122   \n",
       "2        3      1         1500              4           0              149   \n",
       "3        4      1         1500              9           0              180   \n",
       "4        5      0         1700              3           0               93   \n",
       "\n",
       "   OPTOM_PRESC  NUM_MEMBERS  \n",
       "0            1            2  \n",
       "1            0            1  \n",
       "2            1            3  \n",
       "3            1            1  \n",
       "4            0            1  "
      ]
     },
     "execution_count": 4,
     "metadata": {},
     "output_type": "execute_result"
    }
   ],
   "source": [
    "# Inspect the data\n",
    "fraud_data.head()"
   ]
  },
  {
   "cell_type": "code",
   "execution_count": 5,
   "metadata": {},
   "outputs": [
    {
     "data": {
      "text/plain": [
       "Index(['CASE_ID', 'FRAUD', 'TOTAL_SPEND', 'DOCTOR_VISITS', 'NUM_CLAIMS',\n",
       "       'MEMBER_DURATION', 'OPTOM_PRESC', 'NUM_MEMBERS'],\n",
       "      dtype='object')"
      ]
     },
     "execution_count": 5,
     "metadata": {},
     "output_type": "execute_result"
    }
   ],
   "source": [
    "fraud_data.columns"
   ]
  },
  {
   "cell_type": "code",
   "execution_count": 7,
   "metadata": {},
   "outputs": [
    {
     "data": {
      "text/html": [
       "<div>\n",
       "<style scoped>\n",
       "    .dataframe tbody tr th:only-of-type {\n",
       "        vertical-align: middle;\n",
       "    }\n",
       "\n",
       "    .dataframe tbody tr th {\n",
       "        vertical-align: top;\n",
       "    }\n",
       "\n",
       "    .dataframe thead th {\n",
       "        text-align: right;\n",
       "    }\n",
       "</style>\n",
       "<table border=\"1\" class=\"dataframe\">\n",
       "  <thead>\n",
       "    <tr style=\"text-align: right;\">\n",
       "      <th></th>\n",
       "      <th>TOTAL_SPEND</th>\n",
       "      <th>DOCTOR_VISITS</th>\n",
       "      <th>NUM_CLAIMS</th>\n",
       "      <th>MEMBER_DURATION</th>\n",
       "      <th>OPTOM_PRESC</th>\n",
       "      <th>NUM_MEMBERS</th>\n",
       "    </tr>\n",
       "  </thead>\n",
       "  <tbody>\n",
       "    <tr>\n",
       "      <th>count</th>\n",
       "      <td>5960.000000</td>\n",
       "      <td>5960.000000</td>\n",
       "      <td>5960.000000</td>\n",
       "      <td>5960.000000</td>\n",
       "      <td>5960.000000</td>\n",
       "      <td>5960.000000</td>\n",
       "    </tr>\n",
       "    <tr>\n",
       "      <th>mean</th>\n",
       "      <td>18607.969799</td>\n",
       "      <td>8.941107</td>\n",
       "      <td>0.405705</td>\n",
       "      <td>179.615268</td>\n",
       "      <td>1.170134</td>\n",
       "      <td>1.985738</td>\n",
       "    </tr>\n",
       "    <tr>\n",
       "      <th>std</th>\n",
       "      <td>11207.480417</td>\n",
       "      <td>7.232345</td>\n",
       "      <td>1.079256</td>\n",
       "      <td>82.076572</td>\n",
       "      <td>1.653866</td>\n",
       "      <td>0.996873</td>\n",
       "    </tr>\n",
       "    <tr>\n",
       "      <th>min</th>\n",
       "      <td>1100.000000</td>\n",
       "      <td>0.000000</td>\n",
       "      <td>0.000000</td>\n",
       "      <td>0.000000</td>\n",
       "      <td>0.000000</td>\n",
       "      <td>1.000000</td>\n",
       "    </tr>\n",
       "    <tr>\n",
       "      <th>25%</th>\n",
       "      <td>11100.000000</td>\n",
       "      <td>3.000000</td>\n",
       "      <td>0.000000</td>\n",
       "      <td>117.000000</td>\n",
       "      <td>0.000000</td>\n",
       "      <td>1.000000</td>\n",
       "    </tr>\n",
       "    <tr>\n",
       "      <th>50%</th>\n",
       "      <td>16300.000000</td>\n",
       "      <td>8.000000</td>\n",
       "      <td>0.000000</td>\n",
       "      <td>178.000000</td>\n",
       "      <td>1.000000</td>\n",
       "      <td>2.000000</td>\n",
       "    </tr>\n",
       "    <tr>\n",
       "      <th>75%</th>\n",
       "      <td>23300.000000</td>\n",
       "      <td>12.000000</td>\n",
       "      <td>0.000000</td>\n",
       "      <td>227.000000</td>\n",
       "      <td>2.000000</td>\n",
       "      <td>3.000000</td>\n",
       "    </tr>\n",
       "    <tr>\n",
       "      <th>max</th>\n",
       "      <td>89900.000000</td>\n",
       "      <td>41.000000</td>\n",
       "      <td>15.000000</td>\n",
       "      <td>660.000000</td>\n",
       "      <td>17.000000</td>\n",
       "      <td>8.000000</td>\n",
       "    </tr>\n",
       "  </tbody>\n",
       "</table>\n",
       "</div>"
      ],
      "text/plain": [
       "        TOTAL_SPEND  DOCTOR_VISITS   NUM_CLAIMS  MEMBER_DURATION  OPTOM_PRESC  \\\n",
       "count   5960.000000    5960.000000  5960.000000      5960.000000  5960.000000   \n",
       "mean   18607.969799       8.941107     0.405705       179.615268     1.170134   \n",
       "std    11207.480417       7.232345     1.079256        82.076572     1.653866   \n",
       "min     1100.000000       0.000000     0.000000         0.000000     0.000000   \n",
       "25%    11100.000000       3.000000     0.000000       117.000000     0.000000   \n",
       "50%    16300.000000       8.000000     0.000000       178.000000     1.000000   \n",
       "75%    23300.000000      12.000000     0.000000       227.000000     2.000000   \n",
       "max    89900.000000      41.000000    15.000000       660.000000    17.000000   \n",
       "\n",
       "       NUM_MEMBERS  \n",
       "count  5960.000000  \n",
       "mean      1.985738  \n",
       "std       0.996873  \n",
       "min       1.000000  \n",
       "25%       1.000000  \n",
       "50%       2.000000  \n",
       "75%       3.000000  \n",
       "max       8.000000  "
      ]
     },
     "execution_count": 7,
     "metadata": {},
     "output_type": "execute_result"
    }
   ],
   "source": [
    "fraud_data[['TOTAL_SPEND', 'DOCTOR_VISITS', 'NUM_CLAIMS',\\\n",
    "          'MEMBER_DURATION', 'OPTOM_PRESC', 'NUM_MEMBERS']].describe()"
   ]
  },
  {
   "cell_type": "code",
   "execution_count": 8,
   "metadata": {},
   "outputs": [
    {
     "name": "stdout",
     "output_type": "stream",
     "text": [
      "<class 'pandas.core.frame.DataFrame'>\n",
      "RangeIndex: 5960 entries, 0 to 5959\n",
      "Data columns (total 8 columns):\n",
      "CASE_ID            5960 non-null int64\n",
      "FRAUD              5960 non-null int64\n",
      "TOTAL_SPEND        5960 non-null int64\n",
      "DOCTOR_VISITS      5960 non-null int64\n",
      "NUM_CLAIMS         5960 non-null int64\n",
      "MEMBER_DURATION    5960 non-null int64\n",
      "OPTOM_PRESC        5960 non-null int64\n",
      "NUM_MEMBERS        5960 non-null int64\n",
      "dtypes: int64(8)\n",
      "memory usage: 372.6 KB\n"
     ]
    }
   ],
   "source": [
    "fraud_data.info()"
   ]
  },
  {
   "cell_type": "markdown",
   "metadata": {},
   "source": [
    "### Percent of investigations are found to be fraudulent"
   ]
  },
  {
   "cell_type": "code",
   "execution_count": 10,
   "metadata": {},
   "outputs": [
    {
     "name": "stdout",
     "output_type": "stream",
     "text": [
      "Total number of entries: 5960\n",
      "Total number of FRAUD entries: 1189\n",
      "Percent of investigations are found to be fraudulent: 19.95%\n"
     ]
    }
   ],
   "source": [
    "n_entries = len(fraud_data)\n",
    "print(\"Total number of entries:\", n_entries)\n",
    "n_fraud = np.sum(fraud_data['FRAUD'].values)\n",
    "print(\"Total number of FRAUD entries:\", n_fraud)\n",
    "fraud_percent = np.around(np.around((n_fraud / n_entries), decimals=4) * 100, decimals=2)\n",
    "print(\"Percent of investigations are found to be fraudulent: \" + str(fraud_percent) + \"%\")"
   ]
  },
  {
   "cell_type": "markdown",
   "metadata": {},
   "source": [
    "### Visualize the distribution of the features"
   ]
  },
  {
   "cell_type": "code",
   "execution_count": 12,
   "metadata": {},
   "outputs": [
    {
     "data": {
      "image/png": "[encoded data removed]",
      "text/plain": [
       "<Figure size 432x288 with 1 Axes>"
      ]
     },
     "metadata": {
      "needs_background": "light"
     },
     "output_type": "display_data"
    },
    {
     "data": {
      "image/png": "[encoded data removed]",
      "text/plain": [
       "<Figure size 432x288 with 1 Axes>"
      ]
     },
     "metadata": {
      "needs_background": "light"
     },
     "output_type": "display_data"
    },
    {
     "data": {
      "image/png": "[encoded data removed]",
      "text/plain": [
       "<Figure size 432x288 with 1 Axes>"
      ]
     },
     "metadata": {
      "needs_background": "light"
     },
     "output_type": "display_data"
    },
    {
     "data": {
      "image/png": "[encoded data removed]",
      "text/plain": [
       "<Figure size 432x288 with 1 Axes>"
      ]
     },
     "metadata": {
      "needs_background": "light"
     },
     "output_type": "display_data"
    },
    {
     "data": {
      "image/png": "[encoded data removed]",
      "text/plain": [
       "<Figure size 432x288 with 1 Axes>"
      ]
     },
     "metadata": {
      "needs_background": "light"
     },
     "output_type": "display_data"
    },
    {
     "data": {
      "image/png": "[encoded data removed]",
      "text/plain": [
       "<Figure size 432x288 with 1 Axes>"
      ]
     },
     "metadata": {
      "needs_background": "light"
     },
     "output_type": "display_data"
    }
   ],
   "source": [
    "fraudulent_obs = fraud_data[fraud_data['FRAUD']==1]\n",
    "fraudulent_obs = fraudulent_obs[['TOTAL_SPEND', 'DOCTOR_VISITS', 'NUM_CLAIMS',\\\n",
    "                                 'MEMBER_DURATION', 'OPTOM_PRESC', 'NUM_MEMBERS']]\n",
    "\n",
    "non_fraudulent_obs = fraud_data[fraud_data['FRAUD']==0]\n",
    "non_fraudulent_obs = non_fraudulent_obs[['TOTAL_SPEND', 'DOCTOR_VISITS', 'NUM_CLAIMS',\\\n",
    "                                 'MEMBER_DURATION', 'OPTOM_PRESC', 'NUM_MEMBERS']]\n",
    "# Total spend\n",
    "plt.figure()\n",
    "plt.boxplot([fraudulent_obs['TOTAL_SPEND'], non_fraudulent_obs['TOTAL_SPEND']],\\\n",
    "            labels=['Fraudulent Total Spend', 'Non-Fraudulent Total Spend'], vert=False)\n",
    "plt.show()\n",
    "\n",
    "# Doctor visits\n",
    "plt.figure()\n",
    "plt.boxplot([fraudulent_obs['DOCTOR_VISITS'], non_fraudulent_obs['DOCTOR_VISITS']],\\\n",
    "            labels=['Fraudulent Doctor Visits', 'Non-Fraudulent Doctor Visits'], vert=False)\n",
    "plt.show()\n",
    "\n",
    "# Num claims\n",
    "plt.figure()\n",
    "plt.boxplot([fraudulent_obs['NUM_CLAIMS'], non_fraudulent_obs['NUM_CLAIMS']],\\\n",
    "            labels=['Fraudulent Num Claims', 'Non-Fraudulent Num Claims'], vert=False)\n",
    "plt.show()\n",
    "\n",
    "# Member duration\n",
    "plt.figure()\n",
    "plt.boxplot([fraudulent_obs['MEMBER_DURATION'], non_fraudulent_obs['MEMBER_DURATION']],\\\n",
    "            labels=['Fraudulent Member Duration', 'Non-Fraudulent Member Duration'], vert=False)\n",
    "plt.show()\n",
    "\n",
    "# Optom presc\n",
    "plt.figure()\n",
    "plt.boxplot([fraudulent_obs['OPTOM_PRESC'], non_fraudulent_obs['OPTOM_PRESC']],\\\n",
    "            labels=['Fraudulent Optom Presc', 'Non-Fraudulent Optom Presc'], vert=False)\n",
    "plt.show()\n",
    "\n",
    "# Num Members\n",
    "plt.figure()\n",
    "plt.boxplot([fraudulent_obs['NUM_MEMBERS'], non_fraudulent_obs['NUM_MEMBERS']],\\\n",
    "            labels=['Fraudulent Num Members', 'Non-Fraudulent Num Members'], vert=False)\n",
    "plt.show()"
   ]
  },
  {
   "cell_type": "markdown",
   "metadata": {},
   "source": [
    "### Normalize the feature values"
   ]
  },
  {
   "cell_type": "code",
   "execution_count": 13,
   "metadata": {},
   "outputs": [
    {
     "name": "stdout",
     "output_type": "stream",
     "text": [
      "t(x) * x = \n",
      " [[2812184770000    1040176400      42913200   20404919400     134771800\n",
      "      220035900]\n",
      " [   1040176400        788159         23809      10264845         57654\n",
      "         106717]\n",
      " [     42913200         23809          7922        448090          3459\n",
      "           4765]\n",
      " [  20404919400      10264845        448090     232422585       1163391\n",
      "        2121127]\n",
      " [    134771800         57654          3459       1163391         24460\n",
      "          13581]\n",
      " [    220035900        106717          4765       2121127         13581\n",
      "          29423]]\n",
      "Eigenvalues of x = \n",
      " [6.84728061e+03 8.38798104e+03 1.80639631e+04 3.15839942e+05\n",
      " 8.44539131e+07 2.81233324e+12]\n",
      "Eigenvectors of x = \n",
      " [[-5.37750046e-06 -2.20900379e-05  3.62806809e-05 -1.36298664e-04\n",
      "  -7.26453432e-03  9.99973603e-01]\n",
      " [ 6.05433402e-03 -2.69942162e-02  1.27528313e-02  9.99013423e-01\n",
      "   3.23120126e-02  3.69879256e-04]\n",
      " [-9.82198935e-01  1.56454700e-01 -1.03312781e-01  1.14463687e-02\n",
      "   1.62110700e-03  1.52596881e-05]\n",
      " [ 1.59310591e-04 -4.91894718e-03  3.11864824e-03 -3.25018102e-02\n",
      "   9.99428355e-01  7.25592222e-03]\n",
      " [ 6.90939783e-02 -2.10615119e-01 -9.75101628e-01  6.26672294e-03\n",
      "   2.19857585e-03  4.79234486e-05]\n",
      " [ 1.74569737e-01  9.64577791e-01 -1.95782843e-01  2.73038995e-02\n",
      "   6.21788707e-03  7.82430481e-05]]\n",
      "Transformation Matrix = \n",
      " [[-6.49862374e-08 -2.41194689e-07  2.69941036e-07 -2.42525871e-07\n",
      "  -7.90492750e-07  5.96286732e-07]\n",
      " [ 7.31656633e-05 -2.94741983e-04  9.48855536e-05  1.77761538e-03\n",
      "   3.51604254e-06  2.20559915e-10]\n",
      " [-1.18697179e-02  1.70828329e-03 -7.68683456e-04  2.03673350e-05\n",
      "   1.76401304e-07  9.09938972e-12]\n",
      " [ 1.92524315e-06 -5.37085514e-05  2.32038406e-05 -5.78327741e-05\n",
      "   1.08753133e-04  4.32672436e-09]\n",
      " [ 8.34989734e-04 -2.29964514e-03 -7.25509934e-03  1.11508242e-05\n",
      "   2.39238772e-07  2.85768709e-11]\n",
      " [ 2.10964750e-03  1.05319439e-02 -1.45669326e-03  4.85837631e-05\n",
      "   6.76601477e-07  4.66565230e-11]]\n",
      "The Transformed x = \n",
      " [[ 5.96859502e-03  1.02081629e-02 -6.64664861e-03  1.39590283e-02\n",
      "   9.39352141e-03  6.56324665e-04]\n",
      " [-2.09672310e-02  5.01932025e-03  8.51930607e-04  5.16174400e-03\n",
      "   1.22658834e-02  7.75702220e-04]\n",
      " [ 7.64597676e-03  1.97528525e-02 -7.38335310e-03 -1.71350853e-03\n",
      "   1.50348109e-02  8.95075830e-04]\n",
      " ...\n",
      " [-7.18408819e-05 -1.62580211e-02  2.75078514e-02 -7.13245766e-03\n",
      "  -4.74021952e-02  5.31896971e-02]\n",
      " [-1.80147801e-04 -1.62154130e-02  2.76213381e-02 -9.17125411e-03\n",
      "  -4.76625006e-02  5.35474776e-02]\n",
      " [-2.21157680e-03 -2.73884697e-02  2.93391341e-02 -7.81347172e-03\n",
      "  -4.70861917e-02  5.36071324e-02]]\n",
      "Expect an Identity Matrix = \n",
      " [[ 1.00000000e+00 -1.54585546e-15  8.16187395e-16  6.27124221e-15\n",
      "   1.16486681e-15 -6.67868538e-17]\n",
      " [-1.54585546e-15  1.00000000e+00 -5.88071258e-16 -2.92543767e-14\n",
      "  -1.50227053e-15  4.51028104e-16]\n",
      " [ 8.16187395e-16 -5.88071258e-16  1.00000000e+00  2.88137569e-15\n",
      "  -1.24900090e-16 -1.24900090e-16]\n",
      " [ 6.27124221e-15 -2.92543767e-14  2.88137569e-15  1.00000000e+00\n",
      "   1.13025908e-14 -3.68542002e-15]\n",
      " [ 1.16486681e-15 -1.50227053e-15 -1.24900090e-16  1.13025908e-14\n",
      "   1.00000000e+00 -7.21644966e-16]\n",
      " [-6.67868538e-17  4.51028104e-16 -1.24900090e-16 -3.68542002e-15\n",
      "  -7.21644966e-16  1.00000000e+00]]\n"
     ]
    }
   ],
   "source": [
    "# Orthonormalized the fraud data\n",
    "x = np.matrix(fraud_data[['TOTAL_SPEND', 'DOCTOR_VISITS', 'NUM_CLAIMS',\\\n",
    "                                 'MEMBER_DURATION', 'OPTOM_PRESC', 'NUM_MEMBERS']].values)\n",
    "\n",
    "xtx = x.transpose() * x\n",
    "print(\"t(x) * x = \\n\", xtx)\n",
    "\n",
    "# Eigenvalue decompostion\n",
    "evals, evecs = np.linalg.eigh(xtx)\n",
    "print(\"Eigenvalues of x = \\n\", evals)\n",
    "print(\"Eigenvectors of x = \\n\",evecs)\n",
    "\n",
    "# Create transformation matrix\n",
    "transf = evecs * np.linalg.inv(np.sqrt(np.diagflat(evals)));\n",
    "print(\"Transformation Matrix = \\n\", transf)\n",
    "\n",
    "# Transform x\n",
    "transf_x = x * transf;\n",
    "print(\"The Transformed x = \\n\", transf_x)\n",
    "\n",
    "# # Check columns of transformed X\n",
    "xtx = transf_x.transpose() * transf_x;\n",
    "print(\"Expect an Identity Matrix = \\n\", xtx)"
   ]
  },
  {
   "cell_type": "markdown",
   "metadata": {},
   "source": [
    "## 2. Build NearestNeightbors Model"
   ]
  },
  {
   "cell_type": "code",
   "execution_count": 14,
   "metadata": {},
   "outputs": [
    {
     "name": "stdout",
     "output_type": "stream",
     "text": [
      "Score function return value: 0.8778523489932886\n"
     ]
    }
   ],
   "source": [
    "# Perform classification\n",
    "# Create classifier with 5 neighbors\n",
    "classifier = KNC(n_neighbors=5, algorithm='brute', metric='euclidean')\n",
    "\n",
    "# Train the classifier with training data\n",
    "training_data = transf_x\n",
    "training_labels = fraud_data['FRAUD'].values\n",
    "classifier.fit(training_data, training_labels)\n",
    "\n",
    "# Check the accuracy rate of the classifier\n",
    "accuracy = classifier.score(training_data, training_labels)\n",
    "print(\"Score function return value:\", accuracy)"
   ]
  },
  {
   "cell_type": "code",
   "execution_count": 16,
   "metadata": {},
   "outputs": [
    {
     "name": "stdout",
     "output_type": "stream",
     "text": [
      "[[3.29272254e-10 4.73407530e-03 6.72294710e-03 6.89870062e-03\n",
      "  7.31938571e-03]\n",
      " [0.00000000e+00 7.94183172e-03 8.25051208e-03 8.33596239e-03\n",
      "  9.54723636e-03]\n",
      " [0.00000000e+00 4.05430137e-03 4.66635557e-03 4.97042629e-03\n",
      "  5.48104224e-03]\n",
      " [0.00000000e+00 1.73400564e-03 2.64662370e-03 3.79313734e-03\n",
      "  3.97648598e-03]\n",
      " [1.64636127e-10 1.77032773e-03 3.32439937e-03 3.35564142e-03\n",
      "  3.60190256e-03]\n",
      " [0.00000000e+00 6.27912630e-03 6.70339690e-03 7.51114093e-03\n",
      "  7.90636035e-03]\n",
      " [0.00000000e+00 6.39474893e-03 9.85816223e-03 1.00983870e-02\n",
      "  1.19172153e-02]\n",
      " [0.00000000e+00 3.81874354e-03 4.93172015e-03 5.34980015e-03\n",
      "  5.67172859e-03]\n",
      " [0.00000000e+00 1.03741167e-02 1.09904683e-02 1.14805969e-02\n",
      "  1.19256921e-02]\n",
      " [0.00000000e+00 7.09740805e-03 7.20565058e-03 7.24282152e-03\n",
      "  7.35385314e-03]]\n",
      "[[   0   25  149  322  582]\n",
      " [   1  773 1161  184   66]\n",
      " [   2  171   70  380  437]\n",
      " [   3   51   63  159  186]\n",
      " [   4   26  117  153   62]\n",
      " [   5   85  673 1172 1621]\n",
      " [   6  327  100 1075 1176]\n",
      " [   7   83  277  363  386]\n",
      " [   8  739 1714 1176 2992]\n",
      " [   9  995  635  589  835]]\n"
     ]
    }
   ],
   "source": [
    "# Specify the KNN with 5 neighbors\n",
    "KNN_spec = KNN(n_neighbors=5, algorithm='brute', metric='euclidean')\n",
    "\n",
    "# Build nearest neighbors\n",
    "nbrs = KNN_spec.fit(training_data)\n",
    "distances, indices = nbrs.kneighbors(training_data)\n",
    "print(distances[:10])\n",
    "print(indices[:10])"
   ]
  },
  {
   "cell_type": "markdown",
   "metadata": {},
   "source": [
    "## 3. Predict the class of the focal data"
   ]
  },
  {
   "cell_type": "code",
   "execution_count": 17,
   "metadata": {},
   "outputs": [
    {
     "name": "stdout",
     "output_type": "stream",
     "text": [
      "Transformed input variable values: [[-0.02886529  0.00853837 -0.01333491  0.0176811   0.00793805  0.0044727 ]]\n",
      "My Neighbors = \n",
      " [[ 588 2897 1199 1246  886]]\n",
      "CASE_ID             589\n",
      "FRAUD                 1\n",
      "TOTAL_SPEND        7500\n",
      "DOCTOR_VISITS        15\n",
      "NUM_CLAIMS            3\n",
      "MEMBER_DURATION     127\n",
      "OPTOM_PRESC           2\n",
      "NUM_MEMBERS           2\n",
      "Name: 588, dtype: int64\n",
      "CASE_ID             2898\n",
      "FRAUD                  1\n",
      "TOTAL_SPEND        16000\n",
      "DOCTOR_VISITS         18\n",
      "NUM_CLAIMS             3\n",
      "MEMBER_DURATION      146\n",
      "OPTOM_PRESC            3\n",
      "NUM_MEMBERS            2\n",
      "Name: 2897, dtype: int64\n",
      "CASE_ID             1200\n",
      "FRAUD                  1\n",
      "TOTAL_SPEND        10000\n",
      "DOCTOR_VISITS         16\n",
      "NUM_CLAIMS             3\n",
      "MEMBER_DURATION      124\n",
      "OPTOM_PRESC            2\n",
      "NUM_MEMBERS            1\n",
      "Name: 1199, dtype: int64\n",
      "CASE_ID             1247\n",
      "FRAUD                  1\n",
      "TOTAL_SPEND        10200\n",
      "DOCTOR_VISITS         13\n",
      "NUM_CLAIMS             3\n",
      "MEMBER_DURATION      119\n",
      "OPTOM_PRESC            2\n",
      "NUM_MEMBERS            3\n",
      "Name: 1246, dtype: int64\n",
      "CASE_ID             887\n",
      "FRAUD                 1\n",
      "TOTAL_SPEND        8900\n",
      "DOCTOR_VISITS        22\n",
      "NUM_CLAIMS            3\n",
      "MEMBER_DURATION     166\n",
      "OPTOM_PRESC           1\n",
      "NUM_MEMBERS           2\n",
      "Name: 886, dtype: int64\n"
     ]
    }
   ],
   "source": [
    "# Find the nearest neighbors of this focal observation\n",
    "focal = [[7500, 15, 3, 127, 2, 2]]\n",
    "# Tansform the focal\n",
    "transf_focal = focal * transf\n",
    "print(\"Transformed input variable values:\", transf_focal)\n",
    "\n",
    "my_neighbors_t = nbrs.kneighbors(transf_focal, return_distance=False)\n",
    "print(\"My Neighbors = \\n\", my_neighbors_t)\n",
    "\n",
    "print(fraud_data.iloc[588, :])\n",
    "print(fraud_data.iloc[2897, :])\n",
    "print(fraud_data.iloc[1199, :])\n",
    "print(fraud_data.iloc[1246, :])\n",
    "print(fraud_data.iloc[886, :])\n",
    "\n",
    "# Predict the outcome of the focol\n",
    "prediction = classifier.predict(transf_focal)"
   ]
  },
  {
   "cell_type": "markdown",
   "metadata": {},
   "source": [
    "The predicted probability of fraudulent is 1 because 5 out of the 5 nearest neighbors are fraudulent. Therefore, the observation is fraudulent. The predicted value of this observation is 1 which matches the predicted probability of fraudulent, so the observation is not misclassified"
   ]
  }
 ],
 "metadata": {
  "kernelspec": {
   "display_name": "Python 3",
   "language": "python",
   "name": "python3"
  },
  "language_info": {
   "codemirror_mode": {
    "name": "ipython",
    "version": 3
   },
   "file_extension": ".py",
   "mimetype": "text/x-python",
   "name": "python",
   "nbconvert_exporter": "python",
   "pygments_lexer": "ipython3",
   "version": "3.7.3"
  }
 },
 "nbformat": 4,
 "nbformat_minor": 2
}
