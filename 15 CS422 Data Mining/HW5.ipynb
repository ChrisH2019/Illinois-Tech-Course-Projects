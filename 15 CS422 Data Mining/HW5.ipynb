{
 "cells": [
  {
   "cell_type": "markdown",
   "metadata": {},
   "source": [
    "# CS422 Homework5\n",
    "\n",
    "#### Christopher W. Hong"
   ]
  },
  {
   "cell_type": "markdown",
   "metadata": {},
   "source": [
    "## Recitation Excercises"
   ]
  },
  {
   "cell_type": "markdown",
   "metadata": {},
   "source": [
    "### Chapter 9"
   ]
  },
  {
   "cell_type": "markdown",
   "metadata": {},
   "source": [
    "#### Ex. 7"
   ]
  },
  {
   "cell_type": "markdown",
   "metadata": {},
   "source": [
    "(a)\n",
    "\n",
    "$\\displaystyle \\lim_{m \\to \\infty} \\frac{m-1}{\\sqrt{m}}\\sqrt{\\frac{t_{c}^{2}}{m-2+t_{c}^{2}}} = \\displaystyle \\lim_{m \\to \\infty} \\frac{(m-1)t_{c}}{\\sqrt{m(m-2+t_{c}^{2})}} = t_{c}$"
   ]
  },
  {
   "cell_type": "markdown",
   "metadata": {},
   "source": [
    "(b)\n",
    "\n",
    "As m increases, g becomes **t** distributed."
   ]
  },
  {
   "cell_type": "markdown",
   "metadata": {},
   "source": [
    "#### Ex. 8"
   ]
  },
  {
   "cell_type": "markdown",
   "metadata": {},
   "source": [
    "(a)\n",
    "\n",
    "Since 99.73% of the data are within 3 standard deviations from the average given a normal distribution, the probability is **0.135%** for a single sided or **0.27%** for a double-sided deviation for having an outlier that is more than 3 standard deviations."
   ]
  },
  {
   "cell_type": "markdown",
   "metadata": {},
   "source": [
    "(b)\n",
    "\n",
    "There are about 1350 (1,000,000 x 0.135%) to 2700 (1,000,000 x 0.27%) outliers based on the aforementioned approach. We can manipulate the threshold to result in fewer or more outliers."
   ]
  },
  {
   "cell_type": "markdown",
   "metadata": {},
   "source": [
    "#### Ex. 9"
   ]
  },
  {
   "cell_type": "markdown",
   "metadata": {},
   "source": [
    "$log(f(\\mathbf{x})) = -\\frac{(x - \\mathbf{\\mu})\\mathbf{\\Sigma}^{-1}(x - \\mathbf{\\mu})}{2} - log((\\sqrt{2\\pi})^{m}|\\mathbf{\\Sigma}|^{1/2})$\n",
    "\n",
    "$log(f(\\mathbf{x})) = -\\frac{(x - \\mathbf{\\overline{x}})\\mathbf{S}^{-1}(x - \\mathbf{\\overline{x}})}{2} - log((\\sqrt{2\\pi})^{m}|\\mathbf{S}|^{1/2})$"
   ]
  },
  {
   "cell_type": "markdown",
   "metadata": {},
   "source": [
    "#### Ex. 11"
   ]
  },
  {
   "cell_type": "markdown",
   "metadata": {},
   "source": [
    "(a)\n",
    "\n",
    "The centroid of the cluster is lifted by the point D."
   ]
  },
  {
   "cell_type": "markdown",
   "metadata": {},
   "source": [
    "(b)\n",
    "\n",
    "No. Whether an object is considered an anomaly or not may depend on the number of clusters. If the number of clusters is 10, then the most extreme outlier at the top would become a cluster in its own."
   ]
  },
  {
   "cell_type": "markdown",
   "metadata": {},
   "source": [
    "(c)\n",
    "\n",
    "If a data point that is out of normal range and that data point is close to a cluster of data points that are also out of normal range, it would be incorrect not to identify that data point as anomaly."
   ]
  },
  {
   "cell_type": "markdown",
   "metadata": {},
   "source": [
    "#### Ex. 12"
   ]
  },
  {
   "cell_type": "markdown",
   "metadata": {},
   "source": [
    "detection rate = $\\frac{(1 - 99\\%) * 99\\%}{1 - 99\\%}$ = 99%\n",
    "\n",
    "false alarm rate = $\\frac{99\\% * 0.01}{99\\% * 0.01 + 0.01 * 99\\%}$ = 50%"
   ]
  },
  {
   "cell_type": "markdown",
   "metadata": {},
   "source": [
    "#### Ex. 16"
   ]
  },
  {
   "cell_type": "markdown",
   "metadata": {},
   "source": [
    "No. In statistical approach, anomalies are identified as instances that are with relatively lower probability comparing to the normal class. If the set of points are uniformly distributed, then the aforementioned assumption cannot hold."
   ]
  }
 ],
 "metadata": {
  "kernelspec": {
   "display_name": "Python 3",
   "language": "python",
   "name": "python3"
  },
  "language_info": {
   "codemirror_mode": {
    "name": "ipython",
    "version": 3
   },
   "file_extension": ".py",
   "mimetype": "text/x-python",
   "name": "python",
   "nbconvert_exporter": "python",
   "pygments_lexer": "ipython3",
   "version": "3.7.6"
  }
 },
 "nbformat": 4,
 "nbformat_minor": 4
}
